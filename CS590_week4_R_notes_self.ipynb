{
 "cells": [
  {
   "cell_type": "code",
   "execution_count": 1,
   "metadata": {},
   "outputs": [
    {
     "data": {
      "text/html": [
       "<table>\n",
       "<thead><tr><th></th><th scope=col>Population</th><th scope=col>Income</th><th scope=col>Illiteracy</th><th scope=col>Life Exp</th><th scope=col>Murder</th><th scope=col>HS Grad</th><th scope=col>Frost</th><th scope=col>Area</th></tr></thead>\n",
       "<tbody>\n",
       "\t<tr><th scope=row>Alabama</th><td> 3615 </td><td>3624  </td><td>2.1   </td><td>69.05 </td><td>15.1  </td><td>41.3  </td><td> 20   </td><td> 50708</td></tr>\n",
       "\t<tr><th scope=row>Alaska</th><td>  365 </td><td>6315  </td><td>1.5   </td><td>69.31 </td><td>11.3  </td><td>66.7  </td><td>152   </td><td>566432</td></tr>\n",
       "\t<tr><th scope=row>Arizona</th><td> 2212 </td><td>4530  </td><td>1.8   </td><td>70.55 </td><td> 7.8  </td><td>58.1  </td><td> 15   </td><td>113417</td></tr>\n",
       "\t<tr><th scope=row>Arkansas</th><td> 2110 </td><td>3378  </td><td>1.9   </td><td>70.66 </td><td>10.1  </td><td>39.9  </td><td> 65   </td><td> 51945</td></tr>\n",
       "\t<tr><th scope=row>California</th><td>21198 </td><td>5114  </td><td>1.1   </td><td>71.71 </td><td>10.3  </td><td>62.6  </td><td> 20   </td><td>156361</td></tr>\n",
       "\t<tr><th scope=row>Colorado</th><td> 2541 </td><td>4884  </td><td>0.7   </td><td>72.06 </td><td> 6.8  </td><td>63.9  </td><td>166   </td><td>103766</td></tr>\n",
       "\t<tr><th scope=row>Connecticut</th><td> 3100 </td><td>5348  </td><td>1.1   </td><td>72.48 </td><td> 3.1  </td><td>56.0  </td><td>139   </td><td>  4862</td></tr>\n",
       "\t<tr><th scope=row>Delaware</th><td>  579 </td><td>4809  </td><td>0.9   </td><td>70.06 </td><td> 6.2  </td><td>54.6  </td><td>103   </td><td>  1982</td></tr>\n",
       "\t<tr><th scope=row>Florida</th><td> 8277 </td><td>4815  </td><td>1.3   </td><td>70.66 </td><td>10.7  </td><td>52.6  </td><td> 11   </td><td> 54090</td></tr>\n",
       "\t<tr><th scope=row>Georgia</th><td> 4931 </td><td>4091  </td><td>2.0   </td><td>68.54 </td><td>13.9  </td><td>40.6  </td><td> 60   </td><td> 58073</td></tr>\n",
       "\t<tr><th scope=row>Hawaii</th><td>  868 </td><td>4963  </td><td>1.9   </td><td>73.60 </td><td> 6.2  </td><td>61.9  </td><td>  0   </td><td>  6425</td></tr>\n",
       "\t<tr><th scope=row>Idaho</th><td>  813 </td><td>4119  </td><td>0.6   </td><td>71.87 </td><td> 5.3  </td><td>59.5  </td><td>126   </td><td> 82677</td></tr>\n",
       "\t<tr><th scope=row>Illinois</th><td>11197 </td><td>5107  </td><td>0.9   </td><td>70.14 </td><td>10.3  </td><td>52.6  </td><td>127   </td><td> 55748</td></tr>\n",
       "\t<tr><th scope=row>Indiana</th><td> 5313 </td><td>4458  </td><td>0.7   </td><td>70.88 </td><td> 7.1  </td><td>52.9  </td><td>122   </td><td> 36097</td></tr>\n",
       "\t<tr><th scope=row>Iowa</th><td> 2861 </td><td>4628  </td><td>0.5   </td><td>72.56 </td><td> 2.3  </td><td>59.0  </td><td>140   </td><td> 55941</td></tr>\n",
       "\t<tr><th scope=row>Kansas</th><td> 2280 </td><td>4669  </td><td>0.6   </td><td>72.58 </td><td> 4.5  </td><td>59.9  </td><td>114   </td><td> 81787</td></tr>\n",
       "\t<tr><th scope=row>Kentucky</th><td> 3387 </td><td>3712  </td><td>1.6   </td><td>70.10 </td><td>10.6  </td><td>38.5  </td><td> 95   </td><td> 39650</td></tr>\n",
       "\t<tr><th scope=row>Louisiana</th><td> 3806 </td><td>3545  </td><td>2.8   </td><td>68.76 </td><td>13.2  </td><td>42.2  </td><td> 12   </td><td> 44930</td></tr>\n",
       "\t<tr><th scope=row>Maine</th><td> 1058 </td><td>3694  </td><td>0.7   </td><td>70.39 </td><td> 2.7  </td><td>54.7  </td><td>161   </td><td> 30920</td></tr>\n",
       "\t<tr><th scope=row>Maryland</th><td> 4122 </td><td>5299  </td><td>0.9   </td><td>70.22 </td><td> 8.5  </td><td>52.3  </td><td>101   </td><td>  9891</td></tr>\n",
       "\t<tr><th scope=row>Massachusetts</th><td> 5814 </td><td>4755  </td><td>1.1   </td><td>71.83 </td><td> 3.3  </td><td>58.5  </td><td>103   </td><td>  7826</td></tr>\n",
       "\t<tr><th scope=row>Michigan</th><td> 9111 </td><td>4751  </td><td>0.9   </td><td>70.63 </td><td>11.1  </td><td>52.8  </td><td>125   </td><td> 56817</td></tr>\n",
       "\t<tr><th scope=row>Minnesota</th><td> 3921 </td><td>4675  </td><td>0.6   </td><td>72.96 </td><td> 2.3  </td><td>57.6  </td><td>160   </td><td> 79289</td></tr>\n",
       "\t<tr><th scope=row>Mississippi</th><td> 2341 </td><td>3098  </td><td>2.4   </td><td>68.09 </td><td>12.5  </td><td>41.0  </td><td> 50   </td><td> 47296</td></tr>\n",
       "\t<tr><th scope=row>Missouri</th><td> 4767 </td><td>4254  </td><td>0.8   </td><td>70.69 </td><td> 9.3  </td><td>48.8  </td><td>108   </td><td> 68995</td></tr>\n",
       "\t<tr><th scope=row>Montana</th><td>  746 </td><td>4347  </td><td>0.6   </td><td>70.56 </td><td> 5.0  </td><td>59.2  </td><td>155   </td><td>145587</td></tr>\n",
       "\t<tr><th scope=row>Nebraska</th><td> 1544 </td><td>4508  </td><td>0.6   </td><td>72.60 </td><td> 2.9  </td><td>59.3  </td><td>139   </td><td> 76483</td></tr>\n",
       "\t<tr><th scope=row>Nevada</th><td>  590 </td><td>5149  </td><td>0.5   </td><td>69.03 </td><td>11.5  </td><td>65.2  </td><td>188   </td><td>109889</td></tr>\n",
       "\t<tr><th scope=row>New Hampshire</th><td>  812 </td><td>4281  </td><td>0.7   </td><td>71.23 </td><td> 3.3  </td><td>57.6  </td><td>174   </td><td>  9027</td></tr>\n",
       "\t<tr><th scope=row>New Jersey</th><td> 7333 </td><td>5237  </td><td>1.1   </td><td>70.93 </td><td> 5.2  </td><td>52.5  </td><td>115   </td><td>  7521</td></tr>\n",
       "\t<tr><th scope=row>New Mexico</th><td> 1144 </td><td>3601  </td><td>2.2   </td><td>70.32 </td><td> 9.7  </td><td>55.2  </td><td>120   </td><td>121412</td></tr>\n",
       "\t<tr><th scope=row>New York</th><td>18076 </td><td>4903  </td><td>1.4   </td><td>70.55 </td><td>10.9  </td><td>52.7  </td><td> 82   </td><td> 47831</td></tr>\n",
       "\t<tr><th scope=row>North Carolina</th><td> 5441 </td><td>3875  </td><td>1.8   </td><td>69.21 </td><td>11.1  </td><td>38.5  </td><td> 80   </td><td> 48798</td></tr>\n",
       "\t<tr><th scope=row>North Dakota</th><td>  637 </td><td>5087  </td><td>0.8   </td><td>72.78 </td><td> 1.4  </td><td>50.3  </td><td>186   </td><td> 69273</td></tr>\n",
       "\t<tr><th scope=row>Ohio</th><td>10735 </td><td>4561  </td><td>0.8   </td><td>70.82 </td><td> 7.4  </td><td>53.2  </td><td>124   </td><td> 40975</td></tr>\n",
       "\t<tr><th scope=row>Oklahoma</th><td> 2715 </td><td>3983  </td><td>1.1   </td><td>71.42 </td><td> 6.4  </td><td>51.6  </td><td> 82   </td><td> 68782</td></tr>\n",
       "\t<tr><th scope=row>Oregon</th><td> 2284 </td><td>4660  </td><td>0.6   </td><td>72.13 </td><td> 4.2  </td><td>60.0  </td><td> 44   </td><td> 96184</td></tr>\n",
       "\t<tr><th scope=row>Pennsylvania</th><td>11860 </td><td>4449  </td><td>1.0   </td><td>70.43 </td><td> 6.1  </td><td>50.2  </td><td>126   </td><td> 44966</td></tr>\n",
       "\t<tr><th scope=row>Rhode Island</th><td>  931 </td><td>4558  </td><td>1.3   </td><td>71.90 </td><td> 2.4  </td><td>46.4  </td><td>127   </td><td>  1049</td></tr>\n",
       "\t<tr><th scope=row>South Carolina</th><td> 2816 </td><td>3635  </td><td>2.3   </td><td>67.96 </td><td>11.6  </td><td>37.8  </td><td> 65   </td><td> 30225</td></tr>\n",
       "\t<tr><th scope=row>South Dakota</th><td>  681 </td><td>4167  </td><td>0.5   </td><td>72.08 </td><td> 1.7  </td><td>53.3  </td><td>172   </td><td> 75955</td></tr>\n",
       "\t<tr><th scope=row>Tennessee</th><td> 4173 </td><td>3821  </td><td>1.7   </td><td>70.11 </td><td>11.0  </td><td>41.8  </td><td> 70   </td><td> 41328</td></tr>\n",
       "\t<tr><th scope=row>Texas</th><td>12237 </td><td>4188  </td><td>2.2   </td><td>70.90 </td><td>12.2  </td><td>47.4  </td><td> 35   </td><td>262134</td></tr>\n",
       "\t<tr><th scope=row>Utah</th><td> 1203 </td><td>4022  </td><td>0.6   </td><td>72.90 </td><td> 4.5  </td><td>67.3  </td><td>137   </td><td> 82096</td></tr>\n",
       "\t<tr><th scope=row>Vermont</th><td>  472 </td><td>3907  </td><td>0.6   </td><td>71.64 </td><td> 5.5  </td><td>57.1  </td><td>168   </td><td>  9267</td></tr>\n",
       "\t<tr><th scope=row>Virginia</th><td> 4981 </td><td>4701  </td><td>1.4   </td><td>70.08 </td><td> 9.5  </td><td>47.8  </td><td> 85   </td><td> 39780</td></tr>\n",
       "\t<tr><th scope=row>Washington</th><td> 3559 </td><td>4864  </td><td>0.6   </td><td>71.72 </td><td> 4.3  </td><td>63.5  </td><td> 32   </td><td> 66570</td></tr>\n",
       "\t<tr><th scope=row>West Virginia</th><td> 1799 </td><td>3617  </td><td>1.4   </td><td>69.48 </td><td> 6.7  </td><td>41.6  </td><td>100   </td><td> 24070</td></tr>\n",
       "\t<tr><th scope=row>Wisconsin</th><td> 4589 </td><td>4468  </td><td>0.7   </td><td>72.48 </td><td> 3.0  </td><td>54.5  </td><td>149   </td><td> 54464</td></tr>\n",
       "\t<tr><th scope=row>Wyoming</th><td>  376 </td><td>4566  </td><td>0.6   </td><td>70.29 </td><td> 6.9  </td><td>62.9  </td><td>173   </td><td> 97203</td></tr>\n",
       "</tbody>\n",
       "</table>\n"
      ],
      "text/latex": [
       "\\begin{tabular}{r|llllllll}\n",
       "  & Population & Income & Illiteracy & Life Exp & Murder & HS Grad & Frost & Area\\\\\n",
       "\\hline\n",
       "\tAlabama &  3615  & 3624   & 2.1    & 69.05  & 15.1   & 41.3   &  20    &  50708\\\\\n",
       "\tAlaska &   365  & 6315   & 1.5    & 69.31  & 11.3   & 66.7   & 152    & 566432\\\\\n",
       "\tArizona &  2212  & 4530   & 1.8    & 70.55  &  7.8   & 58.1   &  15    & 113417\\\\\n",
       "\tArkansas &  2110  & 3378   & 1.9    & 70.66  & 10.1   & 39.9   &  65    &  51945\\\\\n",
       "\tCalifornia & 21198  & 5114   & 1.1    & 71.71  & 10.3   & 62.6   &  20    & 156361\\\\\n",
       "\tColorado &  2541  & 4884   & 0.7    & 72.06  &  6.8   & 63.9   & 166    & 103766\\\\\n",
       "\tConnecticut &  3100  & 5348   & 1.1    & 72.48  &  3.1   & 56.0   & 139    &   4862\\\\\n",
       "\tDelaware &   579  & 4809   & 0.9    & 70.06  &  6.2   & 54.6   & 103    &   1982\\\\\n",
       "\tFlorida &  8277  & 4815   & 1.3    & 70.66  & 10.7   & 52.6   &  11    &  54090\\\\\n",
       "\tGeorgia &  4931  & 4091   & 2.0    & 68.54  & 13.9   & 40.6   &  60    &  58073\\\\\n",
       "\tHawaii &   868  & 4963   & 1.9    & 73.60  &  6.2   & 61.9   &   0    &   6425\\\\\n",
       "\tIdaho &   813  & 4119   & 0.6    & 71.87  &  5.3   & 59.5   & 126    &  82677\\\\\n",
       "\tIllinois & 11197  & 5107   & 0.9    & 70.14  & 10.3   & 52.6   & 127    &  55748\\\\\n",
       "\tIndiana &  5313  & 4458   & 0.7    & 70.88  &  7.1   & 52.9   & 122    &  36097\\\\\n",
       "\tIowa &  2861  & 4628   & 0.5    & 72.56  &  2.3   & 59.0   & 140    &  55941\\\\\n",
       "\tKansas &  2280  & 4669   & 0.6    & 72.58  &  4.5   & 59.9   & 114    &  81787\\\\\n",
       "\tKentucky &  3387  & 3712   & 1.6    & 70.10  & 10.6   & 38.5   &  95    &  39650\\\\\n",
       "\tLouisiana &  3806  & 3545   & 2.8    & 68.76  & 13.2   & 42.2   &  12    &  44930\\\\\n",
       "\tMaine &  1058  & 3694   & 0.7    & 70.39  &  2.7   & 54.7   & 161    &  30920\\\\\n",
       "\tMaryland &  4122  & 5299   & 0.9    & 70.22  &  8.5   & 52.3   & 101    &   9891\\\\\n",
       "\tMassachusetts &  5814  & 4755   & 1.1    & 71.83  &  3.3   & 58.5   & 103    &   7826\\\\\n",
       "\tMichigan &  9111  & 4751   & 0.9    & 70.63  & 11.1   & 52.8   & 125    &  56817\\\\\n",
       "\tMinnesota &  3921  & 4675   & 0.6    & 72.96  &  2.3   & 57.6   & 160    &  79289\\\\\n",
       "\tMississippi &  2341  & 3098   & 2.4    & 68.09  & 12.5   & 41.0   &  50    &  47296\\\\\n",
       "\tMissouri &  4767  & 4254   & 0.8    & 70.69  &  9.3   & 48.8   & 108    &  68995\\\\\n",
       "\tMontana &   746  & 4347   & 0.6    & 70.56  &  5.0   & 59.2   & 155    & 145587\\\\\n",
       "\tNebraska &  1544  & 4508   & 0.6    & 72.60  &  2.9   & 59.3   & 139    &  76483\\\\\n",
       "\tNevada &   590  & 5149   & 0.5    & 69.03  & 11.5   & 65.2   & 188    & 109889\\\\\n",
       "\tNew Hampshire &   812  & 4281   & 0.7    & 71.23  &  3.3   & 57.6   & 174    &   9027\\\\\n",
       "\tNew Jersey &  7333  & 5237   & 1.1    & 70.93  &  5.2   & 52.5   & 115    &   7521\\\\\n",
       "\tNew Mexico &  1144  & 3601   & 2.2    & 70.32  &  9.7   & 55.2   & 120    & 121412\\\\\n",
       "\tNew York & 18076  & 4903   & 1.4    & 70.55  & 10.9   & 52.7   &  82    &  47831\\\\\n",
       "\tNorth Carolina &  5441  & 3875   & 1.8    & 69.21  & 11.1   & 38.5   &  80    &  48798\\\\\n",
       "\tNorth Dakota &   637  & 5087   & 0.8    & 72.78  &  1.4   & 50.3   & 186    &  69273\\\\\n",
       "\tOhio & 10735  & 4561   & 0.8    & 70.82  &  7.4   & 53.2   & 124    &  40975\\\\\n",
       "\tOklahoma &  2715  & 3983   & 1.1    & 71.42  &  6.4   & 51.6   &  82    &  68782\\\\\n",
       "\tOregon &  2284  & 4660   & 0.6    & 72.13  &  4.2   & 60.0   &  44    &  96184\\\\\n",
       "\tPennsylvania & 11860  & 4449   & 1.0    & 70.43  &  6.1   & 50.2   & 126    &  44966\\\\\n",
       "\tRhode Island &   931  & 4558   & 1.3    & 71.90  &  2.4   & 46.4   & 127    &   1049\\\\\n",
       "\tSouth Carolina &  2816  & 3635   & 2.3    & 67.96  & 11.6   & 37.8   &  65    &  30225\\\\\n",
       "\tSouth Dakota &   681  & 4167   & 0.5    & 72.08  &  1.7   & 53.3   & 172    &  75955\\\\\n",
       "\tTennessee &  4173  & 3821   & 1.7    & 70.11  & 11.0   & 41.8   &  70    &  41328\\\\\n",
       "\tTexas & 12237  & 4188   & 2.2    & 70.90  & 12.2   & 47.4   &  35    & 262134\\\\\n",
       "\tUtah &  1203  & 4022   & 0.6    & 72.90  &  4.5   & 67.3   & 137    &  82096\\\\\n",
       "\tVermont &   472  & 3907   & 0.6    & 71.64  &  5.5   & 57.1   & 168    &   9267\\\\\n",
       "\tVirginia &  4981  & 4701   & 1.4    & 70.08  &  9.5   & 47.8   &  85    &  39780\\\\\n",
       "\tWashington &  3559  & 4864   & 0.6    & 71.72  &  4.3   & 63.5   &  32    &  66570\\\\\n",
       "\tWest Virginia &  1799  & 3617   & 1.4    & 69.48  &  6.7   & 41.6   & 100    &  24070\\\\\n",
       "\tWisconsin &  4589  & 4468   & 0.7    & 72.48  &  3.0   & 54.5   & 149    &  54464\\\\\n",
       "\tWyoming &   376  & 4566   & 0.6    & 70.29  &  6.9   & 62.9   & 173    &  97203\\\\\n",
       "\\end{tabular}\n"
      ],
      "text/markdown": [
       "\n",
       "| <!--/--> | Population | Income | Illiteracy | Life Exp | Murder | HS Grad | Frost | Area |\n",
       "|---|---|---|---|---|---|---|---|---|\n",
       "| Alabama |  3615  | 3624   | 2.1    | 69.05  | 15.1   | 41.3   |  20    |  50708 |\n",
       "| Alaska |   365  | 6315   | 1.5    | 69.31  | 11.3   | 66.7   | 152    | 566432 |\n",
       "| Arizona |  2212  | 4530   | 1.8    | 70.55  |  7.8   | 58.1   |  15    | 113417 |\n",
       "| Arkansas |  2110  | 3378   | 1.9    | 70.66  | 10.1   | 39.9   |  65    |  51945 |\n",
       "| California | 21198  | 5114   | 1.1    | 71.71  | 10.3   | 62.6   |  20    | 156361 |\n",
       "| Colorado |  2541  | 4884   | 0.7    | 72.06  |  6.8   | 63.9   | 166    | 103766 |\n",
       "| Connecticut |  3100  | 5348   | 1.1    | 72.48  |  3.1   | 56.0   | 139    |   4862 |\n",
       "| Delaware |   579  | 4809   | 0.9    | 70.06  |  6.2   | 54.6   | 103    |   1982 |\n",
       "| Florida |  8277  | 4815   | 1.3    | 70.66  | 10.7   | 52.6   |  11    |  54090 |\n",
       "| Georgia |  4931  | 4091   | 2.0    | 68.54  | 13.9   | 40.6   |  60    |  58073 |\n",
       "| Hawaii |   868  | 4963   | 1.9    | 73.60  |  6.2   | 61.9   |   0    |   6425 |\n",
       "| Idaho |   813  | 4119   | 0.6    | 71.87  |  5.3   | 59.5   | 126    |  82677 |\n",
       "| Illinois | 11197  | 5107   | 0.9    | 70.14  | 10.3   | 52.6   | 127    |  55748 |\n",
       "| Indiana |  5313  | 4458   | 0.7    | 70.88  |  7.1   | 52.9   | 122    |  36097 |\n",
       "| Iowa |  2861  | 4628   | 0.5    | 72.56  |  2.3   | 59.0   | 140    |  55941 |\n",
       "| Kansas |  2280  | 4669   | 0.6    | 72.58  |  4.5   | 59.9   | 114    |  81787 |\n",
       "| Kentucky |  3387  | 3712   | 1.6    | 70.10  | 10.6   | 38.5   |  95    |  39650 |\n",
       "| Louisiana |  3806  | 3545   | 2.8    | 68.76  | 13.2   | 42.2   |  12    |  44930 |\n",
       "| Maine |  1058  | 3694   | 0.7    | 70.39  |  2.7   | 54.7   | 161    |  30920 |\n",
       "| Maryland |  4122  | 5299   | 0.9    | 70.22  |  8.5   | 52.3   | 101    |   9891 |\n",
       "| Massachusetts |  5814  | 4755   | 1.1    | 71.83  |  3.3   | 58.5   | 103    |   7826 |\n",
       "| Michigan |  9111  | 4751   | 0.9    | 70.63  | 11.1   | 52.8   | 125    |  56817 |\n",
       "| Minnesota |  3921  | 4675   | 0.6    | 72.96  |  2.3   | 57.6   | 160    |  79289 |\n",
       "| Mississippi |  2341  | 3098   | 2.4    | 68.09  | 12.5   | 41.0   |  50    |  47296 |\n",
       "| Missouri |  4767  | 4254   | 0.8    | 70.69  |  9.3   | 48.8   | 108    |  68995 |\n",
       "| Montana |   746  | 4347   | 0.6    | 70.56  |  5.0   | 59.2   | 155    | 145587 |\n",
       "| Nebraska |  1544  | 4508   | 0.6    | 72.60  |  2.9   | 59.3   | 139    |  76483 |\n",
       "| Nevada |   590  | 5149   | 0.5    | 69.03  | 11.5   | 65.2   | 188    | 109889 |\n",
       "| New Hampshire |   812  | 4281   | 0.7    | 71.23  |  3.3   | 57.6   | 174    |   9027 |\n",
       "| New Jersey |  7333  | 5237   | 1.1    | 70.93  |  5.2   | 52.5   | 115    |   7521 |\n",
       "| New Mexico |  1144  | 3601   | 2.2    | 70.32  |  9.7   | 55.2   | 120    | 121412 |\n",
       "| New York | 18076  | 4903   | 1.4    | 70.55  | 10.9   | 52.7   |  82    |  47831 |\n",
       "| North Carolina |  5441  | 3875   | 1.8    | 69.21  | 11.1   | 38.5   |  80    |  48798 |\n",
       "| North Dakota |   637  | 5087   | 0.8    | 72.78  |  1.4   | 50.3   | 186    |  69273 |\n",
       "| Ohio | 10735  | 4561   | 0.8    | 70.82  |  7.4   | 53.2   | 124    |  40975 |\n",
       "| Oklahoma |  2715  | 3983   | 1.1    | 71.42  |  6.4   | 51.6   |  82    |  68782 |\n",
       "| Oregon |  2284  | 4660   | 0.6    | 72.13  |  4.2   | 60.0   |  44    |  96184 |\n",
       "| Pennsylvania | 11860  | 4449   | 1.0    | 70.43  |  6.1   | 50.2   | 126    |  44966 |\n",
       "| Rhode Island |   931  | 4558   | 1.3    | 71.90  |  2.4   | 46.4   | 127    |   1049 |\n",
       "| South Carolina |  2816  | 3635   | 2.3    | 67.96  | 11.6   | 37.8   |  65    |  30225 |\n",
       "| South Dakota |   681  | 4167   | 0.5    | 72.08  |  1.7   | 53.3   | 172    |  75955 |\n",
       "| Tennessee |  4173  | 3821   | 1.7    | 70.11  | 11.0   | 41.8   |  70    |  41328 |\n",
       "| Texas | 12237  | 4188   | 2.2    | 70.90  | 12.2   | 47.4   |  35    | 262134 |\n",
       "| Utah |  1203  | 4022   | 0.6    | 72.90  |  4.5   | 67.3   | 137    |  82096 |\n",
       "| Vermont |   472  | 3907   | 0.6    | 71.64  |  5.5   | 57.1   | 168    |   9267 |\n",
       "| Virginia |  4981  | 4701   | 1.4    | 70.08  |  9.5   | 47.8   |  85    |  39780 |\n",
       "| Washington |  3559  | 4864   | 0.6    | 71.72  |  4.3   | 63.5   |  32    |  66570 |\n",
       "| West Virginia |  1799  | 3617   | 1.4    | 69.48  |  6.7   | 41.6   | 100    |  24070 |\n",
       "| Wisconsin |  4589  | 4468   | 0.7    | 72.48  |  3.0   | 54.5   | 149    |  54464 |\n",
       "| Wyoming |   376  | 4566   | 0.6    | 70.29  |  6.9   | 62.9   | 173    |  97203 |\n",
       "\n"
      ],
      "text/plain": [
       "               Population Income Illiteracy Life Exp Murder HS Grad Frost\n",
       "Alabama         3615      3624   2.1        69.05    15.1   41.3     20  \n",
       "Alaska           365      6315   1.5        69.31    11.3   66.7    152  \n",
       "Arizona         2212      4530   1.8        70.55     7.8   58.1     15  \n",
       "Arkansas        2110      3378   1.9        70.66    10.1   39.9     65  \n",
       "California     21198      5114   1.1        71.71    10.3   62.6     20  \n",
       "Colorado        2541      4884   0.7        72.06     6.8   63.9    166  \n",
       "Connecticut     3100      5348   1.1        72.48     3.1   56.0    139  \n",
       "Delaware         579      4809   0.9        70.06     6.2   54.6    103  \n",
       "Florida         8277      4815   1.3        70.66    10.7   52.6     11  \n",
       "Georgia         4931      4091   2.0        68.54    13.9   40.6     60  \n",
       "Hawaii           868      4963   1.9        73.60     6.2   61.9      0  \n",
       "Idaho            813      4119   0.6        71.87     5.3   59.5    126  \n",
       "Illinois       11197      5107   0.9        70.14    10.3   52.6    127  \n",
       "Indiana         5313      4458   0.7        70.88     7.1   52.9    122  \n",
       "Iowa            2861      4628   0.5        72.56     2.3   59.0    140  \n",
       "Kansas          2280      4669   0.6        72.58     4.5   59.9    114  \n",
       "Kentucky        3387      3712   1.6        70.10    10.6   38.5     95  \n",
       "Louisiana       3806      3545   2.8        68.76    13.2   42.2     12  \n",
       "Maine           1058      3694   0.7        70.39     2.7   54.7    161  \n",
       "Maryland        4122      5299   0.9        70.22     8.5   52.3    101  \n",
       "Massachusetts   5814      4755   1.1        71.83     3.3   58.5    103  \n",
       "Michigan        9111      4751   0.9        70.63    11.1   52.8    125  \n",
       "Minnesota       3921      4675   0.6        72.96     2.3   57.6    160  \n",
       "Mississippi     2341      3098   2.4        68.09    12.5   41.0     50  \n",
       "Missouri        4767      4254   0.8        70.69     9.3   48.8    108  \n",
       "Montana          746      4347   0.6        70.56     5.0   59.2    155  \n",
       "Nebraska        1544      4508   0.6        72.60     2.9   59.3    139  \n",
       "Nevada           590      5149   0.5        69.03    11.5   65.2    188  \n",
       "New Hampshire    812      4281   0.7        71.23     3.3   57.6    174  \n",
       "New Jersey      7333      5237   1.1        70.93     5.2   52.5    115  \n",
       "New Mexico      1144      3601   2.2        70.32     9.7   55.2    120  \n",
       "New York       18076      4903   1.4        70.55    10.9   52.7     82  \n",
       "North Carolina  5441      3875   1.8        69.21    11.1   38.5     80  \n",
       "North Dakota     637      5087   0.8        72.78     1.4   50.3    186  \n",
       "Ohio           10735      4561   0.8        70.82     7.4   53.2    124  \n",
       "Oklahoma        2715      3983   1.1        71.42     6.4   51.6     82  \n",
       "Oregon          2284      4660   0.6        72.13     4.2   60.0     44  \n",
       "Pennsylvania   11860      4449   1.0        70.43     6.1   50.2    126  \n",
       "Rhode Island     931      4558   1.3        71.90     2.4   46.4    127  \n",
       "South Carolina  2816      3635   2.3        67.96    11.6   37.8     65  \n",
       "South Dakota     681      4167   0.5        72.08     1.7   53.3    172  \n",
       "Tennessee       4173      3821   1.7        70.11    11.0   41.8     70  \n",
       "Texas          12237      4188   2.2        70.90    12.2   47.4     35  \n",
       "Utah            1203      4022   0.6        72.90     4.5   67.3    137  \n",
       "Vermont          472      3907   0.6        71.64     5.5   57.1    168  \n",
       "Virginia        4981      4701   1.4        70.08     9.5   47.8     85  \n",
       "Washington      3559      4864   0.6        71.72     4.3   63.5     32  \n",
       "West Virginia   1799      3617   1.4        69.48     6.7   41.6    100  \n",
       "Wisconsin       4589      4468   0.7        72.48     3.0   54.5    149  \n",
       "Wyoming          376      4566   0.6        70.29     6.9   62.9    173  \n",
       "               Area  \n",
       "Alabama         50708\n",
       "Alaska         566432\n",
       "Arizona        113417\n",
       "Arkansas        51945\n",
       "California     156361\n",
       "Colorado       103766\n",
       "Connecticut      4862\n",
       "Delaware         1982\n",
       "Florida         54090\n",
       "Georgia         58073\n",
       "Hawaii           6425\n",
       "Idaho           82677\n",
       "Illinois        55748\n",
       "Indiana         36097\n",
       "Iowa            55941\n",
       "Kansas          81787\n",
       "Kentucky        39650\n",
       "Louisiana       44930\n",
       "Maine           30920\n",
       "Maryland         9891\n",
       "Massachusetts    7826\n",
       "Michigan        56817\n",
       "Minnesota       79289\n",
       "Mississippi     47296\n",
       "Missouri        68995\n",
       "Montana        145587\n",
       "Nebraska        76483\n",
       "Nevada         109889\n",
       "New Hampshire    9027\n",
       "New Jersey       7521\n",
       "New Mexico     121412\n",
       "New York        47831\n",
       "North Carolina  48798\n",
       "North Dakota    69273\n",
       "Ohio            40975\n",
       "Oklahoma        68782\n",
       "Oregon          96184\n",
       "Pennsylvania    44966\n",
       "Rhode Island     1049\n",
       "South Carolina  30225\n",
       "South Dakota    75955\n",
       "Tennessee       41328\n",
       "Texas          262134\n",
       "Utah            82096\n",
       "Vermont          9267\n",
       "Virginia        39780\n",
       "Washington      66570\n",
       "West Virginia   24070\n",
       "Wisconsin       54464\n",
       "Wyoming         97203"
      ]
     },
     "metadata": {},
     "output_type": "display_data"
    }
   ],
   "source": [
    "# built-in dataframes\n",
    "state.x77"
   ]
  },
  {
   "cell_type": "code",
   "execution_count": 2,
   "metadata": {},
   "outputs": [
    {
     "data": {
      "text/html": [
       "<table>\n",
       "<thead><tr><th></th><th scope=col>1940</th><th scope=col>1945</th><th scope=col>1950</th><th scope=col>1955</th><th scope=col>1960</th></tr></thead>\n",
       "<tbody>\n",
       "\t<tr><th scope=row>Food and Tobacco</th><td>22.200</td><td>44.500</td><td>59.60 </td><td>73.2  </td><td>86.80 </td></tr>\n",
       "\t<tr><th scope=row>Household Operation</th><td>10.500</td><td>15.500</td><td>29.00 </td><td>36.5  </td><td>46.20 </td></tr>\n",
       "\t<tr><th scope=row>Medical and Health</th><td> 3.530</td><td> 5.760</td><td> 9.71 </td><td>14.0  </td><td>21.10 </td></tr>\n",
       "\t<tr><th scope=row>Personal Care</th><td> 1.040</td><td> 1.980</td><td> 2.45 </td><td> 3.4  </td><td> 5.40 </td></tr>\n",
       "\t<tr><th scope=row>Private Education</th><td> 0.341</td><td> 0.974</td><td> 1.80 </td><td> 2.6  </td><td> 3.64 </td></tr>\n",
       "</tbody>\n",
       "</table>\n"
      ],
      "text/latex": [
       "\\begin{tabular}{r|lllll}\n",
       "  & 1940 & 1945 & 1950 & 1955 & 1960\\\\\n",
       "\\hline\n",
       "\tFood and Tobacco & 22.200 & 44.500 & 59.60  & 73.2   & 86.80 \\\\\n",
       "\tHousehold Operation & 10.500 & 15.500 & 29.00  & 36.5   & 46.20 \\\\\n",
       "\tMedical and Health &  3.530 &  5.760 &  9.71  & 14.0   & 21.10 \\\\\n",
       "\tPersonal Care &  1.040 &  1.980 &  2.45  &  3.4   &  5.40 \\\\\n",
       "\tPrivate Education &  0.341 &  0.974 &  1.80  &  2.6   &  3.64 \\\\\n",
       "\\end{tabular}\n"
      ],
      "text/markdown": [
       "\n",
       "| <!--/--> | 1940 | 1945 | 1950 | 1955 | 1960 |\n",
       "|---|---|---|---|---|---|\n",
       "| Food and Tobacco | 22.200 | 44.500 | 59.60  | 73.2   | 86.80  |\n",
       "| Household Operation | 10.500 | 15.500 | 29.00  | 36.5   | 46.20  |\n",
       "| Medical and Health |  3.530 |  5.760 |  9.71  | 14.0   | 21.10  |\n",
       "| Personal Care |  1.040 |  1.980 |  2.45  |  3.4   |  5.40  |\n",
       "| Private Education |  0.341 |  0.974 |  1.80  |  2.6   |  3.64  |\n",
       "\n"
      ],
      "text/plain": [
       "                    1940   1945   1950  1955 1960 \n",
       "Food and Tobacco    22.200 44.500 59.60 73.2 86.80\n",
       "Household Operation 10.500 15.500 29.00 36.5 46.20\n",
       "Medical and Health   3.530  5.760  9.71 14.0 21.10\n",
       "Personal Care        1.040  1.980  2.45  3.4  5.40\n",
       "Private Education    0.341  0.974  1.80  2.6  3.64"
      ]
     },
     "metadata": {},
     "output_type": "display_data"
    }
   ],
   "source": [
    "USPersonalExpenditure"
   ]
  },
  {
   "cell_type": "code",
   "execution_count": 3,
   "metadata": {},
   "outputs": [
    {
     "data": {
      "text/html": [
       "<table>\n",
       "<thead><tr><th scope=col>height</th><th scope=col>weight</th></tr></thead>\n",
       "<tbody>\n",
       "\t<tr><td>58 </td><td>115</td></tr>\n",
       "\t<tr><td>59 </td><td>117</td></tr>\n",
       "\t<tr><td>60 </td><td>120</td></tr>\n",
       "\t<tr><td>61 </td><td>123</td></tr>\n",
       "\t<tr><td>62 </td><td>126</td></tr>\n",
       "\t<tr><td>63 </td><td>129</td></tr>\n",
       "\t<tr><td>64 </td><td>132</td></tr>\n",
       "\t<tr><td>65 </td><td>135</td></tr>\n",
       "\t<tr><td>66 </td><td>139</td></tr>\n",
       "\t<tr><td>67 </td><td>142</td></tr>\n",
       "\t<tr><td>68 </td><td>146</td></tr>\n",
       "\t<tr><td>69 </td><td>150</td></tr>\n",
       "\t<tr><td>70 </td><td>154</td></tr>\n",
       "\t<tr><td>71 </td><td>159</td></tr>\n",
       "\t<tr><td>72 </td><td>164</td></tr>\n",
       "</tbody>\n",
       "</table>\n"
      ],
      "text/latex": [
       "\\begin{tabular}{r|ll}\n",
       " height & weight\\\\\n",
       "\\hline\n",
       "\t 58  & 115\\\\\n",
       "\t 59  & 117\\\\\n",
       "\t 60  & 120\\\\\n",
       "\t 61  & 123\\\\\n",
       "\t 62  & 126\\\\\n",
       "\t 63  & 129\\\\\n",
       "\t 64  & 132\\\\\n",
       "\t 65  & 135\\\\\n",
       "\t 66  & 139\\\\\n",
       "\t 67  & 142\\\\\n",
       "\t 68  & 146\\\\\n",
       "\t 69  & 150\\\\\n",
       "\t 70  & 154\\\\\n",
       "\t 71  & 159\\\\\n",
       "\t 72  & 164\\\\\n",
       "\\end{tabular}\n"
      ],
      "text/markdown": [
       "\n",
       "| height | weight |\n",
       "|---|---|\n",
       "| 58  | 115 |\n",
       "| 59  | 117 |\n",
       "| 60  | 120 |\n",
       "| 61  | 123 |\n",
       "| 62  | 126 |\n",
       "| 63  | 129 |\n",
       "| 64  | 132 |\n",
       "| 65  | 135 |\n",
       "| 66  | 139 |\n",
       "| 67  | 142 |\n",
       "| 68  | 146 |\n",
       "| 69  | 150 |\n",
       "| 70  | 154 |\n",
       "| 71  | 159 |\n",
       "| 72  | 164 |\n",
       "\n"
      ],
      "text/plain": [
       "   height weight\n",
       "1  58     115   \n",
       "2  59     117   \n",
       "3  60     120   \n",
       "4  61     123   \n",
       "5  62     126   \n",
       "6  63     129   \n",
       "7  64     132   \n",
       "8  65     135   \n",
       "9  66     139   \n",
       "10 67     142   \n",
       "11 68     146   \n",
       "12 69     150   \n",
       "13 70     154   \n",
       "14 71     159   \n",
       "15 72     164   "
      ]
     },
     "metadata": {},
     "output_type": "display_data"
    }
   ],
   "source": [
    "women"
   ]
  },
  {
   "cell_type": "code",
   "execution_count": 6,
   "metadata": {},
   "outputs": [
    {
     "ename": "ERROR",
     "evalue": "Error in eval(expr, envir, enclos): object 'datasets' not found\n",
     "output_type": "error",
     "traceback": [
      "Error in eval(expr, envir, enclos): object 'datasets' not found\nTraceback:\n"
     ]
    }
   ],
   "source": [
    "#to find datasets = type \"data()"
   ]
  },
  {
   "cell_type": "code",
   "execution_count": 7,
   "metadata": {},
   "outputs": [],
   "source": [
    "states <- state.x77"
   ]
  },
  {
   "cell_type": "code",
   "execution_count": 9,
   "metadata": {},
   "outputs": [
    {
     "data": {
      "text/html": [
       "<table>\n",
       "<thead><tr><th></th><th scope=col>Population</th><th scope=col>Income</th><th scope=col>Illiteracy</th><th scope=col>Life Exp</th><th scope=col>Murder</th><th scope=col>HS Grad</th><th scope=col>Frost</th><th scope=col>Area</th></tr></thead>\n",
       "<tbody>\n",
       "\t<tr><th scope=row>Alabama</th><td> 3615 </td><td>3624  </td><td>2.1   </td><td>69.05 </td><td>15.1  </td><td>41.3  </td><td> 20   </td><td> 50708</td></tr>\n",
       "\t<tr><th scope=row>Alaska</th><td>  365 </td><td>6315  </td><td>1.5   </td><td>69.31 </td><td>11.3  </td><td>66.7  </td><td>152   </td><td>566432</td></tr>\n",
       "\t<tr><th scope=row>Arizona</th><td> 2212 </td><td>4530  </td><td>1.8   </td><td>70.55 </td><td> 7.8  </td><td>58.1  </td><td> 15   </td><td>113417</td></tr>\n",
       "\t<tr><th scope=row>Arkansas</th><td> 2110 </td><td>3378  </td><td>1.9   </td><td>70.66 </td><td>10.1  </td><td>39.9  </td><td> 65   </td><td> 51945</td></tr>\n",
       "\t<tr><th scope=row>California</th><td>21198 </td><td>5114  </td><td>1.1   </td><td>71.71 </td><td>10.3  </td><td>62.6  </td><td> 20   </td><td>156361</td></tr>\n",
       "\t<tr><th scope=row>Colorado</th><td> 2541 </td><td>4884  </td><td>0.7   </td><td>72.06 </td><td> 6.8  </td><td>63.9  </td><td>166   </td><td>103766</td></tr>\n",
       "</tbody>\n",
       "</table>\n"
      ],
      "text/latex": [
       "\\begin{tabular}{r|llllllll}\n",
       "  & Population & Income & Illiteracy & Life Exp & Murder & HS Grad & Frost & Area\\\\\n",
       "\\hline\n",
       "\tAlabama &  3615  & 3624   & 2.1    & 69.05  & 15.1   & 41.3   &  20    &  50708\\\\\n",
       "\tAlaska &   365  & 6315   & 1.5    & 69.31  & 11.3   & 66.7   & 152    & 566432\\\\\n",
       "\tArizona &  2212  & 4530   & 1.8    & 70.55  &  7.8   & 58.1   &  15    & 113417\\\\\n",
       "\tArkansas &  2110  & 3378   & 1.9    & 70.66  & 10.1   & 39.9   &  65    &  51945\\\\\n",
       "\tCalifornia & 21198  & 5114   & 1.1    & 71.71  & 10.3   & 62.6   &  20    & 156361\\\\\n",
       "\tColorado &  2541  & 4884   & 0.7    & 72.06  &  6.8   & 63.9   & 166    & 103766\\\\\n",
       "\\end{tabular}\n"
      ],
      "text/markdown": [
       "\n",
       "| <!--/--> | Population | Income | Illiteracy | Life Exp | Murder | HS Grad | Frost | Area |\n",
       "|---|---|---|---|---|---|---|---|---|\n",
       "| Alabama |  3615  | 3624   | 2.1    | 69.05  | 15.1   | 41.3   |  20    |  50708 |\n",
       "| Alaska |   365  | 6315   | 1.5    | 69.31  | 11.3   | 66.7   | 152    | 566432 |\n",
       "| Arizona |  2212  | 4530   | 1.8    | 70.55  |  7.8   | 58.1   |  15    | 113417 |\n",
       "| Arkansas |  2110  | 3378   | 1.9    | 70.66  | 10.1   | 39.9   |  65    |  51945 |\n",
       "| California | 21198  | 5114   | 1.1    | 71.71  | 10.3   | 62.6   |  20    | 156361 |\n",
       "| Colorado |  2541  | 4884   | 0.7    | 72.06  |  6.8   | 63.9   | 166    | 103766 |\n",
       "\n"
      ],
      "text/plain": [
       "           Population Income Illiteracy Life Exp Murder HS Grad Frost Area  \n",
       "Alabama     3615      3624   2.1        69.05    15.1   41.3     20    50708\n",
       "Alaska       365      6315   1.5        69.31    11.3   66.7    152   566432\n",
       "Arizona     2212      4530   1.8        70.55     7.8   58.1     15   113417\n",
       "Arkansas    2110      3378   1.9        70.66    10.1   39.9     65    51945\n",
       "California 21198      5114   1.1        71.71    10.3   62.6     20   156361\n",
       "Colorado    2541      4884   0.7        72.06     6.8   63.9    166   103766"
      ]
     },
     "metadata": {},
     "output_type": "display_data"
    }
   ],
   "source": [
    "#first 6 rows\n",
    "head(states)"
   ]
  },
  {
   "cell_type": "code",
   "execution_count": 10,
   "metadata": {},
   "outputs": [
    {
     "data": {
      "text/html": [
       "<table>\n",
       "<thead><tr><th></th><th scope=col>Population</th><th scope=col>Income</th><th scope=col>Illiteracy</th><th scope=col>Life Exp</th><th scope=col>Murder</th><th scope=col>HS Grad</th><th scope=col>Frost</th><th scope=col>Area</th></tr></thead>\n",
       "<tbody>\n",
       "\t<tr><th scope=row>Vermont</th><td> 472 </td><td>3907 </td><td>0.6  </td><td>71.64</td><td>5.5  </td><td>57.1 </td><td>168  </td><td> 9267</td></tr>\n",
       "\t<tr><th scope=row>Virginia</th><td>4981 </td><td>4701 </td><td>1.4  </td><td>70.08</td><td>9.5  </td><td>47.8 </td><td> 85  </td><td>39780</td></tr>\n",
       "\t<tr><th scope=row>Washington</th><td>3559 </td><td>4864 </td><td>0.6  </td><td>71.72</td><td>4.3  </td><td>63.5 </td><td> 32  </td><td>66570</td></tr>\n",
       "\t<tr><th scope=row>West Virginia</th><td>1799 </td><td>3617 </td><td>1.4  </td><td>69.48</td><td>6.7  </td><td>41.6 </td><td>100  </td><td>24070</td></tr>\n",
       "\t<tr><th scope=row>Wisconsin</th><td>4589 </td><td>4468 </td><td>0.7  </td><td>72.48</td><td>3.0  </td><td>54.5 </td><td>149  </td><td>54464</td></tr>\n",
       "\t<tr><th scope=row>Wyoming</th><td> 376 </td><td>4566 </td><td>0.6  </td><td>70.29</td><td>6.9  </td><td>62.9 </td><td>173  </td><td>97203</td></tr>\n",
       "</tbody>\n",
       "</table>\n"
      ],
      "text/latex": [
       "\\begin{tabular}{r|llllllll}\n",
       "  & Population & Income & Illiteracy & Life Exp & Murder & HS Grad & Frost & Area\\\\\n",
       "\\hline\n",
       "\tVermont &  472  & 3907  & 0.6   & 71.64 & 5.5   & 57.1  & 168   &  9267\\\\\n",
       "\tVirginia & 4981  & 4701  & 1.4   & 70.08 & 9.5   & 47.8  &  85   & 39780\\\\\n",
       "\tWashington & 3559  & 4864  & 0.6   & 71.72 & 4.3   & 63.5  &  32   & 66570\\\\\n",
       "\tWest Virginia & 1799  & 3617  & 1.4   & 69.48 & 6.7   & 41.6  & 100   & 24070\\\\\n",
       "\tWisconsin & 4589  & 4468  & 0.7   & 72.48 & 3.0   & 54.5  & 149   & 54464\\\\\n",
       "\tWyoming &  376  & 4566  & 0.6   & 70.29 & 6.9   & 62.9  & 173   & 97203\\\\\n",
       "\\end{tabular}\n"
      ],
      "text/markdown": [
       "\n",
       "| <!--/--> | Population | Income | Illiteracy | Life Exp | Murder | HS Grad | Frost | Area |\n",
       "|---|---|---|---|---|---|---|---|---|\n",
       "| Vermont |  472  | 3907  | 0.6   | 71.64 | 5.5   | 57.1  | 168   |  9267 |\n",
       "| Virginia | 4981  | 4701  | 1.4   | 70.08 | 9.5   | 47.8  |  85   | 39780 |\n",
       "| Washington | 3559  | 4864  | 0.6   | 71.72 | 4.3   | 63.5  |  32   | 66570 |\n",
       "| West Virginia | 1799  | 3617  | 1.4   | 69.48 | 6.7   | 41.6  | 100   | 24070 |\n",
       "| Wisconsin | 4589  | 4468  | 0.7   | 72.48 | 3.0   | 54.5  | 149   | 54464 |\n",
       "| Wyoming |  376  | 4566  | 0.6   | 70.29 | 6.9   | 62.9  | 173   | 97203 |\n",
       "\n"
      ],
      "text/plain": [
       "              Population Income Illiteracy Life Exp Murder HS Grad Frost Area \n",
       "Vermont        472       3907   0.6        71.64    5.5    57.1    168    9267\n",
       "Virginia      4981       4701   1.4        70.08    9.5    47.8     85   39780\n",
       "Washington    3559       4864   0.6        71.72    4.3    63.5     32   66570\n",
       "West Virginia 1799       3617   1.4        69.48    6.7    41.6    100   24070\n",
       "Wisconsin     4589       4468   0.7        72.48    3.0    54.5    149   54464\n",
       "Wyoming        376       4566   0.6        70.29    6.9    62.9    173   97203"
      ]
     },
     "metadata": {},
     "output_type": "display_data"
    }
   ],
   "source": [
    "#last 6 rows\n",
    "tail(states)"
   ]
  },
  {
   "cell_type": "code",
   "execution_count": 11,
   "metadata": {},
   "outputs": [
    {
     "data": {
      "text/html": [
       "<table>\n",
       "<thead><tr><th></th><th scope=col>Population</th><th scope=col>Income</th><th scope=col>Illiteracy</th><th scope=col>Life Exp</th><th scope=col>Murder</th><th scope=col>HS Grad</th><th scope=col>Frost</th><th scope=col>Area</th></tr></thead>\n",
       "<tbody>\n",
       "\t<tr><th scope=row>South Dakota</th><td>  681 </td><td>4167  </td><td>0.5   </td><td>72.08 </td><td> 1.7  </td><td>53.3  </td><td>172   </td><td> 75955</td></tr>\n",
       "\t<tr><th scope=row>Tennessee</th><td> 4173 </td><td>3821  </td><td>1.7   </td><td>70.11 </td><td>11.0  </td><td>41.8  </td><td> 70   </td><td> 41328</td></tr>\n",
       "\t<tr><th scope=row>Texas</th><td>12237 </td><td>4188  </td><td>2.2   </td><td>70.90 </td><td>12.2  </td><td>47.4  </td><td> 35   </td><td>262134</td></tr>\n",
       "\t<tr><th scope=row>Utah</th><td> 1203 </td><td>4022  </td><td>0.6   </td><td>72.90 </td><td> 4.5  </td><td>67.3  </td><td>137   </td><td> 82096</td></tr>\n",
       "\t<tr><th scope=row>Vermont</th><td>  472 </td><td>3907  </td><td>0.6   </td><td>71.64 </td><td> 5.5  </td><td>57.1  </td><td>168   </td><td>  9267</td></tr>\n",
       "\t<tr><th scope=row>Virginia</th><td> 4981 </td><td>4701  </td><td>1.4   </td><td>70.08 </td><td> 9.5  </td><td>47.8  </td><td> 85   </td><td> 39780</td></tr>\n",
       "\t<tr><th scope=row>Washington</th><td> 3559 </td><td>4864  </td><td>0.6   </td><td>71.72 </td><td> 4.3  </td><td>63.5  </td><td> 32   </td><td> 66570</td></tr>\n",
       "\t<tr><th scope=row>West Virginia</th><td> 1799 </td><td>3617  </td><td>1.4   </td><td>69.48 </td><td> 6.7  </td><td>41.6  </td><td>100   </td><td> 24070</td></tr>\n",
       "\t<tr><th scope=row>Wisconsin</th><td> 4589 </td><td>4468  </td><td>0.7   </td><td>72.48 </td><td> 3.0  </td><td>54.5  </td><td>149   </td><td> 54464</td></tr>\n",
       "\t<tr><th scope=row>Wyoming</th><td>  376 </td><td>4566  </td><td>0.6   </td><td>70.29 </td><td> 6.9  </td><td>62.9  </td><td>173   </td><td> 97203</td></tr>\n",
       "</tbody>\n",
       "</table>\n"
      ],
      "text/latex": [
       "\\begin{tabular}{r|llllllll}\n",
       "  & Population & Income & Illiteracy & Life Exp & Murder & HS Grad & Frost & Area\\\\\n",
       "\\hline\n",
       "\tSouth Dakota &   681  & 4167   & 0.5    & 72.08  &  1.7   & 53.3   & 172    &  75955\\\\\n",
       "\tTennessee &  4173  & 3821   & 1.7    & 70.11  & 11.0   & 41.8   &  70    &  41328\\\\\n",
       "\tTexas & 12237  & 4188   & 2.2    & 70.90  & 12.2   & 47.4   &  35    & 262134\\\\\n",
       "\tUtah &  1203  & 4022   & 0.6    & 72.90  &  4.5   & 67.3   & 137    &  82096\\\\\n",
       "\tVermont &   472  & 3907   & 0.6    & 71.64  &  5.5   & 57.1   & 168    &   9267\\\\\n",
       "\tVirginia &  4981  & 4701   & 1.4    & 70.08  &  9.5   & 47.8   &  85    &  39780\\\\\n",
       "\tWashington &  3559  & 4864   & 0.6    & 71.72  &  4.3   & 63.5   &  32    &  66570\\\\\n",
       "\tWest Virginia &  1799  & 3617   & 1.4    & 69.48  &  6.7   & 41.6   & 100    &  24070\\\\\n",
       "\tWisconsin &  4589  & 4468   & 0.7    & 72.48  &  3.0   & 54.5   & 149    &  54464\\\\\n",
       "\tWyoming &   376  & 4566   & 0.6    & 70.29  &  6.9   & 62.9   & 173    &  97203\\\\\n",
       "\\end{tabular}\n"
      ],
      "text/markdown": [
       "\n",
       "| <!--/--> | Population | Income | Illiteracy | Life Exp | Murder | HS Grad | Frost | Area |\n",
       "|---|---|---|---|---|---|---|---|---|\n",
       "| South Dakota |   681  | 4167   | 0.5    | 72.08  |  1.7   | 53.3   | 172    |  75955 |\n",
       "| Tennessee |  4173  | 3821   | 1.7    | 70.11  | 11.0   | 41.8   |  70    |  41328 |\n",
       "| Texas | 12237  | 4188   | 2.2    | 70.90  | 12.2   | 47.4   |  35    | 262134 |\n",
       "| Utah |  1203  | 4022   | 0.6    | 72.90  |  4.5   | 67.3   | 137    |  82096 |\n",
       "| Vermont |   472  | 3907   | 0.6    | 71.64  |  5.5   | 57.1   | 168    |   9267 |\n",
       "| Virginia |  4981  | 4701   | 1.4    | 70.08  |  9.5   | 47.8   |  85    |  39780 |\n",
       "| Washington |  3559  | 4864   | 0.6    | 71.72  |  4.3   | 63.5   |  32    |  66570 |\n",
       "| West Virginia |  1799  | 3617   | 1.4    | 69.48  |  6.7   | 41.6   | 100    |  24070 |\n",
       "| Wisconsin |  4589  | 4468   | 0.7    | 72.48  |  3.0   | 54.5   | 149    |  54464 |\n",
       "| Wyoming |   376  | 4566   | 0.6    | 70.29  |  6.9   | 62.9   | 173    |  97203 |\n",
       "\n"
      ],
      "text/plain": [
       "              Population Income Illiteracy Life Exp Murder HS Grad Frost Area  \n",
       "South Dakota    681      4167   0.5        72.08     1.7   53.3    172    75955\n",
       "Tennessee      4173      3821   1.7        70.11    11.0   41.8     70    41328\n",
       "Texas         12237      4188   2.2        70.90    12.2   47.4     35   262134\n",
       "Utah           1203      4022   0.6        72.90     4.5   67.3    137    82096\n",
       "Vermont         472      3907   0.6        71.64     5.5   57.1    168     9267\n",
       "Virginia       4981      4701   1.4        70.08     9.5   47.8     85    39780\n",
       "Washington     3559      4864   0.6        71.72     4.3   63.5     32    66570\n",
       "West Virginia  1799      3617   1.4        69.48     6.7   41.6    100    24070\n",
       "Wisconsin      4589      4468   0.7        72.48     3.0   54.5    149    54464\n",
       "Wyoming         376      4566   0.6        70.29     6.9   62.9    173    97203"
      ]
     },
     "metadata": {},
     "output_type": "display_data"
    }
   ],
   "source": [
    "#pull a different number of subets\n",
    "tail(states, 10)"
   ]
  },
  {
   "cell_type": "code",
   "execution_count": 12,
   "metadata": {},
   "outputs": [
    {
     "name": "stdout",
     "output_type": "stream",
     "text": [
      " num [1:50, 1:8] 3615 365 2212 2110 21198 ...\n",
      " - attr(*, \"dimnames\")=List of 2\n",
      "  ..$ : chr [1:50] \"Alabama\" \"Alaska\" \"Arizona\" \"Arkansas\" ...\n",
      "  ..$ : chr [1:8] \"Population\" \"Income\" \"Illiteracy\" \"Life Exp\" ...\n"
     ]
    }
   ],
   "source": [
    "#dataframe structure = give you identity of dataframe\n",
    "str(states)"
   ]
  },
  {
   "cell_type": "code",
   "execution_count": 13,
   "metadata": {},
   "outputs": [
    {
     "data": {
      "text/plain": [
       "   Population        Income       Illiteracy       Life Exp    \n",
       " Min.   :  365   Min.   :3098   Min.   :0.500   Min.   :67.96  \n",
       " 1st Qu.: 1080   1st Qu.:3993   1st Qu.:0.625   1st Qu.:70.12  \n",
       " Median : 2838   Median :4519   Median :0.950   Median :70.67  \n",
       " Mean   : 4246   Mean   :4436   Mean   :1.170   Mean   :70.88  \n",
       " 3rd Qu.: 4968   3rd Qu.:4814   3rd Qu.:1.575   3rd Qu.:71.89  \n",
       " Max.   :21198   Max.   :6315   Max.   :2.800   Max.   :73.60  \n",
       "     Murder          HS Grad          Frost             Area       \n",
       " Min.   : 1.400   Min.   :37.80   Min.   :  0.00   Min.   :  1049  \n",
       " 1st Qu.: 4.350   1st Qu.:48.05   1st Qu.: 66.25   1st Qu.: 36985  \n",
       " Median : 6.850   Median :53.25   Median :114.50   Median : 54277  \n",
       " Mean   : 7.378   Mean   :53.11   Mean   :104.46   Mean   : 70736  \n",
       " 3rd Qu.:10.675   3rd Qu.:59.15   3rd Qu.:139.75   3rd Qu.: 81163  \n",
       " Max.   :15.100   Max.   :67.30   Max.   :188.00   Max.   :566432  "
      ]
     },
     "metadata": {},
     "output_type": "display_data"
    }
   ],
   "source": [
    "#summary = give you brief description of each column\n",
    "summary(states)"
   ]
  },
  {
   "cell_type": "code",
   "execution_count": 14,
   "metadata": {},
   "outputs": [],
   "source": [
    "#data.frame = organize a data frame from scratch\n",
    "days <- c('Mon','Tue','Wed','Thu','Fri')\n",
    "temp <- c(76.1, 82.3, 85.4, 78.9, 76.2)\n",
    "rain <- c(TRUE, FALSE, FALSE, TRUE, TRUE)"
   ]
  },
  {
   "cell_type": "code",
   "execution_count": 15,
   "metadata": {},
   "outputs": [
    {
     "data": {
      "text/html": [
       "<ol class=list-inline>\n",
       "\t<li>'Mon'</li>\n",
       "\t<li>'Tue'</li>\n",
       "\t<li>'Wed'</li>\n",
       "\t<li>'Thu'</li>\n",
       "\t<li>'Fri'</li>\n",
       "</ol>\n"
      ],
      "text/latex": [
       "\\begin{enumerate*}\n",
       "\\item 'Mon'\n",
       "\\item 'Tue'\n",
       "\\item 'Wed'\n",
       "\\item 'Thu'\n",
       "\\item 'Fri'\n",
       "\\end{enumerate*}\n"
      ],
      "text/markdown": [
       "1. 'Mon'\n",
       "2. 'Tue'\n",
       "3. 'Wed'\n",
       "4. 'Thu'\n",
       "5. 'Fri'\n",
       "\n",
       "\n"
      ],
      "text/plain": [
       "[1] \"Mon\" \"Tue\" \"Wed\" \"Thu\" \"Fri\""
      ]
     },
     "metadata": {},
     "output_type": "display_data"
    }
   ],
   "source": [
    "days"
   ]
  },
  {
   "cell_type": "code",
   "execution_count": 16,
   "metadata": {},
   "outputs": [],
   "source": [
    "df<-data.frame(days, temp, rain)"
   ]
  },
  {
   "cell_type": "code",
   "execution_count": 17,
   "metadata": {},
   "outputs": [
    {
     "data": {
      "text/html": [
       "<table>\n",
       "<thead><tr><th scope=col>days</th><th scope=col>temp</th><th scope=col>rain</th></tr></thead>\n",
       "<tbody>\n",
       "\t<tr><td>Mon  </td><td>76.1 </td><td> TRUE</td></tr>\n",
       "\t<tr><td>Tue  </td><td>82.3 </td><td>FALSE</td></tr>\n",
       "\t<tr><td>Wed  </td><td>85.4 </td><td>FALSE</td></tr>\n",
       "\t<tr><td>Thu  </td><td>78.9 </td><td> TRUE</td></tr>\n",
       "\t<tr><td>Fri  </td><td>76.2 </td><td> TRUE</td></tr>\n",
       "</tbody>\n",
       "</table>\n"
      ],
      "text/latex": [
       "\\begin{tabular}{r|lll}\n",
       " days & temp & rain\\\\\n",
       "\\hline\n",
       "\t Mon   & 76.1  &  TRUE\\\\\n",
       "\t Tue   & 82.3  & FALSE\\\\\n",
       "\t Wed   & 85.4  & FALSE\\\\\n",
       "\t Thu   & 78.9  &  TRUE\\\\\n",
       "\t Fri   & 76.2  &  TRUE\\\\\n",
       "\\end{tabular}\n"
      ],
      "text/markdown": [
       "\n",
       "| days | temp | rain |\n",
       "|---|---|---|\n",
       "| Mon   | 76.1  |  TRUE |\n",
       "| Tue   | 82.3  | FALSE |\n",
       "| Wed   | 85.4  | FALSE |\n",
       "| Thu   | 78.9  |  TRUE |\n",
       "| Fri   | 76.2  |  TRUE |\n",
       "\n"
      ],
      "text/plain": [
       "  days temp rain \n",
       "1 Mon  76.1  TRUE\n",
       "2 Tue  82.3 FALSE\n",
       "3 Wed  85.4 FALSE\n",
       "4 Thu  78.9  TRUE\n",
       "5 Fri  76.2  TRUE"
      ]
     },
     "metadata": {},
     "output_type": "display_data"
    }
   ],
   "source": [
    "df"
   ]
  },
  {
   "cell_type": "code",
   "execution_count": 18,
   "metadata": {},
   "outputs": [
    {
     "name": "stdout",
     "output_type": "stream",
     "text": [
      "'data.frame':\t5 obs. of  3 variables:\n",
      " $ days: Factor w/ 5 levels \"Fri\",\"Mon\",\"Thu\",..: 2 4 5 3 1\n",
      " $ temp: num  76.1 82.3 85.4 78.9 76.2\n",
      " $ rain: logi  TRUE FALSE FALSE TRUE TRUE\n"
     ]
    }
   ],
   "source": [
    "str(df)"
   ]
  },
  {
   "cell_type": "code",
   "execution_count": 19,
   "metadata": {},
   "outputs": [
    {
     "data": {
      "text/html": [
       "5"
      ],
      "text/latex": [
       "5"
      ],
      "text/markdown": [
       "5"
      ],
      "text/plain": [
       "[1] 5"
      ]
     },
     "metadata": {},
     "output_type": "display_data"
    }
   ],
   "source": [
    "nrow(df)"
   ]
  },
  {
   "cell_type": "code",
   "execution_count": 20,
   "metadata": {},
   "outputs": [
    {
     "data": {
      "text/html": [
       "3"
      ],
      "text/latex": [
       "3"
      ],
      "text/markdown": [
       "3"
      ],
      "text/plain": [
       "[1] 3"
      ]
     },
     "metadata": {},
     "output_type": "display_data"
    }
   ],
   "source": [
    "ncol(df)"
   ]
  },
  {
   "cell_type": "code",
   "execution_count": 21,
   "metadata": {},
   "outputs": [
    {
     "data": {
      "text/html": [
       "<ol class=list-inline>\n",
       "\t<li>'days'</li>\n",
       "\t<li>'temp'</li>\n",
       "\t<li>'rain'</li>\n",
       "</ol>\n"
      ],
      "text/latex": [
       "\\begin{enumerate*}\n",
       "\\item 'days'\n",
       "\\item 'temp'\n",
       "\\item 'rain'\n",
       "\\end{enumerate*}\n"
      ],
      "text/markdown": [
       "1. 'days'\n",
       "2. 'temp'\n",
       "3. 'rain'\n",
       "\n",
       "\n"
      ],
      "text/plain": [
       "[1] \"days\" \"temp\" \"rain\""
      ]
     },
     "metadata": {},
     "output_type": "display_data"
    }
   ],
   "source": [
    "colnames(df)"
   ]
  },
  {
   "cell_type": "code",
   "execution_count": 22,
   "metadata": {},
   "outputs": [
    {
     "data": {
      "text/html": [
       "<ol class=list-inline>\n",
       "\t<li>'1'</li>\n",
       "\t<li>'2'</li>\n",
       "\t<li>'3'</li>\n",
       "\t<li>'4'</li>\n",
       "\t<li>'5'</li>\n",
       "</ol>\n"
      ],
      "text/latex": [
       "\\begin{enumerate*}\n",
       "\\item '1'\n",
       "\\item '2'\n",
       "\\item '3'\n",
       "\\item '4'\n",
       "\\item '5'\n",
       "\\end{enumerate*}\n"
      ],
      "text/markdown": [
       "1. '1'\n",
       "2. '2'\n",
       "3. '3'\n",
       "4. '4'\n",
       "5. '5'\n",
       "\n",
       "\n"
      ],
      "text/plain": [
       "[1] \"1\" \"2\" \"3\" \"4\" \"5\""
      ]
     },
     "metadata": {},
     "output_type": "display_data"
    }
   ],
   "source": [
    "rownames(df)"
   ]
  },
  {
   "cell_type": "code",
   "execution_count": 24,
   "metadata": {},
   "outputs": [
    {
     "data": {
      "text/html": [
       "<table>\n",
       "<thead><tr><th scope=col>days</th><th scope=col>temp</th><th scope=col>rain</th></tr></thead>\n",
       "<tbody>\n",
       "\t<tr><td>Mon </td><td>76.1</td><td>TRUE</td></tr>\n",
       "</tbody>\n",
       "</table>\n"
      ],
      "text/latex": [
       "\\begin{tabular}{r|lll}\n",
       " days & temp & rain\\\\\n",
       "\\hline\n",
       "\t Mon  & 76.1 & TRUE\\\\\n",
       "\\end{tabular}\n"
      ],
      "text/markdown": [
       "\n",
       "| days | temp | rain |\n",
       "|---|---|---|\n",
       "| Mon  | 76.1 | TRUE |\n",
       "\n"
      ],
      "text/plain": [
       "  days temp rain\n",
       "1 Mon  76.1 TRUE"
      ]
     },
     "metadata": {},
     "output_type": "display_data"
    }
   ],
   "source": [
    "#indexing and selection follow the df[row,column]\n",
    "#first df\n",
    "df[1,]"
   ]
  },
  {
   "cell_type": "code",
   "execution_count": 25,
   "metadata": {},
   "outputs": [
    {
     "data": {
      "text/html": [
       "<ol class=list-inline>\n",
       "\t<li>Mon</li>\n",
       "\t<li>Tue</li>\n",
       "\t<li>Wed</li>\n",
       "\t<li>Thu</li>\n",
       "\t<li>Fri</li>\n",
       "</ol>\n",
       "\n",
       "<details>\n",
       "\t<summary style=display:list-item;cursor:pointer>\n",
       "\t\t<strong>Levels</strong>:\n",
       "\t</summary>\n",
       "\t<ol class=list-inline>\n",
       "\t\t<li>'Fri'</li>\n",
       "\t\t<li>'Mon'</li>\n",
       "\t\t<li>'Thu'</li>\n",
       "\t\t<li>'Tue'</li>\n",
       "\t\t<li>'Wed'</li>\n",
       "\t</ol>\n",
       "</details>"
      ],
      "text/latex": [
       "\\begin{enumerate*}\n",
       "\\item Mon\n",
       "\\item Tue\n",
       "\\item Wed\n",
       "\\item Thu\n",
       "\\item Fri\n",
       "\\end{enumerate*}\n",
       "\n",
       "\\emph{Levels}: \\begin{enumerate*}\n",
       "\\item 'Fri'\n",
       "\\item 'Mon'\n",
       "\\item 'Thu'\n",
       "\\item 'Tue'\n",
       "\\item 'Wed'\n",
       "\\end{enumerate*}\n"
      ],
      "text/markdown": [
       "1. Mon\n",
       "2. Tue\n",
       "3. Wed\n",
       "4. Thu\n",
       "5. Fri\n",
       "\n",
       "\n",
       "\n",
       "**Levels**: 1. 'Fri'\n",
       "2. 'Mon'\n",
       "3. 'Thu'\n",
       "4. 'Tue'\n",
       "5. 'Wed'\n",
       "\n",
       "\n"
      ],
      "text/plain": [
       "[1] Mon Tue Wed Thu Fri\n",
       "Levels: Fri Mon Thu Tue Wed"
      ]
     },
     "metadata": {},
     "output_type": "display_data"
    }
   ],
   "source": [
    "df[,1]"
   ]
  },
  {
   "cell_type": "code",
   "execution_count": 26,
   "metadata": {},
   "outputs": [
    {
     "data": {
      "text/html": [
       "<table>\n",
       "<thead><tr><th></th><th scope=col>days</th><th scope=col>temp</th><th scope=col>rain</th></tr></thead>\n",
       "<tbody>\n",
       "\t<tr><th scope=row>5</th><td>Fri </td><td>76.2</td><td>TRUE</td></tr>\n",
       "</tbody>\n",
       "</table>\n"
      ],
      "text/latex": [
       "\\begin{tabular}{r|lll}\n",
       "  & days & temp & rain\\\\\n",
       "\\hline\n",
       "\t5 & Fri  & 76.2 & TRUE\\\\\n",
       "\\end{tabular}\n"
      ],
      "text/markdown": [
       "\n",
       "| <!--/--> | days | temp | rain |\n",
       "|---|---|---|---|\n",
       "| 5 | Fri  | 76.2 | TRUE |\n",
       "\n"
      ],
      "text/plain": [
       "  days temp rain\n",
       "5 Fri  76.2 TRUE"
      ]
     },
     "metadata": {},
     "output_type": "display_data"
    }
   ],
   "source": [
    "df[5,]"
   ]
  },
  {
   "cell_type": "code",
   "execution_count": 28,
   "metadata": {},
   "outputs": [
    {
     "data": {
      "text/html": [
       "<ol class=list-inline>\n",
       "\t<li>Mon</li>\n",
       "\t<li>Tue</li>\n",
       "\t<li>Wed</li>\n",
       "\t<li>Thu</li>\n",
       "\t<li>Fri</li>\n",
       "</ol>\n",
       "\n",
       "<details>\n",
       "\t<summary style=display:list-item;cursor:pointer>\n",
       "\t\t<strong>Levels</strong>:\n",
       "\t</summary>\n",
       "\t<ol class=list-inline>\n",
       "\t\t<li>'Fri'</li>\n",
       "\t\t<li>'Mon'</li>\n",
       "\t\t<li>'Thu'</li>\n",
       "\t\t<li>'Tue'</li>\n",
       "\t\t<li>'Wed'</li>\n",
       "\t</ol>\n",
       "</details>"
      ],
      "text/latex": [
       "\\begin{enumerate*}\n",
       "\\item Mon\n",
       "\\item Tue\n",
       "\\item Wed\n",
       "\\item Thu\n",
       "\\item Fri\n",
       "\\end{enumerate*}\n",
       "\n",
       "\\emph{Levels}: \\begin{enumerate*}\n",
       "\\item 'Fri'\n",
       "\\item 'Mon'\n",
       "\\item 'Thu'\n",
       "\\item 'Tue'\n",
       "\\item 'Wed'\n",
       "\\end{enumerate*}\n"
      ],
      "text/markdown": [
       "1. Mon\n",
       "2. Tue\n",
       "3. Wed\n",
       "4. Thu\n",
       "5. Fri\n",
       "\n",
       "\n",
       "\n",
       "**Levels**: 1. 'Fri'\n",
       "2. 'Mon'\n",
       "3. 'Thu'\n",
       "4. 'Tue'\n",
       "5. 'Wed'\n",
       "\n",
       "\n"
      ],
      "text/plain": [
       "[1] Mon Tue Wed Thu Fri\n",
       "Levels: Fri Mon Thu Tue Wed"
      ]
     },
     "metadata": {},
     "output_type": "display_data"
    }
   ],
   "source": [
    "df[,'days']"
   ]
  },
  {
   "cell_type": "code",
   "execution_count": 29,
   "metadata": {},
   "outputs": [
    {
     "data": {
      "text/html": [
       "<table>\n",
       "<thead><tr><th scope=col>days</th><th scope=col>temp</th></tr></thead>\n",
       "<tbody>\n",
       "\t<tr><td>Mon </td><td>76.1</td></tr>\n",
       "\t<tr><td>Tue </td><td>82.3</td></tr>\n",
       "\t<tr><td>Wed </td><td>85.4</td></tr>\n",
       "\t<tr><td>Thu </td><td>78.9</td></tr>\n",
       "\t<tr><td>Fri </td><td>76.2</td></tr>\n",
       "</tbody>\n",
       "</table>\n"
      ],
      "text/latex": [
       "\\begin{tabular}{r|ll}\n",
       " days & temp\\\\\n",
       "\\hline\n",
       "\t Mon  & 76.1\\\\\n",
       "\t Tue  & 82.3\\\\\n",
       "\t Wed  & 85.4\\\\\n",
       "\t Thu  & 78.9\\\\\n",
       "\t Fri  & 76.2\\\\\n",
       "\\end{tabular}\n"
      ],
      "text/markdown": [
       "\n",
       "| days | temp |\n",
       "|---|---|\n",
       "| Mon  | 76.1 |\n",
       "| Tue  | 82.3 |\n",
       "| Wed  | 85.4 |\n",
       "| Thu  | 78.9 |\n",
       "| Fri  | 76.2 |\n",
       "\n"
      ],
      "text/plain": [
       "  days temp\n",
       "1 Mon  76.1\n",
       "2 Tue  82.3\n",
       "3 Wed  85.4\n",
       "4 Thu  78.9\n",
       "5 Fri  76.2"
      ]
     },
     "metadata": {},
     "output_type": "display_data"
    }
   ],
   "source": [
    "#first 5 rows for days and temp\n",
    "df[1:5,c('days', 'temp')]"
   ]
  },
  {
   "cell_type": "code",
   "execution_count": 30,
   "metadata": {},
   "outputs": [
    {
     "data": {
      "text/html": [
       "<ol class=list-inline>\n",
       "\t<li>TRUE</li>\n",
       "\t<li>FALSE</li>\n",
       "\t<li>FALSE</li>\n",
       "\t<li>TRUE</li>\n",
       "\t<li>TRUE</li>\n",
       "</ol>\n"
      ],
      "text/latex": [
       "\\begin{enumerate*}\n",
       "\\item TRUE\n",
       "\\item FALSE\n",
       "\\item FALSE\n",
       "\\item TRUE\n",
       "\\item TRUE\n",
       "\\end{enumerate*}\n"
      ],
      "text/markdown": [
       "1. TRUE\n",
       "2. FALSE\n",
       "3. FALSE\n",
       "4. TRUE\n",
       "5. TRUE\n",
       "\n",
       "\n"
      ],
      "text/plain": [
       "[1]  TRUE FALSE FALSE  TRUE  TRUE"
      ]
     },
     "metadata": {},
     "output_type": "display_data"
    }
   ],
   "source": [
    "#use \"$\" will refer to dataframe's column name\n",
    "df$rain"
   ]
  },
  {
   "cell_type": "code",
   "execution_count": 31,
   "metadata": {},
   "outputs": [
    {
     "data": {
      "text/html": [
       "<ol class=list-inline>\n",
       "\t<li>Mon</li>\n",
       "\t<li>Tue</li>\n",
       "\t<li>Wed</li>\n",
       "\t<li>Thu</li>\n",
       "\t<li>Fri</li>\n",
       "</ol>\n",
       "\n",
       "<details>\n",
       "\t<summary style=display:list-item;cursor:pointer>\n",
       "\t\t<strong>Levels</strong>:\n",
       "\t</summary>\n",
       "\t<ol class=list-inline>\n",
       "\t\t<li>'Fri'</li>\n",
       "\t\t<li>'Mon'</li>\n",
       "\t\t<li>'Thu'</li>\n",
       "\t\t<li>'Tue'</li>\n",
       "\t\t<li>'Wed'</li>\n",
       "\t</ol>\n",
       "</details>"
      ],
      "text/latex": [
       "\\begin{enumerate*}\n",
       "\\item Mon\n",
       "\\item Tue\n",
       "\\item Wed\n",
       "\\item Thu\n",
       "\\item Fri\n",
       "\\end{enumerate*}\n",
       "\n",
       "\\emph{Levels}: \\begin{enumerate*}\n",
       "\\item 'Fri'\n",
       "\\item 'Mon'\n",
       "\\item 'Thu'\n",
       "\\item 'Tue'\n",
       "\\item 'Wed'\n",
       "\\end{enumerate*}\n"
      ],
      "text/markdown": [
       "1. Mon\n",
       "2. Tue\n",
       "3. Wed\n",
       "4. Thu\n",
       "5. Fri\n",
       "\n",
       "\n",
       "\n",
       "**Levels**: 1. 'Fri'\n",
       "2. 'Mon'\n",
       "3. 'Thu'\n",
       "4. 'Tue'\n",
       "5. 'Wed'\n",
       "\n",
       "\n"
      ],
      "text/plain": [
       "[1] Mon Tue Wed Thu Fri\n",
       "Levels: Fri Mon Thu Tue Wed"
      ]
     },
     "metadata": {},
     "output_type": "display_data"
    }
   ],
   "source": [
    "df$days"
   ]
  },
  {
   "cell_type": "code",
   "execution_count": 32,
   "metadata": {},
   "outputs": [],
   "source": [
    "#note use double brackets bc want to reference specific cell\n",
    "vec<-df[[5,2]]"
   ]
  },
  {
   "cell_type": "code",
   "execution_count": 33,
   "metadata": {},
   "outputs": [
    {
     "data": {
      "text/html": [
       "76.2"
      ],
      "text/latex": [
       "76.2"
      ],
      "text/markdown": [
       "76.2"
      ],
      "text/plain": [
       "[1] 76.2"
      ]
     },
     "metadata": {},
     "output_type": "display_data"
    }
   ],
   "source": [
    "vec"
   ]
  },
  {
   "cell_type": "code",
   "execution_count": 34,
   "metadata": {},
   "outputs": [
    {
     "data": {
      "text/html": [
       "<table>\n",
       "<thead><tr><th scope=col>days</th><th scope=col>temp</th></tr></thead>\n",
       "<tbody>\n",
       "\t<tr><td>Mon </td><td>76.1</td></tr>\n",
       "\t<tr><td>Tue </td><td>82.3</td></tr>\n",
       "\t<tr><td>Wed </td><td>85.4</td></tr>\n",
       "</tbody>\n",
       "</table>\n"
      ],
      "text/latex": [
       "\\begin{tabular}{r|ll}\n",
       " days & temp\\\\\n",
       "\\hline\n",
       "\t Mon  & 76.1\\\\\n",
       "\t Tue  & 82.3\\\\\n",
       "\t Wed  & 85.4\\\\\n",
       "\\end{tabular}\n"
      ],
      "text/markdown": [
       "\n",
       "| days | temp |\n",
       "|---|---|\n",
       "| Mon  | 76.1 |\n",
       "| Tue  | 82.3 |\n",
       "| Wed  | 85.4 |\n",
       "\n"
      ],
      "text/plain": [
       "  days temp\n",
       "1 Mon  76.1\n",
       "2 Tue  82.3\n",
       "3 Wed  85.4"
      ]
     },
     "metadata": {},
     "output_type": "display_data"
    }
   ],
   "source": [
    "newdf<-df[1:3,1:2]\n",
    "newdf"
   ]
  },
  {
   "cell_type": "code",
   "execution_count": 35,
   "metadata": {},
   "outputs": [],
   "source": [
    "#change the values of a cell note to use 2 brackets\n",
    "df[[2,'rain']] <- FALSE"
   ]
  },
  {
   "cell_type": "code",
   "execution_count": 36,
   "metadata": {},
   "outputs": [
    {
     "data": {
      "text/html": [
       "<table>\n",
       "<thead><tr><th scope=col>days</th><th scope=col>temp</th><th scope=col>rain</th></tr></thead>\n",
       "<tbody>\n",
       "\t<tr><td>Mon  </td><td>76.1 </td><td> TRUE</td></tr>\n",
       "\t<tr><td>Tue  </td><td>82.3 </td><td>FALSE</td></tr>\n",
       "\t<tr><td>Wed  </td><td>85.4 </td><td>FALSE</td></tr>\n",
       "\t<tr><td>Thu  </td><td>78.9 </td><td> TRUE</td></tr>\n",
       "\t<tr><td>Fri  </td><td>76.2 </td><td> TRUE</td></tr>\n",
       "</tbody>\n",
       "</table>\n"
      ],
      "text/latex": [
       "\\begin{tabular}{r|lll}\n",
       " days & temp & rain\\\\\n",
       "\\hline\n",
       "\t Mon   & 76.1  &  TRUE\\\\\n",
       "\t Tue   & 82.3  & FALSE\\\\\n",
       "\t Wed   & 85.4  & FALSE\\\\\n",
       "\t Thu   & 78.9  &  TRUE\\\\\n",
       "\t Fri   & 76.2  &  TRUE\\\\\n",
       "\\end{tabular}\n"
      ],
      "text/markdown": [
       "\n",
       "| days | temp | rain |\n",
       "|---|---|---|\n",
       "| Mon   | 76.1  |  TRUE |\n",
       "| Tue   | 82.3  | FALSE |\n",
       "| Wed   | 85.4  | FALSE |\n",
       "| Thu   | 78.9  |  TRUE |\n",
       "| Fri   | 76.2  |  TRUE |\n",
       "\n"
      ],
      "text/plain": [
       "  days temp rain \n",
       "1 Mon  76.1  TRUE\n",
       "2 Tue  82.3 FALSE\n",
       "3 Wed  85.4 FALSE\n",
       "4 Thu  78.9  TRUE\n",
       "5 Fri  76.2  TRUE"
      ]
     },
     "metadata": {},
     "output_type": "display_data"
    }
   ],
   "source": [
    "df"
   ]
  },
  {
   "cell_type": "code",
   "execution_count": 37,
   "metadata": {},
   "outputs": [
    {
     "data": {
      "text/html": [
       "<table>\n",
       "<thead><tr><th scope=col>days</th><th scope=col>temp</th><th scope=col>rain</th><th scope=col>celcus</th></tr></thead>\n",
       "<tbody>\n",
       "\t<tr><td>Mon     </td><td>76.1    </td><td> TRUE   </td><td>24.50000</td></tr>\n",
       "\t<tr><td>Tue     </td><td>82.3    </td><td>FALSE   </td><td>27.94444</td></tr>\n",
       "\t<tr><td>Wed     </td><td>85.4    </td><td>FALSE   </td><td>29.66667</td></tr>\n",
       "\t<tr><td>Thu     </td><td>78.9    </td><td> TRUE   </td><td>26.05556</td></tr>\n",
       "\t<tr><td>Fri     </td><td>76.2    </td><td> TRUE   </td><td>24.55556</td></tr>\n",
       "</tbody>\n",
       "</table>\n"
      ],
      "text/latex": [
       "\\begin{tabular}{r|llll}\n",
       " days & temp & rain & celcus\\\\\n",
       "\\hline\n",
       "\t Mon      & 76.1     &  TRUE    & 24.50000\\\\\n",
       "\t Tue      & 82.3     & FALSE    & 27.94444\\\\\n",
       "\t Wed      & 85.4     & FALSE    & 29.66667\\\\\n",
       "\t Thu      & 78.9     &  TRUE    & 26.05556\\\\\n",
       "\t Fri      & 76.2     &  TRUE    & 24.55556\\\\\n",
       "\\end{tabular}\n"
      ],
      "text/markdown": [
       "\n",
       "| days | temp | rain | celcus |\n",
       "|---|---|---|---|\n",
       "| Mon      | 76.1     |  TRUE    | 24.50000 |\n",
       "| Tue      | 82.3     | FALSE    | 27.94444 |\n",
       "| Wed      | 85.4     | FALSE    | 29.66667 |\n",
       "| Thu      | 78.9     |  TRUE    | 26.05556 |\n",
       "| Fri      | 76.2     |  TRUE    | 24.55556 |\n",
       "\n"
      ],
      "text/plain": [
       "  days temp rain  celcus  \n",
       "1 Mon  76.1  TRUE 24.50000\n",
       "2 Tue  82.3 FALSE 27.94444\n",
       "3 Wed  85.4 FALSE 29.66667\n",
       "4 Thu  78.9  TRUE 26.05556\n",
       "5 Fri  76.2  TRUE 24.55556"
      ]
     },
     "metadata": {},
     "output_type": "display_data"
    }
   ],
   "source": [
    "#create a new column\n",
    "df$celcus <-(df$temp-32)*5/9\n",
    "df"
   ]
  },
  {
   "cell_type": "code",
   "execution_count": 40,
   "metadata": {},
   "outputs": [
    {
     "data": {
      "text/html": [
       "<table>\n",
       "<thead><tr><th scope=col>days</th><th scope=col>temp</th><th scope=col>rain</th><th scope=col>celcus</th><th scope=col>over.80</th></tr></thead>\n",
       "<tbody>\n",
       "\t<tr><td>Mon     </td><td>76.1    </td><td> TRUE   </td><td>24.50000</td><td>FALSE   </td></tr>\n",
       "\t<tr><td>Tue     </td><td>82.3    </td><td>FALSE   </td><td>27.94444</td><td> TRUE   </td></tr>\n",
       "\t<tr><td>Wed     </td><td>85.4    </td><td>FALSE   </td><td>29.66667</td><td> TRUE   </td></tr>\n",
       "\t<tr><td>Thu     </td><td>78.9    </td><td> TRUE   </td><td>26.05556</td><td>FALSE   </td></tr>\n",
       "\t<tr><td>Fri     </td><td>76.2    </td><td> TRUE   </td><td>24.55556</td><td>FALSE   </td></tr>\n",
       "</tbody>\n",
       "</table>\n"
      ],
      "text/latex": [
       "\\begin{tabular}{r|lllll}\n",
       " days & temp & rain & celcus & over.80\\\\\n",
       "\\hline\n",
       "\t Mon      & 76.1     &  TRUE    & 24.50000 & FALSE   \\\\\n",
       "\t Tue      & 82.3     & FALSE    & 27.94444 &  TRUE   \\\\\n",
       "\t Wed      & 85.4     & FALSE    & 29.66667 &  TRUE   \\\\\n",
       "\t Thu      & 78.9     &  TRUE    & 26.05556 & FALSE   \\\\\n",
       "\t Fri      & 76.2     &  TRUE    & 24.55556 & FALSE   \\\\\n",
       "\\end{tabular}\n"
      ],
      "text/markdown": [
       "\n",
       "| days | temp | rain | celcus | over.80 |\n",
       "|---|---|---|---|---|\n",
       "| Mon      | 76.1     |  TRUE    | 24.50000 | FALSE    |\n",
       "| Tue      | 82.3     | FALSE    | 27.94444 |  TRUE    |\n",
       "| Wed      | 85.4     | FALSE    | 29.66667 |  TRUE    |\n",
       "| Thu      | 78.9     |  TRUE    | 26.05556 | FALSE    |\n",
       "| Fri      | 76.2     |  TRUE    | 24.55556 | FALSE    |\n",
       "\n"
      ],
      "text/plain": [
       "  days temp rain  celcus   over.80\n",
       "1 Mon  76.1  TRUE 24.50000 FALSE  \n",
       "2 Tue  82.3 FALSE 27.94444  TRUE  \n",
       "3 Wed  85.4 FALSE 29.66667  TRUE  \n",
       "4 Thu  78.9  TRUE 26.05556 FALSE  \n",
       "5 Fri  76.2  TRUE 24.55556 FALSE  "
      ]
     },
     "metadata": {},
     "output_type": "display_data"
    }
   ],
   "source": [
    "df['over.80']<-df['temp']>80\n",
    "df"
   ]
  },
  {
   "cell_type": "code",
   "execution_count": 41,
   "metadata": {},
   "outputs": [
    {
     "data": {
      "text/html": [
       "<table>\n",
       "<thead><tr><th></th><th scope=col>days</th><th scope=col>temp</th><th scope=col>rain</th><th scope=col>celcus</th><th scope=col>over.80</th></tr></thead>\n",
       "<tbody>\n",
       "\t<tr><th scope=row>1</th><td>Mon     </td><td>76.1    </td><td>TRUE    </td><td>24.50000</td><td>FALSE   </td></tr>\n",
       "\t<tr><th scope=row>4</th><td>Thu     </td><td>78.9    </td><td>TRUE    </td><td>26.05556</td><td>FALSE   </td></tr>\n",
       "\t<tr><th scope=row>5</th><td>Fri     </td><td>76.2    </td><td>TRUE    </td><td>24.55556</td><td>FALSE   </td></tr>\n",
       "</tbody>\n",
       "</table>\n"
      ],
      "text/latex": [
       "\\begin{tabular}{r|lllll}\n",
       "  & days & temp & rain & celcus & over.80\\\\\n",
       "\\hline\n",
       "\t1 & Mon      & 76.1     & TRUE     & 24.50000 & FALSE   \\\\\n",
       "\t4 & Thu      & 78.9     & TRUE     & 26.05556 & FALSE   \\\\\n",
       "\t5 & Fri      & 76.2     & TRUE     & 24.55556 & FALSE   \\\\\n",
       "\\end{tabular}\n"
      ],
      "text/markdown": [
       "\n",
       "| <!--/--> | days | temp | rain | celcus | over.80 |\n",
       "|---|---|---|---|---|---|\n",
       "| 1 | Mon      | 76.1     | TRUE     | 24.50000 | FALSE    |\n",
       "| 4 | Thu      | 78.9     | TRUE     | 26.05556 | FALSE    |\n",
       "| 5 | Fri      | 76.2     | TRUE     | 24.55556 | FALSE    |\n",
       "\n"
      ],
      "text/plain": [
       "  days temp rain celcus   over.80\n",
       "1 Mon  76.1 TRUE 24.50000 FALSE  \n",
       "4 Thu  78.9 TRUE 26.05556 FALSE  \n",
       "5 Fri  76.2 TRUE 24.55556 FALSE  "
      ]
     },
     "metadata": {},
     "output_type": "display_data"
    }
   ],
   "source": [
    "#subset() will help grab a subset of data based on a condition\n",
    "subset(df, subset=rain==TRUE)"
   ]
  },
  {
   "cell_type": "code",
   "execution_count": 42,
   "metadata": {},
   "outputs": [
    {
     "data": {
      "text/html": [
       "<table>\n",
       "<thead><tr><th></th><th scope=col>days</th><th scope=col>temp</th><th scope=col>rain</th><th scope=col>celcus</th><th scope=col>over.80</th></tr></thead>\n",
       "<tbody>\n",
       "\t<tr><th scope=row>2</th><td>Tue     </td><td>82.3    </td><td>FALSE   </td><td>27.94444</td><td>TRUE    </td></tr>\n",
       "\t<tr><th scope=row>3</th><td>Wed     </td><td>85.4    </td><td>FALSE   </td><td>29.66667</td><td>TRUE    </td></tr>\n",
       "</tbody>\n",
       "</table>\n"
      ],
      "text/latex": [
       "\\begin{tabular}{r|lllll}\n",
       "  & days & temp & rain & celcus & over.80\\\\\n",
       "\\hline\n",
       "\t2 & Tue      & 82.3     & FALSE    & 27.94444 & TRUE    \\\\\n",
       "\t3 & Wed      & 85.4     & FALSE    & 29.66667 & TRUE    \\\\\n",
       "\\end{tabular}\n"
      ],
      "text/markdown": [
       "\n",
       "| <!--/--> | days | temp | rain | celcus | over.80 |\n",
       "|---|---|---|---|---|---|\n",
       "| 2 | Tue      | 82.3     | FALSE    | 27.94444 | TRUE     |\n",
       "| 3 | Wed      | 85.4     | FALSE    | 29.66667 | TRUE     |\n",
       "\n"
      ],
      "text/plain": [
       "  days temp rain  celcus   over.80\n",
       "2 Tue  82.3 FALSE 27.94444 TRUE   \n",
       "3 Wed  85.4 FALSE 29.66667 TRUE   "
      ]
     },
     "metadata": {},
     "output_type": "display_data"
    }
   ],
   "source": [
    "subset(df, temp>80)"
   ]
  },
  {
   "cell_type": "code",
   "execution_count": 43,
   "metadata": {},
   "outputs": [
    {
     "data": {
      "text/html": [
       "<table>\n",
       "<thead><tr><th></th><th scope=col>days</th><th scope=col>temp</th><th scope=col>rain</th><th scope=col>celcus</th><th scope=col>over.80</th></tr></thead>\n",
       "<tbody>\n",
       "\t<tr><th scope=row>1</th><td>Mon     </td><td>76.1    </td><td>TRUE    </td><td>24.50000</td><td>FALSE   </td></tr>\n",
       "\t<tr><th scope=row>4</th><td>Thu     </td><td>78.9    </td><td>TRUE    </td><td>26.05556</td><td>FALSE   </td></tr>\n",
       "\t<tr><th scope=row>5</th><td>Fri     </td><td>76.2    </td><td>TRUE    </td><td>24.55556</td><td>FALSE   </td></tr>\n",
       "</tbody>\n",
       "</table>\n"
      ],
      "text/latex": [
       "\\begin{tabular}{r|lllll}\n",
       "  & days & temp & rain & celcus & over.80\\\\\n",
       "\\hline\n",
       "\t1 & Mon      & 76.1     & TRUE     & 24.50000 & FALSE   \\\\\n",
       "\t4 & Thu      & 78.9     & TRUE     & 26.05556 & FALSE   \\\\\n",
       "\t5 & Fri      & 76.2     & TRUE     & 24.55556 & FALSE   \\\\\n",
       "\\end{tabular}\n"
      ],
      "text/markdown": [
       "\n",
       "| <!--/--> | days | temp | rain | celcus | over.80 |\n",
       "|---|---|---|---|---|---|\n",
       "| 1 | Mon      | 76.1     | TRUE     | 24.50000 | FALSE    |\n",
       "| 4 | Thu      | 78.9     | TRUE     | 26.05556 | FALSE    |\n",
       "| 5 | Fri      | 76.2     | TRUE     | 24.55556 | FALSE    |\n",
       "\n"
      ],
      "text/plain": [
       "  days temp rain celcus   over.80\n",
       "1 Mon  76.1 TRUE 24.50000 FALSE  \n",
       "4 Thu  78.9 TRUE 26.05556 FALSE  \n",
       "5 Fri  76.2 TRUE 24.55556 FALSE  "
      ]
     },
     "metadata": {},
     "output_type": "display_data"
    }
   ],
   "source": [
    "#use multiple conditionl statements using \"&\" (meaning 'and') or \"|\" (meaning 'or')\n",
    "subset(df, days!=\"Wed\" & temp<80)\n"
   ]
  },
  {
   "cell_type": "code",
   "execution_count": 47,
   "metadata": {},
   "outputs": [
    {
     "data": {
      "text/html": [
       "<table>\n",
       "<thead><tr><th></th><th scope=col>days</th><th scope=col>temp</th><th scope=col>rain</th><th scope=col>celcus</th><th scope=col>over.80</th></tr></thead>\n",
       "<tbody>\n",
       "\t<tr><th scope=row>1</th><td>Mon     </td><td>76.1    </td><td>TRUE    </td><td>24.50000</td><td>FALSE   </td></tr>\n",
       "\t<tr><th scope=row>4</th><td>Thu     </td><td>78.9    </td><td>TRUE    </td><td>26.05556</td><td>FALSE   </td></tr>\n",
       "\t<tr><th scope=row>5</th><td>Fri     </td><td>76.2    </td><td>TRUE    </td><td>24.55556</td><td>FALSE   </td></tr>\n",
       "</tbody>\n",
       "</table>\n"
      ],
      "text/latex": [
       "\\begin{tabular}{r|lllll}\n",
       "  & days & temp & rain & celcus & over.80\\\\\n",
       "\\hline\n",
       "\t1 & Mon      & 76.1     & TRUE     & 24.50000 & FALSE   \\\\\n",
       "\t4 & Thu      & 78.9     & TRUE     & 26.05556 & FALSE   \\\\\n",
       "\t5 & Fri      & 76.2     & TRUE     & 24.55556 & FALSE   \\\\\n",
       "\\end{tabular}\n"
      ],
      "text/markdown": [
       "\n",
       "| <!--/--> | days | temp | rain | celcus | over.80 |\n",
       "|---|---|---|---|---|---|\n",
       "| 1 | Mon      | 76.1     | TRUE     | 24.50000 | FALSE    |\n",
       "| 4 | Thu      | 78.9     | TRUE     | 26.05556 | FALSE    |\n",
       "| 5 | Fri      | 76.2     | TRUE     | 24.55556 | FALSE    |\n",
       "\n"
      ],
      "text/plain": [
       "  days temp rain celcus   over.80\n",
       "1 Mon  76.1 TRUE 24.50000 FALSE  \n",
       "4 Thu  78.9 TRUE 26.05556 FALSE  \n",
       "5 Fri  76.2 TRUE 24.55556 FALSE  "
      ]
     },
     "metadata": {},
     "output_type": "display_data"
    }
   ],
   "source": [
    "#use bracket notation to do the same things as subset donforget!!![rows,columns]\n",
    "df[(df$days !=\"Wed\" & df$temp<80),]"
   ]
  },
  {
   "cell_type": "code",
   "execution_count": 52,
   "metadata": {},
   "outputs": [
    {
     "data": {
      "text/html": [
       "77.0666666666667"
      ],
      "text/latex": [
       "77.0666666666667"
      ],
      "text/markdown": [
       "77.0666666666667"
      ],
      "text/plain": [
       "[1] 77.06667"
      ]
     },
     "metadata": {},
     "output_type": "display_data"
    }
   ],
   "source": [
    "mean(df$temp[(df$rain==TRUE & df$over.80==FALSE)])"
   ]
  },
  {
   "cell_type": "markdown",
   "metadata": {},
   "source": [
    "df[(df$days !=\"Wed\" | df$temp<80),]"
   ]
  },
  {
   "cell_type": "code",
   "execution_count": 53,
   "metadata": {},
   "outputs": [],
   "source": [
    "#order() \n",
    "sorted.temp <-order(df$temp)"
   ]
  },
  {
   "cell_type": "code",
   "execution_count": 54,
   "metadata": {},
   "outputs": [
    {
     "data": {
      "text/html": [
       "<ol class=list-inline>\n",
       "\t<li>1</li>\n",
       "\t<li>5</li>\n",
       "\t<li>4</li>\n",
       "\t<li>2</li>\n",
       "\t<li>3</li>\n",
       "</ol>\n"
      ],
      "text/latex": [
       "\\begin{enumerate*}\n",
       "\\item 1\n",
       "\\item 5\n",
       "\\item 4\n",
       "\\item 2\n",
       "\\item 3\n",
       "\\end{enumerate*}\n"
      ],
      "text/markdown": [
       "1. 1\n",
       "2. 5\n",
       "3. 4\n",
       "4. 2\n",
       "5. 3\n",
       "\n",
       "\n"
      ],
      "text/plain": [
       "[1] 1 5 4 2 3"
      ]
     },
     "metadata": {},
     "output_type": "display_data"
    }
   ],
   "source": [
    "sorted.temp"
   ]
  },
  {
   "cell_type": "code",
   "execution_count": 55,
   "metadata": {},
   "outputs": [
    {
     "data": {
      "text/html": [
       "<table>\n",
       "<thead><tr><th></th><th scope=col>days</th><th scope=col>temp</th><th scope=col>rain</th><th scope=col>celcus</th><th scope=col>over.80</th></tr></thead>\n",
       "<tbody>\n",
       "\t<tr><th scope=row>1</th><td>Mon     </td><td>76.1    </td><td> TRUE   </td><td>24.50000</td><td>FALSE   </td></tr>\n",
       "\t<tr><th scope=row>5</th><td>Fri     </td><td>76.2    </td><td> TRUE   </td><td>24.55556</td><td>FALSE   </td></tr>\n",
       "\t<tr><th scope=row>4</th><td>Thu     </td><td>78.9    </td><td> TRUE   </td><td>26.05556</td><td>FALSE   </td></tr>\n",
       "\t<tr><th scope=row>2</th><td>Tue     </td><td>82.3    </td><td>FALSE   </td><td>27.94444</td><td> TRUE   </td></tr>\n",
       "\t<tr><th scope=row>3</th><td>Wed     </td><td>85.4    </td><td>FALSE   </td><td>29.66667</td><td> TRUE   </td></tr>\n",
       "</tbody>\n",
       "</table>\n"
      ],
      "text/latex": [
       "\\begin{tabular}{r|lllll}\n",
       "  & days & temp & rain & celcus & over.80\\\\\n",
       "\\hline\n",
       "\t1 & Mon      & 76.1     &  TRUE    & 24.50000 & FALSE   \\\\\n",
       "\t5 & Fri      & 76.2     &  TRUE    & 24.55556 & FALSE   \\\\\n",
       "\t4 & Thu      & 78.9     &  TRUE    & 26.05556 & FALSE   \\\\\n",
       "\t2 & Tue      & 82.3     & FALSE    & 27.94444 &  TRUE   \\\\\n",
       "\t3 & Wed      & 85.4     & FALSE    & 29.66667 &  TRUE   \\\\\n",
       "\\end{tabular}\n"
      ],
      "text/markdown": [
       "\n",
       "| <!--/--> | days | temp | rain | celcus | over.80 |\n",
       "|---|---|---|---|---|---|\n",
       "| 1 | Mon      | 76.1     |  TRUE    | 24.50000 | FALSE    |\n",
       "| 5 | Fri      | 76.2     |  TRUE    | 24.55556 | FALSE    |\n",
       "| 4 | Thu      | 78.9     |  TRUE    | 26.05556 | FALSE    |\n",
       "| 2 | Tue      | 82.3     | FALSE    | 27.94444 |  TRUE    |\n",
       "| 3 | Wed      | 85.4     | FALSE    | 29.66667 |  TRUE    |\n",
       "\n"
      ],
      "text/plain": [
       "  days temp rain  celcus   over.80\n",
       "1 Mon  76.1  TRUE 24.50000 FALSE  \n",
       "5 Fri  76.2  TRUE 24.55556 FALSE  \n",
       "4 Thu  78.9  TRUE 26.05556 FALSE  \n",
       "2 Tue  82.3 FALSE 27.94444  TRUE  \n",
       "3 Wed  85.4 FALSE 29.66667  TRUE  "
      ]
     },
     "metadata": {},
     "output_type": "display_data"
    }
   ],
   "source": [
    "df[sorted.temp,]"
   ]
  },
  {
   "cell_type": "code",
   "execution_count": 56,
   "metadata": {},
   "outputs": [],
   "source": [
    "#descending temperatures, otehrwise will always be in ascending order\n",
    "desc.temp<-order(-df['temp'])"
   ]
  },
  {
   "cell_type": "code",
   "execution_count": 57,
   "metadata": {},
   "outputs": [
    {
     "data": {
      "text/html": [
       "<ol class=list-inline>\n",
       "\t<li>3</li>\n",
       "\t<li>2</li>\n",
       "\t<li>4</li>\n",
       "\t<li>5</li>\n",
       "\t<li>1</li>\n",
       "</ol>\n"
      ],
      "text/latex": [
       "\\begin{enumerate*}\n",
       "\\item 3\n",
       "\\item 2\n",
       "\\item 4\n",
       "\\item 5\n",
       "\\item 1\n",
       "\\end{enumerate*}\n"
      ],
      "text/markdown": [
       "1. 3\n",
       "2. 2\n",
       "3. 4\n",
       "4. 5\n",
       "5. 1\n",
       "\n",
       "\n"
      ],
      "text/plain": [
       "[1] 3 2 4 5 1"
      ]
     },
     "metadata": {},
     "output_type": "display_data"
    }
   ],
   "source": [
    "desc.temp"
   ]
  },
  {
   "cell_type": "code",
   "execution_count": 58,
   "metadata": {},
   "outputs": [
    {
     "data": {
      "text/html": [
       "<table>\n",
       "<thead><tr><th></th><th scope=col>days</th><th scope=col>temp</th><th scope=col>rain</th><th scope=col>celcus</th><th scope=col>over.80</th></tr></thead>\n",
       "<tbody>\n",
       "\t<tr><th scope=row>3</th><td>Wed     </td><td>85.4    </td><td>FALSE   </td><td>29.66667</td><td> TRUE   </td></tr>\n",
       "\t<tr><th scope=row>2</th><td>Tue     </td><td>82.3    </td><td>FALSE   </td><td>27.94444</td><td> TRUE   </td></tr>\n",
       "\t<tr><th scope=row>4</th><td>Thu     </td><td>78.9    </td><td> TRUE   </td><td>26.05556</td><td>FALSE   </td></tr>\n",
       "\t<tr><th scope=row>5</th><td>Fri     </td><td>76.2    </td><td> TRUE   </td><td>24.55556</td><td>FALSE   </td></tr>\n",
       "\t<tr><th scope=row>1</th><td>Mon     </td><td>76.1    </td><td> TRUE   </td><td>24.50000</td><td>FALSE   </td></tr>\n",
       "</tbody>\n",
       "</table>\n"
      ],
      "text/latex": [
       "\\begin{tabular}{r|lllll}\n",
       "  & days & temp & rain & celcus & over.80\\\\\n",
       "\\hline\n",
       "\t3 & Wed      & 85.4     & FALSE    & 29.66667 &  TRUE   \\\\\n",
       "\t2 & Tue      & 82.3     & FALSE    & 27.94444 &  TRUE   \\\\\n",
       "\t4 & Thu      & 78.9     &  TRUE    & 26.05556 & FALSE   \\\\\n",
       "\t5 & Fri      & 76.2     &  TRUE    & 24.55556 & FALSE   \\\\\n",
       "\t1 & Mon      & 76.1     &  TRUE    & 24.50000 & FALSE   \\\\\n",
       "\\end{tabular}\n"
      ],
      "text/markdown": [
       "\n",
       "| <!--/--> | days | temp | rain | celcus | over.80 |\n",
       "|---|---|---|---|---|---|\n",
       "| 3 | Wed      | 85.4     | FALSE    | 29.66667 |  TRUE    |\n",
       "| 2 | Tue      | 82.3     | FALSE    | 27.94444 |  TRUE    |\n",
       "| 4 | Thu      | 78.9     |  TRUE    | 26.05556 | FALSE    |\n",
       "| 5 | Fri      | 76.2     |  TRUE    | 24.55556 | FALSE    |\n",
       "| 1 | Mon      | 76.1     |  TRUE    | 24.50000 | FALSE    |\n",
       "\n"
      ],
      "text/plain": [
       "  days temp rain  celcus   over.80\n",
       "3 Wed  85.4 FALSE 29.66667  TRUE  \n",
       "2 Tue  82.3 FALSE 27.94444  TRUE  \n",
       "4 Thu  78.9  TRUE 26.05556 FALSE  \n",
       "5 Fri  76.2  TRUE 24.55556 FALSE  \n",
       "1 Mon  76.1  TRUE 24.50000 FALSE  "
      ]
     },
     "metadata": {},
     "output_type": "display_data"
    }
   ],
   "source": [
    "df[desc.temp,]"
   ]
  },
  {
   "cell_type": "code",
   "execution_count": null,
   "metadata": {},
   "outputs": [],
   "source": []
  }
 ],
 "metadata": {
  "kernelspec": {
   "display_name": "R",
   "language": "R",
   "name": "ir"
  },
  "language_info": {
   "codemirror_mode": "r",
   "file_extension": ".r",
   "mimetype": "text/x-r-source",
   "name": "R",
   "pygments_lexer": "r",
   "version": "3.6.1"
  }
 },
 "nbformat": 4,
 "nbformat_minor": 2
}
