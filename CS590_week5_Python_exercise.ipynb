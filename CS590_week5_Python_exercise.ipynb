{
 "cells": [
  {
   "cell_type": "markdown",
   "metadata": {},
   "source": [
    "Import Pandas, Numpy and OS libraries"
   ]
  },
  {
   "cell_type": "code",
   "execution_count": 79,
   "metadata": {},
   "outputs": [],
   "source": [
    "import pandas as pd\n",
    "import numpy as np\n",
    "import os "
   ]
  },
  {
   "cell_type": "markdown",
   "metadata": {},
   "source": [
    "Read in the peanut_lines CSV file as **peanut_lines** (Use encoding='ISO-8859-1')"
   ]
  },
  {
   "cell_type": "code",
   "execution_count": 80,
   "metadata": {},
   "outputs": [],
   "source": [
    "os.chdir('G:\\\\My Drive\\\\classes\\\\CS590 - Special Topics - R and Python Programming\\\\jcdunne.CS590')"
   ]
  },
  {
   "cell_type": "code",
   "execution_count": 81,
   "metadata": {},
   "outputs": [],
   "source": [
    "lines = pd.read_csv('peanut_lines.csv', encoding='ISO-8859-1')"
   ]
  },
  {
   "cell_type": "markdown",
   "metadata": {},
   "source": [
    "Check the head of the files"
   ]
  },
  {
   "cell_type": "code",
   "execution_count": 82,
   "metadata": {},
   "outputs": [
    {
     "data": {
      "text/html": [
       "<div>\n",
       "<style scoped>\n",
       "    .dataframe tbody tr th:only-of-type {\n",
       "        vertical-align: middle;\n",
       "    }\n",
       "\n",
       "    .dataframe tbody tr th {\n",
       "        vertical-align: top;\n",
       "    }\n",
       "\n",
       "    .dataframe thead th {\n",
       "        text-align: right;\n",
       "    }\n",
       "</style>\n",
       "<table border=\"1\" class=\"dataframe\">\n",
       "  <thead>\n",
       "    <tr style=\"text-align: right;\">\n",
       "      <th></th>\n",
       "      <th>NC_Accession</th>\n",
       "      <th>Identity or Parentage</th>\n",
       "      <th>Pedigree</th>\n",
       "      <th>FAG</th>\n",
       "    </tr>\n",
       "  </thead>\n",
       "  <tbody>\n",
       "    <tr>\n",
       "      <th>0</th>\n",
       "      <td>ACI WT09-0761</td>\n",
       "      <td>ACI WT09-0761</td>\n",
       "      <td>NaN</td>\n",
       "      <td>Check</td>\n",
       "    </tr>\n",
       "    <tr>\n",
       "      <th>1</th>\n",
       "      <td>ACI WT11-0351</td>\n",
       "      <td>ACI WT11-0351</td>\n",
       "      <td>NaN</td>\n",
       "      <td>ol ol</td>\n",
       "    </tr>\n",
       "    <tr>\n",
       "      <th>2</th>\n",
       "      <td>ACI WT12-0226</td>\n",
       "      <td>ACI WT12-0226</td>\n",
       "      <td>NaN</td>\n",
       "      <td>ol ol</td>\n",
       "    </tr>\n",
       "    <tr>\n",
       "      <th>3</th>\n",
       "      <td>ACI WT12-0419</td>\n",
       "      <td>ACI WT12-0419</td>\n",
       "      <td>NaN</td>\n",
       "      <td>Check</td>\n",
       "    </tr>\n",
       "    <tr>\n",
       "      <th>4</th>\n",
       "      <td>ACI WT12-0420</td>\n",
       "      <td>ACI WT12-0420</td>\n",
       "      <td>NaN</td>\n",
       "      <td>ol ol</td>\n",
       "    </tr>\n",
       "  </tbody>\n",
       "</table>\n",
       "</div>"
      ],
      "text/plain": [
       "    NC_Accession Identity or Parentage Pedigree    FAG\n",
       "0  ACI WT09-0761         ACI WT09-0761      NaN  Check\n",
       "1  ACI WT11-0351         ACI WT11-0351      NaN  ol ol\n",
       "2  ACI WT12-0226         ACI WT12-0226      NaN  ol ol\n",
       "3  ACI WT12-0419         ACI WT12-0419      NaN  Check\n",
       "4  ACI WT12-0420         ACI WT12-0420      NaN  ol ol"
      ]
     },
     "execution_count": 82,
     "metadata": {},
     "output_type": "execute_result"
    }
   ],
   "source": [
    "lines.head()"
   ]
  },
  {
   "cell_type": "markdown",
   "metadata": {},
   "source": [
    "Use the .info() method to find out how many peanut_lines are in the dataframe\n",
    "**Bonus: Print the total number of entries?"
   ]
  },
  {
   "cell_type": "code",
   "execution_count": 8,
   "metadata": {},
   "outputs": [
    {
     "data": {
      "text/plain": [
       "NC_Accession             466\n",
       "Identity or Parentage    466\n",
       "Pedigree                 409\n",
       "FAG                      466\n",
       "dtype: int64"
      ]
     },
     "execution_count": 8,
     "metadata": {},
     "output_type": "execute_result"
    }
   ],
   "source": [
    "lines.count()"
   ]
  },
  {
   "cell_type": "code",
   "execution_count": 9,
   "metadata": {},
   "outputs": [
    {
     "name": "stdout",
     "output_type": "stream",
     "text": [
      "<class 'pandas.core.frame.DataFrame'>\n",
      "RangeIndex: 859 entries, 0 to 858\n",
      "Data columns (total 4 columns):\n",
      "NC_Accession             466 non-null object\n",
      "Identity or Parentage    466 non-null object\n",
      "Pedigree                 409 non-null object\n",
      "FAG                      466 non-null object\n",
      "dtypes: object(4)\n",
      "memory usage: 26.9+ KB\n"
     ]
    }
   ],
   "source": [
    "lines.info()\n",
    "#bonus print(lines.shape[0])\n",
    "#shape is an attribute where it will print off the number of row [0], or columns[1]"
   ]
  },
  {
   "cell_type": "markdown",
   "metadata": {},
   "source": [
    "Read in the peanut_yield text file as peanut_yield (Use encoding='ISO-8859-1')"
   ]
  },
  {
   "cell_type": "code",
   "execution_count": 20,
   "metadata": {},
   "outputs": [],
   "source": [
    "y = pd.read_csv('peanut_yield.txt', sep = '\\t', encoding='ISO-8859-1')"
   ]
  },
  {
   "cell_type": "markdown",
   "metadata": {},
   "source": [
    "Check the column names of peanut_yield"
   ]
  },
  {
   "cell_type": "code",
   "execution_count": 21,
   "metadata": {},
   "outputs": [
    {
     "data": {
      "text/plain": [
       "Index(['Year', 'Location', 'Name', 'Label', 'NC_Accession', 'Plot_Yield',\n",
       "       'Yield'],\n",
       "      dtype='object')"
      ]
     },
     "execution_count": 21,
     "metadata": {},
     "output_type": "execute_result"
    }
   ],
   "source": [
    "y.columns"
   ]
  },
  {
   "cell_type": "code",
   "execution_count": 22,
   "metadata": {},
   "outputs": [
    {
     "data": {
      "text/html": [
       "<div>\n",
       "<style scoped>\n",
       "    .dataframe tbody tr th:only-of-type {\n",
       "        vertical-align: middle;\n",
       "    }\n",
       "\n",
       "    .dataframe tbody tr th {\n",
       "        vertical-align: top;\n",
       "    }\n",
       "\n",
       "    .dataframe thead th {\n",
       "        text-align: right;\n",
       "    }\n",
       "</style>\n",
       "<table border=\"1\" class=\"dataframe\">\n",
       "  <thead>\n",
       "    <tr style=\"text-align: right;\">\n",
       "      <th></th>\n",
       "      <th>Year</th>\n",
       "      <th>Location</th>\n",
       "      <th>Name</th>\n",
       "      <th>Label</th>\n",
       "      <th>NC_Accession</th>\n",
       "      <th>Plot_Yield</th>\n",
       "      <th>Yield</th>\n",
       "    </tr>\n",
       "  </thead>\n",
       "  <tbody>\n",
       "    <tr>\n",
       "      <th>0</th>\n",
       "      <td>2014</td>\n",
       "      <td>LEW</td>\n",
       "      <td>ATP</td>\n",
       "      <td>Advanced Testing Program - Yield</td>\n",
       "      <td>ACI WT09-0761</td>\n",
       "      <td>9.0</td>\n",
       "      <td>2733</td>\n",
       "    </tr>\n",
       "    <tr>\n",
       "      <th>1</th>\n",
       "      <td>2014</td>\n",
       "      <td>RMT</td>\n",
       "      <td>ATP</td>\n",
       "      <td>Advanced Testing Program - Yield</td>\n",
       "      <td>ACI WT09-0761</td>\n",
       "      <td>10.2</td>\n",
       "      <td>3085</td>\n",
       "    </tr>\n",
       "    <tr>\n",
       "      <th>2</th>\n",
       "      <td>2014</td>\n",
       "      <td>WHI</td>\n",
       "      <td>ATP</td>\n",
       "      <td>Advanced Testing Program - Yield</td>\n",
       "      <td>ACI WT09-0761</td>\n",
       "      <td>10.2</td>\n",
       "      <td>3085</td>\n",
       "    </tr>\n",
       "  </tbody>\n",
       "</table>\n",
       "</div>"
      ],
      "text/plain": [
       "   Year Location Name                             Label   NC_Accession  \\\n",
       "0  2014      LEW  ATP  Advanced Testing Program - Yield  ACI WT09-0761   \n",
       "1  2014      RMT  ATP  Advanced Testing Program - Yield  ACI WT09-0761   \n",
       "2  2014      WHI  ATP  Advanced Testing Program - Yield  ACI WT09-0761   \n",
       "\n",
       "   Plot_Yield  Yield  \n",
       "0         9.0   2733  \n",
       "1        10.2   3085  \n",
       "2        10.2   3085  "
      ]
     },
     "execution_count": 22,
     "metadata": {},
     "output_type": "execute_result"
    }
   ],
   "source": [
    "y.head(3)"
   ]
  },
  {
   "cell_type": "markdown",
   "metadata": {},
   "source": [
    "Using 'NC_Accession', merge (or join) the two dataframes together keeping the entirety of the peanut_yield data. Name the new dataframe peanut_data"
   ]
  },
  {
   "cell_type": "code",
   "execution_count": 24,
   "metadata": {},
   "outputs": [],
   "source": [
    "peanut_data = pd.merge(lines, y, how='inner', on='NC_Accession')\n",
    "#want to keep the 'entirity of the peanut_yield data' therefore should be how='right'\n",
    "#only reason it is 'right' is because yield is the second one, it is to the right of 'lines'"
   ]
  },
  {
   "cell_type": "code",
   "execution_count": 26,
   "metadata": {},
   "outputs": [
    {
     "data": {
      "text/html": [
       "<div>\n",
       "<style scoped>\n",
       "    .dataframe tbody tr th:only-of-type {\n",
       "        vertical-align: middle;\n",
       "    }\n",
       "\n",
       "    .dataframe tbody tr th {\n",
       "        vertical-align: top;\n",
       "    }\n",
       "\n",
       "    .dataframe thead th {\n",
       "        text-align: right;\n",
       "    }\n",
       "</style>\n",
       "<table border=\"1\" class=\"dataframe\">\n",
       "  <thead>\n",
       "    <tr style=\"text-align: right;\">\n",
       "      <th></th>\n",
       "      <th>NC_Accession</th>\n",
       "      <th>Identity or Parentage</th>\n",
       "      <th>Pedigree</th>\n",
       "      <th>FAG</th>\n",
       "      <th>Year</th>\n",
       "      <th>Location</th>\n",
       "      <th>Name</th>\n",
       "      <th>Label</th>\n",
       "      <th>Plot_Yield</th>\n",
       "      <th>Yield</th>\n",
       "    </tr>\n",
       "  </thead>\n",
       "  <tbody>\n",
       "    <tr>\n",
       "      <th>0</th>\n",
       "      <td>ACI WT09-0761</td>\n",
       "      <td>ACI WT09-0761</td>\n",
       "      <td>NaN</td>\n",
       "      <td>Check</td>\n",
       "      <td>2014</td>\n",
       "      <td>LEW</td>\n",
       "      <td>ATP</td>\n",
       "      <td>Advanced Testing Program - Yield</td>\n",
       "      <td>9.0</td>\n",
       "      <td>2733</td>\n",
       "    </tr>\n",
       "    <tr>\n",
       "      <th>1</th>\n",
       "      <td>ACI WT09-0761</td>\n",
       "      <td>ACI WT09-0761</td>\n",
       "      <td>NaN</td>\n",
       "      <td>Check</td>\n",
       "      <td>2014</td>\n",
       "      <td>RMT</td>\n",
       "      <td>ATP</td>\n",
       "      <td>Advanced Testing Program - Yield</td>\n",
       "      <td>10.2</td>\n",
       "      <td>3085</td>\n",
       "    </tr>\n",
       "    <tr>\n",
       "      <th>2</th>\n",
       "      <td>ACI WT09-0761</td>\n",
       "      <td>ACI WT09-0761</td>\n",
       "      <td>NaN</td>\n",
       "      <td>Check</td>\n",
       "      <td>2014</td>\n",
       "      <td>WHI</td>\n",
       "      <td>ATP</td>\n",
       "      <td>Advanced Testing Program - Yield</td>\n",
       "      <td>10.2</td>\n",
       "      <td>3085</td>\n",
       "    </tr>\n",
       "    <tr>\n",
       "      <th>3</th>\n",
       "      <td>ACI WT11-0351</td>\n",
       "      <td>ACI WT11-0351</td>\n",
       "      <td>NaN</td>\n",
       "      <td>ol ol</td>\n",
       "      <td>2015</td>\n",
       "      <td>LEW</td>\n",
       "      <td>ATP</td>\n",
       "      <td>Advanced Testing Program - Yield</td>\n",
       "      <td>15.3</td>\n",
       "      <td>4632</td>\n",
       "    </tr>\n",
       "    <tr>\n",
       "      <th>4</th>\n",
       "      <td>ACI WT11-0351</td>\n",
       "      <td>ACI WT11-0351</td>\n",
       "      <td>NaN</td>\n",
       "      <td>ol ol</td>\n",
       "      <td>2015</td>\n",
       "      <td>RMT</td>\n",
       "      <td>ATP</td>\n",
       "      <td>Advanced Testing Program - Yield</td>\n",
       "      <td>10.7</td>\n",
       "      <td>3226</td>\n",
       "    </tr>\n",
       "  </tbody>\n",
       "</table>\n",
       "</div>"
      ],
      "text/plain": [
       "    NC_Accession Identity or Parentage Pedigree    FAG  Year Location Name  \\\n",
       "0  ACI WT09-0761         ACI WT09-0761      NaN  Check  2014      LEW  ATP   \n",
       "1  ACI WT09-0761         ACI WT09-0761      NaN  Check  2014      RMT  ATP   \n",
       "2  ACI WT09-0761         ACI WT09-0761      NaN  Check  2014      WHI  ATP   \n",
       "3  ACI WT11-0351         ACI WT11-0351      NaN  ol ol  2015      LEW  ATP   \n",
       "4  ACI WT11-0351         ACI WT11-0351      NaN  ol ol  2015      RMT  ATP   \n",
       "\n",
       "                              Label  Plot_Yield  Yield  \n",
       "0  Advanced Testing Program - Yield         9.0   2733  \n",
       "1  Advanced Testing Program - Yield        10.2   3085  \n",
       "2  Advanced Testing Program - Yield        10.2   3085  \n",
       "3  Advanced Testing Program - Yield        15.3   4632  \n",
       "4  Advanced Testing Program - Yield        10.7   3226  "
      ]
     },
     "execution_count": 26,
     "metadata": {},
     "output_type": "execute_result"
    }
   ],
   "source": [
    "peanut_data.head()"
   ]
  },
  {
   "cell_type": "markdown",
   "metadata": {},
   "source": [
    "What is the average yield in 2017?"
   ]
  },
  {
   "cell_type": "code",
   "execution_count": 29,
   "metadata": {},
   "outputs": [
    {
     "data": {
      "text/html": [
       "<div>\n",
       "<style scoped>\n",
       "    .dataframe tbody tr th:only-of-type {\n",
       "        vertical-align: middle;\n",
       "    }\n",
       "\n",
       "    .dataframe tbody tr th {\n",
       "        vertical-align: top;\n",
       "    }\n",
       "\n",
       "    .dataframe thead th {\n",
       "        text-align: right;\n",
       "    }\n",
       "</style>\n",
       "<table border=\"1\" class=\"dataframe\">\n",
       "  <thead>\n",
       "    <tr style=\"text-align: right;\">\n",
       "      <th></th>\n",
       "      <th>Plot_Yield</th>\n",
       "      <th>Yield</th>\n",
       "    </tr>\n",
       "    <tr>\n",
       "      <th>Year</th>\n",
       "      <th></th>\n",
       "      <th></th>\n",
       "    </tr>\n",
       "  </thead>\n",
       "  <tbody>\n",
       "    <tr>\n",
       "      <th>2010</th>\n",
       "      <td>7.508470</td>\n",
       "      <td>2270.745902</td>\n",
       "    </tr>\n",
       "    <tr>\n",
       "      <th>2011</th>\n",
       "      <td>11.873512</td>\n",
       "      <td>3591.779762</td>\n",
       "    </tr>\n",
       "    <tr>\n",
       "      <th>2012</th>\n",
       "      <td>11.610753</td>\n",
       "      <td>3512.265233</td>\n",
       "    </tr>\n",
       "    <tr>\n",
       "      <th>2013</th>\n",
       "      <td>10.958824</td>\n",
       "      <td>3315.434641</td>\n",
       "    </tr>\n",
       "    <tr>\n",
       "      <th>2014</th>\n",
       "      <td>13.937624</td>\n",
       "      <td>4216.112211</td>\n",
       "    </tr>\n",
       "    <tr>\n",
       "      <th>2015</th>\n",
       "      <td>16.161500</td>\n",
       "      <td>4888.665000</td>\n",
       "    </tr>\n",
       "    <tr>\n",
       "      <th>2016</th>\n",
       "      <td>10.330000</td>\n",
       "      <td>3125.374074</td>\n",
       "    </tr>\n",
       "    <tr>\n",
       "      <th>2017</th>\n",
       "      <td>13.161333</td>\n",
       "      <td>3981.600000</td>\n",
       "    </tr>\n",
       "    <tr>\n",
       "      <th>2018</th>\n",
       "      <td>11.975667</td>\n",
       "      <td>3623.333333</td>\n",
       "    </tr>\n",
       "  </tbody>\n",
       "</table>\n",
       "</div>"
      ],
      "text/plain": [
       "      Plot_Yield        Yield\n",
       "Year                         \n",
       "2010    7.508470  2270.745902\n",
       "2011   11.873512  3591.779762\n",
       "2012   11.610753  3512.265233\n",
       "2013   10.958824  3315.434641\n",
       "2014   13.937624  4216.112211\n",
       "2015   16.161500  4888.665000\n",
       "2016   10.330000  3125.374074\n",
       "2017   13.161333  3981.600000\n",
       "2018   11.975667  3623.333333"
      ]
     },
     "execution_count": 29,
     "metadata": {},
     "output_type": "execute_result"
    }
   ],
   "source": [
    "peanut_data.groupby('Year').mean()\n",
    "#peanut_data['Yield'][peanut_data['Year']==2017].mean()"
   ]
  },
  {
   "cell_type": "markdown",
   "metadata": {},
   "source": [
    "What was the aveerage yield of the top 10 lines tested in the peanut program?"
   ]
  },
  {
   "cell_type": "code",
   "execution_count": 44,
   "metadata": {},
   "outputs": [
    {
     "data": {
      "text/html": [
       "<div>\n",
       "<style scoped>\n",
       "    .dataframe tbody tr th:only-of-type {\n",
       "        vertical-align: middle;\n",
       "    }\n",
       "\n",
       "    .dataframe tbody tr th {\n",
       "        vertical-align: top;\n",
       "    }\n",
       "\n",
       "    .dataframe thead th {\n",
       "        text-align: right;\n",
       "    }\n",
       "</style>\n",
       "<table border=\"1\" class=\"dataframe\">\n",
       "  <thead>\n",
       "    <tr style=\"text-align: right;\">\n",
       "      <th></th>\n",
       "      <th>Year</th>\n",
       "      <th>Plot_Yield</th>\n",
       "      <th>Yield</th>\n",
       "    </tr>\n",
       "    <tr>\n",
       "      <th>NC_Accession</th>\n",
       "      <th></th>\n",
       "      <th></th>\n",
       "      <th></th>\n",
       "    </tr>\n",
       "  </thead>\n",
       "  <tbody>\n",
       "    <tr>\n",
       "      <th>ACI WT09-0761</th>\n",
       "      <td>2014.0</td>\n",
       "      <td>9.80</td>\n",
       "      <td>2967.666667</td>\n",
       "    </tr>\n",
       "    <tr>\n",
       "      <th>ACI WT11-0351</th>\n",
       "      <td>2015.0</td>\n",
       "      <td>13.00</td>\n",
       "      <td>3929.000000</td>\n",
       "    </tr>\n",
       "    <tr>\n",
       "      <th>ACI WT12-0226</th>\n",
       "      <td>2015.0</td>\n",
       "      <td>14.35</td>\n",
       "      <td>4338.000000</td>\n",
       "    </tr>\n",
       "    <tr>\n",
       "      <th>ACI WT12-0419</th>\n",
       "      <td>2014.0</td>\n",
       "      <td>7.60</td>\n",
       "      <td>2302.333333</td>\n",
       "    </tr>\n",
       "    <tr>\n",
       "      <th>ACI WT12-0420</th>\n",
       "      <td>2015.0</td>\n",
       "      <td>13.80</td>\n",
       "      <td>4173.000000</td>\n",
       "    </tr>\n",
       "  </tbody>\n",
       "</table>\n",
       "</div>"
      ],
      "text/plain": [
       "                 Year  Plot_Yield        Yield\n",
       "NC_Accession                                  \n",
       "ACI WT09-0761  2014.0        9.80  2967.666667\n",
       "ACI WT11-0351  2015.0       13.00  3929.000000\n",
       "ACI WT12-0226  2015.0       14.35  4338.000000\n",
       "ACI WT12-0419  2014.0        7.60  2302.333333\n",
       "ACI WT12-0420  2015.0       13.80  4173.000000"
      ]
     },
     "execution_count": 44,
     "metadata": {},
     "output_type": "execute_result"
    }
   ],
   "source": [
    "data_mean=peanut_data.groupby('NC_Accession').mean()\n",
    "#better/easier = data_mean=peanut_data.groupby('NC_Accession').mean()['Yield'].sort_values(ascending=False).head(10)]\n",
    "data_mean.head()"
   ]
  },
  {
   "cell_type": "code",
   "execution_count": 59,
   "metadata": {},
   "outputs": [
    {
     "data": {
      "text/html": [
       "<div>\n",
       "<style scoped>\n",
       "    .dataframe tbody tr th:only-of-type {\n",
       "        vertical-align: middle;\n",
       "    }\n",
       "\n",
       "    .dataframe tbody tr th {\n",
       "        vertical-align: top;\n",
       "    }\n",
       "\n",
       "    .dataframe thead th {\n",
       "        text-align: right;\n",
       "    }\n",
       "</style>\n",
       "<table border=\"1\" class=\"dataframe\">\n",
       "  <thead>\n",
       "    <tr style=\"text-align: right;\">\n",
       "      <th></th>\n",
       "      <th>Year</th>\n",
       "      <th>Plot_Yield</th>\n",
       "      <th>Yield</th>\n",
       "    </tr>\n",
       "    <tr>\n",
       "      <th>NC_Accession</th>\n",
       "      <th></th>\n",
       "      <th></th>\n",
       "      <th></th>\n",
       "    </tr>\n",
       "  </thead>\n",
       "  <tbody>\n",
       "    <tr>\n",
       "      <th>N15001</th>\n",
       "      <td>2015.0</td>\n",
       "      <td>16.400000</td>\n",
       "      <td>4954.000000</td>\n",
       "    </tr>\n",
       "    <tr>\n",
       "      <th>PD 14003</th>\n",
       "      <td>2015.0</td>\n",
       "      <td>16.350000</td>\n",
       "      <td>4959.000000</td>\n",
       "    </tr>\n",
       "    <tr>\n",
       "      <th>PD 14002</th>\n",
       "      <td>2015.0</td>\n",
       "      <td>16.800000</td>\n",
       "      <td>5082.500000</td>\n",
       "    </tr>\n",
       "    <tr>\n",
       "      <th>N14025</th>\n",
       "      <td>2014.0</td>\n",
       "      <td>16.866667</td>\n",
       "      <td>5095.000000</td>\n",
       "    </tr>\n",
       "    <tr>\n",
       "      <th>N15055</th>\n",
       "      <td>2015.0</td>\n",
       "      <td>16.950000</td>\n",
       "      <td>5129.500000</td>\n",
       "    </tr>\n",
       "    <tr>\n",
       "      <th>N15066</th>\n",
       "      <td>2015.0</td>\n",
       "      <td>17.150000</td>\n",
       "      <td>5190.500000</td>\n",
       "    </tr>\n",
       "    <tr>\n",
       "      <th>N15004</th>\n",
       "      <td>2015.0</td>\n",
       "      <td>17.150000</td>\n",
       "      <td>5197.000000</td>\n",
       "    </tr>\n",
       "    <tr>\n",
       "      <th>N15060</th>\n",
       "      <td>2015.0</td>\n",
       "      <td>17.250000</td>\n",
       "      <td>5209.500000</td>\n",
       "    </tr>\n",
       "    <tr>\n",
       "      <th>N15006</th>\n",
       "      <td>2015.0</td>\n",
       "      <td>17.350000</td>\n",
       "      <td>5250.000000</td>\n",
       "    </tr>\n",
       "    <tr>\n",
       "      <th>N17045</th>\n",
       "      <td>2018.0</td>\n",
       "      <td>18.100000</td>\n",
       "      <td>5483.666667</td>\n",
       "    </tr>\n",
       "  </tbody>\n",
       "</table>\n",
       "</div>"
      ],
      "text/plain": [
       "                Year  Plot_Yield        Yield\n",
       "NC_Accession                                 \n",
       "N15001        2015.0   16.400000  4954.000000\n",
       "PD 14003      2015.0   16.350000  4959.000000\n",
       "PD 14002      2015.0   16.800000  5082.500000\n",
       "N14025        2014.0   16.866667  5095.000000\n",
       "N15055        2015.0   16.950000  5129.500000\n",
       "N15066        2015.0   17.150000  5190.500000\n",
       "N15004        2015.0   17.150000  5197.000000\n",
       "N15060        2015.0   17.250000  5209.500000\n",
       "N15006        2015.0   17.350000  5250.000000\n",
       "N17045        2018.0   18.100000  5483.666667"
      ]
     },
     "execution_count": 59,
     "metadata": {},
     "output_type": "execute_result"
    }
   ],
   "source": [
    "dfsorted=data_mean.sort_values(by=['Yield'])\n",
    "dfsorted.tail(10)"
   ]
  },
  {
   "cell_type": "markdown",
   "metadata": {},
   "source": [
    "What are the top 10 most commonly tested lines? Hint: value_counts()"
   ]
  },
  {
   "cell_type": "code",
   "execution_count": 83,
   "metadata": {},
   "outputs": [
    {
     "data": {
      "text/plain": [
       "N11028        34\n",
       "Bailey        26\n",
       "Sullivan      26\n",
       "Sugg          26\n",
       "Wynne         26\n",
       "Emery         26\n",
       "N11020        20\n",
       "Bailey II     20\n",
       "Florida-07    20\n",
       "N08085        18\n",
       "Name: NC_Accession, dtype: int64"
      ]
     },
     "execution_count": 83,
     "metadata": {},
     "output_type": "execute_result"
    }
   ],
   "source": [
    "peanut_data.NC_Accession.value_counts().head(10)"
   ]
  },
  {
   "cell_type": "markdown",
   "metadata": {},
   "source": [
    "Create a dataframe that satisfy the following requirements \n",
    "peanut lines = 'Bailey', 'Sullivan', 'Wynne', 'Emery', 'Bailey II', 'N14023' \n",
    "location = 'LEW', 'RMT' #Lewiston and Rocky Mount \n",
    "Dataframe = line_data"
   ]
  },
  {
   "cell_type": "code",
   "execution_count": 86,
   "metadata": {},
   "outputs": [],
   "source": [
    "peanut_lines = 'Bailey', 'Sullivan', 'Wynne', 'Emery', 'Bailey II', 'N14023' \n",
    "location = 'LEW', 'RMT' #Lewiston and Rocky Mount \n",
    "line_data= peanut_data[(peanut_data['NC_Accession'].isin(peanut_lines))&(peanut_data['Location'].isin(location))]"
   ]
  },
  {
   "cell_type": "code",
   "execution_count": 88,
   "metadata": {},
   "outputs": [
    {
     "data": {
      "text/html": [
       "<div>\n",
       "<style scoped>\n",
       "    .dataframe tbody tr th:only-of-type {\n",
       "        vertical-align: middle;\n",
       "    }\n",
       "\n",
       "    .dataframe tbody tr th {\n",
       "        vertical-align: top;\n",
       "    }\n",
       "\n",
       "    .dataframe thead th {\n",
       "        text-align: right;\n",
       "    }\n",
       "</style>\n",
       "<table border=\"1\" class=\"dataframe\">\n",
       "  <thead>\n",
       "    <tr style=\"text-align: right;\">\n",
       "      <th></th>\n",
       "      <th>NC_Accession</th>\n",
       "      <th>Identity or Parentage</th>\n",
       "      <th>Pedigree</th>\n",
       "      <th>FAG</th>\n",
       "      <th>Year</th>\n",
       "      <th>Location</th>\n",
       "      <th>Name</th>\n",
       "      <th>Label</th>\n",
       "      <th>Plot_Yield</th>\n",
       "      <th>Yield</th>\n",
       "    </tr>\n",
       "  </thead>\n",
       "  <tbody>\n",
       "    <tr>\n",
       "      <th>15</th>\n",
       "      <td>Bailey</td>\n",
       "      <td>NC 12C*2 / N96076L</td>\n",
       "      <td>BC1F1-06-01-S-03-S-05: F09</td>\n",
       "      <td>+ +</td>\n",
       "      <td>2010</td>\n",
       "      <td>LEW</td>\n",
       "      <td>ATP</td>\n",
       "      <td>Advanced Testing Program - Yield</td>\n",
       "      <td>11.7</td>\n",
       "      <td>3529</td>\n",
       "    </tr>\n",
       "    <tr>\n",
       "      <th>16</th>\n",
       "      <td>Bailey</td>\n",
       "      <td>NC 12C*2 / N96076L</td>\n",
       "      <td>BC1F1-06-01-S-03-S-05: F09</td>\n",
       "      <td>+ +</td>\n",
       "      <td>2010</td>\n",
       "      <td>RMT</td>\n",
       "      <td>ATP</td>\n",
       "      <td>Advanced Testing Program - Yield</td>\n",
       "      <td>6.6</td>\n",
       "      <td>2004</td>\n",
       "    </tr>\n",
       "    <tr>\n",
       "      <th>18</th>\n",
       "      <td>Bailey</td>\n",
       "      <td>NC 12C*2 / N96076L</td>\n",
       "      <td>BC1F1-06-01-S-03-S-05: F09</td>\n",
       "      <td>+ +</td>\n",
       "      <td>2011</td>\n",
       "      <td>LEW</td>\n",
       "      <td>ATP</td>\n",
       "      <td>Advanced Testing Program - Yield</td>\n",
       "      <td>13.6</td>\n",
       "      <td>4114</td>\n",
       "    </tr>\n",
       "    <tr>\n",
       "      <th>19</th>\n",
       "      <td>Bailey</td>\n",
       "      <td>NC 12C*2 / N96076L</td>\n",
       "      <td>BC1F1-06-01-S-03-S-05: F09</td>\n",
       "      <td>+ +</td>\n",
       "      <td>2011</td>\n",
       "      <td>RMT</td>\n",
       "      <td>ATP</td>\n",
       "      <td>Advanced Testing Program - Yield</td>\n",
       "      <td>17.1</td>\n",
       "      <td>5159</td>\n",
       "    </tr>\n",
       "    <tr>\n",
       "      <th>21</th>\n",
       "      <td>Bailey</td>\n",
       "      <td>NC 12C*2 / N96076L</td>\n",
       "      <td>BC1F1-06-01-S-03-S-05: F09</td>\n",
       "      <td>+ +</td>\n",
       "      <td>2012</td>\n",
       "      <td>LEW</td>\n",
       "      <td>ATP</td>\n",
       "      <td>Advanced Testing Program - Yield</td>\n",
       "      <td>12.8</td>\n",
       "      <td>3873</td>\n",
       "    </tr>\n",
       "    <tr>\n",
       "      <th>22</th>\n",
       "      <td>Bailey</td>\n",
       "      <td>NC 12C*2 / N96076L</td>\n",
       "      <td>BC1F1-06-01-S-03-S-05: F09</td>\n",
       "      <td>+ +</td>\n",
       "      <td>2012</td>\n",
       "      <td>RMT</td>\n",
       "      <td>ATP</td>\n",
       "      <td>Advanced Testing Program - Yield</td>\n",
       "      <td>10.9</td>\n",
       "      <td>3306</td>\n",
       "    </tr>\n",
       "    <tr>\n",
       "      <th>24</th>\n",
       "      <td>Bailey</td>\n",
       "      <td>NC 12C*2 / N96076L</td>\n",
       "      <td>BC1F1-06-01-S-03-S-05: F09</td>\n",
       "      <td>+ +</td>\n",
       "      <td>2013</td>\n",
       "      <td>LEW</td>\n",
       "      <td>ATP</td>\n",
       "      <td>Advanced Testing Program - Yield</td>\n",
       "      <td>12.5</td>\n",
       "      <td>3774</td>\n",
       "    </tr>\n",
       "    <tr>\n",
       "      <th>25</th>\n",
       "      <td>Bailey</td>\n",
       "      <td>NC 12C*2 / N96076L</td>\n",
       "      <td>BC1F1-06-01-S-03-S-05: F09</td>\n",
       "      <td>+ +</td>\n",
       "      <td>2013</td>\n",
       "      <td>RMT</td>\n",
       "      <td>ATP</td>\n",
       "      <td>Advanced Testing Program - Yield</td>\n",
       "      <td>12.5</td>\n",
       "      <td>3781</td>\n",
       "    </tr>\n",
       "    <tr>\n",
       "      <th>27</th>\n",
       "      <td>Bailey</td>\n",
       "      <td>NC 12C*2 / N96076L</td>\n",
       "      <td>BC1F1-06-01-S-03-S-05: F09</td>\n",
       "      <td>+ +</td>\n",
       "      <td>2014</td>\n",
       "      <td>LEW</td>\n",
       "      <td>ATP</td>\n",
       "      <td>Advanced Testing Program - Yield</td>\n",
       "      <td>16.3</td>\n",
       "      <td>4926</td>\n",
       "    </tr>\n",
       "    <tr>\n",
       "      <th>28</th>\n",
       "      <td>Bailey</td>\n",
       "      <td>NC 12C*2 / N96076L</td>\n",
       "      <td>BC1F1-06-01-S-03-S-05: F09</td>\n",
       "      <td>+ +</td>\n",
       "      <td>2014</td>\n",
       "      <td>RMT</td>\n",
       "      <td>ATP</td>\n",
       "      <td>Advanced Testing Program - Yield</td>\n",
       "      <td>12.1</td>\n",
       "      <td>3660</td>\n",
       "    </tr>\n",
       "  </tbody>\n",
       "</table>\n",
       "</div>"
      ],
      "text/plain": [
       "   NC_Accession Identity or Parentage                    Pedigree  FAG  Year  \\\n",
       "15       Bailey    NC 12C*2 / N96076L  BC1F1-06-01-S-03-S-05: F09  + +  2010   \n",
       "16       Bailey    NC 12C*2 / N96076L  BC1F1-06-01-S-03-S-05: F09  + +  2010   \n",
       "18       Bailey    NC 12C*2 / N96076L  BC1F1-06-01-S-03-S-05: F09  + +  2011   \n",
       "19       Bailey    NC 12C*2 / N96076L  BC1F1-06-01-S-03-S-05: F09  + +  2011   \n",
       "21       Bailey    NC 12C*2 / N96076L  BC1F1-06-01-S-03-S-05: F09  + +  2012   \n",
       "22       Bailey    NC 12C*2 / N96076L  BC1F1-06-01-S-03-S-05: F09  + +  2012   \n",
       "24       Bailey    NC 12C*2 / N96076L  BC1F1-06-01-S-03-S-05: F09  + +  2013   \n",
       "25       Bailey    NC 12C*2 / N96076L  BC1F1-06-01-S-03-S-05: F09  + +  2013   \n",
       "27       Bailey    NC 12C*2 / N96076L  BC1F1-06-01-S-03-S-05: F09  + +  2014   \n",
       "28       Bailey    NC 12C*2 / N96076L  BC1F1-06-01-S-03-S-05: F09  + +  2014   \n",
       "\n",
       "   Location Name                             Label  Plot_Yield  Yield  \n",
       "15      LEW  ATP  Advanced Testing Program - Yield        11.7   3529  \n",
       "16      RMT  ATP  Advanced Testing Program - Yield         6.6   2004  \n",
       "18      LEW  ATP  Advanced Testing Program - Yield        13.6   4114  \n",
       "19      RMT  ATP  Advanced Testing Program - Yield        17.1   5159  \n",
       "21      LEW  ATP  Advanced Testing Program - Yield        12.8   3873  \n",
       "22      RMT  ATP  Advanced Testing Program - Yield        10.9   3306  \n",
       "24      LEW  ATP  Advanced Testing Program - Yield        12.5   3774  \n",
       "25      RMT  ATP  Advanced Testing Program - Yield        12.5   3781  \n",
       "27      LEW  ATP  Advanced Testing Program - Yield        16.3   4926  \n",
       "28      RMT  ATP  Advanced Testing Program - Yield        12.1   3660  "
      ]
     },
     "execution_count": 88,
     "metadata": {},
     "output_type": "execute_result"
    }
   ],
   "source": [
    "line_data.head(10)"
   ]
  },
  {
   "cell_type": "markdown",
   "metadata": {},
   "source": [
    "Export the means of each line by location to an excel file called 'NCSU_release.xlsx'"
   ]
  },
  {
   "cell_type": "code",
   "execution_count": 89,
   "metadata": {},
   "outputs": [],
   "source": [
    "line_data.groupby(['Location','NC_Accession']).mean()['Yield'].to_excel('NCSU_Release.xlsx')"
   ]
  },
  {
   "cell_type": "code",
   "execution_count": null,
   "metadata": {},
   "outputs": [],
   "source": []
  }
 ],
 "metadata": {
  "kernelspec": {
   "display_name": "Python 3",
   "language": "python",
   "name": "python3"
  },
  "language_info": {
   "codemirror_mode": {
    "name": "ipython",
    "version": 3
   },
   "file_extension": ".py",
   "mimetype": "text/x-python",
   "name": "python",
   "nbconvert_exporter": "python",
   "pygments_lexer": "ipython3",
   "version": "3.7.3"
  }
 },
 "nbformat": 4,
 "nbformat_minor": 2
}
