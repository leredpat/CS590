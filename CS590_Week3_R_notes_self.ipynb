{
 "cells": [
  {
   "cell_type": "code",
   "execution_count": 1,
   "metadata": {},
   "outputs": [
    {
     "data": {
      "text/html": [
       "<ol class=list-inline>\n",
       "\t<li>1</li>\n",
       "\t<li>2</li>\n",
       "\t<li>3</li>\n",
       "\t<li>4</li>\n",
       "\t<li>5</li>\n",
       "\t<li>6</li>\n",
       "\t<li>7</li>\n",
       "\t<li>8</li>\n",
       "\t<li>9</li>\n",
       "\t<li>10</li>\n",
       "</ol>\n"
      ],
      "text/latex": [
       "\\begin{enumerate*}\n",
       "\\item 1\n",
       "\\item 2\n",
       "\\item 3\n",
       "\\item 4\n",
       "\\item 5\n",
       "\\item 6\n",
       "\\item 7\n",
       "\\item 8\n",
       "\\item 9\n",
       "\\item 10\n",
       "\\end{enumerate*}\n"
      ],
      "text/markdown": [
       "1. 1\n",
       "2. 2\n",
       "3. 3\n",
       "4. 4\n",
       "5. 5\n",
       "6. 6\n",
       "7. 7\n",
       "8. 8\n",
       "9. 9\n",
       "10. 10\n",
       "\n",
       "\n"
      ],
      "text/plain": [
       " [1]  1  2  3  4  5  6  7  8  9 10"
      ]
     },
     "metadata": {},
     "output_type": "display_data"
    }
   ],
   "source": [
    "#R matrices\n",
    "#pulling our sequential numeric values\n",
    "1:10\n"
   ]
  },
  {
   "cell_type": "code",
   "execution_count": 2,
   "metadata": {},
   "outputs": [
    {
     "data": {
      "text/html": [
       "<ol class=list-inline>\n",
       "\t<li>3</li>\n",
       "\t<li>4</li>\n",
       "\t<li>5</li>\n",
       "\t<li>6</li>\n",
       "\t<li>7</li>\n",
       "</ol>\n"
      ],
      "text/latex": [
       "\\begin{enumerate*}\n",
       "\\item 3\n",
       "\\item 4\n",
       "\\item 5\n",
       "\\item 6\n",
       "\\item 7\n",
       "\\end{enumerate*}\n"
      ],
      "text/markdown": [
       "1. 3\n",
       "2. 4\n",
       "3. 5\n",
       "4. 6\n",
       "5. 7\n",
       "\n",
       "\n"
      ],
      "text/plain": [
       "[1] 3 4 5 6 7"
      ]
     },
     "metadata": {},
     "output_type": "display_data"
    }
   ],
   "source": [
    "3:7"
   ]
  },
  {
   "cell_type": "code",
   "execution_count": 3,
   "metadata": {},
   "outputs": [],
   "source": [
    "#assign sequential numeric range to a vector\n",
    "v<- 1:10"
   ]
  },
  {
   "cell_type": "code",
   "execution_count": 4,
   "metadata": {},
   "outputs": [
    {
     "data": {
      "text/html": [
       "<ol class=list-inline>\n",
       "\t<li>1</li>\n",
       "\t<li>2</li>\n",
       "\t<li>3</li>\n",
       "\t<li>4</li>\n",
       "\t<li>5</li>\n",
       "\t<li>6</li>\n",
       "\t<li>7</li>\n",
       "\t<li>8</li>\n",
       "\t<li>9</li>\n",
       "\t<li>10</li>\n",
       "</ol>\n"
      ],
      "text/latex": [
       "\\begin{enumerate*}\n",
       "\\item 1\n",
       "\\item 2\n",
       "\\item 3\n",
       "\\item 4\n",
       "\\item 5\n",
       "\\item 6\n",
       "\\item 7\n",
       "\\item 8\n",
       "\\item 9\n",
       "\\item 10\n",
       "\\end{enumerate*}\n"
      ],
      "text/markdown": [
       "1. 1\n",
       "2. 2\n",
       "3. 3\n",
       "4. 4\n",
       "5. 5\n",
       "6. 6\n",
       "7. 7\n",
       "8. 8\n",
       "9. 9\n",
       "10. 10\n",
       "\n",
       "\n"
      ],
      "text/plain": [
       " [1]  1  2  3  4  5  6  7  8  9 10"
      ]
     },
     "metadata": {},
     "output_type": "display_data"
    }
   ],
   "source": [
    "v"
   ]
  },
  {
   "cell_type": "code",
   "execution_count": 5,
   "metadata": {},
   "outputs": [
    {
     "data": {
      "text/html": [
       "<table>\n",
       "<tbody>\n",
       "\t<tr><td> 1</td></tr>\n",
       "\t<tr><td> 2</td></tr>\n",
       "\t<tr><td> 3</td></tr>\n",
       "\t<tr><td> 4</td></tr>\n",
       "\t<tr><td> 5</td></tr>\n",
       "\t<tr><td> 6</td></tr>\n",
       "\t<tr><td> 7</td></tr>\n",
       "\t<tr><td> 8</td></tr>\n",
       "\t<tr><td> 9</td></tr>\n",
       "\t<tr><td>10</td></tr>\n",
       "</tbody>\n",
       "</table>\n"
      ],
      "text/latex": [
       "\\begin{tabular}{l}\n",
       "\t  1\\\\\n",
       "\t  2\\\\\n",
       "\t  3\\\\\n",
       "\t  4\\\\\n",
       "\t  5\\\\\n",
       "\t  6\\\\\n",
       "\t  7\\\\\n",
       "\t  8\\\\\n",
       "\t  9\\\\\n",
       "\t 10\\\\\n",
       "\\end{tabular}\n"
      ],
      "text/markdown": [
       "\n",
       "|  1 |\n",
       "|  2 |\n",
       "|  3 |\n",
       "|  4 |\n",
       "|  5 |\n",
       "|  6 |\n",
       "|  7 |\n",
       "|  8 |\n",
       "|  9 |\n",
       "| 10 |\n",
       "\n"
      ],
      "text/plain": [
       "      [,1]\n",
       " [1,]  1  \n",
       " [2,]  2  \n",
       " [3,]  3  \n",
       " [4,]  4  \n",
       " [5,]  5  \n",
       " [6,]  6  \n",
       " [7,]  7  \n",
       " [8,]  8  \n",
       " [9,]  9  \n",
       "[10,] 10  "
      ]
     },
     "metadata": {},
     "output_type": "display_data"
    }
   ],
   "source": [
    "#matrix() function\n",
    "#note always does rows by columns!!\n",
    "matrix(v)"
   ]
  },
  {
   "cell_type": "code",
   "execution_count": 6,
   "metadata": {},
   "outputs": [
    {
     "data": {
      "text/html": [
       "<table>\n",
       "<tbody>\n",
       "\t<tr><td>1 </td><td>3 </td><td>5 </td><td>7 </td><td> 9</td></tr>\n",
       "\t<tr><td>2 </td><td>4 </td><td>6 </td><td>8 </td><td>10</td></tr>\n",
       "</tbody>\n",
       "</table>\n"
      ],
      "text/latex": [
       "\\begin{tabular}{lllll}\n",
       "\t 1  & 3  & 5  & 7  &  9\\\\\n",
       "\t 2  & 4  & 6  & 8  & 10\\\\\n",
       "\\end{tabular}\n"
      ],
      "text/markdown": [
       "\n",
       "| 1  | 3  | 5  | 7  |  9 |\n",
       "| 2  | 4  | 6  | 8  | 10 |\n",
       "\n"
      ],
      "text/plain": [
       "     [,1] [,2] [,3] [,4] [,5]\n",
       "[1,] 1    3    5    7     9  \n",
       "[2,] 2    4    6    8    10  "
      ]
     },
     "metadata": {},
     "output_type": "display_data"
    }
   ],
   "source": [
    "#argument nrow will reshape the matrix\n",
    "matrix(v,nrow=2)"
   ]
  },
  {
   "cell_type": "code",
   "execution_count": 9,
   "metadata": {},
   "outputs": [
    {
     "data": {
      "text/html": [
       "<table>\n",
       "<tbody>\n",
       "\t<tr><td>1 </td><td>2 </td><td>3 </td><td>4 </td><td> 5</td></tr>\n",
       "\t<tr><td>6 </td><td>7 </td><td>8 </td><td>9 </td><td>10</td></tr>\n",
       "</tbody>\n",
       "</table>\n"
      ],
      "text/latex": [
       "\\begin{tabular}{lllll}\n",
       "\t 1  & 2  & 3  & 4  &  5\\\\\n",
       "\t 6  & 7  & 8  & 9  & 10\\\\\n",
       "\\end{tabular}\n"
      ],
      "text/markdown": [
       "\n",
       "| 1  | 2  | 3  | 4  |  5 |\n",
       "| 6  | 7  | 8  | 9  | 10 |\n",
       "\n"
      ],
      "text/plain": [
       "     [,1] [,2] [,3] [,4] [,5]\n",
       "[1,] 1    2    3    4     5  \n",
       "[2,] 6    7    8    9    10  "
      ]
     },
     "metadata": {},
     "output_type": "display_data"
    }
   ],
   "source": [
    "#byrow= changes the output number order to count sequential numbers in a row, lowest first\n",
    "matrix(v,byrow=TRUE, nrow=2)"
   ]
  },
  {
   "cell_type": "code",
   "execution_count": 10,
   "metadata": {},
   "outputs": [
    {
     "data": {
      "text/html": [
       "<table>\n",
       "<tbody>\n",
       "\t<tr><td> 1</td><td> 2</td><td> 3</td></tr>\n",
       "\t<tr><td> 4</td><td> 5</td><td> 6</td></tr>\n",
       "\t<tr><td> 7</td><td> 8</td><td> 9</td></tr>\n",
       "\t<tr><td>10</td><td>11</td><td>12</td></tr>\n",
       "</tbody>\n",
       "</table>\n"
      ],
      "text/latex": [
       "\\begin{tabular}{lll}\n",
       "\t  1 &  2 &  3\\\\\n",
       "\t  4 &  5 &  6\\\\\n",
       "\t  7 &  8 &  9\\\\\n",
       "\t 10 & 11 & 12\\\\\n",
       "\\end{tabular}\n"
      ],
      "text/markdown": [
       "\n",
       "|  1 |  2 |  3 |\n",
       "|  4 |  5 |  6 |\n",
       "|  7 |  8 |  9 |\n",
       "| 10 | 11 | 12 |\n",
       "\n"
      ],
      "text/plain": [
       "     [,1] [,2] [,3]\n",
       "[1,]  1    2    3  \n",
       "[2,]  4    5    6  \n",
       "[3,]  7    8    9  \n",
       "[4,] 10   11   12  "
      ]
     },
     "metadata": {},
     "output_type": "display_data"
    }
   ],
   "source": [
    "matrix(1:12,byrow=TRUE, nrow=4)"
   ]
  },
  {
   "cell_type": "code",
   "execution_count": 11,
   "metadata": {},
   "outputs": [],
   "source": [
    "lewiston<-c(12,14,18,13,17)\n",
    "rockymount <-c(11,19,21,15,18)\n",
    "whiteville<-c(14,17,23,11,9)"
   ]
  },
  {
   "cell_type": "code",
   "execution_count": 12,
   "metadata": {},
   "outputs": [],
   "source": [
    "weights<-c(lewiston,rockymount,whiteville)"
   ]
  },
  {
   "cell_type": "code",
   "execution_count": 13,
   "metadata": {},
   "outputs": [
    {
     "data": {
      "text/html": [
       "<ol class=list-inline>\n",
       "\t<li>12</li>\n",
       "\t<li>14</li>\n",
       "\t<li>18</li>\n",
       "\t<li>13</li>\n",
       "\t<li>17</li>\n",
       "\t<li>11</li>\n",
       "\t<li>19</li>\n",
       "\t<li>21</li>\n",
       "\t<li>15</li>\n",
       "\t<li>18</li>\n",
       "\t<li>14</li>\n",
       "\t<li>17</li>\n",
       "\t<li>23</li>\n",
       "\t<li>11</li>\n",
       "\t<li>9</li>\n",
       "</ol>\n"
      ],
      "text/latex": [
       "\\begin{enumerate*}\n",
       "\\item 12\n",
       "\\item 14\n",
       "\\item 18\n",
       "\\item 13\n",
       "\\item 17\n",
       "\\item 11\n",
       "\\item 19\n",
       "\\item 21\n",
       "\\item 15\n",
       "\\item 18\n",
       "\\item 14\n",
       "\\item 17\n",
       "\\item 23\n",
       "\\item 11\n",
       "\\item 9\n",
       "\\end{enumerate*}\n"
      ],
      "text/markdown": [
       "1. 12\n",
       "2. 14\n",
       "3. 18\n",
       "4. 13\n",
       "5. 17\n",
       "6. 11\n",
       "7. 19\n",
       "8. 21\n",
       "9. 15\n",
       "10. 18\n",
       "11. 14\n",
       "12. 17\n",
       "13. 23\n",
       "14. 11\n",
       "15. 9\n",
       "\n",
       "\n"
      ],
      "text/plain": [
       " [1] 12 14 18 13 17 11 19 21 15 18 14 17 23 11  9"
      ]
     },
     "metadata": {},
     "output_type": "display_data"
    }
   ],
   "source": [
    "weights"
   ]
  },
  {
   "cell_type": "code",
   "execution_count": 14,
   "metadata": {},
   "outputs": [
    {
     "data": {
      "text/html": [
       "<table>\n",
       "<tbody>\n",
       "\t<tr><td>12</td><td>14</td><td>18</td><td>13</td><td>17</td></tr>\n",
       "\t<tr><td>11</td><td>19</td><td>21</td><td>15</td><td>18</td></tr>\n",
       "\t<tr><td>14</td><td>17</td><td>23</td><td>11</td><td> 9</td></tr>\n",
       "</tbody>\n",
       "</table>\n"
      ],
      "text/latex": [
       "\\begin{tabular}{lllll}\n",
       "\t 12 & 14 & 18 & 13 & 17\\\\\n",
       "\t 11 & 19 & 21 & 15 & 18\\\\\n",
       "\t 14 & 17 & 23 & 11 &  9\\\\\n",
       "\\end{tabular}\n"
      ],
      "text/markdown": [
       "\n",
       "| 12 | 14 | 18 | 13 | 17 |\n",
       "| 11 | 19 | 21 | 15 | 18 |\n",
       "| 14 | 17 | 23 | 11 |  9 |\n",
       "\n"
      ],
      "text/plain": [
       "     [,1] [,2] [,3] [,4] [,5]\n",
       "[1,] 12   14   18   13   17  \n",
       "[2,] 11   19   21   15   18  \n",
       "[3,] 14   17   23   11    9  "
      ]
     },
     "metadata": {},
     "output_type": "display_data"
    }
   ],
   "source": [
    "weights.matrix<-matrix(weights,byrow=TRUE,nrow=3)\n",
    "weights.matrix"
   ]
  },
  {
   "cell_type": "code",
   "execution_count": 15,
   "metadata": {},
   "outputs": [],
   "source": [
    "#name rows = rownames()\n",
    "#name columns = colnames()\n",
    "days <-c('M','T','W','R','F')\n",
    "loc.names<-c('lewiston','rockymount','whiteville')"
   ]
  },
  {
   "cell_type": "code",
   "execution_count": 16,
   "metadata": {},
   "outputs": [
    {
     "data": {
      "text/html": [
       "<ol class=list-inline>\n",
       "\t<li>'M'</li>\n",
       "\t<li>'T'</li>\n",
       "\t<li>'W'</li>\n",
       "\t<li>'R'</li>\n",
       "\t<li>'F'</li>\n",
       "</ol>\n"
      ],
      "text/latex": [
       "\\begin{enumerate*}\n",
       "\\item 'M'\n",
       "\\item 'T'\n",
       "\\item 'W'\n",
       "\\item 'R'\n",
       "\\item 'F'\n",
       "\\end{enumerate*}\n"
      ],
      "text/markdown": [
       "1. 'M'\n",
       "2. 'T'\n",
       "3. 'W'\n",
       "4. 'R'\n",
       "5. 'F'\n",
       "\n",
       "\n"
      ],
      "text/plain": [
       "[1] \"M\" \"T\" \"W\" \"R\" \"F\""
      ]
     },
     "metadata": {},
     "output_type": "display_data"
    }
   ],
   "source": [
    "days"
   ]
  },
  {
   "cell_type": "code",
   "execution_count": 17,
   "metadata": {},
   "outputs": [
    {
     "data": {
      "text/html": [
       "<ol class=list-inline>\n",
       "\t<li>'lewiston'</li>\n",
       "\t<li>'rockymount'</li>\n",
       "\t<li>'whiteville'</li>\n",
       "</ol>\n"
      ],
      "text/latex": [
       "\\begin{enumerate*}\n",
       "\\item 'lewiston'\n",
       "\\item 'rockymount'\n",
       "\\item 'whiteville'\n",
       "\\end{enumerate*}\n"
      ],
      "text/markdown": [
       "1. 'lewiston'\n",
       "2. 'rockymount'\n",
       "3. 'whiteville'\n",
       "\n",
       "\n"
      ],
      "text/plain": [
       "[1] \"lewiston\"   \"rockymount\" \"whiteville\""
      ]
     },
     "metadata": {},
     "output_type": "display_data"
    }
   ],
   "source": [
    "loc.names"
   ]
  },
  {
   "cell_type": "code",
   "execution_count": 19,
   "metadata": {},
   "outputs": [],
   "source": [
    "colnames(weights.matrix)<-days\n",
    "rownames(weights.matrix)<-loc.names"
   ]
  },
  {
   "cell_type": "code",
   "execution_count": 20,
   "metadata": {},
   "outputs": [
    {
     "data": {
      "text/html": [
       "<table>\n",
       "<thead><tr><th></th><th scope=col>M</th><th scope=col>T</th><th scope=col>W</th><th scope=col>R</th><th scope=col>F</th></tr></thead>\n",
       "<tbody>\n",
       "\t<tr><th scope=row>lewiston</th><td>12</td><td>14</td><td>18</td><td>13</td><td>17</td></tr>\n",
       "\t<tr><th scope=row>rockymount</th><td>11</td><td>19</td><td>21</td><td>15</td><td>18</td></tr>\n",
       "\t<tr><th scope=row>whiteville</th><td>14</td><td>17</td><td>23</td><td>11</td><td> 9</td></tr>\n",
       "</tbody>\n",
       "</table>\n"
      ],
      "text/latex": [
       "\\begin{tabular}{r|lllll}\n",
       "  & M & T & W & R & F\\\\\n",
       "\\hline\n",
       "\tlewiston & 12 & 14 & 18 & 13 & 17\\\\\n",
       "\trockymount & 11 & 19 & 21 & 15 & 18\\\\\n",
       "\twhiteville & 14 & 17 & 23 & 11 &  9\\\\\n",
       "\\end{tabular}\n"
      ],
      "text/markdown": [
       "\n",
       "| <!--/--> | M | T | W | R | F |\n",
       "|---|---|---|---|---|---|\n",
       "| lewiston | 12 | 14 | 18 | 13 | 17 |\n",
       "| rockymount | 11 | 19 | 21 | 15 | 18 |\n",
       "| whiteville | 14 | 17 | 23 | 11 |  9 |\n",
       "\n"
      ],
      "text/plain": [
       "           M  T  W  R  F \n",
       "lewiston   12 14 18 13 17\n",
       "rockymount 11 19 21 15 18\n",
       "whiteville 14 17 23 11  9"
      ]
     },
     "metadata": {},
     "output_type": "display_data"
    }
   ],
   "source": [
    "weights.matrix"
   ]
  },
  {
   "cell_type": "code",
   "execution_count": 23,
   "metadata": {},
   "outputs": [
    {
     "data": {
      "text/html": [
       "<table>\n",
       "<tbody>\n",
       "\t<tr><td> 1</td><td> 2</td><td> 3</td><td> 4</td><td> 5</td><td> 6</td><td> 7</td><td> 8</td><td> 9</td><td>10</td></tr>\n",
       "\t<tr><td>11</td><td>12</td><td>13</td><td>14</td><td>15</td><td>16</td><td>17</td><td>18</td><td>19</td><td>20</td></tr>\n",
       "\t<tr><td>21</td><td>22</td><td>23</td><td>24</td><td>25</td><td>26</td><td>27</td><td>28</td><td>29</td><td>30</td></tr>\n",
       "\t<tr><td>31</td><td>32</td><td>33</td><td>34</td><td>35</td><td>36</td><td>37</td><td>38</td><td>39</td><td>40</td></tr>\n",
       "\t<tr><td>41</td><td>42</td><td>43</td><td>44</td><td>45</td><td>46</td><td>47</td><td>48</td><td>49</td><td>50</td></tr>\n",
       "</tbody>\n",
       "</table>\n"
      ],
      "text/latex": [
       "\\begin{tabular}{llllllllll}\n",
       "\t  1 &  2 &  3 &  4 &  5 &  6 &  7 &  8 &  9 & 10\\\\\n",
       "\t 11 & 12 & 13 & 14 & 15 & 16 & 17 & 18 & 19 & 20\\\\\n",
       "\t 21 & 22 & 23 & 24 & 25 & 26 & 27 & 28 & 29 & 30\\\\\n",
       "\t 31 & 32 & 33 & 34 & 35 & 36 & 37 & 38 & 39 & 40\\\\\n",
       "\t 41 & 42 & 43 & 44 & 45 & 46 & 47 & 48 & 49 & 50\\\\\n",
       "\\end{tabular}\n"
      ],
      "text/markdown": [
       "\n",
       "|  1 |  2 |  3 |  4 |  5 |  6 |  7 |  8 |  9 | 10 |\n",
       "| 11 | 12 | 13 | 14 | 15 | 16 | 17 | 18 | 19 | 20 |\n",
       "| 21 | 22 | 23 | 24 | 25 | 26 | 27 | 28 | 29 | 30 |\n",
       "| 31 | 32 | 33 | 34 | 35 | 36 | 37 | 38 | 39 | 40 |\n",
       "| 41 | 42 | 43 | 44 | 45 | 46 | 47 | 48 | 49 | 50 |\n",
       "\n"
      ],
      "text/plain": [
       "     [,1] [,2] [,3] [,4] [,5] [,6] [,7] [,8] [,9] [,10]\n",
       "[1,]  1    2    3    4    5    6    7    8    9   10   \n",
       "[2,] 11   12   13   14   15   16   17   18   19   20   \n",
       "[3,] 21   22   23   24   25   26   27   28   29   30   \n",
       "[4,] 31   32   33   34   35   36   37   38   39   40   \n",
       "[5,] 41   42   43   44   45   46   47   48   49   50   "
      ]
     },
     "metadata": {},
     "output_type": "display_data"
    }
   ],
   "source": [
    "#a matrix with 5 rows and 10 columns\n",
    "mat<-matrix(1:50,byrow=TRUE,nrow=5)\n",
    "mat"
   ]
  },
  {
   "cell_type": "code",
   "execution_count": 24,
   "metadata": {},
   "outputs": [
    {
     "data": {
      "text/html": [
       "<table>\n",
       "<tbody>\n",
       "\t<tr><td> 2 </td><td> 4 </td><td> 6 </td><td> 8 </td><td>10 </td><td>12 </td><td>14 </td><td>16 </td><td>18 </td><td> 20</td></tr>\n",
       "\t<tr><td>22 </td><td>24 </td><td>26 </td><td>28 </td><td>30 </td><td>32 </td><td>34 </td><td>36 </td><td>38 </td><td> 40</td></tr>\n",
       "\t<tr><td>42 </td><td>44 </td><td>46 </td><td>48 </td><td>50 </td><td>52 </td><td>54 </td><td>56 </td><td>58 </td><td> 60</td></tr>\n",
       "\t<tr><td>62 </td><td>64 </td><td>66 </td><td>68 </td><td>70 </td><td>72 </td><td>74 </td><td>76 </td><td>78 </td><td> 80</td></tr>\n",
       "\t<tr><td>82 </td><td>84 </td><td>86 </td><td>88 </td><td>90 </td><td>92 </td><td>94 </td><td>96 </td><td>98 </td><td>100</td></tr>\n",
       "</tbody>\n",
       "</table>\n"
      ],
      "text/latex": [
       "\\begin{tabular}{llllllllll}\n",
       "\t  2  &  4  &  6  &  8  & 10  & 12  & 14  & 16  & 18  &  20\\\\\n",
       "\t 22  & 24  & 26  & 28  & 30  & 32  & 34  & 36  & 38  &  40\\\\\n",
       "\t 42  & 44  & 46  & 48  & 50  & 52  & 54  & 56  & 58  &  60\\\\\n",
       "\t 62  & 64  & 66  & 68  & 70  & 72  & 74  & 76  & 78  &  80\\\\\n",
       "\t 82  & 84  & 86  & 88  & 90  & 92  & 94  & 96  & 98  & 100\\\\\n",
       "\\end{tabular}\n"
      ],
      "text/markdown": [
       "\n",
       "|  2  |  4  |  6  |  8  | 10  | 12  | 14  | 16  | 18  |  20 |\n",
       "| 22  | 24  | 26  | 28  | 30  | 32  | 34  | 36  | 38  |  40 |\n",
       "| 42  | 44  | 46  | 48  | 50  | 52  | 54  | 56  | 58  |  60 |\n",
       "| 62  | 64  | 66  | 68  | 70  | 72  | 74  | 76  | 78  |  80 |\n",
       "| 82  | 84  | 86  | 88  | 90  | 92  | 94  | 96  | 98  | 100 |\n",
       "\n"
      ],
      "text/plain": [
       "     [,1] [,2] [,3] [,4] [,5] [,6] [,7] [,8] [,9] [,10]\n",
       "[1,]  2    4    6    8   10   12   14   16   18    20  \n",
       "[2,] 22   24   26   28   30   32   34   36   38    40  \n",
       "[3,] 42   44   46   48   50   52   54   56   58    60  \n",
       "[4,] 62   64   66   68   70   72   74   76   78    80  \n",
       "[5,] 82   84   86   88   90   92   94   96   98   100  "
      ]
     },
     "metadata": {},
     "output_type": "display_data"
    }
   ],
   "source": [
    "2*mat"
   ]
  },
  {
   "cell_type": "code",
   "execution_count": 25,
   "metadata": {},
   "outputs": [
    {
     "data": {
      "text/html": [
       "<table>\n",
       "<tbody>\n",
       "\t<tr><td> 0.5</td><td> 1  </td><td> 1.5</td><td> 2  </td><td> 2.5</td><td> 3  </td><td> 3.5</td><td> 4  </td><td> 4.5</td><td> 5  </td></tr>\n",
       "\t<tr><td> 5.5</td><td> 6  </td><td> 6.5</td><td> 7  </td><td> 7.5</td><td> 8  </td><td> 8.5</td><td> 9  </td><td> 9.5</td><td>10  </td></tr>\n",
       "\t<tr><td>10.5</td><td>11  </td><td>11.5</td><td>12  </td><td>12.5</td><td>13  </td><td>13.5</td><td>14  </td><td>14.5</td><td>15  </td></tr>\n",
       "\t<tr><td>15.5</td><td>16  </td><td>16.5</td><td>17  </td><td>17.5</td><td>18  </td><td>18.5</td><td>19  </td><td>19.5</td><td>20  </td></tr>\n",
       "\t<tr><td>20.5</td><td>21  </td><td>21.5</td><td>22  </td><td>22.5</td><td>23  </td><td>23.5</td><td>24  </td><td>24.5</td><td>25  </td></tr>\n",
       "</tbody>\n",
       "</table>\n"
      ],
      "text/latex": [
       "\\begin{tabular}{llllllllll}\n",
       "\t  0.5 &  1   &  1.5 &  2   &  2.5 &  3   &  3.5 &  4   &  4.5 &  5  \\\\\n",
       "\t  5.5 &  6   &  6.5 &  7   &  7.5 &  8   &  8.5 &  9   &  9.5 & 10  \\\\\n",
       "\t 10.5 & 11   & 11.5 & 12   & 12.5 & 13   & 13.5 & 14   & 14.5 & 15  \\\\\n",
       "\t 15.5 & 16   & 16.5 & 17   & 17.5 & 18   & 18.5 & 19   & 19.5 & 20  \\\\\n",
       "\t 20.5 & 21   & 21.5 & 22   & 22.5 & 23   & 23.5 & 24   & 24.5 & 25  \\\\\n",
       "\\end{tabular}\n"
      ],
      "text/markdown": [
       "\n",
       "|  0.5 |  1   |  1.5 |  2   |  2.5 |  3   |  3.5 |  4   |  4.5 |  5   |\n",
       "|  5.5 |  6   |  6.5 |  7   |  7.5 |  8   |  8.5 |  9   |  9.5 | 10   |\n",
       "| 10.5 | 11   | 11.5 | 12   | 12.5 | 13   | 13.5 | 14   | 14.5 | 15   |\n",
       "| 15.5 | 16   | 16.5 | 17   | 17.5 | 18   | 18.5 | 19   | 19.5 | 20   |\n",
       "| 20.5 | 21   | 21.5 | 22   | 22.5 | 23   | 23.5 | 24   | 24.5 | 25   |\n",
       "\n"
      ],
      "text/plain": [
       "     [,1] [,2] [,3] [,4] [,5] [,6] [,7] [,8] [,9] [,10]\n",
       "[1,]  0.5  1    1.5  2    2.5  3    3.5  4    4.5  5   \n",
       "[2,]  5.5  6    6.5  7    7.5  8    8.5  9    9.5 10   \n",
       "[3,] 10.5 11   11.5 12   12.5 13   13.5 14   14.5 15   \n",
       "[4,] 15.5 16   16.5 17   17.5 18   18.5 19   19.5 20   \n",
       "[5,] 20.5 21   21.5 22   22.5 23   23.5 24   24.5 25   "
      ]
     },
     "metadata": {},
     "output_type": "display_data"
    }
   ],
   "source": [
    "mat/2"
   ]
  },
  {
   "cell_type": "code",
   "execution_count": 26,
   "metadata": {},
   "outputs": [
    {
     "data": {
      "text/html": [
       "<table>\n",
       "<tbody>\n",
       "\t<tr><td>2.00000000</td><td>1.00000000</td><td>0.66666667</td><td>0.50000000</td><td>0.40000000</td><td>0.33333333</td><td>0.28571429</td><td>0.25000000</td><td>0.22222222</td><td>0.20000000</td></tr>\n",
       "\t<tr><td>0.18181818</td><td>0.16666667</td><td>0.15384615</td><td>0.14285714</td><td>0.13333333</td><td>0.12500000</td><td>0.11764706</td><td>0.11111111</td><td>0.10526316</td><td>0.10000000</td></tr>\n",
       "\t<tr><td>0.09523810</td><td>0.09090909</td><td>0.08695652</td><td>0.08333333</td><td>0.08000000</td><td>0.07692308</td><td>0.07407407</td><td>0.07142857</td><td>0.06896552</td><td>0.06666667</td></tr>\n",
       "\t<tr><td>0.06451613</td><td>0.06250000</td><td>0.06060606</td><td>0.05882353</td><td>0.05714286</td><td>0.05555556</td><td>0.05405405</td><td>0.05263158</td><td>0.05128205</td><td>0.05000000</td></tr>\n",
       "\t<tr><td>0.04878049</td><td>0.04761905</td><td>0.04651163</td><td>0.04545455</td><td>0.04444444</td><td>0.04347826</td><td>0.04255319</td><td>0.04166667</td><td>0.04081633</td><td>0.04000000</td></tr>\n",
       "</tbody>\n",
       "</table>\n"
      ],
      "text/latex": [
       "\\begin{tabular}{llllllllll}\n",
       "\t 2.00000000 & 1.00000000 & 0.66666667 & 0.50000000 & 0.40000000 & 0.33333333 & 0.28571429 & 0.25000000 & 0.22222222 & 0.20000000\\\\\n",
       "\t 0.18181818 & 0.16666667 & 0.15384615 & 0.14285714 & 0.13333333 & 0.12500000 & 0.11764706 & 0.11111111 & 0.10526316 & 0.10000000\\\\\n",
       "\t 0.09523810 & 0.09090909 & 0.08695652 & 0.08333333 & 0.08000000 & 0.07692308 & 0.07407407 & 0.07142857 & 0.06896552 & 0.06666667\\\\\n",
       "\t 0.06451613 & 0.06250000 & 0.06060606 & 0.05882353 & 0.05714286 & 0.05555556 & 0.05405405 & 0.05263158 & 0.05128205 & 0.05000000\\\\\n",
       "\t 0.04878049 & 0.04761905 & 0.04651163 & 0.04545455 & 0.04444444 & 0.04347826 & 0.04255319 & 0.04166667 & 0.04081633 & 0.04000000\\\\\n",
       "\\end{tabular}\n"
      ],
      "text/markdown": [
       "\n",
       "| 2.00000000 | 1.00000000 | 0.66666667 | 0.50000000 | 0.40000000 | 0.33333333 | 0.28571429 | 0.25000000 | 0.22222222 | 0.20000000 |\n",
       "| 0.18181818 | 0.16666667 | 0.15384615 | 0.14285714 | 0.13333333 | 0.12500000 | 0.11764706 | 0.11111111 | 0.10526316 | 0.10000000 |\n",
       "| 0.09523810 | 0.09090909 | 0.08695652 | 0.08333333 | 0.08000000 | 0.07692308 | 0.07407407 | 0.07142857 | 0.06896552 | 0.06666667 |\n",
       "| 0.06451613 | 0.06250000 | 0.06060606 | 0.05882353 | 0.05714286 | 0.05555556 | 0.05405405 | 0.05263158 | 0.05128205 | 0.05000000 |\n",
       "| 0.04878049 | 0.04761905 | 0.04651163 | 0.04545455 | 0.04444444 | 0.04347826 | 0.04255319 | 0.04166667 | 0.04081633 | 0.04000000 |\n",
       "\n"
      ],
      "text/plain": [
       "     [,1]       [,2]       [,3]       [,4]       [,5]       [,6]      \n",
       "[1,] 2.00000000 1.00000000 0.66666667 0.50000000 0.40000000 0.33333333\n",
       "[2,] 0.18181818 0.16666667 0.15384615 0.14285714 0.13333333 0.12500000\n",
       "[3,] 0.09523810 0.09090909 0.08695652 0.08333333 0.08000000 0.07692308\n",
       "[4,] 0.06451613 0.06250000 0.06060606 0.05882353 0.05714286 0.05555556\n",
       "[5,] 0.04878049 0.04761905 0.04651163 0.04545455 0.04444444 0.04347826\n",
       "     [,7]       [,8]       [,9]       [,10]     \n",
       "[1,] 0.28571429 0.25000000 0.22222222 0.20000000\n",
       "[2,] 0.11764706 0.11111111 0.10526316 0.10000000\n",
       "[3,] 0.07407407 0.07142857 0.06896552 0.06666667\n",
       "[4,] 0.05405405 0.05263158 0.05128205 0.05000000\n",
       "[5,] 0.04255319 0.04166667 0.04081633 0.04000000"
      ]
     },
     "metadata": {},
     "output_type": "display_data"
    }
   ],
   "source": [
    "2/mat"
   ]
  },
  {
   "cell_type": "code",
   "execution_count": 27,
   "metadata": {},
   "outputs": [
    {
     "data": {
      "text/html": [
       "<table>\n",
       "<tbody>\n",
       "\t<tr><td>   1</td><td>   4</td><td>   9</td><td>  16</td><td>  25</td><td>  36</td><td>  49</td><td>  64</td><td>  81</td><td> 100</td></tr>\n",
       "\t<tr><td> 121</td><td> 144</td><td> 169</td><td> 196</td><td> 225</td><td> 256</td><td> 289</td><td> 324</td><td> 361</td><td> 400</td></tr>\n",
       "\t<tr><td> 441</td><td> 484</td><td> 529</td><td> 576</td><td> 625</td><td> 676</td><td> 729</td><td> 784</td><td> 841</td><td> 900</td></tr>\n",
       "\t<tr><td> 961</td><td>1024</td><td>1089</td><td>1156</td><td>1225</td><td>1296</td><td>1369</td><td>1444</td><td>1521</td><td>1600</td></tr>\n",
       "\t<tr><td>1681</td><td>1764</td><td>1849</td><td>1936</td><td>2025</td><td>2116</td><td>2209</td><td>2304</td><td>2401</td><td>2500</td></tr>\n",
       "</tbody>\n",
       "</table>\n"
      ],
      "text/latex": [
       "\\begin{tabular}{llllllllll}\n",
       "\t    1 &    4 &    9 &   16 &   25 &   36 &   49 &   64 &   81 &  100\\\\\n",
       "\t  121 &  144 &  169 &  196 &  225 &  256 &  289 &  324 &  361 &  400\\\\\n",
       "\t  441 &  484 &  529 &  576 &  625 &  676 &  729 &  784 &  841 &  900\\\\\n",
       "\t  961 & 1024 & 1089 & 1156 & 1225 & 1296 & 1369 & 1444 & 1521 & 1600\\\\\n",
       "\t 1681 & 1764 & 1849 & 1936 & 2025 & 2116 & 2209 & 2304 & 2401 & 2500\\\\\n",
       "\\end{tabular}\n"
      ],
      "text/markdown": [
       "\n",
       "|    1 |    4 |    9 |   16 |   25 |   36 |   49 |   64 |   81 |  100 |\n",
       "|  121 |  144 |  169 |  196 |  225 |  256 |  289 |  324 |  361 |  400 |\n",
       "|  441 |  484 |  529 |  576 |  625 |  676 |  729 |  784 |  841 |  900 |\n",
       "|  961 | 1024 | 1089 | 1156 | 1225 | 1296 | 1369 | 1444 | 1521 | 1600 |\n",
       "| 1681 | 1764 | 1849 | 1936 | 2025 | 2116 | 2209 | 2304 | 2401 | 2500 |\n",
       "\n"
      ],
      "text/plain": [
       "     [,1] [,2] [,3] [,4] [,5] [,6] [,7] [,8] [,9] [,10]\n",
       "[1,]    1    4    9   16   25   36   49   64   81  100 \n",
       "[2,]  121  144  169  196  225  256  289  324  361  400 \n",
       "[3,]  441  484  529  576  625  676  729  784  841  900 \n",
       "[4,]  961 1024 1089 1156 1225 1296 1369 1444 1521 1600 \n",
       "[5,] 1681 1764 1849 1936 2025 2116 2209 2304 2401 2500 "
      ]
     },
     "metadata": {},
     "output_type": "display_data"
    }
   ],
   "source": [
    "mat^2"
   ]
  },
  {
   "cell_type": "code",
   "execution_count": 28,
   "metadata": {},
   "outputs": [
    {
     "data": {
      "text/html": [
       "<table>\n",
       "<tbody>\n",
       "\t<tr><td>1</td><td>1</td><td>1</td><td>1</td><td>1</td><td>1</td><td>1</td><td>1</td><td>1</td><td>1</td></tr>\n",
       "\t<tr><td>1</td><td>1</td><td>1</td><td>1</td><td>1</td><td>1</td><td>1</td><td>1</td><td>1</td><td>1</td></tr>\n",
       "\t<tr><td>1</td><td>1</td><td>1</td><td>1</td><td>1</td><td>1</td><td>1</td><td>1</td><td>1</td><td>1</td></tr>\n",
       "\t<tr><td>1</td><td>1</td><td>1</td><td>1</td><td>1</td><td>1</td><td>1</td><td>1</td><td>1</td><td>1</td></tr>\n",
       "\t<tr><td>1</td><td>1</td><td>1</td><td>1</td><td>1</td><td>1</td><td>1</td><td>1</td><td>1</td><td>1</td></tr>\n",
       "</tbody>\n",
       "</table>\n"
      ],
      "text/latex": [
       "\\begin{tabular}{llllllllll}\n",
       "\t 1 & 1 & 1 & 1 & 1 & 1 & 1 & 1 & 1 & 1\\\\\n",
       "\t 1 & 1 & 1 & 1 & 1 & 1 & 1 & 1 & 1 & 1\\\\\n",
       "\t 1 & 1 & 1 & 1 & 1 & 1 & 1 & 1 & 1 & 1\\\\\n",
       "\t 1 & 1 & 1 & 1 & 1 & 1 & 1 & 1 & 1 & 1\\\\\n",
       "\t 1 & 1 & 1 & 1 & 1 & 1 & 1 & 1 & 1 & 1\\\\\n",
       "\\end{tabular}\n"
      ],
      "text/markdown": [
       "\n",
       "| 1 | 1 | 1 | 1 | 1 | 1 | 1 | 1 | 1 | 1 |\n",
       "| 1 | 1 | 1 | 1 | 1 | 1 | 1 | 1 | 1 | 1 |\n",
       "| 1 | 1 | 1 | 1 | 1 | 1 | 1 | 1 | 1 | 1 |\n",
       "| 1 | 1 | 1 | 1 | 1 | 1 | 1 | 1 | 1 | 1 |\n",
       "| 1 | 1 | 1 | 1 | 1 | 1 | 1 | 1 | 1 | 1 |\n",
       "\n"
      ],
      "text/plain": [
       "     [,1] [,2] [,3] [,4] [,5] [,6] [,7] [,8] [,9] [,10]\n",
       "[1,] 1    1    1    1    1    1    1    1    1    1    \n",
       "[2,] 1    1    1    1    1    1    1    1    1    1    \n",
       "[3,] 1    1    1    1    1    1    1    1    1    1    \n",
       "[4,] 1    1    1    1    1    1    1    1    1    1    \n",
       "[5,] 1    1    1    1    1    1    1    1    1    1    "
      ]
     },
     "metadata": {},
     "output_type": "display_data"
    }
   ],
   "source": [
    "mat^0"
   ]
  },
  {
   "cell_type": "code",
   "execution_count": 29,
   "metadata": {},
   "outputs": [
    {
     "data": {
      "text/html": [
       "<table>\n",
       "<tbody>\n",
       "\t<tr><td> 1</td><td> 2</td><td> 3</td><td> 4</td><td> 5</td><td> 6</td><td> 7</td><td> 8</td><td> 9</td><td>10</td></tr>\n",
       "\t<tr><td>11</td><td>12</td><td>13</td><td>14</td><td>15</td><td>16</td><td>17</td><td>18</td><td>19</td><td>20</td></tr>\n",
       "\t<tr><td>21</td><td>22</td><td>23</td><td>24</td><td>25</td><td>26</td><td>27</td><td>28</td><td>29</td><td>30</td></tr>\n",
       "\t<tr><td>31</td><td>32</td><td>33</td><td>34</td><td>35</td><td>36</td><td>37</td><td>38</td><td>39</td><td>40</td></tr>\n",
       "\t<tr><td>41</td><td>42</td><td>43</td><td>44</td><td>45</td><td>46</td><td>47</td><td>48</td><td>49</td><td>50</td></tr>\n",
       "</tbody>\n",
       "</table>\n"
      ],
      "text/latex": [
       "\\begin{tabular}{llllllllll}\n",
       "\t  1 &  2 &  3 &  4 &  5 &  6 &  7 &  8 &  9 & 10\\\\\n",
       "\t 11 & 12 & 13 & 14 & 15 & 16 & 17 & 18 & 19 & 20\\\\\n",
       "\t 21 & 22 & 23 & 24 & 25 & 26 & 27 & 28 & 29 & 30\\\\\n",
       "\t 31 & 32 & 33 & 34 & 35 & 36 & 37 & 38 & 39 & 40\\\\\n",
       "\t 41 & 42 & 43 & 44 & 45 & 46 & 47 & 48 & 49 & 50\\\\\n",
       "\\end{tabular}\n"
      ],
      "text/markdown": [
       "\n",
       "|  1 |  2 |  3 |  4 |  5 |  6 |  7 |  8 |  9 | 10 |\n",
       "| 11 | 12 | 13 | 14 | 15 | 16 | 17 | 18 | 19 | 20 |\n",
       "| 21 | 22 | 23 | 24 | 25 | 26 | 27 | 28 | 29 | 30 |\n",
       "| 31 | 32 | 33 | 34 | 35 | 36 | 37 | 38 | 39 | 40 |\n",
       "| 41 | 42 | 43 | 44 | 45 | 46 | 47 | 48 | 49 | 50 |\n",
       "\n"
      ],
      "text/plain": [
       "     [,1] [,2] [,3] [,4] [,5] [,6] [,7] [,8] [,9] [,10]\n",
       "[1,]  1    2    3    4    5    6    7    8    9   10   \n",
       "[2,] 11   12   13   14   15   16   17   18   19   20   \n",
       "[3,] 21   22   23   24   25   26   27   28   29   30   \n",
       "[4,] 31   32   33   34   35   36   37   38   39   40   \n",
       "[5,] 41   42   43   44   45   46   47   48   49   50   "
      ]
     },
     "metadata": {},
     "output_type": "display_data"
    }
   ],
   "source": [
    "mat"
   ]
  },
  {
   "cell_type": "code",
   "execution_count": 30,
   "metadata": {},
   "outputs": [
    {
     "data": {
      "text/html": [
       "<table>\n",
       "<tbody>\n",
       "\t<tr><td>FALSE</td><td>FALSE</td><td>FALSE</td><td>FALSE</td><td>FALSE</td><td>FALSE</td><td>FALSE</td><td>FALSE</td><td>FALSE</td><td>FALSE</td></tr>\n",
       "\t<tr><td>FALSE</td><td>FALSE</td><td>FALSE</td><td>FALSE</td><td>FALSE</td><td> TRUE</td><td> TRUE</td><td> TRUE</td><td> TRUE</td><td> TRUE</td></tr>\n",
       "\t<tr><td> TRUE</td><td> TRUE</td><td> TRUE</td><td> TRUE</td><td> TRUE</td><td> TRUE</td><td> TRUE</td><td> TRUE</td><td> TRUE</td><td> TRUE</td></tr>\n",
       "\t<tr><td> TRUE</td><td> TRUE</td><td> TRUE</td><td> TRUE</td><td> TRUE</td><td> TRUE</td><td> TRUE</td><td> TRUE</td><td> TRUE</td><td> TRUE</td></tr>\n",
       "\t<tr><td> TRUE</td><td> TRUE</td><td> TRUE</td><td> TRUE</td><td> TRUE</td><td> TRUE</td><td> TRUE</td><td> TRUE</td><td> TRUE</td><td> TRUE</td></tr>\n",
       "</tbody>\n",
       "</table>\n"
      ],
      "text/latex": [
       "\\begin{tabular}{llllllllll}\n",
       "\t FALSE & FALSE & FALSE & FALSE & FALSE & FALSE & FALSE & FALSE & FALSE & FALSE\\\\\n",
       "\t FALSE & FALSE & FALSE & FALSE & FALSE &  TRUE &  TRUE &  TRUE &  TRUE &  TRUE\\\\\n",
       "\t  TRUE &  TRUE &  TRUE &  TRUE &  TRUE &  TRUE &  TRUE &  TRUE &  TRUE &  TRUE\\\\\n",
       "\t  TRUE &  TRUE &  TRUE &  TRUE &  TRUE &  TRUE &  TRUE &  TRUE &  TRUE &  TRUE\\\\\n",
       "\t  TRUE &  TRUE &  TRUE &  TRUE &  TRUE &  TRUE &  TRUE &  TRUE &  TRUE &  TRUE\\\\\n",
       "\\end{tabular}\n"
      ],
      "text/markdown": [
       "\n",
       "| FALSE | FALSE | FALSE | FALSE | FALSE | FALSE | FALSE | FALSE | FALSE | FALSE |\n",
       "| FALSE | FALSE | FALSE | FALSE | FALSE |  TRUE |  TRUE |  TRUE |  TRUE |  TRUE |\n",
       "|  TRUE |  TRUE |  TRUE |  TRUE |  TRUE |  TRUE |  TRUE |  TRUE |  TRUE |  TRUE |\n",
       "|  TRUE |  TRUE |  TRUE |  TRUE |  TRUE |  TRUE |  TRUE |  TRUE |  TRUE |  TRUE |\n",
       "|  TRUE |  TRUE |  TRUE |  TRUE |  TRUE |  TRUE |  TRUE |  TRUE |  TRUE |  TRUE |\n",
       "\n"
      ],
      "text/plain": [
       "     [,1]  [,2]  [,3]  [,4]  [,5]  [,6]  [,7]  [,8]  [,9]  [,10]\n",
       "[1,] FALSE FALSE FALSE FALSE FALSE FALSE FALSE FALSE FALSE FALSE\n",
       "[2,] FALSE FALSE FALSE FALSE FALSE  TRUE  TRUE  TRUE  TRUE  TRUE\n",
       "[3,]  TRUE  TRUE  TRUE  TRUE  TRUE  TRUE  TRUE  TRUE  TRUE  TRUE\n",
       "[4,]  TRUE  TRUE  TRUE  TRUE  TRUE  TRUE  TRUE  TRUE  TRUE  TRUE\n",
       "[5,]  TRUE  TRUE  TRUE  TRUE  TRUE  TRUE  TRUE  TRUE  TRUE  TRUE"
      ]
     },
     "metadata": {},
     "output_type": "display_data"
    }
   ],
   "source": [
    "#the comparison operators (==,!=,>,<,>=,<=)\n",
    "mat>15"
   ]
  },
  {
   "cell_type": "code",
   "execution_count": 31,
   "metadata": {},
   "outputs": [
    {
     "data": {
      "text/html": [
       "<table>\n",
       "<tbody>\n",
       "\t<tr><td> 2 </td><td> 4 </td><td> 6 </td><td> 8 </td><td>10 </td><td>12 </td><td>14 </td><td>16 </td><td>18 </td><td> 20</td></tr>\n",
       "\t<tr><td>22 </td><td>24 </td><td>26 </td><td>28 </td><td>30 </td><td>32 </td><td>34 </td><td>36 </td><td>38 </td><td> 40</td></tr>\n",
       "\t<tr><td>42 </td><td>44 </td><td>46 </td><td>48 </td><td>50 </td><td>52 </td><td>54 </td><td>56 </td><td>58 </td><td> 60</td></tr>\n",
       "\t<tr><td>62 </td><td>64 </td><td>66 </td><td>68 </td><td>70 </td><td>72 </td><td>74 </td><td>76 </td><td>78 </td><td> 80</td></tr>\n",
       "\t<tr><td>82 </td><td>84 </td><td>86 </td><td>88 </td><td>90 </td><td>92 </td><td>94 </td><td>96 </td><td>98 </td><td>100</td></tr>\n",
       "</tbody>\n",
       "</table>\n"
      ],
      "text/latex": [
       "\\begin{tabular}{llllllllll}\n",
       "\t  2  &  4  &  6  &  8  & 10  & 12  & 14  & 16  & 18  &  20\\\\\n",
       "\t 22  & 24  & 26  & 28  & 30  & 32  & 34  & 36  & 38  &  40\\\\\n",
       "\t 42  & 44  & 46  & 48  & 50  & 52  & 54  & 56  & 58  &  60\\\\\n",
       "\t 62  & 64  & 66  & 68  & 70  & 72  & 74  & 76  & 78  &  80\\\\\n",
       "\t 82  & 84  & 86  & 88  & 90  & 92  & 94  & 96  & 98  & 100\\\\\n",
       "\\end{tabular}\n"
      ],
      "text/markdown": [
       "\n",
       "|  2  |  4  |  6  |  8  | 10  | 12  | 14  | 16  | 18  |  20 |\n",
       "| 22  | 24  | 26  | 28  | 30  | 32  | 34  | 36  | 38  |  40 |\n",
       "| 42  | 44  | 46  | 48  | 50  | 52  | 54  | 56  | 58  |  60 |\n",
       "| 62  | 64  | 66  | 68  | 70  | 72  | 74  | 76  | 78  |  80 |\n",
       "| 82  | 84  | 86  | 88  | 90  | 92  | 94  | 96  | 98  | 100 |\n",
       "\n"
      ],
      "text/plain": [
       "     [,1] [,2] [,3] [,4] [,5] [,6] [,7] [,8] [,9] [,10]\n",
       "[1,]  2    4    6    8   10   12   14   16   18    20  \n",
       "[2,] 22   24   26   28   30   32   34   36   38    40  \n",
       "[3,] 42   44   46   48   50   52   54   56   58    60  \n",
       "[4,] 62   64   66   68   70   72   74   76   78    80  \n",
       "[5,] 82   84   86   88   90   92   94   96   98   100  "
      ]
     },
     "metadata": {},
     "output_type": "display_data"
    }
   ],
   "source": [
    "mat+mat"
   ]
  },
  {
   "cell_type": "code",
   "execution_count": 32,
   "metadata": {},
   "outputs": [
    {
     "data": {
      "text/html": [
       "<table>\n",
       "<tbody>\n",
       "\t<tr><td>1</td><td>1</td><td>1</td><td>1</td><td>1</td><td>1</td><td>1</td><td>1</td><td>1</td><td>1</td></tr>\n",
       "\t<tr><td>1</td><td>1</td><td>1</td><td>1</td><td>1</td><td>1</td><td>1</td><td>1</td><td>1</td><td>1</td></tr>\n",
       "\t<tr><td>1</td><td>1</td><td>1</td><td>1</td><td>1</td><td>1</td><td>1</td><td>1</td><td>1</td><td>1</td></tr>\n",
       "\t<tr><td>1</td><td>1</td><td>1</td><td>1</td><td>1</td><td>1</td><td>1</td><td>1</td><td>1</td><td>1</td></tr>\n",
       "\t<tr><td>1</td><td>1</td><td>1</td><td>1</td><td>1</td><td>1</td><td>1</td><td>1</td><td>1</td><td>1</td></tr>\n",
       "</tbody>\n",
       "</table>\n"
      ],
      "text/latex": [
       "\\begin{tabular}{llllllllll}\n",
       "\t 1 & 1 & 1 & 1 & 1 & 1 & 1 & 1 & 1 & 1\\\\\n",
       "\t 1 & 1 & 1 & 1 & 1 & 1 & 1 & 1 & 1 & 1\\\\\n",
       "\t 1 & 1 & 1 & 1 & 1 & 1 & 1 & 1 & 1 & 1\\\\\n",
       "\t 1 & 1 & 1 & 1 & 1 & 1 & 1 & 1 & 1 & 1\\\\\n",
       "\t 1 & 1 & 1 & 1 & 1 & 1 & 1 & 1 & 1 & 1\\\\\n",
       "\\end{tabular}\n"
      ],
      "text/markdown": [
       "\n",
       "| 1 | 1 | 1 | 1 | 1 | 1 | 1 | 1 | 1 | 1 |\n",
       "| 1 | 1 | 1 | 1 | 1 | 1 | 1 | 1 | 1 | 1 |\n",
       "| 1 | 1 | 1 | 1 | 1 | 1 | 1 | 1 | 1 | 1 |\n",
       "| 1 | 1 | 1 | 1 | 1 | 1 | 1 | 1 | 1 | 1 |\n",
       "| 1 | 1 | 1 | 1 | 1 | 1 | 1 | 1 | 1 | 1 |\n",
       "\n"
      ],
      "text/plain": [
       "     [,1] [,2] [,3] [,4] [,5] [,6] [,7] [,8] [,9] [,10]\n",
       "[1,] 1    1    1    1    1    1    1    1    1    1    \n",
       "[2,] 1    1    1    1    1    1    1    1    1    1    \n",
       "[3,] 1    1    1    1    1    1    1    1    1    1    \n",
       "[4,] 1    1    1    1    1    1    1    1    1    1    \n",
       "[5,] 1    1    1    1    1    1    1    1    1    1    "
      ]
     },
     "metadata": {},
     "output_type": "display_data"
    }
   ],
   "source": [
    "mat/mat"
   ]
  },
  {
   "cell_type": "code",
   "execution_count": 33,
   "metadata": {},
   "outputs": [
    {
     "data": {
      "text/html": [
       "<table>\n",
       "<tbody>\n",
       "\t<tr><td>1.000000e+00</td><td>4.000000e+00</td><td>2.700000e+01</td><td>2.560000e+02</td><td>3.125000e+03</td><td>4.665600e+04</td><td>8.235430e+05</td><td>1.677722e+07</td><td>3.874205e+08</td><td>1.000000e+10</td></tr>\n",
       "\t<tr><td>2.853117e+11</td><td>8.916100e+12</td><td>3.028751e+14</td><td>1.111201e+16</td><td>4.378939e+17</td><td>1.844674e+19</td><td>8.272403e+20</td><td>3.934641e+22</td><td>1.978420e+24</td><td>1.048576e+26</td></tr>\n",
       "\t<tr><td>5.842587e+27</td><td>3.414279e+29</td><td>2.088047e+31</td><td>1.333736e+33</td><td>8.881784e+34</td><td>6.156120e+36</td><td>4.434265e+38</td><td>3.314552e+40</td><td>2.567686e+42</td><td>2.058911e+44</td></tr>\n",
       "\t<tr><td>1.706917e+46</td><td>1.461502e+48</td><td>1.291100e+50</td><td>1.175664e+52</td><td>1.102507e+54</td><td>1.063874e+56</td><td>1.055513e+58</td><td>1.075912e+60</td><td>1.125951e+62</td><td>1.208926e+64</td></tr>\n",
       "\t<tr><td>1.330878e+66</td><td>1.501309e+68</td><td>1.734377e+70</td><td>2.050774e+72</td><td>2.480636e+74</td><td>3.068035e+76</td><td>3.877924e+78</td><td>5.007021e+80</td><td>6.600972e+82</td><td>8.881784e+84</td></tr>\n",
       "</tbody>\n",
       "</table>\n"
      ],
      "text/latex": [
       "\\begin{tabular}{llllllllll}\n",
       "\t 1.000000e+00 & 4.000000e+00 & 2.700000e+01 & 2.560000e+02 & 3.125000e+03 & 4.665600e+04 & 8.235430e+05 & 1.677722e+07 & 3.874205e+08 & 1.000000e+10\\\\\n",
       "\t 2.853117e+11 & 8.916100e+12 & 3.028751e+14 & 1.111201e+16 & 4.378939e+17 & 1.844674e+19 & 8.272403e+20 & 3.934641e+22 & 1.978420e+24 & 1.048576e+26\\\\\n",
       "\t 5.842587e+27 & 3.414279e+29 & 2.088047e+31 & 1.333736e+33 & 8.881784e+34 & 6.156120e+36 & 4.434265e+38 & 3.314552e+40 & 2.567686e+42 & 2.058911e+44\\\\\n",
       "\t 1.706917e+46 & 1.461502e+48 & 1.291100e+50 & 1.175664e+52 & 1.102507e+54 & 1.063874e+56 & 1.055513e+58 & 1.075912e+60 & 1.125951e+62 & 1.208926e+64\\\\\n",
       "\t 1.330878e+66 & 1.501309e+68 & 1.734377e+70 & 2.050774e+72 & 2.480636e+74 & 3.068035e+76 & 3.877924e+78 & 5.007021e+80 & 6.600972e+82 & 8.881784e+84\\\\\n",
       "\\end{tabular}\n"
      ],
      "text/markdown": [
       "\n",
       "| 1.000000e+00 | 4.000000e+00 | 2.700000e+01 | 2.560000e+02 | 3.125000e+03 | 4.665600e+04 | 8.235430e+05 | 1.677722e+07 | 3.874205e+08 | 1.000000e+10 |\n",
       "| 2.853117e+11 | 8.916100e+12 | 3.028751e+14 | 1.111201e+16 | 4.378939e+17 | 1.844674e+19 | 8.272403e+20 | 3.934641e+22 | 1.978420e+24 | 1.048576e+26 |\n",
       "| 5.842587e+27 | 3.414279e+29 | 2.088047e+31 | 1.333736e+33 | 8.881784e+34 | 6.156120e+36 | 4.434265e+38 | 3.314552e+40 | 2.567686e+42 | 2.058911e+44 |\n",
       "| 1.706917e+46 | 1.461502e+48 | 1.291100e+50 | 1.175664e+52 | 1.102507e+54 | 1.063874e+56 | 1.055513e+58 | 1.075912e+60 | 1.125951e+62 | 1.208926e+64 |\n",
       "| 1.330878e+66 | 1.501309e+68 | 1.734377e+70 | 2.050774e+72 | 2.480636e+74 | 3.068035e+76 | 3.877924e+78 | 5.007021e+80 | 6.600972e+82 | 8.881784e+84 |\n",
       "\n"
      ],
      "text/plain": [
       "     [,1]         [,2]         [,3]         [,4]         [,5]        \n",
       "[1,] 1.000000e+00 4.000000e+00 2.700000e+01 2.560000e+02 3.125000e+03\n",
       "[2,] 2.853117e+11 8.916100e+12 3.028751e+14 1.111201e+16 4.378939e+17\n",
       "[3,] 5.842587e+27 3.414279e+29 2.088047e+31 1.333736e+33 8.881784e+34\n",
       "[4,] 1.706917e+46 1.461502e+48 1.291100e+50 1.175664e+52 1.102507e+54\n",
       "[5,] 1.330878e+66 1.501309e+68 1.734377e+70 2.050774e+72 2.480636e+74\n",
       "     [,6]         [,7]         [,8]         [,9]         [,10]       \n",
       "[1,] 4.665600e+04 8.235430e+05 1.677722e+07 3.874205e+08 1.000000e+10\n",
       "[2,] 1.844674e+19 8.272403e+20 3.934641e+22 1.978420e+24 1.048576e+26\n",
       "[3,] 6.156120e+36 4.434265e+38 3.314552e+40 2.567686e+42 2.058911e+44\n",
       "[4,] 1.063874e+56 1.055513e+58 1.075912e+60 1.125951e+62 1.208926e+64\n",
       "[5,] 3.068035e+76 3.877924e+78 5.007021e+80 6.600972e+82 8.881784e+84"
      ]
     },
     "metadata": {},
     "output_type": "display_data"
    }
   ],
   "source": [
    "mat^mat"
   ]
  },
  {
   "cell_type": "code",
   "execution_count": 34,
   "metadata": {},
   "outputs": [],
   "source": [
    "mat2<-matrix(1:9,nrow=3)"
   ]
  },
  {
   "cell_type": "code",
   "execution_count": 35,
   "metadata": {},
   "outputs": [
    {
     "data": {
      "text/html": [
       "<table>\n",
       "<tbody>\n",
       "\t<tr><td>1 </td><td>16</td><td>49</td></tr>\n",
       "\t<tr><td>4 </td><td>25</td><td>64</td></tr>\n",
       "\t<tr><td>9 </td><td>36</td><td>81</td></tr>\n",
       "</tbody>\n",
       "</table>\n"
      ],
      "text/latex": [
       "\\begin{tabular}{lll}\n",
       "\t 1  & 16 & 49\\\\\n",
       "\t 4  & 25 & 64\\\\\n",
       "\t 9  & 36 & 81\\\\\n",
       "\\end{tabular}\n"
      ],
      "text/markdown": [
       "\n",
       "| 1  | 16 | 49 |\n",
       "| 4  | 25 | 64 |\n",
       "| 9  | 36 | 81 |\n",
       "\n"
      ],
      "text/plain": [
       "     [,1] [,2] [,3]\n",
       "[1,] 1    16   49  \n",
       "[2,] 4    25   64  \n",
       "[3,] 9    36   81  "
      ]
     },
     "metadata": {},
     "output_type": "display_data"
    }
   ],
   "source": [
    "mat2*mat2"
   ]
  },
  {
   "cell_type": "code",
   "execution_count": 36,
   "metadata": {},
   "outputs": [
    {
     "data": {
      "text/html": [
       "<table>\n",
       "<tbody>\n",
       "\t<tr><td>30 </td><td>66 </td><td>102</td></tr>\n",
       "\t<tr><td>36 </td><td>81 </td><td>126</td></tr>\n",
       "\t<tr><td>42 </td><td>96 </td><td>150</td></tr>\n",
       "</tbody>\n",
       "</table>\n"
      ],
      "text/latex": [
       "\\begin{tabular}{lll}\n",
       "\t 30  & 66  & 102\\\\\n",
       "\t 36  & 81  & 126\\\\\n",
       "\t 42  & 96  & 150\\\\\n",
       "\\end{tabular}\n"
      ],
      "text/markdown": [
       "\n",
       "| 30  | 66  | 102 |\n",
       "| 36  | 81  | 126 |\n",
       "| 42  | 96  | 150 |\n",
       "\n"
      ],
      "text/plain": [
       "     [,1] [,2] [,3]\n",
       "[1,] 30   66   102 \n",
       "[2,] 36   81   126 \n",
       "[3,] 42   96   150 "
      ]
     },
     "metadata": {},
     "output_type": "display_data"
    }
   ],
   "source": [
    "#%*% this will follow linear algegra calculation as opposed to * which is element by element (1*1, 2*2...)\n",
    "mat2 %*% mat2"
   ]
  },
  {
   "cell_type": "code",
   "execution_count": 40,
   "metadata": {},
   "outputs": [
    {
     "data": {
      "text/html": [
       "<dl class=dl-horizontal>\n",
       "\t<dt>M</dt>\n",
       "\t\t<dd>37</dd>\n",
       "\t<dt>T</dt>\n",
       "\t\t<dd>50</dd>\n",
       "\t<dt>W</dt>\n",
       "\t\t<dd>62</dd>\n",
       "\t<dt>R</dt>\n",
       "\t\t<dd>39</dd>\n",
       "\t<dt>F</dt>\n",
       "\t\t<dd>44</dd>\n",
       "</dl>\n"
      ],
      "text/latex": [
       "\\begin{description*}\n",
       "\\item[M] 37\n",
       "\\item[T] 50\n",
       "\\item[W] 62\n",
       "\\item[R] 39\n",
       "\\item[F] 44\n",
       "\\end{description*}\n"
      ],
      "text/markdown": [
       "M\n",
       ":   37T\n",
       ":   50W\n",
       ":   62R\n",
       ":   39F\n",
       ":   44\n",
       "\n"
      ],
      "text/plain": [
       " M  T  W  R  F \n",
       "37 50 62 39 44 "
      ]
     },
     "metadata": {},
     "output_type": "display_data"
    }
   ],
   "source": [
    "#calculate across columns = use colSums()\n",
    "colSums(weights.matrix)"
   ]
  },
  {
   "cell_type": "code",
   "execution_count": 41,
   "metadata": {},
   "outputs": [
    {
     "data": {
      "text/html": [
       "<dl class=dl-horizontal>\n",
       "\t<dt>lewiston</dt>\n",
       "\t\t<dd>74</dd>\n",
       "\t<dt>rockymount</dt>\n",
       "\t\t<dd>84</dd>\n",
       "\t<dt>whiteville</dt>\n",
       "\t\t<dd>74</dd>\n",
       "</dl>\n"
      ],
      "text/latex": [
       "\\begin{description*}\n",
       "\\item[lewiston] 74\n",
       "\\item[rockymount] 84\n",
       "\\item[whiteville] 74\n",
       "\\end{description*}\n"
      ],
      "text/markdown": [
       "lewiston\n",
       ":   74rockymount\n",
       ":   84whiteville\n",
       ":   74\n",
       "\n"
      ],
      "text/plain": [
       "  lewiston rockymount whiteville \n",
       "        74         84         74 "
      ]
     },
     "metadata": {},
     "output_type": "display_data"
    }
   ],
   "source": [
    "#calculate across rows = rowSums\n",
    "rowSums(weights.matrix)"
   ]
  },
  {
   "cell_type": "code",
   "execution_count": 42,
   "metadata": {},
   "outputs": [
    {
     "data": {
      "text/html": [
       "<dl class=dl-horizontal>\n",
       "\t<dt>M</dt>\n",
       "\t\t<dd>12.3333333333333</dd>\n",
       "\t<dt>T</dt>\n",
       "\t\t<dd>16.6666666666667</dd>\n",
       "\t<dt>W</dt>\n",
       "\t\t<dd>20.6666666666667</dd>\n",
       "\t<dt>R</dt>\n",
       "\t\t<dd>13</dd>\n",
       "\t<dt>F</dt>\n",
       "\t\t<dd>14.6666666666667</dd>\n",
       "</dl>\n"
      ],
      "text/latex": [
       "\\begin{description*}\n",
       "\\item[M] 12.3333333333333\n",
       "\\item[T] 16.6666666666667\n",
       "\\item[W] 20.6666666666667\n",
       "\\item[R] 13\n",
       "\\item[F] 14.6666666666667\n",
       "\\end{description*}\n"
      ],
      "text/markdown": [
       "M\n",
       ":   12.3333333333333T\n",
       ":   16.6666666666667W\n",
       ":   20.6666666666667R\n",
       ":   13F\n",
       ":   14.6666666666667\n",
       "\n"
      ],
      "text/plain": [
       "       M        T        W        R        F \n",
       "12.33333 16.66667 20.66667 13.00000 14.66667 "
      ]
     },
     "metadata": {},
     "output_type": "display_data"
    }
   ],
   "source": [
    "colMeans(weights.matrix)"
   ]
  },
  {
   "cell_type": "code",
   "execution_count": 43,
   "metadata": {},
   "outputs": [
    {
     "data": {
      "text/html": [
       "<dl class=dl-horizontal>\n",
       "\t<dt>lewiston</dt>\n",
       "\t\t<dd>14.8</dd>\n",
       "\t<dt>rockymount</dt>\n",
       "\t\t<dd>16.8</dd>\n",
       "\t<dt>whiteville</dt>\n",
       "\t\t<dd>14.8</dd>\n",
       "</dl>\n"
      ],
      "text/latex": [
       "\\begin{description*}\n",
       "\\item[lewiston] 14.8\n",
       "\\item[rockymount] 16.8\n",
       "\\item[whiteville] 14.8\n",
       "\\end{description*}\n"
      ],
      "text/markdown": [
       "lewiston\n",
       ":   14.8rockymount\n",
       ":   16.8whiteville\n",
       ":   14.8\n",
       "\n"
      ],
      "text/plain": [
       "  lewiston rockymount whiteville \n",
       "      14.8       16.8       14.8 "
      ]
     },
     "metadata": {},
     "output_type": "display_data"
    }
   ],
   "source": [
    "rowMeans(weights.matrix)"
   ]
  },
  {
   "cell_type": "code",
   "execution_count": 45,
   "metadata": {},
   "outputs": [],
   "source": [
    "#add the clayton location onto weights. matrix\n",
    "clayton <- c(17,23,15,19,13)"
   ]
  },
  {
   "cell_type": "code",
   "execution_count": 46,
   "metadata": {},
   "outputs": [],
   "source": [
    "#cbind binds a column together and rbind will bind a row together\n",
    "#what are we appending it to (what is being appended), and the addition after the comma\n",
    "ncsu.matrix<-rbind(weights.matrix,clayton)"
   ]
  },
  {
   "cell_type": "code",
   "execution_count": 47,
   "metadata": {},
   "outputs": [
    {
     "data": {
      "text/html": [
       "<table>\n",
       "<thead><tr><th></th><th scope=col>M</th><th scope=col>T</th><th scope=col>W</th><th scope=col>R</th><th scope=col>F</th></tr></thead>\n",
       "<tbody>\n",
       "\t<tr><th scope=row>lewiston</th><td>12</td><td>14</td><td>18</td><td>13</td><td>17</td></tr>\n",
       "\t<tr><th scope=row>rockymount</th><td>11</td><td>19</td><td>21</td><td>15</td><td>18</td></tr>\n",
       "\t<tr><th scope=row>whiteville</th><td>14</td><td>17</td><td>23</td><td>11</td><td> 9</td></tr>\n",
       "\t<tr><th scope=row>clayton</th><td>17</td><td>23</td><td>15</td><td>19</td><td>13</td></tr>\n",
       "</tbody>\n",
       "</table>\n"
      ],
      "text/latex": [
       "\\begin{tabular}{r|lllll}\n",
       "  & M & T & W & R & F\\\\\n",
       "\\hline\n",
       "\tlewiston & 12 & 14 & 18 & 13 & 17\\\\\n",
       "\trockymount & 11 & 19 & 21 & 15 & 18\\\\\n",
       "\twhiteville & 14 & 17 & 23 & 11 &  9\\\\\n",
       "\tclayton & 17 & 23 & 15 & 19 & 13\\\\\n",
       "\\end{tabular}\n"
      ],
      "text/markdown": [
       "\n",
       "| <!--/--> | M | T | W | R | F |\n",
       "|---|---|---|---|---|---|\n",
       "| lewiston | 12 | 14 | 18 | 13 | 17 |\n",
       "| rockymount | 11 | 19 | 21 | 15 | 18 |\n",
       "| whiteville | 14 | 17 | 23 | 11 |  9 |\n",
       "| clayton | 17 | 23 | 15 | 19 | 13 |\n",
       "\n"
      ],
      "text/plain": [
       "           M  T  W  R  F \n",
       "lewiston   12 14 18 13 17\n",
       "rockymount 11 19 21 15 18\n",
       "whiteville 14 17 23 11  9\n",
       "clayton    17 23 15 19 13"
      ]
     },
     "metadata": {},
     "output_type": "display_data"
    }
   ],
   "source": [
    "ncsu.matrix"
   ]
  },
  {
   "cell_type": "code",
   "execution_count": 48,
   "metadata": {},
   "outputs": [],
   "source": [
    "means.peanut <-rowMeans(ncsu.matrix)"
   ]
  },
  {
   "cell_type": "code",
   "execution_count": 49,
   "metadata": {},
   "outputs": [
    {
     "data": {
      "text/html": [
       "<dl class=dl-horizontal>\n",
       "\t<dt>lewiston</dt>\n",
       "\t\t<dd>14.8</dd>\n",
       "\t<dt>rockymount</dt>\n",
       "\t\t<dd>16.8</dd>\n",
       "\t<dt>whiteville</dt>\n",
       "\t\t<dd>14.8</dd>\n",
       "\t<dt>clayton</dt>\n",
       "\t\t<dd>17.4</dd>\n",
       "</dl>\n"
      ],
      "text/latex": [
       "\\begin{description*}\n",
       "\\item[lewiston] 14.8\n",
       "\\item[rockymount] 16.8\n",
       "\\item[whiteville] 14.8\n",
       "\\item[clayton] 17.4\n",
       "\\end{description*}\n"
      ],
      "text/markdown": [
       "lewiston\n",
       ":   14.8rockymount\n",
       ":   16.8whiteville\n",
       ":   14.8clayton\n",
       ":   17.4\n",
       "\n"
      ],
      "text/plain": [
       "  lewiston rockymount whiteville    clayton \n",
       "      14.8       16.8       14.8       17.4 "
      ]
     },
     "metadata": {},
     "output_type": "display_data"
    }
   ],
   "source": [
    "means.peanut"
   ]
  },
  {
   "cell_type": "code",
   "execution_count": 50,
   "metadata": {},
   "outputs": [],
   "source": [
    "ncsu.matrix <-cbind(ncsu.matrix,means.peanut)"
   ]
  },
  {
   "cell_type": "code",
   "execution_count": 51,
   "metadata": {},
   "outputs": [
    {
     "data": {
      "text/html": [
       "<table>\n",
       "<thead><tr><th></th><th scope=col>M</th><th scope=col>T</th><th scope=col>W</th><th scope=col>R</th><th scope=col>F</th><th scope=col>means.peanut</th></tr></thead>\n",
       "<tbody>\n",
       "\t<tr><th scope=row>lewiston</th><td>12  </td><td>14  </td><td>18  </td><td>13  </td><td>17  </td><td>14.8</td></tr>\n",
       "\t<tr><th scope=row>rockymount</th><td>11  </td><td>19  </td><td>21  </td><td>15  </td><td>18  </td><td>16.8</td></tr>\n",
       "\t<tr><th scope=row>whiteville</th><td>14  </td><td>17  </td><td>23  </td><td>11  </td><td> 9  </td><td>14.8</td></tr>\n",
       "\t<tr><th scope=row>clayton</th><td>17  </td><td>23  </td><td>15  </td><td>19  </td><td>13  </td><td>17.4</td></tr>\n",
       "</tbody>\n",
       "</table>\n"
      ],
      "text/latex": [
       "\\begin{tabular}{r|llllll}\n",
       "  & M & T & W & R & F & means.peanut\\\\\n",
       "\\hline\n",
       "\tlewiston & 12   & 14   & 18   & 13   & 17   & 14.8\\\\\n",
       "\trockymount & 11   & 19   & 21   & 15   & 18   & 16.8\\\\\n",
       "\twhiteville & 14   & 17   & 23   & 11   &  9   & 14.8\\\\\n",
       "\tclayton & 17   & 23   & 15   & 19   & 13   & 17.4\\\\\n",
       "\\end{tabular}\n"
      ],
      "text/markdown": [
       "\n",
       "| <!--/--> | M | T | W | R | F | means.peanut |\n",
       "|---|---|---|---|---|---|---|\n",
       "| lewiston | 12   | 14   | 18   | 13   | 17   | 14.8 |\n",
       "| rockymount | 11   | 19   | 21   | 15   | 18   | 16.8 |\n",
       "| whiteville | 14   | 17   | 23   | 11   |  9   | 14.8 |\n",
       "| clayton | 17   | 23   | 15   | 19   | 13   | 17.4 |\n",
       "\n"
      ],
      "text/plain": [
       "           M  T  W  R  F  means.peanut\n",
       "lewiston   12 14 18 13 17 14.8        \n",
       "rockymount 11 19 21 15 18 16.8        \n",
       "whiteville 14 17 23 11  9 14.8        \n",
       "clayton    17 23 15 19 13 17.4        "
      ]
     },
     "metadata": {},
     "output_type": "display_data"
    }
   ],
   "source": [
    "ncsu.matrix"
   ]
  },
  {
   "cell_type": "code",
   "execution_count": 52,
   "metadata": {},
   "outputs": [],
   "source": [
    "short<-c(2,18,12)\n",
    "long <-c(12,11,9,18,8)"
   ]
  },
  {
   "cell_type": "code",
   "execution_count": 54,
   "metadata": {},
   "outputs": [
    {
     "name": "stderr",
     "output_type": "stream",
     "text": [
      "Warning message in cbind(ncsu.matrix, short):\n",
      "\"number of rows of result is not a multiple of vector length (arg 2)\""
     ]
    },
    {
     "data": {
      "text/html": [
       "<table>\n",
       "<thead><tr><th></th><th scope=col>M</th><th scope=col>T</th><th scope=col>W</th><th scope=col>R</th><th scope=col>F</th><th scope=col>means.peanut</th><th scope=col>short</th></tr></thead>\n",
       "<tbody>\n",
       "\t<tr><th scope=row>lewiston</th><td>12  </td><td>14  </td><td>18  </td><td>13  </td><td>17  </td><td>14.8</td><td> 2  </td></tr>\n",
       "\t<tr><th scope=row>rockymount</th><td>11  </td><td>19  </td><td>21  </td><td>15  </td><td>18  </td><td>16.8</td><td>18  </td></tr>\n",
       "\t<tr><th scope=row>whiteville</th><td>14  </td><td>17  </td><td>23  </td><td>11  </td><td> 9  </td><td>14.8</td><td>12  </td></tr>\n",
       "\t<tr><th scope=row>clayton</th><td>17  </td><td>23  </td><td>15  </td><td>19  </td><td>13  </td><td>17.4</td><td> 2  </td></tr>\n",
       "</tbody>\n",
       "</table>\n"
      ],
      "text/latex": [
       "\\begin{tabular}{r|lllllll}\n",
       "  & M & T & W & R & F & means.peanut & short\\\\\n",
       "\\hline\n",
       "\tlewiston & 12   & 14   & 18   & 13   & 17   & 14.8 &  2  \\\\\n",
       "\trockymount & 11   & 19   & 21   & 15   & 18   & 16.8 & 18  \\\\\n",
       "\twhiteville & 14   & 17   & 23   & 11   &  9   & 14.8 & 12  \\\\\n",
       "\tclayton & 17   & 23   & 15   & 19   & 13   & 17.4 &  2  \\\\\n",
       "\\end{tabular}\n"
      ],
      "text/markdown": [
       "\n",
       "| <!--/--> | M | T | W | R | F | means.peanut | short |\n",
       "|---|---|---|---|---|---|---|---|\n",
       "| lewiston | 12   | 14   | 18   | 13   | 17   | 14.8 |  2   |\n",
       "| rockymount | 11   | 19   | 21   | 15   | 18   | 16.8 | 18   |\n",
       "| whiteville | 14   | 17   | 23   | 11   |  9   | 14.8 | 12   |\n",
       "| clayton | 17   | 23   | 15   | 19   | 13   | 17.4 |  2   |\n",
       "\n"
      ],
      "text/plain": [
       "           M  T  W  R  F  means.peanut short\n",
       "lewiston   12 14 18 13 17 14.8          2   \n",
       "rockymount 11 19 21 15 18 16.8         18   \n",
       "whiteville 14 17 23 11  9 14.8         12   \n",
       "clayton    17 23 15 19 13 17.4          2   "
      ]
     },
     "metadata": {},
     "output_type": "display_data"
    }
   ],
   "source": [
    "cbind(ncsu.matrix,short)"
   ]
  },
  {
   "cell_type": "code",
   "execution_count": 55,
   "metadata": {},
   "outputs": [
    {
     "name": "stderr",
     "output_type": "stream",
     "text": [
      "Warning message in cbind(ncsu.matrix, long):\n",
      "\"number of rows of result is not a multiple of vector length (arg 2)\""
     ]
    },
    {
     "data": {
      "text/html": [
       "<table>\n",
       "<thead><tr><th></th><th scope=col>M</th><th scope=col>T</th><th scope=col>W</th><th scope=col>R</th><th scope=col>F</th><th scope=col>means.peanut</th><th scope=col>long</th></tr></thead>\n",
       "<tbody>\n",
       "\t<tr><th scope=row>lewiston</th><td>12  </td><td>14  </td><td>18  </td><td>13  </td><td>17  </td><td>14.8</td><td>12  </td></tr>\n",
       "\t<tr><th scope=row>rockymount</th><td>11  </td><td>19  </td><td>21  </td><td>15  </td><td>18  </td><td>16.8</td><td>11  </td></tr>\n",
       "\t<tr><th scope=row>whiteville</th><td>14  </td><td>17  </td><td>23  </td><td>11  </td><td> 9  </td><td>14.8</td><td> 9  </td></tr>\n",
       "\t<tr><th scope=row>clayton</th><td>17  </td><td>23  </td><td>15  </td><td>19  </td><td>13  </td><td>17.4</td><td>18  </td></tr>\n",
       "</tbody>\n",
       "</table>\n"
      ],
      "text/latex": [
       "\\begin{tabular}{r|lllllll}\n",
       "  & M & T & W & R & F & means.peanut & long\\\\\n",
       "\\hline\n",
       "\tlewiston & 12   & 14   & 18   & 13   & 17   & 14.8 & 12  \\\\\n",
       "\trockymount & 11   & 19   & 21   & 15   & 18   & 16.8 & 11  \\\\\n",
       "\twhiteville & 14   & 17   & 23   & 11   &  9   & 14.8 &  9  \\\\\n",
       "\tclayton & 17   & 23   & 15   & 19   & 13   & 17.4 & 18  \\\\\n",
       "\\end{tabular}\n"
      ],
      "text/markdown": [
       "\n",
       "| <!--/--> | M | T | W | R | F | means.peanut | long |\n",
       "|---|---|---|---|---|---|---|---|\n",
       "| lewiston | 12   | 14   | 18   | 13   | 17   | 14.8 | 12   |\n",
       "| rockymount | 11   | 19   | 21   | 15   | 18   | 16.8 | 11   |\n",
       "| whiteville | 14   | 17   | 23   | 11   |  9   | 14.8 |  9   |\n",
       "| clayton | 17   | 23   | 15   | 19   | 13   | 17.4 | 18   |\n",
       "\n"
      ],
      "text/plain": [
       "           M  T  W  R  F  means.peanut long\n",
       "lewiston   12 14 18 13 17 14.8         12  \n",
       "rockymount 11 19 21 15 18 16.8         11  \n",
       "whiteville 14 17 23 11  9 14.8          9  \n",
       "clayton    17 23 15 19 13 17.4         18  "
      ]
     },
     "metadata": {},
     "output_type": "display_data"
    }
   ],
   "source": [
    "cbind(ncsu.matrix,long)"
   ]
  },
  {
   "cell_type": "code",
   "execution_count": 56,
   "metadata": {},
   "outputs": [
    {
     "data": {
      "text/html": [
       "<table>\n",
       "<tbody>\n",
       "\t<tr><td> 1</td><td> 2</td><td> 3</td><td> 4</td><td> 5</td><td> 6</td><td> 7</td><td> 8</td><td> 9</td><td>10</td></tr>\n",
       "\t<tr><td>11</td><td>12</td><td>13</td><td>14</td><td>15</td><td>16</td><td>17</td><td>18</td><td>19</td><td>20</td></tr>\n",
       "\t<tr><td>21</td><td>22</td><td>23</td><td>24</td><td>25</td><td>26</td><td>27</td><td>28</td><td>29</td><td>30</td></tr>\n",
       "\t<tr><td>31</td><td>32</td><td>33</td><td>34</td><td>35</td><td>36</td><td>37</td><td>38</td><td>39</td><td>40</td></tr>\n",
       "\t<tr><td>41</td><td>42</td><td>43</td><td>44</td><td>45</td><td>46</td><td>47</td><td>48</td><td>49</td><td>50</td></tr>\n",
       "</tbody>\n",
       "</table>\n"
      ],
      "text/latex": [
       "\\begin{tabular}{llllllllll}\n",
       "\t  1 &  2 &  3 &  4 &  5 &  6 &  7 &  8 &  9 & 10\\\\\n",
       "\t 11 & 12 & 13 & 14 & 15 & 16 & 17 & 18 & 19 & 20\\\\\n",
       "\t 21 & 22 & 23 & 24 & 25 & 26 & 27 & 28 & 29 & 30\\\\\n",
       "\t 31 & 32 & 33 & 34 & 35 & 36 & 37 & 38 & 39 & 40\\\\\n",
       "\t 41 & 42 & 43 & 44 & 45 & 46 & 47 & 48 & 49 & 50\\\\\n",
       "\\end{tabular}\n"
      ],
      "text/markdown": [
       "\n",
       "|  1 |  2 |  3 |  4 |  5 |  6 |  7 |  8 |  9 | 10 |\n",
       "| 11 | 12 | 13 | 14 | 15 | 16 | 17 | 18 | 19 | 20 |\n",
       "| 21 | 22 | 23 | 24 | 25 | 26 | 27 | 28 | 29 | 30 |\n",
       "| 31 | 32 | 33 | 34 | 35 | 36 | 37 | 38 | 39 | 40 |\n",
       "| 41 | 42 | 43 | 44 | 45 | 46 | 47 | 48 | 49 | 50 |\n",
       "\n"
      ],
      "text/plain": [
       "     [,1] [,2] [,3] [,4] [,5] [,6] [,7] [,8] [,9] [,10]\n",
       "[1,]  1    2    3    4    5    6    7    8    9   10   \n",
       "[2,] 11   12   13   14   15   16   17   18   19   20   \n",
       "[3,] 21   22   23   24   25   26   27   28   29   30   \n",
       "[4,] 31   32   33   34   35   36   37   38   39   40   \n",
       "[5,] 41   42   43   44   45   46   47   48   49   50   "
      ]
     },
     "metadata": {},
     "output_type": "display_data"
    }
   ],
   "source": [
    "#example.matrix[row][column] alternatively and perhaps preferably [example.matric[row,column]]\n",
    "mat"
   ]
  },
  {
   "cell_type": "code",
   "execution_count": 57,
   "metadata": {},
   "outputs": [
    {
     "data": {
      "text/html": [
       "<ol class=list-inline>\n",
       "\t<li>1</li>\n",
       "\t<li>2</li>\n",
       "\t<li>3</li>\n",
       "\t<li>4</li>\n",
       "\t<li>5</li>\n",
       "\t<li>6</li>\n",
       "\t<li>7</li>\n",
       "\t<li>8</li>\n",
       "\t<li>9</li>\n",
       "\t<li>10</li>\n",
       "</ol>\n"
      ],
      "text/latex": [
       "\\begin{enumerate*}\n",
       "\\item 1\n",
       "\\item 2\n",
       "\\item 3\n",
       "\\item 4\n",
       "\\item 5\n",
       "\\item 6\n",
       "\\item 7\n",
       "\\item 8\n",
       "\\item 9\n",
       "\\item 10\n",
       "\\end{enumerate*}\n"
      ],
      "text/markdown": [
       "1. 1\n",
       "2. 2\n",
       "3. 3\n",
       "4. 4\n",
       "5. 5\n",
       "6. 6\n",
       "7. 7\n",
       "8. 8\n",
       "9. 9\n",
       "10. 10\n",
       "\n",
       "\n"
      ],
      "text/plain": [
       " [1]  1  2  3  4  5  6  7  8  9 10"
      ]
     },
     "metadata": {},
     "output_type": "display_data"
    }
   ],
   "source": [
    "#will pull initial row and ignore the column\n",
    "mat[1,]"
   ]
  },
  {
   "cell_type": "code",
   "execution_count": 58,
   "metadata": {},
   "outputs": [
    {
     "data": {
      "text/html": [
       "<ol class=list-inline>\n",
       "\t<li>1</li>\n",
       "\t<li>11</li>\n",
       "\t<li>21</li>\n",
       "\t<li>31</li>\n",
       "\t<li>41</li>\n",
       "</ol>\n"
      ],
      "text/latex": [
       "\\begin{enumerate*}\n",
       "\\item 1\n",
       "\\item 11\n",
       "\\item 21\n",
       "\\item 31\n",
       "\\item 41\n",
       "\\end{enumerate*}\n"
      ],
      "text/markdown": [
       "1. 1\n",
       "2. 11\n",
       "3. 21\n",
       "4. 31\n",
       "5. 41\n",
       "\n",
       "\n"
      ],
      "text/plain": [
       "[1]  1 11 21 31 41"
      ]
     },
     "metadata": {},
     "output_type": "display_data"
    }
   ],
   "source": [
    "mat[,1]"
   ]
  },
  {
   "cell_type": "code",
   "execution_count": 59,
   "metadata": {},
   "outputs": [
    {
     "data": {
      "text/html": [
       "<table>\n",
       "<tbody>\n",
       "\t<tr><td> 1</td><td> 2</td><td> 3</td><td> 4</td><td> 5</td><td> 6</td><td> 7</td><td> 8</td><td> 9</td><td>10</td></tr>\n",
       "\t<tr><td>11</td><td>12</td><td>13</td><td>14</td><td>15</td><td>16</td><td>17</td><td>18</td><td>19</td><td>20</td></tr>\n",
       "\t<tr><td>21</td><td>22</td><td>23</td><td>24</td><td>25</td><td>26</td><td>27</td><td>28</td><td>29</td><td>30</td></tr>\n",
       "</tbody>\n",
       "</table>\n"
      ],
      "text/latex": [
       "\\begin{tabular}{llllllllll}\n",
       "\t  1 &  2 &  3 &  4 &  5 &  6 &  7 &  8 &  9 & 10\\\\\n",
       "\t 11 & 12 & 13 & 14 & 15 & 16 & 17 & 18 & 19 & 20\\\\\n",
       "\t 21 & 22 & 23 & 24 & 25 & 26 & 27 & 28 & 29 & 30\\\\\n",
       "\\end{tabular}\n"
      ],
      "text/markdown": [
       "\n",
       "|  1 |  2 |  3 |  4 |  5 |  6 |  7 |  8 |  9 | 10 |\n",
       "| 11 | 12 | 13 | 14 | 15 | 16 | 17 | 18 | 19 | 20 |\n",
       "| 21 | 22 | 23 | 24 | 25 | 26 | 27 | 28 | 29 | 30 |\n",
       "\n"
      ],
      "text/plain": [
       "     [,1] [,2] [,3] [,4] [,5] [,6] [,7] [,8] [,9] [,10]\n",
       "[1,]  1    2    3    4    5    6    7    8    9   10   \n",
       "[2,] 11   12   13   14   15   16   17   18   19   20   \n",
       "[3,] 21   22   23   24   25   26   27   28   29   30   "
      ]
     },
     "metadata": {},
     "output_type": "display_data"
    }
   ],
   "source": [
    "mat[1:3,]"
   ]
  },
  {
   "cell_type": "code",
   "execution_count": 60,
   "metadata": {},
   "outputs": [
    {
     "data": {
      "text/html": [
       "<table>\n",
       "<tbody>\n",
       "\t<tr><td>21</td><td>22</td><td>23</td><td>24</td><td>25</td><td>26</td><td>27</td><td>28</td><td>29</td><td>30</td></tr>\n",
       "\t<tr><td>31</td><td>32</td><td>33</td><td>34</td><td>35</td><td>36</td><td>37</td><td>38</td><td>39</td><td>40</td></tr>\n",
       "\t<tr><td>41</td><td>42</td><td>43</td><td>44</td><td>45</td><td>46</td><td>47</td><td>48</td><td>49</td><td>50</td></tr>\n",
       "</tbody>\n",
       "</table>\n"
      ],
      "text/latex": [
       "\\begin{tabular}{llllllllll}\n",
       "\t 21 & 22 & 23 & 24 & 25 & 26 & 27 & 28 & 29 & 30\\\\\n",
       "\t 31 & 32 & 33 & 34 & 35 & 36 & 37 & 38 & 39 & 40\\\\\n",
       "\t 41 & 42 & 43 & 44 & 45 & 46 & 47 & 48 & 49 & 50\\\\\n",
       "\\end{tabular}\n"
      ],
      "text/markdown": [
       "\n",
       "| 21 | 22 | 23 | 24 | 25 | 26 | 27 | 28 | 29 | 30 |\n",
       "| 31 | 32 | 33 | 34 | 35 | 36 | 37 | 38 | 39 | 40 |\n",
       "| 41 | 42 | 43 | 44 | 45 | 46 | 47 | 48 | 49 | 50 |\n",
       "\n"
      ],
      "text/plain": [
       "     [,1] [,2] [,3] [,4] [,5] [,6] [,7] [,8] [,9] [,10]\n",
       "[1,] 21   22   23   24   25   26   27   28   29   30   \n",
       "[2,] 31   32   33   34   35   36   37   38   39   40   \n",
       "[3,] 41   42   43   44   45   46   47   48   49   50   "
      ]
     },
     "metadata": {},
     "output_type": "display_data"
    }
   ],
   "source": [
    "mat[3:5,]"
   ]
  },
  {
   "cell_type": "code",
   "execution_count": 61,
   "metadata": {},
   "outputs": [
    {
     "data": {
      "text/html": [
       "<table>\n",
       "<tbody>\n",
       "\t<tr><td> 1</td><td> 2</td><td> 3</td></tr>\n",
       "\t<tr><td>11</td><td>12</td><td>13</td></tr>\n",
       "</tbody>\n",
       "</table>\n"
      ],
      "text/latex": [
       "\\begin{tabular}{lll}\n",
       "\t  1 &  2 &  3\\\\\n",
       "\t 11 & 12 & 13\\\\\n",
       "\\end{tabular}\n"
      ],
      "text/markdown": [
       "\n",
       "|  1 |  2 |  3 |\n",
       "| 11 | 12 | 13 |\n",
       "\n"
      ],
      "text/plain": [
       "     [,1] [,2] [,3]\n",
       "[1,]  1    2    3  \n",
       "[2,] 11   12   13  "
      ]
     },
     "metadata": {},
     "output_type": "display_data"
    }
   ],
   "source": [
    "mat[1:2,1:3]"
   ]
  },
  {
   "cell_type": "code",
   "execution_count": 62,
   "metadata": {},
   "outputs": [
    {
     "data": {
      "text/html": [
       "<table>\n",
       "<tbody>\n",
       "\t<tr><td> 9</td><td>10</td></tr>\n",
       "\t<tr><td>19</td><td>20</td></tr>\n",
       "\t<tr><td>29</td><td>30</td></tr>\n",
       "\t<tr><td>39</td><td>40</td></tr>\n",
       "\t<tr><td>49</td><td>50</td></tr>\n",
       "</tbody>\n",
       "</table>\n"
      ],
      "text/latex": [
       "\\begin{tabular}{ll}\n",
       "\t  9 & 10\\\\\n",
       "\t 19 & 20\\\\\n",
       "\t 29 & 30\\\\\n",
       "\t 39 & 40\\\\\n",
       "\t 49 & 50\\\\\n",
       "\\end{tabular}\n"
      ],
      "text/markdown": [
       "\n",
       "|  9 | 10 |\n",
       "| 19 | 20 |\n",
       "| 29 | 30 |\n",
       "| 39 | 40 |\n",
       "| 49 | 50 |\n",
       "\n"
      ],
      "text/plain": [
       "     [,1] [,2]\n",
       "[1,]  9   10  \n",
       "[2,] 19   20  \n",
       "[3,] 29   30  \n",
       "[4,] 39   40  \n",
       "[5,] 49   50  "
      ]
     },
     "metadata": {},
     "output_type": "display_data"
    }
   ],
   "source": [
    "mat[,9:10]"
   ]
  },
  {
   "cell_type": "code",
   "execution_count": 63,
   "metadata": {},
   "outputs": [
    {
     "data": {
      "text/html": [
       "<ol class=list-inline>\n",
       "\t<li>15</li>\n",
       "\t<li>16</li>\n",
       "</ol>\n"
      ],
      "text/latex": [
       "\\begin{enumerate*}\n",
       "\\item 15\n",
       "\\item 16\n",
       "\\end{enumerate*}\n"
      ],
      "text/markdown": [
       "1. 15\n",
       "2. 16\n",
       "\n",
       "\n"
      ],
      "text/plain": [
       "[1] 15 16"
      ]
     },
     "metadata": {},
     "output_type": "display_data"
    }
   ],
   "source": [
    "#if only want to grab numbers in a specific range\n",
    "mat[2,5:6]"
   ]
  },
  {
   "cell_type": "code",
   "execution_count": 64,
   "metadata": {},
   "outputs": [],
   "source": [
    "#factor and categorica matrices\n",
    "#factor()\n",
    "\n",
    "#example: P(peanut), M(maize), S(soybean), C (Cotton)\n",
    "crop<-c('m','c','c','s','p','p','s','c','c','p','m','m','p','c','s')\n",
    "id<-c(1,2,3,4,5,6,7,8,9,10,11,12,13,14,15)"
   ]
  },
  {
   "cell_type": "code",
   "execution_count": 65,
   "metadata": {},
   "outputs": [],
   "source": [
    "factor.crop<-factor(crop)"
   ]
  },
  {
   "cell_type": "code",
   "execution_count": 66,
   "metadata": {},
   "outputs": [
    {
     "data": {
      "text/html": [
       "<ol class=list-inline>\n",
       "\t<li>m</li>\n",
       "\t<li>c</li>\n",
       "\t<li>c</li>\n",
       "\t<li>s</li>\n",
       "\t<li>p</li>\n",
       "\t<li>p</li>\n",
       "\t<li>s</li>\n",
       "\t<li>c</li>\n",
       "\t<li>c</li>\n",
       "\t<li>p</li>\n",
       "\t<li>m</li>\n",
       "\t<li>m</li>\n",
       "\t<li>p</li>\n",
       "\t<li>c</li>\n",
       "\t<li>s</li>\n",
       "</ol>\n",
       "\n",
       "<details>\n",
       "\t<summary style=display:list-item;cursor:pointer>\n",
       "\t\t<strong>Levels</strong>:\n",
       "\t</summary>\n",
       "\t<ol class=list-inline>\n",
       "\t\t<li>'c'</li>\n",
       "\t\t<li>'m'</li>\n",
       "\t\t<li>'p'</li>\n",
       "\t\t<li>'s'</li>\n",
       "\t</ol>\n",
       "</details>"
      ],
      "text/latex": [
       "\\begin{enumerate*}\n",
       "\\item m\n",
       "\\item c\n",
       "\\item c\n",
       "\\item s\n",
       "\\item p\n",
       "\\item p\n",
       "\\item s\n",
       "\\item c\n",
       "\\item c\n",
       "\\item p\n",
       "\\item m\n",
       "\\item m\n",
       "\\item p\n",
       "\\item c\n",
       "\\item s\n",
       "\\end{enumerate*}\n",
       "\n",
       "\\emph{Levels}: \\begin{enumerate*}\n",
       "\\item 'c'\n",
       "\\item 'm'\n",
       "\\item 'p'\n",
       "\\item 's'\n",
       "\\end{enumerate*}\n"
      ],
      "text/markdown": [
       "1. m\n",
       "2. c\n",
       "3. c\n",
       "4. s\n",
       "5. p\n",
       "6. p\n",
       "7. s\n",
       "8. c\n",
       "9. c\n",
       "10. p\n",
       "11. m\n",
       "12. m\n",
       "13. p\n",
       "14. c\n",
       "15. s\n",
       "\n",
       "\n",
       "\n",
       "**Levels**: 1. 'c'\n",
       "2. 'm'\n",
       "3. 'p'\n",
       "4. 's'\n",
       "\n",
       "\n"
      ],
      "text/plain": [
       " [1] m c c s p p s c c p m m p c s\n",
       "Levels: c m p s"
      ]
     },
     "metadata": {},
     "output_type": "display_data"
    }
   ],
   "source": [
    "factor.crop"
   ]
  },
  {
   "cell_type": "code",
   "execution_count": 67,
   "metadata": {},
   "outputs": [],
   "source": [
    "#nominal categorical variables there is no order to\n",
    "#ordinal categorical variables there is an order to! like a subjective level 1-10\n",
    "ord.cat<-c('cold','med','hot')"
   ]
  },
  {
   "cell_type": "code",
   "execution_count": 69,
   "metadata": {},
   "outputs": [
    {
     "data": {
      "text/html": [
       "<ol class=list-inline>\n",
       "\t<li>cold</li>\n",
       "\t<li>hot</li>\n",
       "\t<li>hot</li>\n",
       "\t<li>med</li>\n",
       "\t<li>cold</li>\n",
       "\t<li>med</li>\n",
       "\t<li>hot</li>\n",
       "\t<li>cold</li>\n",
       "\t<li>med</li>\n",
       "\t<li>med</li>\n",
       "</ol>\n",
       "\n",
       "<details>\n",
       "\t<summary style=display:list-item;cursor:pointer>\n",
       "\t\t<strong>Levels</strong>:\n",
       "\t</summary>\n",
       "\t<ol class=list-inline>\n",
       "\t\t<li>'cold'</li>\n",
       "\t\t<li>'med'</li>\n",
       "\t\t<li>'hot'</li>\n",
       "\t</ol>\n",
       "</details>"
      ],
      "text/latex": [
       "\\begin{enumerate*}\n",
       "\\item cold\n",
       "\\item hot\n",
       "\\item hot\n",
       "\\item med\n",
       "\\item cold\n",
       "\\item med\n",
       "\\item hot\n",
       "\\item cold\n",
       "\\item med\n",
       "\\item med\n",
       "\\end{enumerate*}\n",
       "\n",
       "\\emph{Levels}: \\begin{enumerate*}\n",
       "\\item 'cold'\n",
       "\\item 'med'\n",
       "\\item 'hot'\n",
       "\\end{enumerate*}\n"
      ],
      "text/markdown": [
       "1. cold\n",
       "2. hot\n",
       "3. hot\n",
       "4. med\n",
       "5. cold\n",
       "6. med\n",
       "7. hot\n",
       "8. cold\n",
       "9. med\n",
       "10. med\n",
       "\n",
       "\n",
       "\n",
       "**Levels**: 1. 'cold'\n",
       "2. 'med'\n",
       "3. 'hot'\n",
       "\n",
       "\n"
      ],
      "text/plain": [
       " [1] cold hot  hot  med  cold med  hot  cold med  med \n",
       "Levels: cold < med < hot"
      ]
     },
     "metadata": {},
     "output_type": "display_data"
    }
   ],
   "source": [
    "#ordered=TRUE\n",
    "#levels = c(the order of levels)\n",
    "temps<-c('cold', 'hot', 'hot','med', 'cold','med','hot','cold','med','med')\n",
    "fact.temps <- factor(temps, ordered=TRUE, levels=c('cold','med','hot'))\n",
    "#alt fact.temps <- factor(temps, ordered=TRUE, levels=ord.cat\n",
    "fact.temps"
   ]
  },
  {
   "cell_type": "code",
   "execution_count": 70,
   "metadata": {},
   "outputs": [
    {
     "data": {
      "text/plain": [
       "   Length     Class      Mode \n",
       "       10 character character "
      ]
     },
     "metadata": {},
     "output_type": "display_data"
    }
   ],
   "source": [
    "summary(temps)"
   ]
  },
  {
   "cell_type": "code",
   "execution_count": 71,
   "metadata": {},
   "outputs": [
    {
     "data": {
      "text/html": [
       "<dl class=dl-horizontal>\n",
       "\t<dt>cold</dt>\n",
       "\t\t<dd>3</dd>\n",
       "\t<dt>med</dt>\n",
       "\t\t<dd>4</dd>\n",
       "\t<dt>hot</dt>\n",
       "\t\t<dd>3</dd>\n",
       "</dl>\n"
      ],
      "text/latex": [
       "\\begin{description*}\n",
       "\\item[cold] 3\n",
       "\\item[med] 4\n",
       "\\item[hot] 3\n",
       "\\end{description*}\n"
      ],
      "text/markdown": [
       "cold\n",
       ":   3med\n",
       ":   4hot\n",
       ":   3\n",
       "\n"
      ],
      "text/plain": [
       "cold  med  hot \n",
       "   3    4    3 "
      ]
     },
     "metadata": {},
     "output_type": "display_data"
    }
   ],
   "source": [
    "summary(fact.temps)"
   ]
  },
  {
   "cell_type": "code",
   "execution_count": null,
   "metadata": {},
   "outputs": [],
   "source": []
  }
 ],
 "metadata": {
  "kernelspec": {
   "display_name": "R",
   "language": "R",
   "name": "ir"
  },
  "language_info": {
   "codemirror_mode": "r",
   "file_extension": ".r",
   "mimetype": "text/x-r-source",
   "name": "R",
   "pygments_lexer": "r",
   "version": "3.6.1"
  }
 },
 "nbformat": 4,
 "nbformat_minor": 2
}
