{
 "cells": [
  {
   "cell_type": "code",
   "execution_count": 1,
   "metadata": {},
   "outputs": [],
   "source": [
    "#if, else, and else if statements\n",
    "\n",
    "#basic syntax\n",
    "\n",
    "#if (condition){\n",
    "    #execute some code\n",
    "#}"
   ]
  },
  {
   "cell_type": "code",
   "execution_count": 2,
   "metadata": {},
   "outputs": [],
   "source": [
    "hot <- FALSE\n",
    "temp <-60"
   ]
  },
  {
   "cell_type": "code",
   "execution_count": 4,
   "metadata": {},
   "outputs": [
    {
     "data": {
      "text/html": [
       "FALSE"
      ],
      "text/latex": [
       "FALSE"
      ],
      "text/markdown": [
       "FALSE"
      ],
      "text/plain": [
       "[1] FALSE"
      ]
     },
     "metadata": {},
     "output_type": "display_data"
    }
   ],
   "source": [
    "if (temp>80){\n",
    "    hot<- TRUE\n",
    "}\n",
    "#if temp is greater than 80 it will reassign hot to true\n",
    "hot"
   ]
  },
  {
   "cell_type": "code",
   "execution_count": 5,
   "metadata": {},
   "outputs": [
    {
     "data": {
      "text/html": [
       "TRUE"
      ],
      "text/latex": [
       "TRUE"
      ],
      "text/markdown": [
       "TRUE"
      ],
      "text/plain": [
       "[1] TRUE"
      ]
     },
     "metadata": {},
     "output_type": "display_data"
    }
   ],
   "source": [
    "temp2<-100\n",
    "if (temp2>80){\n",
    "    hot<- TRUE\n",
    "}\n",
    "hot"
   ]
  },
  {
   "cell_type": "code",
   "execution_count": 6,
   "metadata": {},
   "outputs": [],
   "source": [
    "#adding else statement\n",
    "#if (condition){\n",
    "    #execute some code\n",
    "#}else{\n",
    "    #additional code\n",
    "#}"
   ]
  },
  {
   "cell_type": "code",
   "execution_count": 9,
   "metadata": {},
   "outputs": [
    {
     "name": "stdout",
     "output_type": "stream",
     "text": [
      "[1] \"Not a bad day for combining!\"\n"
     ]
    }
   ],
   "source": [
    "temp3<-75\n",
    "if(temp3>95){\n",
    "    print('Too hot to pick peanuts')\n",
    "}else{\n",
    "    print('Not a bad day for combining!')\n",
    "}"
   ]
  },
  {
   "cell_type": "code",
   "execution_count": 10,
   "metadata": {},
   "outputs": [],
   "source": [
    "#adding elseif statement\n",
    "#if (condition){\n",
    "    #execute some code\n",
    "#}else if(condition2){\n",
    "    #additional code which matches some condition but other conditions still exist\n",
    "#}else if(condition3{\n",
    "    #more condition, can have multiple\n",
    "#}\n",
    "#ends on else statement"
   ]
  },
  {
   "cell_type": "code",
   "execution_count": 11,
   "metadata": {},
   "outputs": [
    {
     "name": "stdout",
     "output_type": "stream",
     "text": [
      "[1] \"perfefct combining weather\"\n"
     ]
    }
   ],
   "source": [
    "if(temp3>80){\n",
    "    print('hot day for picking peanuts')\n",
    "}else if(temp <80 & temp >50){\n",
    "    print('perfefct combining weather')\n",
    "}else if (temp <50 & temp>32){\n",
    "    print('are we in Michigan?')\n",
    "}else{\n",
    "    print('global warming is fake news')\n",
    "}"
   ]
  },
  {
   "cell_type": "code",
   "execution_count": 14,
   "metadata": {},
   "outputs": [
    {
     "data": {
      "text/html": [
       "'Release N140223'"
      ],
      "text/latex": [
       "'Release N140223'"
      ],
      "text/markdown": [
       "'Release N140223'"
      ],
      "text/plain": [
       "[1] \"Release N140223\""
      ]
     },
     "metadata": {},
     "output_type": "display_data"
    }
   ],
   "source": [
    "#multiple conditions useing if, else if, else\n",
    "line <- 'N140223'\n",
    "yield <- 5800\n",
    "leaf_spot <- 2.5\n",
    "\n",
    "report<-'Blank'\n",
    "\n",
    "if(yield >= 5500 & leaf_spot <=3){\n",
    "    report <- paste('Release',line)\n",
    "}else if (yield >= 5500 & leaf_spot > 3){\n",
    "    report<- paste(line, ' is a good agronomic parent')\n",
    "}else if (yield <= 5500 & leaf_spot<=3){\n",
    "    report<-paste(line, 'is a good didease resistant parent')\n",
    "}else{\n",
    "    report<-paste('Drop',line)\n",
    "}\n",
    "report"
   ]
  },
  {
   "cell_type": "code",
   "execution_count": 15,
   "metadata": {},
   "outputs": [
    {
     "data": {
      "text/html": [
       "<table>\n",
       "<thead><tr><th scope=col>lines</th><th scope=col>yield</th></tr></thead>\n",
       "<tbody>\n",
       "\t<tr><td>Bailey   </td><td>5100     </td></tr>\n",
       "\t<tr><td>Bailey II</td><td>5200     </td></tr>\n",
       "\t<tr><td>Sullivan </td><td>5600     </td></tr>\n",
       "\t<tr><td>Emery    </td><td>4900     </td></tr>\n",
       "</tbody>\n",
       "</table>\n"
      ],
      "text/latex": [
       "\\begin{tabular}{r|ll}\n",
       " lines & yield\\\\\n",
       "\\hline\n",
       "\t Bailey    & 5100     \\\\\n",
       "\t Bailey II & 5200     \\\\\n",
       "\t Sullivan  & 5600     \\\\\n",
       "\t Emery     & 4900     \\\\\n",
       "\\end{tabular}\n"
      ],
      "text/markdown": [
       "\n",
       "| lines | yield |\n",
       "|---|---|\n",
       "| Bailey    | 5100      |\n",
       "| Bailey II | 5200      |\n",
       "| Sullivan  | 5600      |\n",
       "| Emery     | 4900      |\n",
       "\n"
      ],
      "text/plain": [
       "  lines     yield\n",
       "1 Bailey    5100 \n",
       "2 Bailey II 5200 \n",
       "3 Sullivan  5600 \n",
       "4 Emery     4900 "
      ]
     },
     "metadata": {},
     "output_type": "display_data"
    }
   ],
   "source": [
    "lines<-c('Bailey','Bailey II','Sullivan','Emery')\n",
    "yield <-c(5100, 5200, 5600, 4900)\n",
    "peanuts<-data.frame(lines, yield)\n",
    "peanuts"
   ]
  },
  {
   "cell_type": "code",
   "execution_count": 17,
   "metadata": {},
   "outputs": [
    {
     "data": {
      "text/html": [
       "4900"
      ],
      "text/latex": [
       "4900"
      ],
      "text/markdown": [
       "4900"
      ],
      "text/plain": [
       "[1] 4900"
      ]
     },
     "metadata": {},
     "output_type": "display_data"
    }
   ],
   "source": [
    "test<-min(peanuts$yield)\n",
    "test"
   ]
  },
  {
   "cell_type": "code",
   "execution_count": 21,
   "metadata": {},
   "outputs": [
    {
     "name": "stdout",
     "output_type": "stream",
     "text": [
      "[1] \"Another peanut line has a lower yield\"\n"
     ]
    }
   ],
   "source": [
    "if(peanuts$yield[1]==test)\n",
    "    #alternatively if(peanuts$yield[1]==min(peanuts$yield))\n",
    "    {\n",
    "    print(paste(peanuts$lines[1], 'has the lowest yield'))\n",
    "}else{\n",
    "    print('Another peanut line has a lower yield')\n",
    "}"
   ]
  },
  {
   "cell_type": "code",
   "execution_count": 22,
   "metadata": {},
   "outputs": [
    {
     "name": "stdout",
     "output_type": "stream",
     "text": [
      "[1] \"Emery has the lowest yield\"\n"
     ]
    }
   ],
   "source": [
    "if(peanuts$yield[1]==min(peanuts$yield)){\n",
    "    print(paste(peanuts$lines[1], 'has the lowest yield'))\n",
    "}else if (peanuts$yield[2]==min(peanuts$yield)){\n",
    "    print(paste(peanuts$lines[2], 'has the lowest yield'))\n",
    "}else if (peanuts$yield[3]==min(peanuts$yield)){\n",
    "    print(paste(peanuts$lines[3], 'has the lowest yield'))\n",
    "}else if (peanuts$yield[4]==min(peanuts$yield)){\n",
    "    print(paste(peanuts$lines[4], 'has the lowest yield'))\n",
    "}"
   ]
  },
  {
   "cell_type": "code",
   "execution_count": 24,
   "metadata": {},
   "outputs": [
    {
     "name": "stdout",
     "output_type": "stream",
     "text": [
      "[1] \"Emery has the lowest yield\"\n"
     ]
    }
   ],
   "source": [
    "#to cycle through each column in meaningful manner until the condition is true\n",
    "#use a for loop\n",
    "\n",
    "for (i in 1:4){\n",
    "    if (peanuts$yield[i]==test)\n",
    "        print(paste(peanuts$lines[i], 'has the lowest yield'))\n",
    "}"
   ]
  },
  {
   "cell_type": "code",
   "execution_count": 25,
   "metadata": {},
   "outputs": [],
   "source": [
    "#for loops\n",
    "\n",
    "#for(temporary variale in object){\n",
    "#execute some code\n",
    "#}"
   ]
  },
  {
   "cell_type": "code",
   "execution_count": 34,
   "metadata": {},
   "outputs": [],
   "source": [
    "vec <- c(1:10)"
   ]
  },
  {
   "cell_type": "code",
   "execution_count": 35,
   "metadata": {},
   "outputs": [
    {
     "name": "stdout",
     "output_type": "stream",
     "text": [
      "[1] 1\n",
      "[1] 2\n",
      "[1] 3\n",
      "[1] 4\n",
      "[1] 5\n",
      "[1] 6\n",
      "[1] 7\n",
      "[1] 8\n",
      "[1] 9\n",
      "[1] 10\n"
     ]
    }
   ],
   "source": [
    "for (temp_var in vec){\n",
    "    print(temp_var)\n",
    "}\n",
    "#temp_var becomes an iteration"
   ]
  },
  {
   "cell_type": "code",
   "execution_count": 36,
   "metadata": {},
   "outputs": [
    {
     "name": "stdout",
     "output_type": "stream",
     "text": [
      "[1] 1\n",
      "[1] 2\n",
      "[1] 3\n"
     ]
    }
   ],
   "source": [
    "for (temp_var in 1:3){\n",
    "    print(temp_var)\n",
    "}\n",
    "#creates a range but not that it is not pulling from anywhere, it is creating it"
   ]
  },
  {
   "cell_type": "code",
   "execution_count": 37,
   "metadata": {},
   "outputs": [
    {
     "name": "stdout",
     "output_type": "stream",
     "text": [
      "[1] 3\n",
      "[1] 4\n",
      "[1] 5\n",
      "[1] 6\n",
      "[1] 7\n",
      "[1] 8\n",
      "[1] 9\n",
      "[1] 10\n"
     ]
    }
   ],
   "source": [
    "for (temp_var in 3:length(vec)){\n",
    "    print (vec[temp_var])\n",
    "}\n",
    "#this one created a range within vec\n",
    "#length determines without saying whatever the end of the vector\n",
    "#3 just indictes from the 3rd vaiable "
   ]
  },
  {
   "cell_type": "code",
   "execution_count": 38,
   "metadata": {},
   "outputs": [
    {
     "name": "stdout",
     "output_type": "stream",
     "text": [
      "[1] 1\n",
      "[1] 1.3\n",
      "[1] 60\n",
      "[1] 54\n"
     ]
    }
   ],
   "source": [
    "vec<-c(510,2,1,1.3,60,54)\n",
    "for (temp_var in 3:length(vec)){\n",
    "    print (vec[temp_var])\n",
    "}\n",
    "#3 just indictes from the 3rd vaiable"
   ]
  },
  {
   "cell_type": "code",
   "execution_count": 39,
   "metadata": {},
   "outputs": [
    {
     "name": "stdout",
     "output_type": "stream",
     "text": [
      "[1] \"Individual 1 Height =  58 and weight = 115\"\n",
      "[1] \"Individual 2 Height =  59 and weight = 117\"\n"
     ]
    }
   ],
   "source": [
    "df<-women\n",
    "\n",
    "for (i in 1:length(df)){\n",
    "    print(paste(sprintf('Individual %s', i),'Height = ', df$height[i], 'and weight =', df$weight[i]))\n",
    "}"
   ]
  },
  {
   "cell_type": "code",
   "execution_count": 41,
   "metadata": {},
   "outputs": [
    {
     "data": {
      "text/html": [
       "15"
      ],
      "text/latex": [
       "15"
      ],
      "text/markdown": [
       "15"
      ],
      "text/plain": [
       "[1] 15"
      ]
     },
     "metadata": {},
     "output_type": "display_data"
    }
   ],
   "source": [
    "df<-women\n",
    "nrow(df)"
   ]
  },
  {
   "cell_type": "code",
   "execution_count": 40,
   "metadata": {},
   "outputs": [
    {
     "name": "stdout",
     "output_type": "stream",
     "text": [
      "[1] \"Individual 1 Height =  58 and weight = 115\"\n",
      "[1] \"Individual 2 Height =  59 and weight = 117\"\n",
      "[1] \"Individual 3 Height =  60 and weight = 120\"\n",
      "[1] \"Individual 4 Height =  61 and weight = 123\"\n",
      "[1] \"Individual 5 Height =  62 and weight = 126\"\n",
      "[1] \"Individual 6 Height =  63 and weight = 129\"\n",
      "[1] \"Individual 7 Height =  64 and weight = 132\"\n",
      "[1] \"Individual 8 Height =  65 and weight = 135\"\n",
      "[1] \"Individual 9 Height =  66 and weight = 139\"\n",
      "[1] \"Individual 10 Height =  67 and weight = 142\"\n",
      "[1] \"Individual 11 Height =  68 and weight = 146\"\n",
      "[1] \"Individual 12 Height =  69 and weight = 150\"\n",
      "[1] \"Individual 13 Height =  70 and weight = 154\"\n",
      "[1] \"Individual 14 Height =  71 and weight = 159\"\n",
      "[1] \"Individual 15 Height =  72 and weight = 164\"\n"
     ]
    }
   ],
   "source": [
    "for (i in 1:nrow(df)){\n",
    "    print(paste(sprintf('Individual %s', i),'Height = ', df$height[i], 'and weight =', df$weight[i]))\n",
    "}\n",
    "#nrow includes all of the rows within the data frame\n",
    "#bc nrow=15 it will cycle through this infor 15 times\n",
    "#bracketed i as in [i] treats whatever before it as an index"
   ]
  },
  {
   "cell_type": "code",
   "execution_count": 42,
   "metadata": {},
   "outputs": [],
   "source": [
    "# nesting for loops\n",
    "\n",
    "mat<-matrix(1:25, nrow=5, byrow=FALSE)"
   ]
  },
  {
   "cell_type": "code",
   "execution_count": 43,
   "metadata": {},
   "outputs": [
    {
     "data": {
      "text/html": [
       "<table>\n",
       "<tbody>\n",
       "\t<tr><td>1 </td><td> 6</td><td>11</td><td>16</td><td>21</td></tr>\n",
       "\t<tr><td>2 </td><td> 7</td><td>12</td><td>17</td><td>22</td></tr>\n",
       "\t<tr><td>3 </td><td> 8</td><td>13</td><td>18</td><td>23</td></tr>\n",
       "\t<tr><td>4 </td><td> 9</td><td>14</td><td>19</td><td>24</td></tr>\n",
       "\t<tr><td>5 </td><td>10</td><td>15</td><td>20</td><td>25</td></tr>\n",
       "</tbody>\n",
       "</table>\n"
      ],
      "text/latex": [
       "\\begin{tabular}{lllll}\n",
       "\t 1  &  6 & 11 & 16 & 21\\\\\n",
       "\t 2  &  7 & 12 & 17 & 22\\\\\n",
       "\t 3  &  8 & 13 & 18 & 23\\\\\n",
       "\t 4  &  9 & 14 & 19 & 24\\\\\n",
       "\t 5  & 10 & 15 & 20 & 25\\\\\n",
       "\\end{tabular}\n"
      ],
      "text/markdown": [
       "\n",
       "| 1  |  6 | 11 | 16 | 21 |\n",
       "| 2  |  7 | 12 | 17 | 22 |\n",
       "| 3  |  8 | 13 | 18 | 23 |\n",
       "| 4  |  9 | 14 | 19 | 24 |\n",
       "| 5  | 10 | 15 | 20 | 25 |\n",
       "\n"
      ],
      "text/plain": [
       "     [,1] [,2] [,3] [,4] [,5]\n",
       "[1,] 1     6   11   16   21  \n",
       "[2,] 2     7   12   17   22  \n",
       "[3,] 3     8   13   18   23  \n",
       "[4,] 4     9   14   19   24  \n",
       "[5,] 5    10   15   20   25  "
      ]
     },
     "metadata": {},
     "output_type": "display_data"
    }
   ],
   "source": [
    "mat"
   ]
  },
  {
   "cell_type": "code",
   "execution_count": 46,
   "metadata": {},
   "outputs": [
    {
     "name": "stdout",
     "output_type": "stream",
     "text": [
      "[1] \"the element at row: 1 and column: 1 is 1\"\n",
      "[1] \"the element at row: 1 and column: 2 is 6\"\n",
      "[1] \"the element at row: 1 and column: 3 is 11\"\n",
      "[1] \"the element at row: 1 and column: 4 is 16\"\n",
      "[1] \"the element at row: 1 and column: 5 is 21\"\n",
      "[1] \"the element at row: 2 and column: 1 is 2\"\n",
      "[1] \"the element at row: 2 and column: 2 is 7\"\n",
      "[1] \"the element at row: 2 and column: 3 is 12\"\n",
      "[1] \"the element at row: 2 and column: 4 is 17\"\n",
      "[1] \"the element at row: 2 and column: 5 is 22\"\n",
      "[1] \"the element at row: 3 and column: 1 is 3\"\n",
      "[1] \"the element at row: 3 and column: 2 is 8\"\n",
      "[1] \"the element at row: 3 and column: 3 is 13\"\n",
      "[1] \"the element at row: 3 and column: 4 is 18\"\n",
      "[1] \"the element at row: 3 and column: 5 is 23\"\n",
      "[1] \"the element at row: 4 and column: 1 is 4\"\n",
      "[1] \"the element at row: 4 and column: 2 is 9\"\n",
      "[1] \"the element at row: 4 and column: 3 is 14\"\n",
      "[1] \"the element at row: 4 and column: 4 is 19\"\n",
      "[1] \"the element at row: 4 and column: 5 is 24\"\n",
      "[1] \"the element at row: 5 and column: 1 is 5\"\n",
      "[1] \"the element at row: 5 and column: 2 is 10\"\n",
      "[1] \"the element at row: 5 and column: 3 is 15\"\n",
      "[1] \"the element at row: 5 and column: 4 is 20\"\n",
      "[1] \"the element at row: 5 and column: 5 is 25\"\n"
     ]
    }
   ],
   "source": [
    "for (row in 1:nrow(mat)){\n",
    "    for(col in 1:ncol(mat)){\n",
    "        print(paste('the element at row:',row,'and column:', col, 'is',mat[row,col]))\n",
    "    }\n",
    "}"
   ]
  },
  {
   "cell_type": "code",
   "execution_count": 47,
   "metadata": {},
   "outputs": [],
   "source": [
    "li<-list(vec, mat, df)"
   ]
  },
  {
   "cell_type": "code",
   "execution_count": 48,
   "metadata": {},
   "outputs": [
    {
     "name": "stdout",
     "output_type": "stream",
     "text": [
      "[1] 510.0   2.0   1.0   1.3  60.0  54.0\n",
      "     [,1] [,2] [,3] [,4] [,5]\n",
      "[1,]    1    6   11   16   21\n",
      "[2,]    2    7   12   17   22\n",
      "[3,]    3    8   13   18   23\n",
      "[4,]    4    9   14   19   24\n",
      "[5,]    5   10   15   20   25\n",
      "   height weight\n",
      "1      58    115\n",
      "2      59    117\n",
      "3      60    120\n",
      "4      61    123\n",
      "5      62    126\n",
      "6      63    129\n",
      "7      64    132\n",
      "8      65    135\n",
      "9      66    139\n",
      "10     67    142\n",
      "11     68    146\n",
      "12     69    150\n",
      "13     70    154\n",
      "14     71    159\n",
      "15     72    164\n"
     ]
    }
   ],
   "source": [
    "for (i in li){\n",
    "    print(i)\n",
    "}"
   ]
  },
  {
   "cell_type": "code",
   "execution_count": 49,
   "metadata": {},
   "outputs": [],
   "source": [
    "li2<-list(df,df,df)\n"
   ]
  },
  {
   "cell_type": "code",
   "execution_count": 51,
   "metadata": {},
   "outputs": [
    {
     "name": "stdout",
     "output_type": "stream",
     "text": [
      "[1] 58\n",
      "[1] 58\n",
      "[1] 58\n"
     ]
    }
   ],
   "source": [
    "for (i in li2){\n",
    "    print(i$height[1])\n",
    "}"
   ]
  },
  {
   "cell_type": "code",
   "execution_count": null,
   "metadata": {},
   "outputs": [],
   "source": []
  }
 ],
 "metadata": {
  "kernelspec": {
   "display_name": "R",
   "language": "R",
   "name": "ir"
  },
  "language_info": {
   "codemirror_mode": "r",
   "file_extension": ".r",
   "mimetype": "text/x-r-source",
   "name": "R",
   "pygments_lexer": "r",
   "version": "3.6.1"
  }
 },
 "nbformat": 4,
 "nbformat_minor": 2
}
