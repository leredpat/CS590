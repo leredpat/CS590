{
 "cells": [
  {
   "cell_type": "code",
   "execution_count": 1,
   "metadata": {},
   "outputs": [],
   "source": [
    "#if else and elif statements\n"
   ]
  },
  {
   "cell_type": "code",
   "execution_count": 3,
   "metadata": {},
   "outputs": [
    {
     "name": "stdout",
     "output_type": "stream",
     "text": [
      "The value was TRUE\n"
     ]
    }
   ],
   "source": [
    "if True:\n",
    "    print('The value was TRUE')\n",
    "    \n",
    "#use colon instead of curley bracket\n",
    "#MUST INDENT!!!"
   ]
  },
  {
   "cell_type": "code",
   "execution_count": 4,
   "metadata": {},
   "outputs": [
    {
     "name": "stdout",
     "output_type": "stream",
     "text": [
      "This will always be printed becuase X is a defined variable\n"
     ]
    }
   ],
   "source": [
    "x = False\n",
    "\n",
    "if x:\n",
    "    print('X is True')\n",
    "else:\n",
    "    print('This will always be printed becuase X is a defined variable')\n",
    "    #if and else statement need to be in line with each other!"
   ]
  },
  {
   "cell_type": "code",
   "execution_count": 5,
   "metadata": {},
   "outputs": [
    {
     "name": "stdout",
     "output_type": "stream",
     "text": [
      "X is True\n"
     ]
    }
   ],
   "source": [
    "x = True\n",
    "#conditional if statement\n",
    "if x == True:\n",
    "    print('X is True')\n",
    "else:\n",
    "    print('X is False')"
   ]
  },
  {
   "cell_type": "code",
   "execution_count": 6,
   "metadata": {},
   "outputs": [
    {
     "name": "stdout",
     "output_type": "stream",
     "text": [
      "This is not a peanut research station\n"
     ]
    }
   ],
   "source": [
    "#multiple branching\n",
    "\n",
    "loc = 'Clayton'\n",
    "\n",
    "if loc =='Lewiston':\n",
    "    print('The peanut belt research station')\n",
    "elif loc == 'Rocky Mount':\n",
    "    print('the upper coastal plains research station')\n",
    "elif loc =='Whiteville':\n",
    "    print('the brderbelt tobacco research station')\n",
    "else:\n",
    "    print('This is not a peanut research station')\n",
    "#because else, it indicates that there is no other action to take"
   ]
  },
  {
   "cell_type": "code",
   "execution_count": 8,
   "metadata": {},
   "outputs": [],
   "source": [
    "#working with dataframes\n",
    "\n",
    "import pandas as pd\n",
    "import numpy as np\n",
    "import os\n",
    "\n",
    "os.chdir('G:\\\\My Drive\\\\classes\\\\CS590 - Special Topics - R and Python Programming\\\\jcdunne.CS590')\n",
    "y = pd.read_csv('peanut_yield.txt', sep = '\\t', encoding='ISO-8859-1')"
   ]
  },
  {
   "cell_type": "code",
   "execution_count": 9,
   "metadata": {},
   "outputs": [
    {
     "data": {
      "text/html": [
       "<div>\n",
       "<style scoped>\n",
       "    .dataframe tbody tr th:only-of-type {\n",
       "        vertical-align: middle;\n",
       "    }\n",
       "\n",
       "    .dataframe tbody tr th {\n",
       "        vertical-align: top;\n",
       "    }\n",
       "\n",
       "    .dataframe thead th {\n",
       "        text-align: right;\n",
       "    }\n",
       "</style>\n",
       "<table border=\"1\" class=\"dataframe\">\n",
       "  <thead>\n",
       "    <tr style=\"text-align: right;\">\n",
       "      <th></th>\n",
       "      <th>Year</th>\n",
       "      <th>Location</th>\n",
       "      <th>Name</th>\n",
       "      <th>Label</th>\n",
       "      <th>NC_Accession</th>\n",
       "      <th>Plot_Yield</th>\n",
       "      <th>Yield</th>\n",
       "    </tr>\n",
       "  </thead>\n",
       "  <tbody>\n",
       "    <tr>\n",
       "      <th>0</th>\n",
       "      <td>2014</td>\n",
       "      <td>LEW</td>\n",
       "      <td>ATP</td>\n",
       "      <td>Advanced Testing Program - Yield</td>\n",
       "      <td>ACI WT09-0761</td>\n",
       "      <td>9.0</td>\n",
       "      <td>2733</td>\n",
       "    </tr>\n",
       "    <tr>\n",
       "      <th>1</th>\n",
       "      <td>2014</td>\n",
       "      <td>RMT</td>\n",
       "      <td>ATP</td>\n",
       "      <td>Advanced Testing Program - Yield</td>\n",
       "      <td>ACI WT09-0761</td>\n",
       "      <td>10.2</td>\n",
       "      <td>3085</td>\n",
       "    </tr>\n",
       "    <tr>\n",
       "      <th>2</th>\n",
       "      <td>2014</td>\n",
       "      <td>WHI</td>\n",
       "      <td>ATP</td>\n",
       "      <td>Advanced Testing Program - Yield</td>\n",
       "      <td>ACI WT09-0761</td>\n",
       "      <td>10.2</td>\n",
       "      <td>3085</td>\n",
       "    </tr>\n",
       "    <tr>\n",
       "      <th>3</th>\n",
       "      <td>2015</td>\n",
       "      <td>LEW</td>\n",
       "      <td>ATP</td>\n",
       "      <td>Advanced Testing Program - Yield</td>\n",
       "      <td>ACI WT11-0351</td>\n",
       "      <td>15.3</td>\n",
       "      <td>4632</td>\n",
       "    </tr>\n",
       "    <tr>\n",
       "      <th>4</th>\n",
       "      <td>2015</td>\n",
       "      <td>RMT</td>\n",
       "      <td>ATP</td>\n",
       "      <td>Advanced Testing Program - Yield</td>\n",
       "      <td>ACI WT11-0351</td>\n",
       "      <td>10.7</td>\n",
       "      <td>3226</td>\n",
       "    </tr>\n",
       "  </tbody>\n",
       "</table>\n",
       "</div>"
      ],
      "text/plain": [
       "   Year Location Name                             Label   NC_Accession  \\\n",
       "0  2014      LEW  ATP  Advanced Testing Program - Yield  ACI WT09-0761   \n",
       "1  2014      RMT  ATP  Advanced Testing Program - Yield  ACI WT09-0761   \n",
       "2  2014      WHI  ATP  Advanced Testing Program - Yield  ACI WT09-0761   \n",
       "3  2015      LEW  ATP  Advanced Testing Program - Yield  ACI WT11-0351   \n",
       "4  2015      RMT  ATP  Advanced Testing Program - Yield  ACI WT11-0351   \n",
       "\n",
       "   Plot_Yield  Yield  \n",
       "0         9.0   2733  \n",
       "1        10.2   3085  \n",
       "2        10.2   3085  \n",
       "3        15.3   4632  \n",
       "4        10.7   3226  "
      ]
     },
     "execution_count": 9,
     "metadata": {},
     "output_type": "execute_result"
    }
   ],
   "source": [
    "y.head()"
   ]
  },
  {
   "cell_type": "code",
   "execution_count": 10,
   "metadata": {},
   "outputs": [
    {
     "name": "stdout",
     "output_type": "stream",
     "text": [
      "2733 < 3085\n"
     ]
    }
   ],
   "source": [
    "if y['Yield'].loc[0]>y['Yield'].loc[1]:\n",
    "    print(y['Yield'].loc[0],\">\",y['Yield'].loc[1])\n",
    "else:\n",
    "    print(y['Yield'].loc[0],\"<\",y['Yield'].loc[1])"
   ]
  },
  {
   "cell_type": "code",
   "execution_count": 11,
   "metadata": {},
   "outputs": [
    {
     "name": "stdout",
     "output_type": "stream",
     "text": [
      "3085 = 3085\n"
     ]
    }
   ],
   "source": [
    "if y['Yield'].loc[2]>y['Yield'].loc[1]:\n",
    "    print(y['Yield'].loc[2],\">\",y['Yield'].loc[1])\n",
    "elif y['Yield'].loc[2]==y['Yield'].loc[1]:\n",
    "    print(y['Yield'].loc[2],\"=\",y['Yield'].loc[1])\n",
    "else:\n",
    "    print(y['Yield'].loc[2],\"<\",y['Yield'].loc[1])"
   ]
  },
  {
   "cell_type": "code",
   "execution_count": 15,
   "metadata": {},
   "outputs": [
    {
     "data": {
      "text/html": [
       "<div>\n",
       "<style scoped>\n",
       "    .dataframe tbody tr th:only-of-type {\n",
       "        vertical-align: middle;\n",
       "    }\n",
       "\n",
       "    .dataframe tbody tr th {\n",
       "        vertical-align: top;\n",
       "    }\n",
       "\n",
       "    .dataframe thead th {\n",
       "        text-align: right;\n",
       "    }\n",
       "</style>\n",
       "<table border=\"1\" class=\"dataframe\">\n",
       "  <thead>\n",
       "    <tr style=\"text-align: right;\">\n",
       "      <th></th>\n",
       "      <th>Lines</th>\n",
       "      <th>Yield</th>\n",
       "    </tr>\n",
       "  </thead>\n",
       "  <tbody>\n",
       "    <tr>\n",
       "      <th>0</th>\n",
       "      <td>Bailey</td>\n",
       "      <td>5100</td>\n",
       "    </tr>\n",
       "    <tr>\n",
       "      <th>1</th>\n",
       "      <td>Bailey II</td>\n",
       "      <td>5600</td>\n",
       "    </tr>\n",
       "    <tr>\n",
       "      <th>2</th>\n",
       "      <td>Sullivan</td>\n",
       "      <td>5200</td>\n",
       "    </tr>\n",
       "    <tr>\n",
       "      <th>3</th>\n",
       "      <td>Emery</td>\n",
       "      <td>4900</td>\n",
       "    </tr>\n",
       "  </tbody>\n",
       "</table>\n",
       "</div>"
      ],
      "text/plain": [
       "       Lines  Yield\n",
       "0     Bailey   5100\n",
       "1  Bailey II   5600\n",
       "2   Sullivan   5200\n",
       "3      Emery   4900"
      ]
     },
     "execution_count": 15,
     "metadata": {},
     "output_type": "execute_result"
    }
   ],
   "source": [
    "peanut = pd.DataFrame({'Lines':['Bailey','Bailey II','Sullivan','Emery'],'Yield':[5100, 5600, 5200, 4900]})\n",
    "peanut"
   ]
  },
  {
   "cell_type": "code",
   "execution_count": 16,
   "metadata": {},
   "outputs": [
    {
     "name": "stdout",
     "output_type": "stream",
     "text": [
      "a peanut line has greater than 5500 lbs per acre\n"
     ]
    }
   ],
   "source": [
    "select = 550\n",
    "\n",
    "if max(peanut['Yield']>select):\n",
    "    print('a peanut line has greater than 5500 lbs per acre')\n",
    "else:\n",
    "    print('there are no peanut lines htat meet the 5500 lbs per acre thrshhold')"
   ]
  },
  {
   "cell_type": "code",
   "execution_count": 18,
   "metadata": {},
   "outputs": [
    {
     "name": "stdout",
     "output_type": "stream",
     "text": [
      "a different line has the greatest yield\n"
     ]
    }
   ],
   "source": [
    "test = max('Yield')\n",
    "\n",
    "if peanut['Yield'][0] == test:\n",
    "    print(penaut['Lines'][0], 'has the greatest yield')\n",
    "else:\n",
    "    print('a different line has the greatest yield')"
   ]
  },
  {
   "cell_type": "code",
   "execution_count": 20,
   "metadata": {},
   "outputs": [
    {
     "name": "stdout",
     "output_type": "stream",
     "text": [
      "Emery has the greatest yield\n"
     ]
    }
   ],
   "source": [
    "if peanut['Yield'][0] == test:\n",
    "    print(peanut['Lines'][0], 'has the greatest yield')\n",
    "elif peanut['Yield'][1] == test:\n",
    "    print(peanut['Lines'][1], 'has the greatest yield')\n",
    "elif peanut['Yield'][2] == test:\n",
    "    print(peanut['Lines'][2], 'has the greatest yield')\n",
    "else:\n",
    "    print(peanut['Lines'][3], 'has the greatest yield')"
   ]
  },
  {
   "cell_type": "code",
   "execution_count": 23,
   "metadata": {},
   "outputs": [
    {
     "data": {
      "text/plain": [
       "[1, 2, 3, 4, 5, 6, 7, 8, 9, 10]"
      ]
     },
     "execution_count": 23,
     "metadata": {},
     "output_type": "execute_result"
    }
   ],
   "source": [
    "#for loops\n",
    "# for items in objects (enter, tab) statements to do stuff\n",
    "\n",
    "list1 = [1,2,3,4,5,6,7,8,9,10]\n",
    "list1"
   ]
  },
  {
   "cell_type": "code",
   "execution_count": 24,
   "metadata": {},
   "outputs": [
    {
     "name": "stdout",
     "output_type": "stream",
     "text": [
      "1\n",
      "2\n",
      "3\n",
      "4\n",
      "5\n",
      "6\n",
      "7\n",
      "8\n",
      "9\n",
      "10\n"
     ]
    }
   ],
   "source": [
    "for num in list1:\n",
    "    #createing num which is a variable that has not yet been defined\n",
    "    print (num)\n",
    "    #not that will print the actual elements in list"
   ]
  },
  {
   "cell_type": "code",
   "execution_count": 26,
   "metadata": {},
   "outputs": [
    {
     "name": "stdout",
     "output_type": "stream",
     "text": [
      "T\n",
      "h\n",
      "i\n",
      "s\n",
      " \n",
      "s\n",
      "t\n",
      "r\n",
      "i\n",
      "n\n",
      "g\n"
     ]
    }
   ],
   "source": [
    "# in string\n",
    "for i in \"This string\":\n",
    "    print(i)"
   ]
  },
  {
   "cell_type": "code",
   "execution_count": 27,
   "metadata": {},
   "outputs": [
    {
     "name": "stdout",
     "output_type": "stream",
     "text": [
      "1\n",
      "2\n",
      "3\n",
      "4\n",
      "5\n"
     ]
    }
   ],
   "source": [
    "# iterating over tuples\n",
    "tup = (1,2,3,4,5)\n",
    "#know it is a tuple bc of the () as opposed to the []\n",
    "for t in tup:\n",
    "    print(t)"
   ]
  },
  {
   "cell_type": "code",
   "execution_count": 28,
   "metadata": {},
   "outputs": [
    {
     "name": "stdout",
     "output_type": "stream",
     "text": [
      "(1, 2)\n",
      "(3, 4)\n",
      "(5, 6)\n"
     ]
    }
   ],
   "source": [
    "list2=[(1,2),(3,4),(5,6)]\n",
    "for tup in list2:\n",
    "    print(tup)"
   ]
  },
  {
   "cell_type": "code",
   "execution_count": 29,
   "metadata": {},
   "outputs": [
    {
     "name": "stdout",
     "output_type": "stream",
     "text": [
      "element 1= 1 element 2 = 2\n",
      "element 1= 3 element 2 = 4\n",
      "element 1= 5 element 2 = 6\n"
     ]
    }
   ],
   "source": [
    "for (t1,t2) in list2:\n",
    "    print('element 1=', t1, 'element 2 =',t2)"
   ]
  },
  {
   "cell_type": "code",
   "execution_count": 35,
   "metadata": {},
   "outputs": [
    {
     "name": "stdout",
     "output_type": "stream",
     "text": [
      "key1\n",
      "key2\n",
      "key3\n"
     ]
    }
   ],
   "source": [
    "#iterating over a dictionary object\n",
    "d = {'key1':506, 'key2':79, 'key3':3001}\n",
    "for item in d:\n",
    "    print(item)"
   ]
  },
  {
   "cell_type": "code",
   "execution_count": 36,
   "metadata": {},
   "outputs": [
    {
     "data": {
      "text/plain": [
       "dict_items([('key1', 506), ('key2', 79), ('key3', 3001)])"
      ]
     },
     "execution_count": 36,
     "metadata": {},
     "output_type": "execute_result"
    }
   ],
   "source": [
    "d.items()"
   ]
  },
  {
   "cell_type": "code",
   "execution_count": 38,
   "metadata": {},
   "outputs": [
    {
     "name": "stdout",
     "output_type": "stream",
     "text": [
      "key1\n",
      "506\n",
      "key2\n",
      "79\n",
      "key3\n",
      "3001\n"
     ]
    }
   ],
   "source": [
    "for k,v in d.items():\n",
    "    print(k)\n",
    "    print(v)"
   ]
  },
  {
   "cell_type": "code",
   "execution_count": 39,
   "metadata": {},
   "outputs": [
    {
     "data": {
      "text/plain": [
       "['key1', 'key2', 'key3']"
      ]
     },
     "execution_count": 39,
     "metadata": {},
     "output_type": "execute_result"
    }
   ],
   "source": [
    "list(d.keys())"
   ]
  },
  {
   "cell_type": "code",
   "execution_count": 40,
   "metadata": {},
   "outputs": [
    {
     "data": {
      "text/plain": [
       "[79, 506, 3001]"
      ]
     },
     "execution_count": 40,
     "metadata": {},
     "output_type": "execute_result"
    }
   ],
   "source": [
    "sorted(d.values())"
   ]
  },
  {
   "cell_type": "code",
   "execution_count": 42,
   "metadata": {},
   "outputs": [
    {
     "name": "stdout",
     "output_type": "stream",
     "text": [
      "79\n",
      "506\n",
      "3001\n"
     ]
    }
   ],
   "source": [
    "for v in sorted(d.values()):\n",
    "    print(v)"
   ]
  },
  {
   "cell_type": "code",
   "execution_count": 44,
   "metadata": {},
   "outputs": [
    {
     "name": "stdout",
     "output_type": "stream",
     "text": [
      "0\n",
      "key1\n",
      "1\n",
      "key2\n",
      "2\n",
      "key3\n"
     ]
    }
   ],
   "source": [
    "for k,v in enumerate(d):\n",
    "    print(k)\n",
    "    print(v)\n",
    "    #numeric form of iterating over key elements"
   ]
  },
  {
   "cell_type": "code",
   "execution_count": 45,
   "metadata": {},
   "outputs": [
    {
     "name": "stdout",
     "output_type": "stream",
     "text": [
      "1\n",
      "3\n",
      "6\n",
      "10\n",
      "15\n",
      "21\n",
      "28\n",
      "36\n",
      "45\n",
      "55\n"
     ]
    }
   ],
   "source": [
    "list_sum=0\n",
    "list1=[1,2,3,4,5,6,7,8,9,10]\n",
    "\n",
    "for num in list1:\n",
    "    list_sum = list_sum +num\n",
    "    # can also write list_sum+=num\n",
    "    print(list_sum)"
   ]
  },
  {
   "cell_type": "code",
   "execution_count": 48,
   "metadata": {},
   "outputs": [
    {
     "data": {
      "text/plain": [
       "2"
      ]
     },
     "execution_count": 48,
     "metadata": {},
     "output_type": "execute_result"
    }
   ],
   "source": [
    "#nesting loops\n",
    "17 % 5\n",
    "#modulo which give you a remainder"
   ]
  },
  {
   "cell_type": "code",
   "execution_count": 49,
   "metadata": {},
   "outputs": [
    {
     "name": "stdout",
     "output_type": "stream",
     "text": [
      "2\n",
      "4\n",
      "6\n",
      "8\n",
      "10\n"
     ]
    }
   ],
   "source": [
    "for num in list1:\n",
    "    if num % 2 ==0:\n",
    "        print(num)\n",
    "        #note the double indent"
   ]
  },
  {
   "cell_type": "code",
   "execution_count": 50,
   "metadata": {},
   "outputs": [
    {
     "name": "stdout",
     "output_type": "stream",
     "text": [
      "Odd number\n",
      "2\n",
      "Odd number\n",
      "4\n",
      "Odd number\n",
      "6\n",
      "Odd number\n",
      "8\n",
      "Odd number\n",
      "10\n"
     ]
    }
   ],
   "source": [
    "for num in list1:\n",
    "    if num % 2 ==0:\n",
    "        print(num)\n",
    "    else:\n",
    "        print('Odd number')"
   ]
  },
  {
   "cell_type": "code",
   "execution_count": 52,
   "metadata": {},
   "outputs": [
    {
     "data": {
      "text/html": [
       "<div>\n",
       "<style scoped>\n",
       "    .dataframe tbody tr th:only-of-type {\n",
       "        vertical-align: middle;\n",
       "    }\n",
       "\n",
       "    .dataframe tbody tr th {\n",
       "        vertical-align: top;\n",
       "    }\n",
       "\n",
       "    .dataframe thead th {\n",
       "        text-align: right;\n",
       "    }\n",
       "</style>\n",
       "<table border=\"1\" class=\"dataframe\">\n",
       "  <thead>\n",
       "    <tr style=\"text-align: right;\">\n",
       "      <th></th>\n",
       "      <th>Lines</th>\n",
       "      <th>Yield</th>\n",
       "    </tr>\n",
       "  </thead>\n",
       "  <tbody>\n",
       "    <tr>\n",
       "      <th>0</th>\n",
       "      <td>Bailey</td>\n",
       "      <td>5100</td>\n",
       "    </tr>\n",
       "    <tr>\n",
       "      <th>1</th>\n",
       "      <td>Bailey II</td>\n",
       "      <td>5600</td>\n",
       "    </tr>\n",
       "    <tr>\n",
       "      <th>2</th>\n",
       "      <td>Sullivan</td>\n",
       "      <td>5200</td>\n",
       "    </tr>\n",
       "    <tr>\n",
       "      <th>3</th>\n",
       "      <td>Emery</td>\n",
       "      <td>4900</td>\n",
       "    </tr>\n",
       "  </tbody>\n",
       "</table>\n",
       "</div>"
      ],
      "text/plain": [
       "       Lines  Yield\n",
       "0     Bailey   5100\n",
       "1  Bailey II   5600\n",
       "2   Sullivan   5200\n",
       "3      Emery   4900"
      ]
     },
     "execution_count": 52,
     "metadata": {},
     "output_type": "execute_result"
    }
   ],
   "source": [
    "peanut"
   ]
  },
  {
   "cell_type": "code",
   "execution_count": 54,
   "metadata": {},
   "outputs": [
    {
     "name": "stdout",
     "output_type": "stream",
     "text": [
      "Bailey II has the greatest yield\n"
     ]
    }
   ],
   "source": [
    "test = max(peanut['Yield'])\n",
    "\n",
    "#this replaces all elif statements!\n",
    "\n",
    "#range is creating a range through thich to iterate, which mean 0:3 (beginning to end of this data frame)\n",
    "#add one to the end of the range bc it covrs up to the last specifie range, not through it\n",
    "\n",
    "for i in range(0,4):\n",
    "    if peanut['Yield'][i] ==test:\n",
    "        print(peanut['Lines'][i],'has the greatest yield')"
   ]
  },
  {
   "cell_type": "code",
   "execution_count": null,
   "metadata": {},
   "outputs": [],
   "source": []
  }
 ],
 "metadata": {
  "kernelspec": {
   "display_name": "Python 3",
   "language": "python",
   "name": "python3"
  },
  "language_info": {
   "codemirror_mode": {
    "name": "ipython",
    "version": 3
   },
   "file_extension": ".py",
   "mimetype": "text/x-python",
   "name": "python",
   "nbconvert_exporter": "python",
   "pygments_lexer": "ipython3",
   "version": "3.7.3"
  }
 },
 "nbformat": 4,
 "nbformat_minor": 2
}
