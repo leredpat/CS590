{
 "cells": [
  {
   "cell_type": "markdown",
   "metadata": {},
   "source": [
    "![](logo.png)"
   ]
  },
  {
   "cell_type": "markdown",
   "metadata": {},
   "source": [
    "# <font color='red'>Week 7 - Python Programming Exercise Solutions</font>\n",
    "\n",
    "Let's use **while** loops to create a guessing game.\n",
    "\n",
    "The Challenge:\n",
    "\n",
    "    Write a program that picks a random integer from 1 to 100, and has players guess the number. The rules are:\n",
    "\n",
    "    If a player's guess is less than 1 or greater than 100, say \"OUT OF BOUNDS\" and ask for the input again\n",
    "\n",
    "    On a player's first turn, if their guess is\n",
    "    within 10 of the number, return \"WARM!\"\n",
    "\n",
    "    further than 10 away from the number, return \"COLD!\"\n",
    "\n",
    "    On all subsequent turns, if a guess is\n",
    "    closer to the number than the previous guess return \"WARMER!\"\n",
    "\n",
    "    farther from the number than the previous guess, return \"COLDER!\"\n",
    "\n",
    "    When the player's guess equals the number, tell them they've guessed correctly and how many guesses it took!"
   ]
  },
  {
   "cell_type": "markdown",
   "metadata": {},
   "source": [
    "#### First, pick a random integer from 1 to 100 and assign it to a variable\n",
    "\n",
    "Note: **sample()** allows you to select a random integer between two values - run help(sample) to determine the syntax"
   ]
  },
  {
   "cell_type": "code",
   "execution_count": 5,
   "metadata": {},
   "outputs": [
    {
     "data": {
      "text/html": [
       "79"
      ],
      "text/latex": [
       "79"
      ],
      "text/markdown": [
       "79"
      ],
      "text/plain": [
       "[1] 79"
      ]
     },
     "metadata": {},
     "output_type": "display_data"
    }
   ],
   "source": [
    "sample(1:100,1)"
   ]
  },
  {
   "cell_type": "code",
   "execution_count": 6,
   "metadata": {},
   "outputs": [],
   "source": [
    "num1<-96"
   ]
  },
  {
   "cell_type": "code",
   "execution_count": 7,
   "metadata": {},
   "outputs": [],
   "source": [
    "num<-sample(1:100,1)"
   ]
  },
  {
   "cell_type": "markdown",
   "metadata": {},
   "source": [
    "#### Next, print an introduction to the game and explain the rules"
   ]
  },
  {
   "cell_type": "code",
   "execution_count": 8,
   "metadata": {},
   "outputs": [],
   "source": [
    "guessing_game<-function(x, guesses=0){\n",
    "    while(x!=num1){\n",
    "        print(\"WELCOME TO GUESS ME!\"/n)\n",
    "        print('I am thinking of a number between 1 and 100'/n)\n",
    "        print('If your guess is more than 10 away from my number, I will tell you you are COLD'/n)\n",
    "        print('If your guess is within 10 of my number, I will tell you you are WARM'/n)\n",
    "        print('If your guess is farther than your most recent guess, I will say you are getting COLDER'/n)\n",
    "        print('If your guess is closer than your most recent guess, I will say you are getting WARMER'/n)\n",
    "        print(\"LET'S PLAY!\"/n)\n",
    "    \n",
    "    }\n",
    "}\n"
   ]
  },
  {
   "cell_type": "markdown",
   "metadata": {},
   "source": [
    "[1] \"WELCOME TO GUESS ME!\"\n",
    "<br>[1] \"I'm thinking of a number between 1 and 100\"\n",
    "<br>[1] \"If your guess is more than 10 away from my number, I'll tell you you're COLD\"\n",
    "<br>[1] \"If your guess is within 10 of my number, I'll tell you you're WARM\"\n",
    "<br>[1] \"If your guess is farther than your most recent guess, I'll say you're getting COLDER\"\n",
    "<br>[1] \"If your guess is closer than your most recent guess, I'll say you're getting WARMER\"\n",
    "<br>[1] \"LET'S PLAY!\""
   ]
  },
  {
   "cell_type": "markdown",
   "metadata": {},
   "source": [
    "#### Create a list to store guesses\n",
    "\n",
    "HINT: Zero is a good placeholder value. It's useful because it evaluates to \"FALSE\" based on the conditions of the game"
   ]
  },
  {
   "cell_type": "code",
   "execution_count": 9,
   "metadata": {},
   "outputs": [],
   "source": [
    "# Code Here\n",
    "guesses<-c(0)\n",
    "times<-0\n",
    "\n",
    "guessing_game<-function(x){\n",
    "    while(x!=num1){\n",
    "        print(\"WELCOME TO GUESS ME!\"/n)\n",
    "        print('I am thinking of a number between 1 and 100'/n)\n",
    "        print('If your guess is more than 10 away from my number, I will tell you you are COLD'/n)\n",
    "        print('If your guess is within 10 of my number, I will tell you you are WARM'/n)\n",
    "        print('If your guess is farther than your most recent guess, I will say you are getting COLDER'/n)\n",
    "        print('If your guess is closer than your most recent guess, I will say you are getting WARMER'/n)\n",
    "        print(\"LET'S PLAY!\"/n)\n",
    "        \n",
    "        readline<-readline(prompt=\"Run to get a user prompt \")\n",
    "        \n",
    "        times<-append(times+1)\n",
    "        guesses<-append(guesses, x)\n",
    "        print(paste('You have guessed this many times:', times))\n",
    "        print(paste('These are your guesses:', guesses))\n",
    "        \n",
    "        if (x==num1){\n",
    "           print(paste(sprintf('CONGRATULATIONS, YOU GUESSED IT IN ONLY %s GUESSES', times)))\n",
    "        }\n",
    "    }\n",
    "}"
   ]
  },
  {
   "cell_type": "code",
   "execution_count": 10,
   "metadata": {},
   "outputs": [
    {
     "data": {
      "text/html": [
       "0"
      ],
      "text/latex": [
       "0"
      ],
      "text/markdown": [
       "0"
      ],
      "text/plain": [
       "[1] 0"
      ]
     },
     "metadata": {},
     "output_type": "display_data"
    }
   ],
   "source": [
    "guesses"
   ]
  },
  {
   "cell_type": "markdown",
   "metadata": {},
   "source": [
    "0"
   ]
  },
  {
   "cell_type": "markdown",
   "metadata": {},
   "source": [
    "#### Write a **while** loop that asks for a valid guess. Test it a few times to make sure it works.\n",
    "\n",
    "NOTE: Use the built-in R function **readlines()** to get user input. Use **message()** to print text to the console while the loop is running"
   ]
  },
  {
   "cell_type": "code",
   "execution_count": null,
   "metadata": {},
   "outputs": [],
   "source": [
    "# Use readline() to get a user input prompt. The system will print the user input after pressing enter\n",
    "#This can be stored as a variable and used in the while loop\n",
    "readline(prompt=\"Run to get a user prompt \")"
   ]
  },
  {
   "cell_type": "code",
   "execution_count": 4,
   "metadata": {
    "scrolled": true
   },
   "outputs": [],
   "source": [
    "# Code Here\n",
    "guesses<-c(0)\n",
    "times<-0\n",
    "\n",
    "guessing_game<-function(x){\n",
    "    \n",
    "        print(\"WELCOME TO GUESS ME!\")\n",
    "        print('I am thinking of a number between 1 and 100')\n",
    "        print('If your guess is more than 10 away from my number, I will tell you you are COLD')\n",
    "        print('If your guess is within 10 of my number, I will tell you you are WARM')\n",
    "        print('If your guess is farther than your most recent guess, I will say you are getting COLDER')\n",
    "        print('If your guess is closer than your most recent guess, I will say you are getting WARMER')\n",
    "        print(\"LET'S PLAY!\")\n",
    "        \n",
    "    while(x!=num1){\n",
    "        times<-(times+1)\n",
    "        print(paste('You have guessed this many times:', times))\n",
    "        print(paste('These are your guesses:', guesses))\n",
    "        #print('Guess a number between 1 and 100')\n",
    "        \n",
    "        if (x==num1){\n",
    "           print(paste('CONGRATULATIONS, YOU GUESSED IT IN ONLY %s GUESSES', times))\n",
    "            break\n",
    "        }else if(x>100){\n",
    "            print('OUT OF BOUNDS. Please Try Again')\n",
    "                guesses<-append(readline(prompt=\"Guess a number between 1 and 100. \\n What is your guess? \"), x)\n",
    "        }else if (x<100){\n",
    "            print('Guess again!')\n",
    "                guesses<-append(readline(prompt=\"Guess a number between 1 and 100. \\n What is your guess? \"), x)\n",
    "        }\n",
    "    }\n",
    "}"
   ]
  },
  {
   "cell_type": "code",
   "execution_count": null,
   "metadata": {},
   "outputs": [
    {
     "name": "stdout",
     "output_type": "stream",
     "text": [
      "Whast is your guess? 101\n"
     ]
    }
   ],
   "source": [
    "guessing_game(5)"
   ]
  },
  {
   "cell_type": "markdown",
   "metadata": {},
   "source": [
    "Guess a number between 1 and 100.\n",
    "<br>What is your guess? 101\n",
    "<br>OUT OF BOUNDS. Please Try Again:\n",
    "<br>Guess a number between 1 and 100.\n",
    "<br>What is your guess? 5"
   ]
  },
  {
   "cell_type": "markdown",
   "metadata": {},
   "source": [
    "#### Write a **while** loop that compares the player's guess to our number. If the player guesses correctly, break from the loop. Otherwise, tell the player if they're warmer or colder, and continue asking for guesses.\n",
    "\n",
    "Some hints:\n",
    "* It may help to sketch out all possible combinations on paper first\n",
    "* Use a difference of 10 to suggest warm or cold\n",
    "* you can use the **abs()** function to find the positive difference between two numbers\n",
    "* Use **append()** to append all new guesses to the list, then the previous guess is given as guesses[length(guesses)-1]\n",
    "* For the initial guess, lenght(guesses)-1 == 0, which resolves to FALSE. Use this to determine warm and cold vs warmer and colder"
   ]
  },
  {
   "cell_type": "code",
   "execution_count": 16,
   "metadata": {},
   "outputs": [],
   "source": [
    "# Code Here# Code Here\n",
    "guesses<-c(0)\n",
    "times<-0\n",
    "\n",
    "guessing_game<-function(x){\n",
    "    \n",
    "        print(\"WELCOME TO GUESS ME!\")\n",
    "        print('I am thinking of a number between 1 and 100')\n",
    "        print('If your guess is more than 10 away from my number, I will tell you you are COLD')\n",
    "        print('If your guess is within 10 of my number, I will tell you you are WARM')\n",
    "        print('If your guess is farther than your most recent guess, I will say you are getting COLDER')\n",
    "        print('If your guess is closer than your most recent guess, I will say you are getting WARMER')\n",
    "        print(\"LET'S PLAY!\")\n",
    "        \n",
    "    while(x!=num1){\n",
    "        times<-(times+1)\n",
    "        print(paste('You have guessed this many times:', times))\n",
    "        print(paste('These are your guesses:', guesses))\n",
    "        #print('Guess a number between 1 and 100')\n",
    "        \n",
    "        if (x==num1){\n",
    "           print(paste('CONGRATULATIONS, YOU GUESSED IT IN ONLY %s GUESSES', times))\n",
    "            break\n",
    "        }else if(x>100){\n",
    "            print('OUT OF BOUNDS. Please Try Again')\n",
    "                guesses<-append(readline(prompt=\"Guess a number between 1 and 100. \\n What is your guess? \"), x)\n",
    "        }else if (x<100){\n",
    "            if(length(guesses)-1 ==0){\n",
    "                print('NOT QUITE!')\n",
    "            }else if ((abs(x-guesses[length(guesses)-1]))<guesses[length(guesses)-1]){\n",
    "                print('WARMER!')\n",
    "            }else if((abs(x-guesses[length(guesses)-1]))>guesses[length(guesses)-1]){\n",
    "                print('COLDER!')\n",
    "            }\n",
    "                guesses<-append(readline(prompt=\"Guess a number between 1 and 100. \\n What is your guess? \"), x)\n",
    "        }\n",
    "    }\n",
    "}"
   ]
  },
  {
   "cell_type": "code",
   "execution_count": 14,
   "metadata": {},
   "outputs": [],
   "source": [
    "#corrected\n",
    "# Code Here# Code Here\n",
    "guesses<-c(0)\n",
    "times<-0\n",
    "\n",
    "guessing_game<-function(x){\n",
    "    \n",
    "        print(\"WELCOME TO GUESS ME!\")\n",
    "        print('I am thinking of a number between 1 and 100')\n",
    "        print('If your guess is more than 10 away from my number, I will tell you you are COLD')\n",
    "        print('If your guess is within 10 of my number, I will tell you you are WARM')\n",
    "        print('If your guess is farther than your most recent guess, I will say you are getting COLDER')\n",
    "        print('If your guess is closer than your most recent guess, I will say you are getting WARMER')\n",
    "        print(\"LET'S PLAY!\")\n",
    "        \n",
    "    while(x!=num1){\n",
    "        times<-(times+1)\n",
    "        print(paste('You have guessed this many times:', times))\n",
    "        print(paste('These are your guesses so far:', guesses))\n",
    "        print('Guess a number between 1 and 100')\n",
    "        \n",
    "        if (x==num1){\n",
    "           message(sprintf('CONGRATULATIONS, YOU GUESSED IT IN ONLY %s GUESSES', times))\n",
    "            break\n",
    "        }else if(x < 1 | x > 100){\n",
    "            message('OUT OF BOUNDS. Please Try Again')\n",
    "            next\n",
    "                guesses<-append(as.integer(readline(prompt=\"Guess a number between 1 and 100. \\n What is your guess? \"), x))\n",
    "        }else if (x<100){\n",
    "            if(length(guesses)-1 ==0){\n",
    "                print('NOT QUITE!')\n",
    "            }else if ((abs(x-guesses))<abs(x-guesses[length(guesses)-1])){\n",
    "                print('WARMER!')\n",
    "            }else if((abs(x-guesses))>abs(x-guesses[length(guesses)-1])){\n",
    "                print('COLDER!')\n",
    "            }\n",
    "                guesses<-append(as.integer(readline(prompt=\"Guess a number between 1 and 100. \\n What is your guess? \"), x))\n",
    "        }\n",
    "    }\n",
    "}"
   ]
  },
  {
   "cell_type": "markdown",
   "metadata": {},
   "source": [
    "Guess a number between 1 and 100.\n",
    "<br>What is your guess? 21\n",
    "<br>COLD!\n",
    "<br>Guess a number between 1 and 100.\n",
    "<br>What is your guess? 50\n",
    "<br>WARMER!\n",
    "<br>Guess a number between 1 and 100.\n",
    "<br>What is your guess? 79\n",
    "<br>COLDER!\n",
    "<br>Guess a number between 1 and 100.\n",
    "<br>What is your guess? 65\n",
    "<br>WARMER!\n",
    "<br>Guess a number between 1 and 100.\n",
    "<br>What is your guess? 62\n",
    "<br>WARMER!\n",
    "<br>Guess a number between 1 and 100.\n",
    "<br>What is your guess? 60\n",
    "<br>CONGRATULATIONS, YOU GUESSED IT IN ONLY 6 GUESSES"
   ]
  },
  {
   "cell_type": "code",
   "execution_count": 15,
   "metadata": {},
   "outputs": [
    {
     "name": "stdout",
     "output_type": "stream",
     "text": [
      "Guess a number between 1 and 100. \n",
      " What is your guess? 96\n",
      "[1] \"WELCOME TO GUESS ME!\"\n",
      "[1] \"I am thinking of a number between 1 and 100\"\n",
      "[1] \"If your guess is more than 10 away from my number, I will tell you you are COLD\"\n",
      "[1] \"If your guess is within 10 of my number, I will tell you you are WARM\"\n",
      "[1] \"If your guess is farther than your most recent guess, I will say you are getting COLDER\"\n",
      "[1] \"If your guess is closer than your most recent guess, I will say you are getting WARMER\"\n",
      "[1] \"LET'S PLAY!\"\n",
      "[1] \"You have guessed this many times: 1\"\n",
      "[1] \"These are your guesses so far: 0\"\n",
      "[1] \"Guess a number between 1 and 100\"\n",
      "[1] \"NOT QUITE!\"\n"
     ]
    },
    {
     "ename": "ERROR",
     "evalue": "Error in append(as.integer(readline(prompt = \"Guess a number between 1 and 100. \\n What is your guess? \"), : argument \"values\" is missing, with no default\n",
     "output_type": "error",
     "traceback": [
      "Error in append(as.integer(readline(prompt = \"Guess a number between 1 and 100. \\n What is your guess? \"), : argument \"values\" is missing, with no default\nTraceback:\n",
      "1. guessing_game(9)",
      "2. append(as.integer(readline(prompt = \"Guess a number between 1 and 100. \\n What is your guess? \"), \n .     x))   # at line 37 of file <text>"
     ]
    }
   ],
   "source": [
    "guessing_game(9)"
   ]
  },
  {
   "cell_type": "markdown",
   "metadata": {},
   "source": [
    "#### Lastly, compile everything together in a single cell to run, including the random integer and the list for compiling the guesses"
   ]
  },
  {
   "cell_type": "code",
   "execution_count": null,
   "metadata": {},
   "outputs": [],
   "source": [
    "# Code Here"
   ]
  }
 ],
 "metadata": {
  "kernelspec": {
   "display_name": "R",
   "language": "R",
   "name": "ir"
  },
  "language_info": {
   "codemirror_mode": "r",
   "file_extension": ".r",
   "mimetype": "text/x-r-source",
   "name": "R",
   "pygments_lexer": "r",
   "version": "3.6.1"
  }
 },
 "nbformat": 4,
 "nbformat_minor": 2
}
