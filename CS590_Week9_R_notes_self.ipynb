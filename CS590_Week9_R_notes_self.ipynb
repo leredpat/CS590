{
 "cells": [
  {
   "cell_type": "code",
   "execution_count": 1,
   "metadata": {},
   "outputs": [],
   "source": [
    "#apply - lapply, sapply, \n",
    "help(lapply)"
   ]
  },
  {
   "cell_type": "code",
   "execution_count": 2,
   "metadata": {},
   "outputs": [
    {
     "data": {
      "text/html": [
       "9"
      ],
      "text/latex": [
       "9"
      ],
      "text/markdown": [
       "9"
      ],
      "text/plain": [
       "[1] 9"
      ]
     },
     "metadata": {},
     "output_type": "display_data"
    }
   ],
   "source": [
    "sample(1:10, 1)"
   ]
  },
  {
   "cell_type": "code",
   "execution_count": 3,
   "metadata": {},
   "outputs": [],
   "source": [
    "v<-c(1,2,3,4,5)"
   ]
  },
  {
   "cell_type": "code",
   "execution_count": 4,
   "metadata": {},
   "outputs": [
    {
     "data": {
      "text/html": [
       "<ol class=list-inline>\n",
       "\t<li>1</li>\n",
       "\t<li>2</li>\n",
       "\t<li>3</li>\n",
       "\t<li>4</li>\n",
       "\t<li>5</li>\n",
       "</ol>\n"
      ],
      "text/latex": [
       "\\begin{enumerate*}\n",
       "\\item 1\n",
       "\\item 2\n",
       "\\item 3\n",
       "\\item 4\n",
       "\\item 5\n",
       "\\end{enumerate*}\n"
      ],
      "text/markdown": [
       "1. 1\n",
       "2. 2\n",
       "3. 3\n",
       "4. 4\n",
       "5. 5\n",
       "\n",
       "\n"
      ],
      "text/plain": [
       "[1] 1 2 3 4 5"
      ]
     },
     "metadata": {},
     "output_type": "display_data"
    }
   ],
   "source": [
    "v"
   ]
  },
  {
   "cell_type": "code",
   "execution_count": 5,
   "metadata": {},
   "outputs": [],
   "source": [
    "addrand<-function(x){\n",
    "    ran<-sample(1:10,1)\n",
    "    return(x+ran)\n",
    "    #typically use return if you want the retrun valuable to have the ability to be stored as a variable\n",
    "}"
   ]
  },
  {
   "cell_type": "code",
   "execution_count": 6,
   "metadata": {},
   "outputs": [
    {
     "data": {
      "text/html": [
       "<ol>\n",
       "\t<li>7</li>\n",
       "\t<li>8</li>\n",
       "\t<li>4</li>\n",
       "\t<li>10</li>\n",
       "\t<li>9</li>\n",
       "</ol>\n"
      ],
      "text/latex": [
       "\\begin{enumerate}\n",
       "\\item 7\n",
       "\\item 8\n",
       "\\item 4\n",
       "\\item 10\n",
       "\\item 9\n",
       "\\end{enumerate}\n"
      ],
      "text/markdown": [
       "1. 7\n",
       "2. 8\n",
       "3. 4\n",
       "4. 10\n",
       "5. 9\n",
       "\n",
       "\n"
      ],
      "text/plain": [
       "[[1]]\n",
       "[1] 7\n",
       "\n",
       "[[2]]\n",
       "[1] 8\n",
       "\n",
       "[[3]]\n",
       "[1] 4\n",
       "\n",
       "[[4]]\n",
       "[1] 10\n",
       "\n",
       "[[5]]\n",
       "[1] 9\n"
      ]
     },
     "metadata": {},
     "output_type": "display_data"
    }
   ],
   "source": [
    "lapply(v, addrand)\n",
    "#l-apply, list = creates list"
   ]
  },
  {
   "cell_type": "code",
   "execution_count": 7,
   "metadata": {},
   "outputs": [],
   "source": [
    "#anonymous functions\n",
    "#function(inputx){code here}"
   ]
  },
  {
   "cell_type": "code",
   "execution_count": 8,
   "metadata": {},
   "outputs": [
    {
     "data": {
      "text/html": [
       "<ol class=list-inline>\n",
       "\t<li>1</li>\n",
       "\t<li>2</li>\n",
       "\t<li>3</li>\n",
       "\t<li>4</li>\n",
       "\t<li>5</li>\n",
       "</ol>\n"
      ],
      "text/latex": [
       "\\begin{enumerate*}\n",
       "\\item 1\n",
       "\\item 2\n",
       "\\item 3\n",
       "\\item 4\n",
       "\\item 5\n",
       "\\end{enumerate*}\n"
      ],
      "text/markdown": [
       "1. 1\n",
       "2. 2\n",
       "3. 3\n",
       "4. 4\n",
       "5. 5\n",
       "\n",
       "\n"
      ],
      "text/plain": [
       "[1] 1 2 3 4 5"
      ]
     },
     "metadata": {},
     "output_type": "display_data"
    }
   ],
   "source": [
    "v"
   ]
  },
  {
   "cell_type": "code",
   "execution_count": 9,
   "metadata": {},
   "outputs": [
    {
     "data": {
      "text/html": [
       "<pre class=language-r><code>function (x) \n",
       "{\n",
       "<span style=white-space:pre-wrap>    x + sample(1:10, 1)</span>\n",
       "}</code></pre>"
      ],
      "text/latex": [
       "\\begin{minted}{r}\n",
       "function (x) \n",
       "\\{\n",
       "    x + sample(1:10, 1)\n",
       "\\}\n",
       "\\end{minted}"
      ],
      "text/markdown": [
       "```r\n",
       "function (x) \n",
       "{\n",
       "    x + sample(1:10, 1)\n",
       "}\n",
       "```"
      ],
      "text/plain": [
       "function(x){\n",
       "    x+sample(1:10, 1)\n",
       "}"
      ]
     },
     "metadata": {},
     "output_type": "display_data"
    }
   ],
   "source": [
    "function(x){\n",
    "    x+sample(1:10, 1)\n",
    "}"
   ]
  },
  {
   "cell_type": "code",
   "execution_count": 11,
   "metadata": {},
   "outputs": [
    {
     "data": {
      "text/html": [
       "<ol>\n",
       "\t<li>10</li>\n",
       "\t<li>9</li>\n",
       "\t<li>11</li>\n",
       "\t<li>9</li>\n",
       "\t<li>12</li>\n",
       "</ol>\n"
      ],
      "text/latex": [
       "\\begin{enumerate}\n",
       "\\item 10\n",
       "\\item 9\n",
       "\\item 11\n",
       "\\item 9\n",
       "\\item 12\n",
       "\\end{enumerate}\n"
      ],
      "text/markdown": [
       "1. 10\n",
       "2. 9\n",
       "3. 11\n",
       "4. 9\n",
       "5. 12\n",
       "\n",
       "\n"
      ],
      "text/plain": [
       "[[1]]\n",
       "[1] 10\n",
       "\n",
       "[[2]]\n",
       "[1] 9\n",
       "\n",
       "[[3]]\n",
       "[1] 11\n",
       "\n",
       "[[4]]\n",
       "[1] 9\n",
       "\n",
       "[[5]]\n",
       "[1] 12\n"
      ]
     },
     "metadata": {},
     "output_type": "display_data"
    }
   ],
   "source": [
    "lapply(v, function(x){x+sample(1:10, 1)})"
   ]
  },
  {
   "cell_type": "code",
   "execution_count": 12,
   "metadata": {},
   "outputs": [
    {
     "data": {
      "text/html": [
       "<ol>\n",
       "\t<li>6</li>\n",
       "\t<li>7</li>\n",
       "\t<li>8</li>\n",
       "\t<li>9</li>\n",
       "\t<li>10</li>\n",
       "</ol>\n"
      ],
      "text/latex": [
       "\\begin{enumerate}\n",
       "\\item 6\n",
       "\\item 7\n",
       "\\item 8\n",
       "\\item 9\n",
       "\\item 10\n",
       "\\end{enumerate}\n"
      ],
      "text/markdown": [
       "1. 6\n",
       "2. 7\n",
       "3. 8\n",
       "4. 9\n",
       "5. 10\n",
       "\n",
       "\n"
      ],
      "text/plain": [
       "[[1]]\n",
       "[1] 6\n",
       "\n",
       "[[2]]\n",
       "[1] 7\n",
       "\n",
       "[[3]]\n",
       "[1] 8\n",
       "\n",
       "[[4]]\n",
       "[1] 9\n",
       "\n",
       "[[5]]\n",
       "[1] 10\n"
      ]
     },
     "metadata": {},
     "output_type": "display_data"
    }
   ],
   "source": [
    "lapply(v, function(x){x+5})"
   ]
  },
  {
   "cell_type": "code",
   "execution_count": 13,
   "metadata": {},
   "outputs": [
    {
     "data": {
      "text/html": [
       "<ol>\n",
       "\t<li>11</li>\n",
       "\t<li>12</li>\n",
       "\t<li>13</li>\n",
       "\t<li>14</li>\n",
       "\t<li>15</li>\n",
       "</ol>\n"
      ],
      "text/latex": [
       "\\begin{enumerate}\n",
       "\\item 11\n",
       "\\item 12\n",
       "\\item 13\n",
       "\\item 14\n",
       "\\item 15\n",
       "\\end{enumerate}\n"
      ],
      "text/markdown": [
       "1. 11\n",
       "2. 12\n",
       "3. 13\n",
       "4. 14\n",
       "5. 15\n",
       "\n",
       "\n"
      ],
      "text/plain": [
       "[[1]]\n",
       "[1] 11\n",
       "\n",
       "[[2]]\n",
       "[1] 12\n",
       "\n",
       "[[3]]\n",
       "[1] 13\n",
       "\n",
       "[[4]]\n",
       "[1] 14\n",
       "\n",
       "[[5]]\n",
       "[1] 15\n"
      ]
     },
     "metadata": {},
     "output_type": "display_data"
    }
   ],
   "source": [
    "add_choice<-function(num,choice){\n",
    "    return(num+choice)\n",
    "}\n",
    "\n",
    "lapply(v, add_choice,  choice=10)"
   ]
  },
  {
   "cell_type": "code",
   "execution_count": 15,
   "metadata": {},
   "outputs": [
    {
     "data": {
      "text/html": [
       "<ol>\n",
       "\t<li>11</li>\n",
       "\t<li>12</li>\n",
       "\t<li>13</li>\n",
       "\t<li>14</li>\n",
       "\t<li>15</li>\n",
       "</ol>\n"
      ],
      "text/latex": [
       "\\begin{enumerate}\n",
       "\\item 11\n",
       "\\item 12\n",
       "\\item 13\n",
       "\\item 14\n",
       "\\item 15\n",
       "\\end{enumerate}\n"
      ],
      "text/markdown": [
       "1. 11\n",
       "2. 12\n",
       "3. 13\n",
       "4. 14\n",
       "5. 15\n",
       "\n",
       "\n"
      ],
      "text/plain": [
       "[[1]]\n",
       "[1] 11\n",
       "\n",
       "[[2]]\n",
       "[1] 12\n",
       "\n",
       "[[3]]\n",
       "[1] 13\n",
       "\n",
       "[[4]]\n",
       "[1] 14\n",
       "\n",
       "[[5]]\n",
       "[1] 15\n"
      ]
     },
     "metadata": {},
     "output_type": "display_data"
    }
   ],
   "source": [
    "add_choice<-function(num,choice, choice2, choice3){\n",
    "    return(num+choice)\n",
    "}\n",
    "\n",
    "lapply(v, add_choice,  choice=10, choice2=3, choice3=96)\n",
    "#need to add variables even if not used to lapply"
   ]
  },
  {
   "cell_type": "code",
   "execution_count": 16,
   "metadata": {},
   "outputs": [
    {
     "data": {
      "text/html": [
       "<ol class=list-inline>\n",
       "\t<li>11</li>\n",
       "\t<li>12</li>\n",
       "\t<li>13</li>\n",
       "\t<li>14</li>\n",
       "\t<li>15</li>\n",
       "</ol>\n"
      ],
      "text/latex": [
       "\\begin{enumerate*}\n",
       "\\item 11\n",
       "\\item 12\n",
       "\\item 13\n",
       "\\item 14\n",
       "\\item 15\n",
       "\\end{enumerate*}\n"
      ],
      "text/markdown": [
       "1. 11\n",
       "2. 12\n",
       "3. 13\n",
       "4. 14\n",
       "5. 15\n",
       "\n",
       "\n"
      ],
      "text/plain": [
       "[1] 11 12 13 14 15"
      ]
     },
     "metadata": {},
     "output_type": "display_data"
    }
   ],
   "source": [
    "sapply(v, add_choice, choice=10)\n",
    "#note standard output is vector"
   ]
  },
  {
   "cell_type": "code",
   "execution_count": 18,
   "metadata": {},
   "outputs": [],
   "source": [
    "lapp<-lapply(v, add_choice, choice=10)\n",
    "sapp<-sapply(v, add_choice, choice=10)"
   ]
  },
  {
   "cell_type": "code",
   "execution_count": 19,
   "metadata": {},
   "outputs": [
    {
     "data": {
      "text/html": [
       "'list'"
      ],
      "text/latex": [
       "'list'"
      ],
      "text/markdown": [
       "'list'"
      ],
      "text/plain": [
       "[1] \"list\""
      ]
     },
     "metadata": {},
     "output_type": "display_data"
    },
    {
     "data": {
      "text/html": [
       "'numeric'"
      ],
      "text/latex": [
       "'numeric'"
      ],
      "text/markdown": [
       "'numeric'"
      ],
      "text/plain": [
       "[1] \"numeric\""
      ]
     },
     "metadata": {},
     "output_type": "display_data"
    }
   ],
   "source": [
    "class(lapp)\n",
    "class(sapp)"
   ]
  },
  {
   "cell_type": "code",
   "execution_count": 21,
   "metadata": {},
   "outputs": [
    {
     "data": {
      "text/html": [
       "<ol>\n",
       "\t<li></li>\n",
       "\t<li>2</li>\n",
       "\t<li></li>\n",
       "\t<li>4</li>\n",
       "\t<li></li>\n",
       "</ol>\n"
      ],
      "text/latex": [
       "\\begin{enumerate}\n",
       "\\item \n",
       "\\item 2\n",
       "\\item \n",
       "\\item 4\n",
       "\\item \n",
       "\\end{enumerate}\n"
      ],
      "text/markdown": [
       "1. \n",
       "2. 2\n",
       "3. \n",
       "4. 4\n",
       "5. \n",
       "\n",
       "\n"
      ],
      "text/plain": [
       "[[1]]\n",
       "numeric(0)\n",
       "\n",
       "[[2]]\n",
       "[1] 2\n",
       "\n",
       "[[3]]\n",
       "numeric(0)\n",
       "\n",
       "[[4]]\n",
       "[1] 4\n",
       "\n",
       "[[5]]\n",
       "numeric(0)\n"
      ]
     },
     "metadata": {},
     "output_type": "display_data"
    }
   ],
   "source": [
    "even <- function(x) {\n",
    "  return(x[(x %% 2 == 0)])\n",
    "}\n",
    "\n",
    "sapply(v, even)"
   ]
  },
  {
   "cell_type": "code",
   "execution_count": 22,
   "metadata": {
    "scrolled": true
   },
   "outputs": [
    {
     "data": {
      "text/html": [
       "<ol>\n",
       "\t<li></li>\n",
       "\t<li>2</li>\n",
       "\t<li></li>\n",
       "\t<li>4</li>\n",
       "\t<li></li>\n",
       "</ol>\n"
      ],
      "text/latex": [
       "\\begin{enumerate}\n",
       "\\item \n",
       "\\item 2\n",
       "\\item \n",
       "\\item 4\n",
       "\\item \n",
       "\\end{enumerate}\n"
      ],
      "text/markdown": [
       "1. \n",
       "2. 2\n",
       "3. \n",
       "4. 4\n",
       "5. \n",
       "\n",
       "\n"
      ],
      "text/plain": [
       "[[1]]\n",
       "numeric(0)\n",
       "\n",
       "[[2]]\n",
       "[1] 2\n",
       "\n",
       "[[3]]\n",
       "numeric(0)\n",
       "\n",
       "[[4]]\n",
       "[1] 4\n",
       "\n",
       "[[5]]\n",
       "numeric(0)\n"
      ]
     },
     "metadata": {},
     "output_type": "display_data"
    }
   ],
   "source": [
    "lapply(v, even)"
   ]
  },
  {
   "cell_type": "code",
   "execution_count": 25,
   "metadata": {},
   "outputs": [],
   "source": [
    "setwd(\"G:\\\\My Drive\\\\classes\\\\CS590 - Special Topics - R and Python Programming\\\\jcdunne.CS590\")"
   ]
  },
  {
   "cell_type": "code",
   "execution_count": 26,
   "metadata": {},
   "outputs": [],
   "source": [
    "p_yield = read.csv('peanut_yield.txt', sep='\\t', header=TRUE)"
   ]
  },
  {
   "cell_type": "code",
   "execution_count": 27,
   "metadata": {},
   "outputs": [
    {
     "data": {
      "text/html": [
       "<table>\n",
       "<thead><tr><th scope=col>Year</th><th scope=col>Location</th><th scope=col>Name</th><th scope=col>Label</th><th scope=col>NC_Accession</th><th scope=col>Plot_Yield</th><th scope=col>Yield</th></tr></thead>\n",
       "<tbody>\n",
       "\t<tr><td>2014                            </td><td>LEW                             </td><td>ATP                             </td><td>Advanced Testing Program - Yield</td><td>ACI WT09-0761                   </td><td> 9.0                            </td><td>2733                            </td></tr>\n",
       "\t<tr><td>2014                            </td><td>RMT                             </td><td>ATP                             </td><td>Advanced Testing Program - Yield</td><td>ACI WT09-0761                   </td><td>10.2                            </td><td>3085                            </td></tr>\n",
       "\t<tr><td>2014                            </td><td>WHI                             </td><td>ATP                             </td><td>Advanced Testing Program - Yield</td><td>ACI WT09-0761                   </td><td>10.2                            </td><td>3085                            </td></tr>\n",
       "\t<tr><td>2015                            </td><td>LEW                             </td><td>ATP                             </td><td>Advanced Testing Program - Yield</td><td>ACI WT11-0351                   </td><td>15.3                            </td><td>4632                            </td></tr>\n",
       "\t<tr><td>2015                            </td><td>RMT                             </td><td>ATP                             </td><td>Advanced Testing Program - Yield</td><td>ACI WT11-0351                   </td><td>10.7                            </td><td>3226                            </td></tr>\n",
       "\t<tr><td>2015                            </td><td>LEW                             </td><td>ATP                             </td><td>Advanced Testing Program - Yield</td><td>ACI WT12-0226                   </td><td>13.6                            </td><td>4104                            </td></tr>\n",
       "</tbody>\n",
       "</table>\n"
      ],
      "text/latex": [
       "\\begin{tabular}{r|lllllll}\n",
       " Year & Location & Name & Label & NC\\_Accession & Plot\\_Yield & Yield\\\\\n",
       "\\hline\n",
       "\t 2014                             & LEW                              & ATP                              & Advanced Testing Program - Yield & ACI WT09-0761                    &  9.0                             & 2733                            \\\\\n",
       "\t 2014                             & RMT                              & ATP                              & Advanced Testing Program - Yield & ACI WT09-0761                    & 10.2                             & 3085                            \\\\\n",
       "\t 2014                             & WHI                              & ATP                              & Advanced Testing Program - Yield & ACI WT09-0761                    & 10.2                             & 3085                            \\\\\n",
       "\t 2015                             & LEW                              & ATP                              & Advanced Testing Program - Yield & ACI WT11-0351                    & 15.3                             & 4632                            \\\\\n",
       "\t 2015                             & RMT                              & ATP                              & Advanced Testing Program - Yield & ACI WT11-0351                    & 10.7                             & 3226                            \\\\\n",
       "\t 2015                             & LEW                              & ATP                              & Advanced Testing Program - Yield & ACI WT12-0226                    & 13.6                             & 4104                            \\\\\n",
       "\\end{tabular}\n"
      ],
      "text/markdown": [
       "\n",
       "| Year | Location | Name | Label | NC_Accession | Plot_Yield | Yield |\n",
       "|---|---|---|---|---|---|---|\n",
       "| 2014                             | LEW                              | ATP                              | Advanced Testing Program - Yield | ACI WT09-0761                    |  9.0                             | 2733                             |\n",
       "| 2014                             | RMT                              | ATP                              | Advanced Testing Program - Yield | ACI WT09-0761                    | 10.2                             | 3085                             |\n",
       "| 2014                             | WHI                              | ATP                              | Advanced Testing Program - Yield | ACI WT09-0761                    | 10.2                             | 3085                             |\n",
       "| 2015                             | LEW                              | ATP                              | Advanced Testing Program - Yield | ACI WT11-0351                    | 15.3                             | 4632                             |\n",
       "| 2015                             | RMT                              | ATP                              | Advanced Testing Program - Yield | ACI WT11-0351                    | 10.7                             | 3226                             |\n",
       "| 2015                             | LEW                              | ATP                              | Advanced Testing Program - Yield | ACI WT12-0226                    | 13.6                             | 4104                             |\n",
       "\n"
      ],
      "text/plain": [
       "  Year Location Name Label                            NC_Accession  Plot_Yield\n",
       "1 2014 LEW      ATP  Advanced Testing Program - Yield ACI WT09-0761  9.0      \n",
       "2 2014 RMT      ATP  Advanced Testing Program - Yield ACI WT09-0761 10.2      \n",
       "3 2014 WHI      ATP  Advanced Testing Program - Yield ACI WT09-0761 10.2      \n",
       "4 2015 LEW      ATP  Advanced Testing Program - Yield ACI WT11-0351 15.3      \n",
       "5 2015 RMT      ATP  Advanced Testing Program - Yield ACI WT11-0351 10.7      \n",
       "6 2015 LEW      ATP  Advanced Testing Program - Yield ACI WT12-0226 13.6      \n",
       "  Yield\n",
       "1 2733 \n",
       "2 3085 \n",
       "3 3085 \n",
       "4 4632 \n",
       "5 3226 \n",
       "6 4104 "
      ]
     },
     "metadata": {},
     "output_type": "display_data"
    }
   ],
   "source": [
    "head(p_yield)"
   ]
  },
  {
   "cell_type": "code",
   "execution_count": 30,
   "metadata": {},
   "outputs": [],
   "source": [
    "#want 2 decimal places\n",
    "p_yield['test_yield']<-lapply(p_yield['Yield'], function(x){x/302.5})"
   ]
  },
  {
   "cell_type": "code",
   "execution_count": 31,
   "metadata": {},
   "outputs": [
    {
     "data": {
      "text/html": [
       "<table>\n",
       "<thead><tr><th scope=col>Year</th><th scope=col>Location</th><th scope=col>Name</th><th scope=col>Label</th><th scope=col>NC_Accession</th><th scope=col>Plot_Yield</th><th scope=col>Yield</th><th scope=col>test_yield</th></tr></thead>\n",
       "<tbody>\n",
       "\t<tr><td>2014                            </td><td>LEW                             </td><td>ATP                             </td><td>Advanced Testing Program - Yield</td><td>ACI WT09-0761                   </td><td> 9.0                            </td><td>2733                            </td><td> 9.034711                       </td></tr>\n",
       "\t<tr><td>2014                            </td><td>RMT                             </td><td>ATP                             </td><td>Advanced Testing Program - Yield</td><td>ACI WT09-0761                   </td><td>10.2                            </td><td>3085                            </td><td>10.198347                       </td></tr>\n",
       "\t<tr><td>2014                            </td><td>WHI                             </td><td>ATP                             </td><td>Advanced Testing Program - Yield</td><td>ACI WT09-0761                   </td><td>10.2                            </td><td>3085                            </td><td>10.198347                       </td></tr>\n",
       "\t<tr><td>2015                            </td><td>LEW                             </td><td>ATP                             </td><td>Advanced Testing Program - Yield</td><td>ACI WT11-0351                   </td><td>15.3                            </td><td>4632                            </td><td>15.312397                       </td></tr>\n",
       "\t<tr><td>2015                            </td><td>RMT                             </td><td>ATP                             </td><td>Advanced Testing Program - Yield</td><td>ACI WT11-0351                   </td><td>10.7                            </td><td>3226                            </td><td>10.664463                       </td></tr>\n",
       "\t<tr><td>2015                            </td><td>LEW                             </td><td>ATP                             </td><td>Advanced Testing Program - Yield</td><td>ACI WT12-0226                   </td><td>13.6                            </td><td>4104                            </td><td>13.566942                       </td></tr>\n",
       "</tbody>\n",
       "</table>\n"
      ],
      "text/latex": [
       "\\begin{tabular}{r|llllllll}\n",
       " Year & Location & Name & Label & NC\\_Accession & Plot\\_Yield & Yield & test\\_yield\\\\\n",
       "\\hline\n",
       "\t 2014                             & LEW                              & ATP                              & Advanced Testing Program - Yield & ACI WT09-0761                    &  9.0                             & 2733                             &  9.034711                       \\\\\n",
       "\t 2014                             & RMT                              & ATP                              & Advanced Testing Program - Yield & ACI WT09-0761                    & 10.2                             & 3085                             & 10.198347                       \\\\\n",
       "\t 2014                             & WHI                              & ATP                              & Advanced Testing Program - Yield & ACI WT09-0761                    & 10.2                             & 3085                             & 10.198347                       \\\\\n",
       "\t 2015                             & LEW                              & ATP                              & Advanced Testing Program - Yield & ACI WT11-0351                    & 15.3                             & 4632                             & 15.312397                       \\\\\n",
       "\t 2015                             & RMT                              & ATP                              & Advanced Testing Program - Yield & ACI WT11-0351                    & 10.7                             & 3226                             & 10.664463                       \\\\\n",
       "\t 2015                             & LEW                              & ATP                              & Advanced Testing Program - Yield & ACI WT12-0226                    & 13.6                             & 4104                             & 13.566942                       \\\\\n",
       "\\end{tabular}\n"
      ],
      "text/markdown": [
       "\n",
       "| Year | Location | Name | Label | NC_Accession | Plot_Yield | Yield | test_yield |\n",
       "|---|---|---|---|---|---|---|---|\n",
       "| 2014                             | LEW                              | ATP                              | Advanced Testing Program - Yield | ACI WT09-0761                    |  9.0                             | 2733                             |  9.034711                        |\n",
       "| 2014                             | RMT                              | ATP                              | Advanced Testing Program - Yield | ACI WT09-0761                    | 10.2                             | 3085                             | 10.198347                        |\n",
       "| 2014                             | WHI                              | ATP                              | Advanced Testing Program - Yield | ACI WT09-0761                    | 10.2                             | 3085                             | 10.198347                        |\n",
       "| 2015                             | LEW                              | ATP                              | Advanced Testing Program - Yield | ACI WT11-0351                    | 15.3                             | 4632                             | 15.312397                        |\n",
       "| 2015                             | RMT                              | ATP                              | Advanced Testing Program - Yield | ACI WT11-0351                    | 10.7                             | 3226                             | 10.664463                        |\n",
       "| 2015                             | LEW                              | ATP                              | Advanced Testing Program - Yield | ACI WT12-0226                    | 13.6                             | 4104                             | 13.566942                        |\n",
       "\n"
      ],
      "text/plain": [
       "  Year Location Name Label                            NC_Accession  Plot_Yield\n",
       "1 2014 LEW      ATP  Advanced Testing Program - Yield ACI WT09-0761  9.0      \n",
       "2 2014 RMT      ATP  Advanced Testing Program - Yield ACI WT09-0761 10.2      \n",
       "3 2014 WHI      ATP  Advanced Testing Program - Yield ACI WT09-0761 10.2      \n",
       "4 2015 LEW      ATP  Advanced Testing Program - Yield ACI WT11-0351 15.3      \n",
       "5 2015 RMT      ATP  Advanced Testing Program - Yield ACI WT11-0351 10.7      \n",
       "6 2015 LEW      ATP  Advanced Testing Program - Yield ACI WT12-0226 13.6      \n",
       "  Yield test_yield\n",
       "1 2733   9.034711 \n",
       "2 3085  10.198347 \n",
       "3 3085  10.198347 \n",
       "4 4632  15.312397 \n",
       "5 3226  10.664463 \n",
       "6 4104  13.566942 "
      ]
     },
     "metadata": {},
     "output_type": "display_data"
    }
   ],
   "source": [
    "head(p_yield)"
   ]
  },
  {
   "cell_type": "code",
   "execution_count": 38,
   "metadata": {},
   "outputs": [],
   "source": [
    "p_yield['test_yield']<-lapply(p_yield['Yield'], function(x){round(x/302.5, 1)})"
   ]
  },
  {
   "cell_type": "code",
   "execution_count": 39,
   "metadata": {},
   "outputs": [
    {
     "data": {
      "text/html": [
       "<table>\n",
       "<thead><tr><th scope=col>Year</th><th scope=col>Location</th><th scope=col>Name</th><th scope=col>Label</th><th scope=col>NC_Accession</th><th scope=col>Plot_Yield</th><th scope=col>Yield</th><th scope=col>test_yield</th></tr></thead>\n",
       "<tbody>\n",
       "\t<tr><td>2014                            </td><td>LEW                             </td><td>ATP                             </td><td>Advanced Testing Program - Yield</td><td>ACI WT09-0761                   </td><td> 9.0                            </td><td>2733                            </td><td> 9.0                            </td></tr>\n",
       "\t<tr><td>2014                            </td><td>RMT                             </td><td>ATP                             </td><td>Advanced Testing Program - Yield</td><td>ACI WT09-0761                   </td><td>10.2                            </td><td>3085                            </td><td>10.2                            </td></tr>\n",
       "\t<tr><td>2014                            </td><td>WHI                             </td><td>ATP                             </td><td>Advanced Testing Program - Yield</td><td>ACI WT09-0761                   </td><td>10.2                            </td><td>3085                            </td><td>10.2                            </td></tr>\n",
       "\t<tr><td>2015                            </td><td>LEW                             </td><td>ATP                             </td><td>Advanced Testing Program - Yield</td><td>ACI WT11-0351                   </td><td>15.3                            </td><td>4632                            </td><td>15.3                            </td></tr>\n",
       "\t<tr><td>2015                            </td><td>RMT                             </td><td>ATP                             </td><td>Advanced Testing Program - Yield</td><td>ACI WT11-0351                   </td><td>10.7                            </td><td>3226                            </td><td>10.7                            </td></tr>\n",
       "\t<tr><td>2015                            </td><td>LEW                             </td><td>ATP                             </td><td>Advanced Testing Program - Yield</td><td>ACI WT12-0226                   </td><td>13.6                            </td><td>4104                            </td><td>13.6                            </td></tr>\n",
       "</tbody>\n",
       "</table>\n"
      ],
      "text/latex": [
       "\\begin{tabular}{r|llllllll}\n",
       " Year & Location & Name & Label & NC\\_Accession & Plot\\_Yield & Yield & test\\_yield\\\\\n",
       "\\hline\n",
       "\t 2014                             & LEW                              & ATP                              & Advanced Testing Program - Yield & ACI WT09-0761                    &  9.0                             & 2733                             &  9.0                            \\\\\n",
       "\t 2014                             & RMT                              & ATP                              & Advanced Testing Program - Yield & ACI WT09-0761                    & 10.2                             & 3085                             & 10.2                            \\\\\n",
       "\t 2014                             & WHI                              & ATP                              & Advanced Testing Program - Yield & ACI WT09-0761                    & 10.2                             & 3085                             & 10.2                            \\\\\n",
       "\t 2015                             & LEW                              & ATP                              & Advanced Testing Program - Yield & ACI WT11-0351                    & 15.3                             & 4632                             & 15.3                            \\\\\n",
       "\t 2015                             & RMT                              & ATP                              & Advanced Testing Program - Yield & ACI WT11-0351                    & 10.7                             & 3226                             & 10.7                            \\\\\n",
       "\t 2015                             & LEW                              & ATP                              & Advanced Testing Program - Yield & ACI WT12-0226                    & 13.6                             & 4104                             & 13.6                            \\\\\n",
       "\\end{tabular}\n"
      ],
      "text/markdown": [
       "\n",
       "| Year | Location | Name | Label | NC_Accession | Plot_Yield | Yield | test_yield |\n",
       "|---|---|---|---|---|---|---|---|\n",
       "| 2014                             | LEW                              | ATP                              | Advanced Testing Program - Yield | ACI WT09-0761                    |  9.0                             | 2733                             |  9.0                             |\n",
       "| 2014                             | RMT                              | ATP                              | Advanced Testing Program - Yield | ACI WT09-0761                    | 10.2                             | 3085                             | 10.2                             |\n",
       "| 2014                             | WHI                              | ATP                              | Advanced Testing Program - Yield | ACI WT09-0761                    | 10.2                             | 3085                             | 10.2                             |\n",
       "| 2015                             | LEW                              | ATP                              | Advanced Testing Program - Yield | ACI WT11-0351                    | 15.3                             | 4632                             | 15.3                             |\n",
       "| 2015                             | RMT                              | ATP                              | Advanced Testing Program - Yield | ACI WT11-0351                    | 10.7                             | 3226                             | 10.7                             |\n",
       "| 2015                             | LEW                              | ATP                              | Advanced Testing Program - Yield | ACI WT12-0226                    | 13.6                             | 4104                             | 13.6                             |\n",
       "\n"
      ],
      "text/plain": [
       "  Year Location Name Label                            NC_Accession  Plot_Yield\n",
       "1 2014 LEW      ATP  Advanced Testing Program - Yield ACI WT09-0761  9.0      \n",
       "2 2014 RMT      ATP  Advanced Testing Program - Yield ACI WT09-0761 10.2      \n",
       "3 2014 WHI      ATP  Advanced Testing Program - Yield ACI WT09-0761 10.2      \n",
       "4 2015 LEW      ATP  Advanced Testing Program - Yield ACI WT11-0351 15.3      \n",
       "5 2015 RMT      ATP  Advanced Testing Program - Yield ACI WT11-0351 10.7      \n",
       "6 2015 LEW      ATP  Advanced Testing Program - Yield ACI WT12-0226 13.6      \n",
       "  Yield test_yield\n",
       "1 2733   9.0      \n",
       "2 3085  10.2      \n",
       "3 3085  10.2      \n",
       "4 4632  15.3      \n",
       "5 3226  10.7      \n",
       "6 4104  13.6      "
      ]
     },
     "metadata": {},
     "output_type": "display_data"
    }
   ],
   "source": [
    "head(p_yield)"
   ]
  },
  {
   "cell_type": "code",
   "execution_count": 41,
   "metadata": {},
   "outputs": [
    {
     "data": {
      "text/html": [
       "<ol>\n",
       "\t<li>'NO'</li>\n",
       "\t<li>'YES'</li>\n",
       "\t<li>'YES'</li>\n",
       "\t<li>'YES'</li>\n",
       "\t<li>'YES'</li>\n",
       "\t<li>'YES'</li>\n",
       "</ol>\n"
      ],
      "text/latex": [
       "\\begin{enumerate}\n",
       "\\item 'NO'\n",
       "\\item 'YES'\n",
       "\\item 'YES'\n",
       "\\item 'YES'\n",
       "\\item 'YES'\n",
       "\\item 'YES'\n",
       "\\end{enumerate}\n"
      ],
      "text/markdown": [
       "1. 'NO'\n",
       "2. 'YES'\n",
       "3. 'YES'\n",
       "4. 'YES'\n",
       "5. 'YES'\n",
       "6. 'YES'\n",
       "\n",
       "\n"
      ],
      "text/plain": [
       "[[1]]\n",
       "[1] \"NO\"\n",
       "\n",
       "[[2]]\n",
       "[1] \"YES\"\n",
       "\n",
       "[[3]]\n",
       "[1] \"YES\"\n",
       "\n",
       "[[4]]\n",
       "[1] \"YES\"\n",
       "\n",
       "[[5]]\n",
       "[1] \"YES\"\n",
       "\n",
       "[[6]]\n",
       "[1] \"YES\"\n"
      ]
     },
     "metadata": {},
     "output_type": "display_data"
    }
   ],
   "source": [
    "map_condition<-function(x){\n",
    "    if (x>3000){\n",
    "        return('YES')\n",
    "    }else{\n",
    "        return('NO')\n",
    "    }\n",
    "}\n",
    "\n",
    "head(lapply(p_yield[['Yield']], map_condition))"
   ]
  },
  {
   "cell_type": "code",
   "execution_count": 44,
   "metadata": {},
   "outputs": [
    {
     "data": {
      "text/html": [
       "<table>\n",
       "<thead><tr><th scope=col>Year</th><th scope=col>Location</th><th scope=col>Name</th><th scope=col>Label</th><th scope=col>NC_Accession</th><th scope=col>Plot_Yield</th><th scope=col>Yield</th><th scope=col>test_yield</th><th scope=col>Select</th></tr></thead>\n",
       "<tbody>\n",
       "\t<tr><td>2014                            </td><td>LEW                             </td><td>ATP                             </td><td>Advanced Testing Program - Yield</td><td>ACI WT09-0761                   </td><td> 9.0                            </td><td>2733                            </td><td> 9.0                            </td><td>NO                              </td></tr>\n",
       "\t<tr><td>2014                            </td><td>RMT                             </td><td>ATP                             </td><td>Advanced Testing Program - Yield</td><td>ACI WT09-0761                   </td><td>10.2                            </td><td>3085                            </td><td>10.2                            </td><td>YES                             </td></tr>\n",
       "\t<tr><td>2014                            </td><td>WHI                             </td><td>ATP                             </td><td>Advanced Testing Program - Yield</td><td>ACI WT09-0761                   </td><td>10.2                            </td><td>3085                            </td><td>10.2                            </td><td>YES                             </td></tr>\n",
       "\t<tr><td>2015                            </td><td>LEW                             </td><td>ATP                             </td><td>Advanced Testing Program - Yield</td><td>ACI WT11-0351                   </td><td>15.3                            </td><td>4632                            </td><td>15.3                            </td><td>YES                             </td></tr>\n",
       "\t<tr><td>2015                            </td><td>RMT                             </td><td>ATP                             </td><td>Advanced Testing Program - Yield</td><td>ACI WT11-0351                   </td><td>10.7                            </td><td>3226                            </td><td>10.7                            </td><td>YES                             </td></tr>\n",
       "\t<tr><td>2015                            </td><td>LEW                             </td><td>ATP                             </td><td>Advanced Testing Program - Yield</td><td>ACI WT12-0226                   </td><td>13.6                            </td><td>4104                            </td><td>13.6                            </td><td>YES                             </td></tr>\n",
       "</tbody>\n",
       "</table>\n"
      ],
      "text/latex": [
       "\\begin{tabular}{r|lllllllll}\n",
       " Year & Location & Name & Label & NC\\_Accession & Plot\\_Yield & Yield & test\\_yield & Select\\\\\n",
       "\\hline\n",
       "\t 2014                             & LEW                              & ATP                              & Advanced Testing Program - Yield & ACI WT09-0761                    &  9.0                             & 2733                             &  9.0                             & NO                              \\\\\n",
       "\t 2014                             & RMT                              & ATP                              & Advanced Testing Program - Yield & ACI WT09-0761                    & 10.2                             & 3085                             & 10.2                             & YES                             \\\\\n",
       "\t 2014                             & WHI                              & ATP                              & Advanced Testing Program - Yield & ACI WT09-0761                    & 10.2                             & 3085                             & 10.2                             & YES                             \\\\\n",
       "\t 2015                             & LEW                              & ATP                              & Advanced Testing Program - Yield & ACI WT11-0351                    & 15.3                             & 4632                             & 15.3                             & YES                             \\\\\n",
       "\t 2015                             & RMT                              & ATP                              & Advanced Testing Program - Yield & ACI WT11-0351                    & 10.7                             & 3226                             & 10.7                             & YES                             \\\\\n",
       "\t 2015                             & LEW                              & ATP                              & Advanced Testing Program - Yield & ACI WT12-0226                    & 13.6                             & 4104                             & 13.6                             & YES                             \\\\\n",
       "\\end{tabular}\n"
      ],
      "text/markdown": [
       "\n",
       "| Year | Location | Name | Label | NC_Accession | Plot_Yield | Yield | test_yield | Select |\n",
       "|---|---|---|---|---|---|---|---|---|\n",
       "| 2014                             | LEW                              | ATP                              | Advanced Testing Program - Yield | ACI WT09-0761                    |  9.0                             | 2733                             |  9.0                             | NO                               |\n",
       "| 2014                             | RMT                              | ATP                              | Advanced Testing Program - Yield | ACI WT09-0761                    | 10.2                             | 3085                             | 10.2                             | YES                              |\n",
       "| 2014                             | WHI                              | ATP                              | Advanced Testing Program - Yield | ACI WT09-0761                    | 10.2                             | 3085                             | 10.2                             | YES                              |\n",
       "| 2015                             | LEW                              | ATP                              | Advanced Testing Program - Yield | ACI WT11-0351                    | 15.3                             | 4632                             | 15.3                             | YES                              |\n",
       "| 2015                             | RMT                              | ATP                              | Advanced Testing Program - Yield | ACI WT11-0351                    | 10.7                             | 3226                             | 10.7                             | YES                              |\n",
       "| 2015                             | LEW                              | ATP                              | Advanced Testing Program - Yield | ACI WT12-0226                    | 13.6                             | 4104                             | 13.6                             | YES                              |\n",
       "\n"
      ],
      "text/plain": [
       "  Year Location Name Label                            NC_Accession  Plot_Yield\n",
       "1 2014 LEW      ATP  Advanced Testing Program - Yield ACI WT09-0761  9.0      \n",
       "2 2014 RMT      ATP  Advanced Testing Program - Yield ACI WT09-0761 10.2      \n",
       "3 2014 WHI      ATP  Advanced Testing Program - Yield ACI WT09-0761 10.2      \n",
       "4 2015 LEW      ATP  Advanced Testing Program - Yield ACI WT11-0351 15.3      \n",
       "5 2015 RMT      ATP  Advanced Testing Program - Yield ACI WT11-0351 10.7      \n",
       "6 2015 LEW      ATP  Advanced Testing Program - Yield ACI WT12-0226 13.6      \n",
       "  Yield test_yield Select\n",
       "1 2733   9.0       NO    \n",
       "2 3085  10.2       YES   \n",
       "3 3085  10.2       YES   \n",
       "4 4632  15.3       YES   \n",
       "5 3226  10.7       YES   \n",
       "6 4104  13.6       YES   "
      ]
     },
     "metadata": {},
     "output_type": "display_data"
    }
   ],
   "source": [
    "map_condition<-function(x){\n",
    "    if (x>3000){\n",
    "        return('YES')\n",
    "    }else{\n",
    "        return('NO')\n",
    "    }\n",
    "}\n",
    "\n",
    "p_yield['Select']<-sapply(p_yield[['Yield']], map_condition)\n",
    "head(p_yield)\n",
    "#note lapply does not work if you want to apply it toa new data column\n",
    "#easier to set a new data column from a vector as opposed to a list"
   ]
  },
  {
   "cell_type": "code",
   "execution_count": 46,
   "metadata": {},
   "outputs": [
    {
     "data": {
      "text/html": [
       "<table>\n",
       "<thead><tr><th scope=col>Yield</th></tr></thead>\n",
       "<tbody>\n",
       "\t<tr><td>Keep  </td></tr>\n",
       "\t<tr><td>Select</td></tr>\n",
       "\t<tr><td>Select</td></tr>\n",
       "\t<tr><td>Select</td></tr>\n",
       "\t<tr><td>Select</td></tr>\n",
       "\t<tr><td>Select</td></tr>\n",
       "\t<tr><td>Select</td></tr>\n",
       "\t<tr><td>Drop  </td></tr>\n",
       "\t<tr><td>Keep  </td></tr>\n",
       "\t<tr><td>Keep  </td></tr>\n",
       "</tbody>\n",
       "</table>\n"
      ],
      "text/latex": [
       "\\begin{tabular}{l}\n",
       " Yield\\\\\n",
       "\\hline\n",
       "\t Keep  \\\\\n",
       "\t Select\\\\\n",
       "\t Select\\\\\n",
       "\t Select\\\\\n",
       "\t Select\\\\\n",
       "\t Select\\\\\n",
       "\t Select\\\\\n",
       "\t Drop  \\\\\n",
       "\t Keep  \\\\\n",
       "\t Keep  \\\\\n",
       "\\end{tabular}\n"
      ],
      "text/markdown": [
       "\n",
       "| Yield |\n",
       "|---|\n",
       "| Keep   |\n",
       "| Select |\n",
       "| Select |\n",
       "| Select |\n",
       "| Select |\n",
       "| Select |\n",
       "| Select |\n",
       "| Drop   |\n",
       "| Keep   |\n",
       "| Keep   |\n",
       "\n"
      ],
      "text/plain": [
       "      Yield \n",
       " [1,] Keep  \n",
       " [2,] Select\n",
       " [3,] Select\n",
       " [4,] Select\n",
       " [5,] Select\n",
       " [6,] Select\n",
       " [7,] Select\n",
       " [8,] Drop  \n",
       " [9,] Keep  \n",
       "[10,] Keep  "
      ]
     },
     "metadata": {},
     "output_type": "display_data"
    }
   ],
   "source": [
    "#ifelse()\n",
    "head(ifelse(p_yield['Yield']>3000, 'Select', ifelse(p_yield['Yield']<2000, 'Drop', 'Keep')), 10)"
   ]
  },
  {
   "cell_type": "code",
   "execution_count": 47,
   "metadata": {},
   "outputs": [
    {
     "data": {
      "text/html": [
       "<table>\n",
       "<thead><tr><th scope=col>Yield</th></tr></thead>\n",
       "<tbody>\n",
       "\t<tr><td>Drop  </td></tr>\n",
       "\t<tr><td>Select</td></tr>\n",
       "\t<tr><td>Select</td></tr>\n",
       "\t<tr><td>Select</td></tr>\n",
       "\t<tr><td>Select</td></tr>\n",
       "\t<tr><td>Select</td></tr>\n",
       "\t<tr><td>Select</td></tr>\n",
       "\t<tr><td>Drop  </td></tr>\n",
       "\t<tr><td>Drop  </td></tr>\n",
       "\t<tr><td>Drop  </td></tr>\n",
       "</tbody>\n",
       "</table>\n"
      ],
      "text/latex": [
       "\\begin{tabular}{l}\n",
       " Yield\\\\\n",
       "\\hline\n",
       "\t Drop  \\\\\n",
       "\t Select\\\\\n",
       "\t Select\\\\\n",
       "\t Select\\\\\n",
       "\t Select\\\\\n",
       "\t Select\\\\\n",
       "\t Select\\\\\n",
       "\t Drop  \\\\\n",
       "\t Drop  \\\\\n",
       "\t Drop  \\\\\n",
       "\\end{tabular}\n"
      ],
      "text/markdown": [
       "\n",
       "| Yield |\n",
       "|---|\n",
       "| Drop   |\n",
       "| Select |\n",
       "| Select |\n",
       "| Select |\n",
       "| Select |\n",
       "| Select |\n",
       "| Select |\n",
       "| Drop   |\n",
       "| Drop   |\n",
       "| Drop   |\n",
       "\n"
      ],
      "text/plain": [
       "      Yield \n",
       " [1,] Drop  \n",
       " [2,] Select\n",
       " [3,] Select\n",
       " [4,] Select\n",
       " [5,] Select\n",
       " [6,] Select\n",
       " [7,] Select\n",
       " [8,] Drop  \n",
       " [9,] Drop  \n",
       "[10,] Drop  "
      ]
     },
     "metadata": {},
     "output_type": "display_data"
    }
   ],
   "source": [
    "head(ifelse(p_yield['Yield']>3000, 'Select', 'Drop'), 10)\n",
    "#sapply and ifelse sort of do the same thing here"
   ]
  },
  {
   "cell_type": "code",
   "execution_count": 48,
   "metadata": {},
   "outputs": [],
   "source": [
    "#built-in R features\n",
    "#(see Jeff notes)"
   ]
  },
  {
   "cell_type": "code",
   "execution_count": 49,
   "metadata": {},
   "outputs": [],
   "source": [
    "#regular expressions\n",
    "\n",
    "#grepL()\n",
    "#gregexpr()\n",
    "#grep()\n",
    "#sub()\n",
    "#gsub()\n",
    "\n",
    "#figure out index positions of figure out matches or direct matches\n"
   ]
  },
  {
   "cell_type": "code",
   "execution_count": 52,
   "metadata": {},
   "outputs": [
    {
     "data": {
      "text/html": [
       "<ol class=list-inline>\n",
       "\t<li>'G'</li>\n",
       "\t<li>'C'</li>\n",
       "\t<li>'A'</li>\n",
       "\t<li>'C'</li>\n",
       "\t<li>'C'</li>\n",
       "\t<li>'T'</li>\n",
       "\t<li>'T'</li>\n",
       "\t<li>'T'</li>\n",
       "\t<li>'C'</li>\n",
       "\t<li>'A'</li>\n",
       "\t<li>'A'</li>\n",
       "\t<li>'G'</li>\n",
       "\t<li>'T'</li>\n",
       "\t<li>'A'</li>\n",
       "\t<li>'T'</li>\n",
       "\t<li>'A'</li>\n",
       "\t<li>'G'</li>\n",
       "\t<li>'A'</li>\n",
       "\t<li>'G'</li>\n",
       "\t<li>'T'</li>\n",
       "\t<li>'T'</li>\n",
       "\t<li>'G'</li>\n",
       "\t<li>'G'</li>\n",
       "\t<li>'C'</li>\n",
       "\t<li>'T'</li>\n",
       "\t<li>'A'</li>\n",
       "\t<li>'C'</li>\n",
       "\t<li>'C'</li>\n",
       "\t<li>'A'</li>\n",
       "\t<li>'A'</li>\n",
       "\t<li>'A'</li>\n",
       "\t<li>'G'</li>\n",
       "\t<li>'T'</li>\n",
       "\t<li>'C'</li>\n",
       "\t<li>'C'</li>\n",
       "\t<li>'G'</li>\n",
       "\t<li>'C'</li>\n",
       "\t<li>'A'</li>\n",
       "\t<li>'C'</li>\n",
       "\t<li>'T'</li>\n",
       "\t<li>'A'</li>\n",
       "\t<li>'G'</li>\n",
       "\t<li>'A'</li>\n",
       "\t<li>'A'</li>\n",
       "\t<li>'A'</li>\n",
       "\t<li>'T'</li>\n",
       "\t<li>'T'</li>\n",
       "\t<li>'T'</li>\n",
       "\t<li>'A'</li>\n",
       "\t<li>'A'</li>\n",
       "\t<li>'G'</li>\n",
       "\t<li>'C'</li>\n",
       "\t<li>'T'</li>\n",
       "\t<li>'G'</li>\n",
       "\t<li>'T'</li>\n",
       "\t<li>'T'</li>\n",
       "\t<li>'C'</li>\n",
       "\t<li>'G'</li>\n",
       "\t<li>'G'</li>\n",
       "\t<li>'A'</li>\n",
       "\t<li>'C'</li>\n",
       "\t<li>'G'</li>\n",
       "\t<li>'C'</li>\n",
       "\t<li>'G'</li>\n",
       "\t<li>'T'</li>\n",
       "\t<li>'C'</li>\n",
       "\t<li>'C'</li>\n",
       "\t<li>'T'</li>\n",
       "\t<li>'A'</li>\n",
       "\t<li>'A'</li>\n",
       "\t<li>'A'</li>\n",
       "\t<li>'C'</li>\n",
       "\t<li>'G'</li>\n",
       "\t<li>'G'</li>\n",
       "\t<li>'T'</li>\n",
       "\t<li>'G'</li>\n",
       "\t<li>'T'</li>\n",
       "\t<li>'C'</li>\n",
       "\t<li>'G'</li>\n",
       "\t<li>'T'</li>\n",
       "\t<li>'T'</li>\n",
       "\t<li>'G'</li>\n",
       "\t<li>'C'</li>\n",
       "\t<li>'G'</li>\n",
       "\t<li>'A'</li>\n",
       "\t<li>'A'</li>\n",
       "\t<li>'A'</li>\n",
       "\t<li>'C'</li>\n",
       "\t<li>'T'</li>\n",
       "\t<li>'G'</li>\n",
       "\t<li>'A'</li>\n",
       "\t<li>'T'</li>\n",
       "\t<li>'A'</li>\n",
       "\t<li>'C'</li>\n",
       "\t<li>'T'</li>\n",
       "\t<li>'G'</li>\n",
       "\t<li>'C'</li>\n",
       "\t<li>'T'</li>\n",
       "\t<li>'C'</li>\n",
       "\t<li>'C'</li>\n",
       "</ol>\n"
      ],
      "text/latex": [
       "\\begin{enumerate*}\n",
       "\\item 'G'\n",
       "\\item 'C'\n",
       "\\item 'A'\n",
       "\\item 'C'\n",
       "\\item 'C'\n",
       "\\item 'T'\n",
       "\\item 'T'\n",
       "\\item 'T'\n",
       "\\item 'C'\n",
       "\\item 'A'\n",
       "\\item 'A'\n",
       "\\item 'G'\n",
       "\\item 'T'\n",
       "\\item 'A'\n",
       "\\item 'T'\n",
       "\\item 'A'\n",
       "\\item 'G'\n",
       "\\item 'A'\n",
       "\\item 'G'\n",
       "\\item 'T'\n",
       "\\item 'T'\n",
       "\\item 'G'\n",
       "\\item 'G'\n",
       "\\item 'C'\n",
       "\\item 'T'\n",
       "\\item 'A'\n",
       "\\item 'C'\n",
       "\\item 'C'\n",
       "\\item 'A'\n",
       "\\item 'A'\n",
       "\\item 'A'\n",
       "\\item 'G'\n",
       "\\item 'T'\n",
       "\\item 'C'\n",
       "\\item 'C'\n",
       "\\item 'G'\n",
       "\\item 'C'\n",
       "\\item 'A'\n",
       "\\item 'C'\n",
       "\\item 'T'\n",
       "\\item 'A'\n",
       "\\item 'G'\n",
       "\\item 'A'\n",
       "\\item 'A'\n",
       "\\item 'A'\n",
       "\\item 'T'\n",
       "\\item 'T'\n",
       "\\item 'T'\n",
       "\\item 'A'\n",
       "\\item 'A'\n",
       "\\item 'G'\n",
       "\\item 'C'\n",
       "\\item 'T'\n",
       "\\item 'G'\n",
       "\\item 'T'\n",
       "\\item 'T'\n",
       "\\item 'C'\n",
       "\\item 'G'\n",
       "\\item 'G'\n",
       "\\item 'A'\n",
       "\\item 'C'\n",
       "\\item 'G'\n",
       "\\item 'C'\n",
       "\\item 'G'\n",
       "\\item 'T'\n",
       "\\item 'C'\n",
       "\\item 'C'\n",
       "\\item 'T'\n",
       "\\item 'A'\n",
       "\\item 'A'\n",
       "\\item 'A'\n",
       "\\item 'C'\n",
       "\\item 'G'\n",
       "\\item 'G'\n",
       "\\item 'T'\n",
       "\\item 'G'\n",
       "\\item 'T'\n",
       "\\item 'C'\n",
       "\\item 'G'\n",
       "\\item 'T'\n",
       "\\item 'T'\n",
       "\\item 'G'\n",
       "\\item 'C'\n",
       "\\item 'G'\n",
       "\\item 'A'\n",
       "\\item 'A'\n",
       "\\item 'A'\n",
       "\\item 'C'\n",
       "\\item 'T'\n",
       "\\item 'G'\n",
       "\\item 'A'\n",
       "\\item 'T'\n",
       "\\item 'A'\n",
       "\\item 'C'\n",
       "\\item 'T'\n",
       "\\item 'G'\n",
       "\\item 'C'\n",
       "\\item 'T'\n",
       "\\item 'C'\n",
       "\\item 'C'\n",
       "\\end{enumerate*}\n"
      ],
      "text/markdown": [
       "1. 'G'\n",
       "2. 'C'\n",
       "3. 'A'\n",
       "4. 'C'\n",
       "5. 'C'\n",
       "6. 'T'\n",
       "7. 'T'\n",
       "8. 'T'\n",
       "9. 'C'\n",
       "10. 'A'\n",
       "11. 'A'\n",
       "12. 'G'\n",
       "13. 'T'\n",
       "14. 'A'\n",
       "15. 'T'\n",
       "16. 'A'\n",
       "17. 'G'\n",
       "18. 'A'\n",
       "19. 'G'\n",
       "20. 'T'\n",
       "21. 'T'\n",
       "22. 'G'\n",
       "23. 'G'\n",
       "24. 'C'\n",
       "25. 'T'\n",
       "26. 'A'\n",
       "27. 'C'\n",
       "28. 'C'\n",
       "29. 'A'\n",
       "30. 'A'\n",
       "31. 'A'\n",
       "32. 'G'\n",
       "33. 'T'\n",
       "34. 'C'\n",
       "35. 'C'\n",
       "36. 'G'\n",
       "37. 'C'\n",
       "38. 'A'\n",
       "39. 'C'\n",
       "40. 'T'\n",
       "41. 'A'\n",
       "42. 'G'\n",
       "43. 'A'\n",
       "44. 'A'\n",
       "45. 'A'\n",
       "46. 'T'\n",
       "47. 'T'\n",
       "48. 'T'\n",
       "49. 'A'\n",
       "50. 'A'\n",
       "51. 'G'\n",
       "52. 'C'\n",
       "53. 'T'\n",
       "54. 'G'\n",
       "55. 'T'\n",
       "56. 'T'\n",
       "57. 'C'\n",
       "58. 'G'\n",
       "59. 'G'\n",
       "60. 'A'\n",
       "61. 'C'\n",
       "62. 'G'\n",
       "63. 'C'\n",
       "64. 'G'\n",
       "65. 'T'\n",
       "66. 'C'\n",
       "67. 'C'\n",
       "68. 'T'\n",
       "69. 'A'\n",
       "70. 'A'\n",
       "71. 'A'\n",
       "72. 'C'\n",
       "73. 'G'\n",
       "74. 'G'\n",
       "75. 'T'\n",
       "76. 'G'\n",
       "77. 'T'\n",
       "78. 'C'\n",
       "79. 'G'\n",
       "80. 'T'\n",
       "81. 'T'\n",
       "82. 'G'\n",
       "83. 'C'\n",
       "84. 'G'\n",
       "85. 'A'\n",
       "86. 'A'\n",
       "87. 'A'\n",
       "88. 'C'\n",
       "89. 'T'\n",
       "90. 'G'\n",
       "91. 'A'\n",
       "92. 'T'\n",
       "93. 'A'\n",
       "94. 'C'\n",
       "95. 'T'\n",
       "96. 'G'\n",
       "97. 'C'\n",
       "98. 'T'\n",
       "99. 'C'\n",
       "100. 'C'\n",
       "\n",
       "\n"
      ],
      "text/plain": [
       "  [1] \"G\" \"C\" \"A\" \"C\" \"C\" \"T\" \"T\" \"T\" \"C\" \"A\" \"A\" \"G\" \"T\" \"A\" \"T\" \"A\" \"G\" \"A\"\n",
       " [19] \"G\" \"T\" \"T\" \"G\" \"G\" \"C\" \"T\" \"A\" \"C\" \"C\" \"A\" \"A\" \"A\" \"G\" \"T\" \"C\" \"C\" \"G\"\n",
       " [37] \"C\" \"A\" \"C\" \"T\" \"A\" \"G\" \"A\" \"A\" \"A\" \"T\" \"T\" \"T\" \"A\" \"A\" \"G\" \"C\" \"T\" \"G\"\n",
       " [55] \"T\" \"T\" \"C\" \"G\" \"G\" \"A\" \"C\" \"G\" \"C\" \"G\" \"T\" \"C\" \"C\" \"T\" \"A\" \"A\" \"A\" \"C\"\n",
       " [73] \"G\" \"G\" \"T\" \"G\" \"T\" \"C\" \"G\" \"T\" \"T\" \"G\" \"C\" \"G\" \"A\" \"A\" \"A\" \"C\" \"T\" \"G\"\n",
       " [91] \"A\" \"T\" \"A\" \"C\" \"T\" \"G\" \"C\" \"T\" \"C\" \"C\""
      ]
     },
     "metadata": {},
     "output_type": "display_data"
    }
   ],
   "source": [
    "base_pair<-c('A','C','T','G')\n",
    "sequence<-paste(sample(base_pair,100,replace=TRUE))\n",
    "sequence"
   ]
  },
  {
   "cell_type": "code",
   "execution_count": 75,
   "metadata": {},
   "outputs": [
    {
     "data": {
      "text/html": [
       "'CGCATCGAGTCTCCGTTAGTTTGGTCACGTGGCCAAGTGTTCGTCGGAATTTTGAGCCTTCCACCTTTGCGTCAAACACTCCATTCATTCAAAGCAGGGC'"
      ],
      "text/latex": [
       "'CGCATCGAGTCTCCGTTAGTTTGGTCACGTGGCCAAGTGTTCGTCGGAATTTTGAGCCTTCCACCTTTGCGTCAAACACTCCATTCATTCAAAGCAGGGC'"
      ],
      "text/markdown": [
       "'CGCATCGAGTCTCCGTTAGTTTGGTCACGTGGCCAAGTGTTCGTCGGAATTTTGAGCCTTCCACCTTTGCGTCAAACACTCCATTCATTCAAAGCAGGGC'"
      ],
      "text/plain": [
       "[1] \"CGCATCGAGTCTCCGTTAGTTTGGTCACGTGGCCAAGTGTTCGTCGGAATTTTGAGCCTTCCACCTTTGCGTCAAACACTCCATTCATTCAAAGCAGGGC\""
      ]
     },
     "metadata": {},
     "output_type": "display_data"
    }
   ],
   "source": [
    "base_pair<-c('A','C','T','G')\n",
    "sequence<-paste(sample(base_pair,100,replace=TRUE), collapse='')\n",
    "sequence"
   ]
  },
  {
   "cell_type": "code",
   "execution_count": 55,
   "metadata": {},
   "outputs": [
    {
     "data": {
      "text/html": [
       "TRUE"
      ],
      "text/latex": [
       "TRUE"
      ],
      "text/markdown": [
       "TRUE"
      ],
      "text/plain": [
       "[1] TRUE"
      ]
     },
     "metadata": {},
     "output_type": "display_data"
    }
   ],
   "source": [
    "grepl(toupper('gtg'),sequence)\n",
    "#toupper -> gtg == GTG"
   ]
  },
  {
   "cell_type": "raw",
   "metadata": {},
   "source": [
    "grepl just identifies that the given info is a part of the sequence, not where it is"
   ]
  },
  {
   "cell_type": "code",
   "execution_count": 59,
   "metadata": {},
   "outputs": [
    {
     "data": {
      "text/html": [
       "<ol>\n",
       "\t<li><ol class=list-inline>\n",
       "\t<li>12</li>\n",
       "\t<li>53</li>\n",
       "\t<li>64</li>\n",
       "</ol>\n",
       "</li>\n",
       "</ol>\n"
      ],
      "text/latex": [
       "\\begin{enumerate}\n",
       "\\item \\begin{enumerate*}\n",
       "\\item 12\n",
       "\\item 53\n",
       "\\item 64\n",
       "\\end{enumerate*}\n",
       "\n",
       "\\end{enumerate}\n"
      ],
      "text/markdown": [
       "1. 1. 12\n",
       "2. 53\n",
       "3. 64\n",
       "\n",
       "\n",
       "\n",
       "\n",
       "\n"
      ],
      "text/plain": [
       "[[1]]\n",
       "[1] 12 53 64\n",
       "attr(,\"match.length\")\n",
       "[1] 3 3 3\n",
       "attr(,\"index.type\")\n",
       "[1] \"chars\"\n",
       "attr(,\"useBytes\")\n",
       "[1] TRUE\n"
      ]
     },
     "metadata": {},
     "output_type": "display_data"
    }
   ],
   "source": [
    "gregexpr(toupper('gtg'), sequence)"
   ]
  },
  {
   "cell_type": "code",
   "execution_count": 71,
   "metadata": {},
   "outputs": [
    {
     "data": {
      "text/html": [
       "<ol class=list-inline>\n",
       "\t<li>'G'</li>\n",
       "\t<li>'T'</li>\n",
       "\t<li>'A'</li>\n",
       "\t<li>'G'</li>\n",
       "\t<li>'A'</li>\n",
       "\t<li>'C'</li>\n",
       "\t<li>'G'</li>\n",
       "\t<li>'T'</li>\n",
       "\t<li>'G'</li>\n",
       "\t<li>'G'</li>\n",
       "\t<li>'A'</li>\n",
       "\t<li>'G'</li>\n",
       "\t<li>'A'</li>\n",
       "\t<li>'T'</li>\n",
       "\t<li>'T'</li>\n",
       "\t<li>'A'</li>\n",
       "\t<li>'A'</li>\n",
       "\t<li>'T'</li>\n",
       "\t<li>'C'</li>\n",
       "\t<li>'A'</li>\n",
       "\t<li>'G'</li>\n",
       "\t<li>'G'</li>\n",
       "\t<li>'G'</li>\n",
       "\t<li>'A'</li>\n",
       "\t<li>'G'</li>\n",
       "\t<li>'T'</li>\n",
       "\t<li>'T'</li>\n",
       "\t<li>'C'</li>\n",
       "\t<li>'C'</li>\n",
       "\t<li>'G'</li>\n",
       "\t<li>'A'</li>\n",
       "\t<li>'C'</li>\n",
       "\t<li>'A'</li>\n",
       "\t<li>'T'</li>\n",
       "\t<li>'G'</li>\n",
       "\t<li>'G'</li>\n",
       "\t<li>'T'</li>\n",
       "\t<li>'C'</li>\n",
       "\t<li>'A'</li>\n",
       "\t<li>'A'</li>\n",
       "\t<li>'C'</li>\n",
       "\t<li>'G'</li>\n",
       "\t<li>'T'</li>\n",
       "\t<li>'T'</li>\n",
       "\t<li>'T'</li>\n",
       "\t<li>'A'</li>\n",
       "\t<li>'A'</li>\n",
       "\t<li>'G'</li>\n",
       "\t<li>'C'</li>\n",
       "\t<li>'C'</li>\n",
       "\t<li>'A'</li>\n",
       "\t<li>'G'</li>\n",
       "\t<li>'T'</li>\n",
       "\t<li>'G'</li>\n",
       "\t<li>'G'</li>\n",
       "\t<li>'T'</li>\n",
       "\t<li>'C'</li>\n",
       "\t<li>'T'</li>\n",
       "\t<li>'G'</li>\n",
       "\t<li>'A'</li>\n",
       "\t<li>'C'</li>\n",
       "\t<li>'G'</li>\n",
       "\t<li>'G'</li>\n",
       "\t<li>'C'</li>\n",
       "\t<li>'T'</li>\n",
       "\t<li>'G'</li>\n",
       "\t<li>'C'</li>\n",
       "\t<li>'G'</li>\n",
       "\t<li>'A'</li>\n",
       "\t<li>'A'</li>\n",
       "\t<li>'T'</li>\n",
       "\t<li>'C'</li>\n",
       "\t<li>'A'</li>\n",
       "\t<li>'A'</li>\n",
       "\t<li>'A'</li>\n",
       "\t<li>'T'</li>\n",
       "\t<li>'C'</li>\n",
       "\t<li>'T'</li>\n",
       "\t<li>'T'</li>\n",
       "\t<li>'G'</li>\n",
       "\t<li>'G'</li>\n",
       "\t<li>'A'</li>\n",
       "\t<li>'C'</li>\n",
       "\t<li>'C'</li>\n",
       "\t<li>'C'</li>\n",
       "\t<li>'T'</li>\n",
       "\t<li>'A'</li>\n",
       "\t<li>'G'</li>\n",
       "\t<li>'C'</li>\n",
       "\t<li>'G'</li>\n",
       "\t<li>'A'</li>\n",
       "\t<li>'C'</li>\n",
       "\t<li>'T'</li>\n",
       "\t<li>'G'</li>\n",
       "\t<li>'A'</li>\n",
       "\t<li>'C'</li>\n",
       "\t<li>'A'</li>\n",
       "\t<li>'A'</li>\n",
       "\t<li>'C'</li>\n",
       "\t<li>'G'</li>\n",
       "</ol>\n"
      ],
      "text/latex": [
       "\\begin{enumerate*}\n",
       "\\item 'G'\n",
       "\\item 'T'\n",
       "\\item 'A'\n",
       "\\item 'G'\n",
       "\\item 'A'\n",
       "\\item 'C'\n",
       "\\item 'G'\n",
       "\\item 'T'\n",
       "\\item 'G'\n",
       "\\item 'G'\n",
       "\\item 'A'\n",
       "\\item 'G'\n",
       "\\item 'A'\n",
       "\\item 'T'\n",
       "\\item 'T'\n",
       "\\item 'A'\n",
       "\\item 'A'\n",
       "\\item 'T'\n",
       "\\item 'C'\n",
       "\\item 'A'\n",
       "\\item 'G'\n",
       "\\item 'G'\n",
       "\\item 'G'\n",
       "\\item 'A'\n",
       "\\item 'G'\n",
       "\\item 'T'\n",
       "\\item 'T'\n",
       "\\item 'C'\n",
       "\\item 'C'\n",
       "\\item 'G'\n",
       "\\item 'A'\n",
       "\\item 'C'\n",
       "\\item 'A'\n",
       "\\item 'T'\n",
       "\\item 'G'\n",
       "\\item 'G'\n",
       "\\item 'T'\n",
       "\\item 'C'\n",
       "\\item 'A'\n",
       "\\item 'A'\n",
       "\\item 'C'\n",
       "\\item 'G'\n",
       "\\item 'T'\n",
       "\\item 'T'\n",
       "\\item 'T'\n",
       "\\item 'A'\n",
       "\\item 'A'\n",
       "\\item 'G'\n",
       "\\item 'C'\n",
       "\\item 'C'\n",
       "\\item 'A'\n",
       "\\item 'G'\n",
       "\\item 'T'\n",
       "\\item 'G'\n",
       "\\item 'G'\n",
       "\\item 'T'\n",
       "\\item 'C'\n",
       "\\item 'T'\n",
       "\\item 'G'\n",
       "\\item 'A'\n",
       "\\item 'C'\n",
       "\\item 'G'\n",
       "\\item 'G'\n",
       "\\item 'C'\n",
       "\\item 'T'\n",
       "\\item 'G'\n",
       "\\item 'C'\n",
       "\\item 'G'\n",
       "\\item 'A'\n",
       "\\item 'A'\n",
       "\\item 'T'\n",
       "\\item 'C'\n",
       "\\item 'A'\n",
       "\\item 'A'\n",
       "\\item 'A'\n",
       "\\item 'T'\n",
       "\\item 'C'\n",
       "\\item 'T'\n",
       "\\item 'T'\n",
       "\\item 'G'\n",
       "\\item 'G'\n",
       "\\item 'A'\n",
       "\\item 'C'\n",
       "\\item 'C'\n",
       "\\item 'C'\n",
       "\\item 'T'\n",
       "\\item 'A'\n",
       "\\item 'G'\n",
       "\\item 'C'\n",
       "\\item 'G'\n",
       "\\item 'A'\n",
       "\\item 'C'\n",
       "\\item 'T'\n",
       "\\item 'G'\n",
       "\\item 'A'\n",
       "\\item 'C'\n",
       "\\item 'A'\n",
       "\\item 'A'\n",
       "\\item 'C'\n",
       "\\item 'G'\n",
       "\\end{enumerate*}\n"
      ],
      "text/markdown": [
       "1. 'G'\n",
       "2. 'T'\n",
       "3. 'A'\n",
       "4. 'G'\n",
       "5. 'A'\n",
       "6. 'C'\n",
       "7. 'G'\n",
       "8. 'T'\n",
       "9. 'G'\n",
       "10. 'G'\n",
       "11. 'A'\n",
       "12. 'G'\n",
       "13. 'A'\n",
       "14. 'T'\n",
       "15. 'T'\n",
       "16. 'A'\n",
       "17. 'A'\n",
       "18. 'T'\n",
       "19. 'C'\n",
       "20. 'A'\n",
       "21. 'G'\n",
       "22. 'G'\n",
       "23. 'G'\n",
       "24. 'A'\n",
       "25. 'G'\n",
       "26. 'T'\n",
       "27. 'T'\n",
       "28. 'C'\n",
       "29. 'C'\n",
       "30. 'G'\n",
       "31. 'A'\n",
       "32. 'C'\n",
       "33. 'A'\n",
       "34. 'T'\n",
       "35. 'G'\n",
       "36. 'G'\n",
       "37. 'T'\n",
       "38. 'C'\n",
       "39. 'A'\n",
       "40. 'A'\n",
       "41. 'C'\n",
       "42. 'G'\n",
       "43. 'T'\n",
       "44. 'T'\n",
       "45. 'T'\n",
       "46. 'A'\n",
       "47. 'A'\n",
       "48. 'G'\n",
       "49. 'C'\n",
       "50. 'C'\n",
       "51. 'A'\n",
       "52. 'G'\n",
       "53. 'T'\n",
       "54. 'G'\n",
       "55. 'G'\n",
       "56. 'T'\n",
       "57. 'C'\n",
       "58. 'T'\n",
       "59. 'G'\n",
       "60. 'A'\n",
       "61. 'C'\n",
       "62. 'G'\n",
       "63. 'G'\n",
       "64. 'C'\n",
       "65. 'T'\n",
       "66. 'G'\n",
       "67. 'C'\n",
       "68. 'G'\n",
       "69. 'A'\n",
       "70. 'A'\n",
       "71. 'T'\n",
       "72. 'C'\n",
       "73. 'A'\n",
       "74. 'A'\n",
       "75. 'A'\n",
       "76. 'T'\n",
       "77. 'C'\n",
       "78. 'T'\n",
       "79. 'T'\n",
       "80. 'G'\n",
       "81. 'G'\n",
       "82. 'A'\n",
       "83. 'C'\n",
       "84. 'C'\n",
       "85. 'C'\n",
       "86. 'T'\n",
       "87. 'A'\n",
       "88. 'G'\n",
       "89. 'C'\n",
       "90. 'G'\n",
       "91. 'A'\n",
       "92. 'C'\n",
       "93. 'T'\n",
       "94. 'G'\n",
       "95. 'A'\n",
       "96. 'C'\n",
       "97. 'A'\n",
       "98. 'A'\n",
       "99. 'C'\n",
       "100. 'G'\n",
       "\n",
       "\n"
      ],
      "text/plain": [
       "  [1] \"G\" \"T\" \"A\" \"G\" \"A\" \"C\" \"G\" \"T\" \"G\" \"G\" \"A\" \"G\" \"A\" \"T\" \"T\" \"A\" \"A\" \"T\"\n",
       " [19] \"C\" \"A\" \"G\" \"G\" \"G\" \"A\" \"G\" \"T\" \"T\" \"C\" \"C\" \"G\" \"A\" \"C\" \"A\" \"T\" \"G\" \"G\"\n",
       " [37] \"T\" \"C\" \"A\" \"A\" \"C\" \"G\" \"T\" \"T\" \"T\" \"A\" \"A\" \"G\" \"C\" \"C\" \"A\" \"G\" \"T\" \"G\"\n",
       " [55] \"G\" \"T\" \"C\" \"T\" \"G\" \"A\" \"C\" \"G\" \"G\" \"C\" \"T\" \"G\" \"C\" \"G\" \"A\" \"A\" \"T\" \"C\"\n",
       " [73] \"A\" \"A\" \"A\" \"T\" \"C\" \"T\" \"T\" \"G\" \"G\" \"A\" \"C\" \"C\" \"C\" \"T\" \"A\" \"G\" \"C\" \"G\"\n",
       " [91] \"A\" \"C\" \"T\" \"G\" \"A\" \"C\" \"A\" \"A\" \"C\" \"G\""
      ]
     },
     "metadata": {},
     "output_type": "display_data"
    }
   ],
   "source": [
    "base_pair<-c('A','C','T','G')\n",
    "sequence<-paste(sample(base_pair,100,replace=TRUE))\n",
    "sequence"
   ]
  },
  {
   "cell_type": "code",
   "execution_count": 72,
   "metadata": {},
   "outputs": [
    {
     "data": {
      "text/html": [
       "<ol class=list-inline>\n",
       "\t<li>1</li>\n",
       "\t<li>4</li>\n",
       "\t<li>7</li>\n",
       "\t<li>9</li>\n",
       "\t<li>10</li>\n",
       "\t<li>12</li>\n",
       "\t<li>21</li>\n",
       "\t<li>22</li>\n",
       "\t<li>23</li>\n",
       "\t<li>25</li>\n",
       "\t<li>30</li>\n",
       "\t<li>35</li>\n",
       "\t<li>36</li>\n",
       "\t<li>42</li>\n",
       "\t<li>48</li>\n",
       "\t<li>52</li>\n",
       "\t<li>54</li>\n",
       "\t<li>55</li>\n",
       "\t<li>59</li>\n",
       "\t<li>62</li>\n",
       "\t<li>63</li>\n",
       "\t<li>66</li>\n",
       "\t<li>68</li>\n",
       "\t<li>80</li>\n",
       "\t<li>81</li>\n",
       "\t<li>88</li>\n",
       "\t<li>90</li>\n",
       "\t<li>94</li>\n",
       "\t<li>100</li>\n",
       "</ol>\n"
      ],
      "text/latex": [
       "\\begin{enumerate*}\n",
       "\\item 1\n",
       "\\item 4\n",
       "\\item 7\n",
       "\\item 9\n",
       "\\item 10\n",
       "\\item 12\n",
       "\\item 21\n",
       "\\item 22\n",
       "\\item 23\n",
       "\\item 25\n",
       "\\item 30\n",
       "\\item 35\n",
       "\\item 36\n",
       "\\item 42\n",
       "\\item 48\n",
       "\\item 52\n",
       "\\item 54\n",
       "\\item 55\n",
       "\\item 59\n",
       "\\item 62\n",
       "\\item 63\n",
       "\\item 66\n",
       "\\item 68\n",
       "\\item 80\n",
       "\\item 81\n",
       "\\item 88\n",
       "\\item 90\n",
       "\\item 94\n",
       "\\item 100\n",
       "\\end{enumerate*}\n"
      ],
      "text/markdown": [
       "1. 1\n",
       "2. 4\n",
       "3. 7\n",
       "4. 9\n",
       "5. 10\n",
       "6. 12\n",
       "7. 21\n",
       "8. 22\n",
       "9. 23\n",
       "10. 25\n",
       "11. 30\n",
       "12. 35\n",
       "13. 36\n",
       "14. 42\n",
       "15. 48\n",
       "16. 52\n",
       "17. 54\n",
       "18. 55\n",
       "19. 59\n",
       "20. 62\n",
       "21. 63\n",
       "22. 66\n",
       "23. 68\n",
       "24. 80\n",
       "25. 81\n",
       "26. 88\n",
       "27. 90\n",
       "28. 94\n",
       "29. 100\n",
       "\n",
       "\n"
      ],
      "text/plain": [
       " [1]   1   4   7   9  10  12  21  22  23  25  30  35  36  42  48  52  54  55  59\n",
       "[20]  62  63  66  68  80  81  88  90  94 100"
      ]
     },
     "metadata": {},
     "output_type": "display_data"
    }
   ],
   "source": [
    "grep('G', sequence)"
   ]
  },
  {
   "cell_type": "code",
   "execution_count": 73,
   "metadata": {},
   "outputs": [
    {
     "data": {
      "text/html": [
       "29"
      ],
      "text/latex": [
       "29"
      ],
      "text/markdown": [
       "29"
      ],
      "text/plain": [
       "[1] 29"
      ]
     },
     "metadata": {},
     "output_type": "display_data"
    }
   ],
   "source": [
    "#if want to know how many G's, can either sotre it or call length directly on it\n",
    "length(grep('G', sequence))"
   ]
  },
  {
   "cell_type": "code",
   "execution_count": 64,
   "metadata": {},
   "outputs": [],
   "source": [
    "sequence2 <- c('ATG','TAG','TTC','CTT','GTG','GAT','GCC')"
   ]
  },
  {
   "cell_type": "code",
   "execution_count": 65,
   "metadata": {},
   "outputs": [
    {
     "data": {
      "text/html": [
       "<ol class=list-inline>\n",
       "\t<li>'AUG'</li>\n",
       "\t<li>'UAG'</li>\n",
       "\t<li>'UTC'</li>\n",
       "\t<li>'CUT'</li>\n",
       "\t<li>'GUG'</li>\n",
       "\t<li>'GAU'</li>\n",
       "\t<li>'GCC'</li>\n",
       "</ol>\n"
      ],
      "text/latex": [
       "\\begin{enumerate*}\n",
       "\\item 'AUG'\n",
       "\\item 'UAG'\n",
       "\\item 'UTC'\n",
       "\\item 'CUT'\n",
       "\\item 'GUG'\n",
       "\\item 'GAU'\n",
       "\\item 'GCC'\n",
       "\\end{enumerate*}\n"
      ],
      "text/markdown": [
       "1. 'AUG'\n",
       "2. 'UAG'\n",
       "3. 'UTC'\n",
       "4. 'CUT'\n",
       "5. 'GUG'\n",
       "6. 'GAU'\n",
       "7. 'GCC'\n",
       "\n",
       "\n"
      ],
      "text/plain": [
       "[1] \"AUG\" \"UAG\" \"UTC\" \"CUT\" \"GUG\" \"GAU\" \"GCC\""
      ]
     },
     "metadata": {},
     "output_type": "display_data"
    }
   ],
   "source": [
    "sub('T', 'U', sequence2)\n",
    "#only changes first instance of T to a U, not all instances"
   ]
  },
  {
   "cell_type": "code",
   "execution_count": 66,
   "metadata": {},
   "outputs": [
    {
     "data": {
      "text/html": [
       "<ol class=list-inline>\n",
       "\t<li>'ATG'</li>\n",
       "\t<li>'TAG'</li>\n",
       "\t<li>'TTC'</li>\n",
       "\t<li>'CTT'</li>\n",
       "\t<li>'GTG'</li>\n",
       "\t<li>'GAT'</li>\n",
       "\t<li>'GCC'</li>\n",
       "</ol>\n"
      ],
      "text/latex": [
       "\\begin{enumerate*}\n",
       "\\item 'ATG'\n",
       "\\item 'TAG'\n",
       "\\item 'TTC'\n",
       "\\item 'CTT'\n",
       "\\item 'GTG'\n",
       "\\item 'GAT'\n",
       "\\item 'GCC'\n",
       "\\end{enumerate*}\n"
      ],
      "text/markdown": [
       "1. 'ATG'\n",
       "2. 'TAG'\n",
       "3. 'TTC'\n",
       "4. 'CTT'\n",
       "5. 'GTG'\n",
       "6. 'GAT'\n",
       "7. 'GCC'\n",
       "\n",
       "\n"
      ],
      "text/plain": [
       "[1] \"ATG\" \"TAG\" \"TTC\" \"CTT\" \"GTG\" \"GAT\" \"GCC\""
      ]
     },
     "metadata": {},
     "output_type": "display_data"
    }
   ],
   "source": [
    "sequence2"
   ]
  },
  {
   "cell_type": "code",
   "execution_count": 68,
   "metadata": {},
   "outputs": [
    {
     "data": {
      "text/html": [
       "<ol class=list-inline>\n",
       "\t<li>'AUG'</li>\n",
       "\t<li>'UAG'</li>\n",
       "\t<li>'UUC'</li>\n",
       "\t<li>'CUU'</li>\n",
       "\t<li>'GUG'</li>\n",
       "\t<li>'GAU'</li>\n",
       "\t<li>'GCC'</li>\n",
       "</ol>\n"
      ],
      "text/latex": [
       "\\begin{enumerate*}\n",
       "\\item 'AUG'\n",
       "\\item 'UAG'\n",
       "\\item 'UUC'\n",
       "\\item 'CUU'\n",
       "\\item 'GUG'\n",
       "\\item 'GAU'\n",
       "\\item 'GCC'\n",
       "\\end{enumerate*}\n"
      ],
      "text/markdown": [
       "1. 'AUG'\n",
       "2. 'UAG'\n",
       "3. 'UUC'\n",
       "4. 'CUU'\n",
       "5. 'GUG'\n",
       "6. 'GAU'\n",
       "7. 'GCC'\n",
       "\n",
       "\n"
      ],
      "text/plain": [
       "[1] \"AUG\" \"UAG\" \"UUC\" \"CUU\" \"GUG\" \"GAU\" \"GCC\""
      ]
     },
     "metadata": {},
     "output_type": "display_data"
    }
   ],
   "source": [
    "#alternatively gsub which subs all T's to U's\n",
    "gsub('T', 'U', sequence2)"
   ]
  },
  {
   "cell_type": "code",
   "execution_count": 69,
   "metadata": {},
   "outputs": [
    {
     "data": {
      "text/html": [
       "<ol class=list-inline>\n",
       "\t<li>'START'</li>\n",
       "\t<li>'TAG'</li>\n",
       "\t<li>'TTC'</li>\n",
       "\t<li>'CTT'</li>\n",
       "\t<li>'GTG'</li>\n",
       "\t<li>'GAT'</li>\n",
       "\t<li>'GCC'</li>\n",
       "</ol>\n"
      ],
      "text/latex": [
       "\\begin{enumerate*}\n",
       "\\item 'START'\n",
       "\\item 'TAG'\n",
       "\\item 'TTC'\n",
       "\\item 'CTT'\n",
       "\\item 'GTG'\n",
       "\\item 'GAT'\n",
       "\\item 'GCC'\n",
       "\\end{enumerate*}\n"
      ],
      "text/markdown": [
       "1. 'START'\n",
       "2. 'TAG'\n",
       "3. 'TTC'\n",
       "4. 'CTT'\n",
       "5. 'GTG'\n",
       "6. 'GAT'\n",
       "7. 'GCC'\n",
       "\n",
       "\n"
      ],
      "text/plain": [
       "[1] \"START\" \"TAG\"   \"TTC\"   \"CTT\"   \"GTG\"   \"GAT\"   \"GCC\"  "
      ]
     },
     "metadata": {},
     "output_type": "display_data"
    }
   ],
   "source": [
    "#when sub would be useful\n",
    "sub('ATG', 'START', sequence2)"
   ]
  },
  {
   "cell_type": "code",
   "execution_count": 76,
   "metadata": {},
   "outputs": [
    {
     "data": {
      "text/html": [
       "'CGCATCGAGTCTCCGTTAGTTTGGTCACGTGGCCAAGTGTTCGTCGGAATTTTGAGCCTTCCACCTTTGCGTCAAACACTCCATTCATTCAAAGCAGGGC'"
      ],
      "text/latex": [
       "'CGCATCGAGTCTCCGTTAGTTTGGTCACGTGGCCAAGTGTTCGTCGGAATTTTGAGCCTTCCACCTTTGCGTCAAACACTCCATTCATTCAAAGCAGGGC'"
      ],
      "text/markdown": [
       "'CGCATCGAGTCTCCGTTAGTTTGGTCACGTGGCCAAGTGTTCGTCGGAATTTTGAGCCTTCCACCTTTGCGTCAAACACTCCATTCATTCAAAGCAGGGC'"
      ],
      "text/plain": [
       "[1] \"CGCATCGAGTCTCCGTTAGTTTGGTCACGTGGCCAAGTGTTCGTCGGAATTTTGAGCCTTCCACCTTTGCGTCAAACACTCCATTCATTCAAAGCAGGGC\""
      ]
     },
     "metadata": {},
     "output_type": "display_data"
    }
   ],
   "source": [
    "sub('ATG', 'START', sequence)"
   ]
  },
  {
   "cell_type": "code",
   "execution_count": null,
   "metadata": {},
   "outputs": [],
   "source": []
  }
 ],
 "metadata": {
  "kernelspec": {
   "display_name": "R",
   "language": "R",
   "name": "ir"
  },
  "language_info": {
   "codemirror_mode": "r",
   "file_extension": ".r",
   "mimetype": "text/x-r-source",
   "name": "R",
   "pygments_lexer": "r",
   "version": "3.6.1"
  }
 },
 "nbformat": 4,
 "nbformat_minor": 2
}
