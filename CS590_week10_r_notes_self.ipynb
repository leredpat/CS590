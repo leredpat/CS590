{
 "cells": [
  {
   "cell_type": "code",
   "execution_count": 2,
   "metadata": {},
   "outputs": [
    {
     "name": "stderr",
     "output_type": "stream",
     "text": [
      "\n",
      "Attaching package: 'dplyr'\n",
      "\n",
      "The following objects are masked from 'package:stats':\n",
      "\n",
      "    filter, lag\n",
      "\n",
      "The following objects are masked from 'package:base':\n",
      "\n",
      "    intersect, setdiff, setequal, union\n",
      "\n"
     ]
    }
   ],
   "source": [
    "library('dplyr')"
   ]
  },
  {
   "cell_type": "code",
   "execution_count": 6,
   "metadata": {},
   "outputs": [
    {
     "name": "stderr",
     "output_type": "stream",
     "text": [
      "Installing package into 'C:/Users/Lauren Redpath/Documents/R/win-library/3.6'\n",
      "(as 'lib' is unspecified)\n"
     ]
    },
    {
     "name": "stdout",
     "output_type": "stream",
     "text": [
      "package 'nycflights13' successfully unpacked and MD5 sums checked\n",
      "\n",
      "The downloaded binary packages are in\n",
      "\tC:\\Users\\Lauren Redpath\\AppData\\Local\\Temp\\RtmpmszC9y\\downloaded_packages\n"
     ]
    }
   ],
   "source": [
    "install.packages('nycflights13', repos='http://cran.us.r-project.org')"
   ]
  },
  {
   "cell_type": "code",
   "execution_count": 10,
   "metadata": {},
   "outputs": [
    {
     "data": {
      "text/plain": [
       "      year          month             day           dep_time    sched_dep_time\n",
       " Min.   :2013   Min.   : 1.000   Min.   : 1.00   Min.   :   1   Min.   : 106  \n",
       " 1st Qu.:2013   1st Qu.: 4.000   1st Qu.: 8.00   1st Qu.: 907   1st Qu.: 906  \n",
       " Median :2013   Median : 7.000   Median :16.00   Median :1401   Median :1359  \n",
       " Mean   :2013   Mean   : 6.549   Mean   :15.71   Mean   :1349   Mean   :1344  \n",
       " 3rd Qu.:2013   3rd Qu.:10.000   3rd Qu.:23.00   3rd Qu.:1744   3rd Qu.:1729  \n",
       " Max.   :2013   Max.   :12.000   Max.   :31.00   Max.   :2400   Max.   :2359  \n",
       "                                                 NA's   :8255                 \n",
       "   dep_delay          arr_time    sched_arr_time   arr_delay       \n",
       " Min.   : -43.00   Min.   :   1   Min.   :   1   Min.   : -86.000  \n",
       " 1st Qu.:  -5.00   1st Qu.:1104   1st Qu.:1124   1st Qu.: -17.000  \n",
       " Median :  -2.00   Median :1535   Median :1556   Median :  -5.000  \n",
       " Mean   :  12.64   Mean   :1502   Mean   :1536   Mean   :   6.895  \n",
       " 3rd Qu.:  11.00   3rd Qu.:1940   3rd Qu.:1945   3rd Qu.:  14.000  \n",
       " Max.   :1301.00   Max.   :2400   Max.   :2359   Max.   :1272.000  \n",
       " NA's   :8255      NA's   :8713                  NA's   :9430      \n",
       "   carrier              flight       tailnum             origin         \n",
       " Length:336776      Min.   :   1   Length:336776      Length:336776     \n",
       " Class :character   1st Qu.: 553   Class :character   Class :character  \n",
       " Mode  :character   Median :1496   Mode  :character   Mode  :character  \n",
       "                    Mean   :1972                                        \n",
       "                    3rd Qu.:3465                                        \n",
       "                    Max.   :8500                                        \n",
       "                                                                        \n",
       "     dest              air_time        distance         hour      \n",
       " Length:336776      Min.   : 20.0   Min.   :  17   Min.   : 1.00  \n",
       " Class :character   1st Qu.: 82.0   1st Qu.: 502   1st Qu.: 9.00  \n",
       " Mode  :character   Median :129.0   Median : 872   Median :13.00  \n",
       "                    Mean   :150.7   Mean   :1040   Mean   :13.18  \n",
       "                    3rd Qu.:192.0   3rd Qu.:1389   3rd Qu.:17.00  \n",
       "                    Max.   :695.0   Max.   :4983   Max.   :23.00  \n",
       "                    NA's   :9430                                  \n",
       "     minute        time_hour                  \n",
       " Min.   : 0.00   Min.   :2013-01-01 05:00:00  \n",
       " 1st Qu.: 8.00   1st Qu.:2013-04-04 13:00:00  \n",
       " Median :29.00   Median :2013-07-03 10:00:00  \n",
       " Mean   :26.23   Mean   :2013-07-03 05:22:54  \n",
       " 3rd Qu.:44.00   3rd Qu.:2013-10-01 07:00:00  \n",
       " Max.   :59.00   Max.   :2013-12-31 23:00:00  \n",
       "                                              "
      ]
     },
     "metadata": {},
     "output_type": "display_data"
    }
   ],
   "source": [
    "library('nycflights13')\n",
    "summary(flights)"
   ]
  },
  {
   "cell_type": "code",
   "execution_count": 11,
   "metadata": {},
   "outputs": [
    {
     "data": {
      "text/html": [
       "<ol class=list-inline>\n",
       "\t<li>336776</li>\n",
       "\t<li>19</li>\n",
       "</ol>\n"
      ],
      "text/latex": [
       "\\begin{enumerate*}\n",
       "\\item 336776\n",
       "\\item 19\n",
       "\\end{enumerate*}\n"
      ],
      "text/markdown": [
       "1. 336776\n",
       "2. 19\n",
       "\n",
       "\n"
      ],
      "text/plain": [
       "[1] 336776     19"
      ]
     },
     "metadata": {},
     "output_type": "display_data"
    }
   ],
   "source": [
    "dim(flights)\n",
    "#tells you rows, columns"
   ]
  },
  {
   "cell_type": "code",
   "execution_count": 12,
   "metadata": {},
   "outputs": [
    {
     "data": {
      "text/html": [
       "<table>\n",
       "<thead><tr><th scope=col>year</th><th scope=col>month</th><th scope=col>day</th><th scope=col>dep_time</th><th scope=col>sched_dep_time</th><th scope=col>dep_delay</th><th scope=col>arr_time</th><th scope=col>sched_arr_time</th><th scope=col>arr_delay</th><th scope=col>carrier</th><th scope=col>flight</th><th scope=col>tailnum</th><th scope=col>origin</th><th scope=col>dest</th><th scope=col>air_time</th><th scope=col>distance</th><th scope=col>hour</th><th scope=col>minute</th><th scope=col>time_hour</th></tr></thead>\n",
       "<tbody>\n",
       "\t<tr><td>2013               </td><td>11                 </td><td>3                  </td><td>538                </td><td>545                </td><td>-7                 </td><td>824                </td><td>855                </td><td>-31                </td><td>AA                 </td><td>2243               </td><td>N5DWAA             </td><td>JFK                </td><td>MIA                </td><td>144                </td><td>1089               </td><td>5                  </td><td>45                 </td><td>2013-11-03 05:00:00</td></tr>\n",
       "\t<tr><td>2013               </td><td>11                 </td><td>3                  </td><td>556                </td><td>600                </td><td>-4                 </td><td>900                </td><td>905                </td><td> -5                </td><td>AA                 </td><td>1175               </td><td>N3CSAA             </td><td>LGA                </td><td>MIA                </td><td>148                </td><td>1096               </td><td>6                  </td><td> 0                 </td><td>2013-11-03 06:00:00</td></tr>\n",
       "\t<tr><td>2013               </td><td>11                 </td><td>3                  </td><td>604                </td><td>610                </td><td>-6                 </td><td>844                </td><td>855                </td><td>-11                </td><td>AA                 </td><td>1103               </td><td>N3KDAA             </td><td>LGA                </td><td>DFW                </td><td>192                </td><td>1389               </td><td>6                  </td><td>10                 </td><td>2013-11-03 06:00:00</td></tr>\n",
       "\t<tr><td>2013               </td><td>11                 </td><td>3                  </td><td>624                </td><td>629                </td><td>-5                 </td><td>907                </td><td>929                </td><td>-22                </td><td>AA                 </td><td>1205               </td><td>N3EJAA             </td><td>EWR                </td><td>MIA                </td><td>141                </td><td>1085               </td><td>6                  </td><td>29                 </td><td>2013-11-03 06:00:00</td></tr>\n",
       "\t<tr><td>2013               </td><td>11                 </td><td>3                  </td><td>625                </td><td>630                </td><td>-5                 </td><td>736                </td><td>805                </td><td>-29                </td><td>AA                 </td><td> 303               </td><td>N4WJAA             </td><td>LGA                </td><td>ORD                </td><td>113                </td><td> 733               </td><td>6                  </td><td>30                 </td><td>2013-11-03 06:00:00</td></tr>\n",
       "\t<tr><td>2013               </td><td>11                 </td><td>3                  </td><td>653                </td><td>655                </td><td>-2                 </td><td>925                </td><td>920                </td><td>  5                </td><td>AA                 </td><td>1263               </td><td>N634AA             </td><td>JFK                </td><td>LAS                </td><td>306                </td><td>2248               </td><td>6                  </td><td>55                 </td><td>2013-11-03 06:00:00</td></tr>\n",
       "</tbody>\n",
       "</table>\n"
      ],
      "text/latex": [
       "\\begin{tabular}{r|lllllllllllllllllll}\n",
       " year & month & day & dep\\_time & sched\\_dep\\_time & dep\\_delay & arr\\_time & sched\\_arr\\_time & arr\\_delay & carrier & flight & tailnum & origin & dest & air\\_time & distance & hour & minute & time\\_hour\\\\\n",
       "\\hline\n",
       "\t 2013                & 11                  & 3                   & 538                 & 545                 & -7                  & 824                 & 855                 & -31                 & AA                  & 2243                & N5DWAA              & JFK                 & MIA                 & 144                 & 1089                & 5                   & 45                  & 2013-11-03 05:00:00\\\\\n",
       "\t 2013                & 11                  & 3                   & 556                 & 600                 & -4                  & 900                 & 905                 &  -5                 & AA                  & 1175                & N3CSAA              & LGA                 & MIA                 & 148                 & 1096                & 6                   &  0                  & 2013-11-03 06:00:00\\\\\n",
       "\t 2013                & 11                  & 3                   & 604                 & 610                 & -6                  & 844                 & 855                 & -11                 & AA                  & 1103                & N3KDAA              & LGA                 & DFW                 & 192                 & 1389                & 6                   & 10                  & 2013-11-03 06:00:00\\\\\n",
       "\t 2013                & 11                  & 3                   & 624                 & 629                 & -5                  & 907                 & 929                 & -22                 & AA                  & 1205                & N3EJAA              & EWR                 & MIA                 & 141                 & 1085                & 6                   & 29                  & 2013-11-03 06:00:00\\\\\n",
       "\t 2013                & 11                  & 3                   & 625                 & 630                 & -5                  & 736                 & 805                 & -29                 & AA                  &  303                & N4WJAA              & LGA                 & ORD                 & 113                 &  733                & 6                   & 30                  & 2013-11-03 06:00:00\\\\\n",
       "\t 2013                & 11                  & 3                   & 653                 & 655                 & -2                  & 925                 & 920                 &   5                 & AA                  & 1263                & N634AA              & JFK                 & LAS                 & 306                 & 2248                & 6                   & 55                  & 2013-11-03 06:00:00\\\\\n",
       "\\end{tabular}\n"
      ],
      "text/markdown": [
       "\n",
       "| year | month | day | dep_time | sched_dep_time | dep_delay | arr_time | sched_arr_time | arr_delay | carrier | flight | tailnum | origin | dest | air_time | distance | hour | minute | time_hour |\n",
       "|---|---|---|---|---|---|---|---|---|---|---|---|---|---|---|---|---|---|---|\n",
       "| 2013                | 11                  | 3                   | 538                 | 545                 | -7                  | 824                 | 855                 | -31                 | AA                  | 2243                | N5DWAA              | JFK                 | MIA                 | 144                 | 1089                | 5                   | 45                  | 2013-11-03 05:00:00 |\n",
       "| 2013                | 11                  | 3                   | 556                 | 600                 | -4                  | 900                 | 905                 |  -5                 | AA                  | 1175                | N3CSAA              | LGA                 | MIA                 | 148                 | 1096                | 6                   |  0                  | 2013-11-03 06:00:00 |\n",
       "| 2013                | 11                  | 3                   | 604                 | 610                 | -6                  | 844                 | 855                 | -11                 | AA                  | 1103                | N3KDAA              | LGA                 | DFW                 | 192                 | 1389                | 6                   | 10                  | 2013-11-03 06:00:00 |\n",
       "| 2013                | 11                  | 3                   | 624                 | 629                 | -5                  | 907                 | 929                 | -22                 | AA                  | 1205                | N3EJAA              | EWR                 | MIA                 | 141                 | 1085                | 6                   | 29                  | 2013-11-03 06:00:00 |\n",
       "| 2013                | 11                  | 3                   | 625                 | 630                 | -5                  | 736                 | 805                 | -29                 | AA                  |  303                | N4WJAA              | LGA                 | ORD                 | 113                 |  733                | 6                   | 30                  | 2013-11-03 06:00:00 |\n",
       "| 2013                | 11                  | 3                   | 653                 | 655                 | -2                  | 925                 | 920                 |   5                 | AA                  | 1263                | N634AA              | JFK                 | LAS                 | 306                 | 2248                | 6                   | 55                  | 2013-11-03 06:00:00 |\n",
       "\n"
      ],
      "text/plain": [
       "  year month day dep_time sched_dep_time dep_delay arr_time sched_arr_time\n",
       "1 2013 11    3   538      545            -7        824      855           \n",
       "2 2013 11    3   556      600            -4        900      905           \n",
       "3 2013 11    3   604      610            -6        844      855           \n",
       "4 2013 11    3   624      629            -5        907      929           \n",
       "5 2013 11    3   625      630            -5        736      805           \n",
       "6 2013 11    3   653      655            -2        925      920           \n",
       "  arr_delay carrier flight tailnum origin dest air_time distance hour minute\n",
       "1 -31       AA      2243   N5DWAA  JFK    MIA  144      1089     5    45    \n",
       "2  -5       AA      1175   N3CSAA  LGA    MIA  148      1096     6     0    \n",
       "3 -11       AA      1103   N3KDAA  LGA    DFW  192      1389     6    10    \n",
       "4 -22       AA      1205   N3EJAA  EWR    MIA  141      1085     6    29    \n",
       "5 -29       AA       303   N4WJAA  LGA    ORD  113       733     6    30    \n",
       "6   5       AA      1263   N634AA  JFK    LAS  306      2248     6    55    \n",
       "  time_hour          \n",
       "1 2013-11-03 05:00:00\n",
       "2 2013-11-03 06:00:00\n",
       "3 2013-11-03 06:00:00\n",
       "4 2013-11-03 06:00:00\n",
       "5 2013-11-03 06:00:00\n",
       "6 2013-11-03 06:00:00"
      ]
     },
     "metadata": {},
     "output_type": "display_data"
    }
   ],
   "source": [
    "head(filter(flights,month==11,day==3,carrier=='AA'))"
   ]
  },
  {
   "cell_type": "code",
   "execution_count": 14,
   "metadata": {},
   "outputs": [
    {
     "ename": "ERROR",
     "evalue": "Error in `[.tbl_df`(flights, flights$month == 11, flights$day == 3, flights$carrier == : unused argument (alist())\n",
     "output_type": "error",
     "traceback": [
      "Error in `[.tbl_df`(flights, flights$month == 11, flights$day == 3, flights$carrier == : unused argument (alist())\nTraceback:\n",
      "1. head(flights[flights$month == 11, flights$day == 3, flights$carrier == \n .     \"AA\", ])",
      "2. flights[flights$month == 11, flights$day == 3, flights$carrier == \n .     \"AA\", ]"
     ]
    }
   ],
   "source": [
    "head(flights[flights$month==11, flights$day==3, flights$carrier=='AA',])"
   ]
  },
  {
   "cell_type": "code",
   "execution_count": 16,
   "metadata": {},
   "outputs": [
    {
     "data": {
      "text/html": [
       "<table>\n",
       "<thead><tr><th scope=col>year</th><th scope=col>month</th><th scope=col>day</th><th scope=col>dep_time</th><th scope=col>sched_dep_time</th><th scope=col>dep_delay</th><th scope=col>arr_time</th><th scope=col>sched_arr_time</th><th scope=col>arr_delay</th><th scope=col>carrier</th><th scope=col>flight</th><th scope=col>tailnum</th><th scope=col>origin</th><th scope=col>dest</th><th scope=col>air_time</th><th scope=col>distance</th><th scope=col>hour</th><th scope=col>minute</th><th scope=col>time_hour</th></tr></thead>\n",
       "<tbody>\n",
       "\t<tr><td>2013               </td><td>1                  </td><td>1                  </td><td>517                </td><td>515                </td><td> 2                 </td><td> 830               </td><td> 819               </td><td> 11                </td><td>UA                 </td><td>1545               </td><td>N14228             </td><td>EWR                </td><td>IAH                </td><td>227                </td><td>1400               </td><td>5                  </td><td>15                 </td><td>2013-01-01 05:00:00</td></tr>\n",
       "\t<tr><td>2013               </td><td>1                  </td><td>1                  </td><td>533                </td><td>529                </td><td> 4                 </td><td> 850               </td><td> 830               </td><td> 20                </td><td>UA                 </td><td>1714               </td><td>N24211             </td><td>LGA                </td><td>IAH                </td><td>227                </td><td>1416               </td><td>5                  </td><td>29                 </td><td>2013-01-01 05:00:00</td></tr>\n",
       "\t<tr><td>2013               </td><td>1                  </td><td>1                  </td><td>542                </td><td>540                </td><td> 2                 </td><td> 923               </td><td> 850               </td><td> 33                </td><td>AA                 </td><td>1141               </td><td>N619AA             </td><td>JFK                </td><td>MIA                </td><td>160                </td><td>1089               </td><td>5                  </td><td>40                 </td><td>2013-01-01 05:00:00</td></tr>\n",
       "\t<tr><td>2013               </td><td>1                  </td><td>1                  </td><td>544                </td><td>545                </td><td>-1                 </td><td>1004               </td><td>1022               </td><td>-18                </td><td>B6                 </td><td> 725               </td><td>N804JB             </td><td>JFK                </td><td>BQN                </td><td>183                </td><td>1576               </td><td>5                  </td><td>45                 </td><td>2013-01-01 05:00:00</td></tr>\n",
       "\t<tr><td>2013               </td><td>1                  </td><td>1                  </td><td>554                </td><td>600                </td><td>-6                 </td><td> 812               </td><td> 837               </td><td>-25                </td><td>DL                 </td><td> 461               </td><td>N668DN             </td><td>LGA                </td><td>ATL                </td><td>116                </td><td> 762               </td><td>6                  </td><td> 0                 </td><td>2013-01-01 06:00:00</td></tr>\n",
       "\t<tr><td>2013               </td><td>1                  </td><td>1                  </td><td>554                </td><td>558                </td><td>-4                 </td><td> 740               </td><td> 728               </td><td> 12                </td><td>UA                 </td><td>1696               </td><td>N39463             </td><td>EWR                </td><td>ORD                </td><td>150                </td><td> 719               </td><td>5                  </td><td>58                 </td><td>2013-01-01 05:00:00</td></tr>\n",
       "\t<tr><td>2013               </td><td>1                  </td><td>1                  </td><td>555                </td><td>600                </td><td>-5                 </td><td> 913               </td><td> 854               </td><td> 19                </td><td>B6                 </td><td> 507               </td><td>N516JB             </td><td>EWR                </td><td>FLL                </td><td>158                </td><td>1065               </td><td>6                  </td><td> 0                 </td><td>2013-01-01 06:00:00</td></tr>\n",
       "\t<tr><td>2013               </td><td>1                  </td><td>1                  </td><td>557                </td><td>600                </td><td>-3                 </td><td> 709               </td><td> 723               </td><td>-14                </td><td>EV                 </td><td>5708               </td><td>N829AS             </td><td>LGA                </td><td>IAD                </td><td> 53                </td><td> 229               </td><td>6                  </td><td> 0                 </td><td>2013-01-01 06:00:00</td></tr>\n",
       "\t<tr><td>2013               </td><td>1                  </td><td>1                  </td><td>557                </td><td>600                </td><td>-3                 </td><td> 838               </td><td> 846               </td><td> -8                </td><td>B6                 </td><td>  79               </td><td>N593JB             </td><td>JFK                </td><td>MCO                </td><td>140                </td><td> 944               </td><td>6                  </td><td> 0                 </td><td>2013-01-01 06:00:00</td></tr>\n",
       "\t<tr><td>2013               </td><td>1                  </td><td>1                  </td><td>558                </td><td>600                </td><td>-2                 </td><td> 753               </td><td> 745               </td><td>  8                </td><td>AA                 </td><td> 301               </td><td>N3ALAA             </td><td>LGA                </td><td>ORD                </td><td>138                </td><td> 733               </td><td>6                  </td><td> 0                 </td><td>2013-01-01 06:00:00</td></tr>\n",
       "</tbody>\n",
       "</table>\n"
      ],
      "text/latex": [
       "\\begin{tabular}{r|lllllllllllllllllll}\n",
       " year & month & day & dep\\_time & sched\\_dep\\_time & dep\\_delay & arr\\_time & sched\\_arr\\_time & arr\\_delay & carrier & flight & tailnum & origin & dest & air\\_time & distance & hour & minute & time\\_hour\\\\\n",
       "\\hline\n",
       "\t 2013                & 1                   & 1                   & 517                 & 515                 &  2                  &  830                &  819                &  11                 & UA                  & 1545                & N14228              & EWR                 & IAH                 & 227                 & 1400                & 5                   & 15                  & 2013-01-01 05:00:00\\\\\n",
       "\t 2013                & 1                   & 1                   & 533                 & 529                 &  4                  &  850                &  830                &  20                 & UA                  & 1714                & N24211              & LGA                 & IAH                 & 227                 & 1416                & 5                   & 29                  & 2013-01-01 05:00:00\\\\\n",
       "\t 2013                & 1                   & 1                   & 542                 & 540                 &  2                  &  923                &  850                &  33                 & AA                  & 1141                & N619AA              & JFK                 & MIA                 & 160                 & 1089                & 5                   & 40                  & 2013-01-01 05:00:00\\\\\n",
       "\t 2013                & 1                   & 1                   & 544                 & 545                 & -1                  & 1004                & 1022                & -18                 & B6                  &  725                & N804JB              & JFK                 & BQN                 & 183                 & 1576                & 5                   & 45                  & 2013-01-01 05:00:00\\\\\n",
       "\t 2013                & 1                   & 1                   & 554                 & 600                 & -6                  &  812                &  837                & -25                 & DL                  &  461                & N668DN              & LGA                 & ATL                 & 116                 &  762                & 6                   &  0                  & 2013-01-01 06:00:00\\\\\n",
       "\t 2013                & 1                   & 1                   & 554                 & 558                 & -4                  &  740                &  728                &  12                 & UA                  & 1696                & N39463              & EWR                 & ORD                 & 150                 &  719                & 5                   & 58                  & 2013-01-01 05:00:00\\\\\n",
       "\t 2013                & 1                   & 1                   & 555                 & 600                 & -5                  &  913                &  854                &  19                 & B6                  &  507                & N516JB              & EWR                 & FLL                 & 158                 & 1065                & 6                   &  0                  & 2013-01-01 06:00:00\\\\\n",
       "\t 2013                & 1                   & 1                   & 557                 & 600                 & -3                  &  709                &  723                & -14                 & EV                  & 5708                & N829AS              & LGA                 & IAD                 &  53                 &  229                & 6                   &  0                  & 2013-01-01 06:00:00\\\\\n",
       "\t 2013                & 1                   & 1                   & 557                 & 600                 & -3                  &  838                &  846                &  -8                 & B6                  &   79                & N593JB              & JFK                 & MCO                 & 140                 &  944                & 6                   &  0                  & 2013-01-01 06:00:00\\\\\n",
       "\t 2013                & 1                   & 1                   & 558                 & 600                 & -2                  &  753                &  745                &   8                 & AA                  &  301                & N3ALAA              & LGA                 & ORD                 & 138                 &  733                & 6                   &  0                  & 2013-01-01 06:00:00\\\\\n",
       "\\end{tabular}\n"
      ],
      "text/markdown": [
       "\n",
       "| year | month | day | dep_time | sched_dep_time | dep_delay | arr_time | sched_arr_time | arr_delay | carrier | flight | tailnum | origin | dest | air_time | distance | hour | minute | time_hour |\n",
       "|---|---|---|---|---|---|---|---|---|---|---|---|---|---|---|---|---|---|---|\n",
       "| 2013                | 1                   | 1                   | 517                 | 515                 |  2                  |  830                |  819                |  11                 | UA                  | 1545                | N14228              | EWR                 | IAH                 | 227                 | 1400                | 5                   | 15                  | 2013-01-01 05:00:00 |\n",
       "| 2013                | 1                   | 1                   | 533                 | 529                 |  4                  |  850                |  830                |  20                 | UA                  | 1714                | N24211              | LGA                 | IAH                 | 227                 | 1416                | 5                   | 29                  | 2013-01-01 05:00:00 |\n",
       "| 2013                | 1                   | 1                   | 542                 | 540                 |  2                  |  923                |  850                |  33                 | AA                  | 1141                | N619AA              | JFK                 | MIA                 | 160                 | 1089                | 5                   | 40                  | 2013-01-01 05:00:00 |\n",
       "| 2013                | 1                   | 1                   | 544                 | 545                 | -1                  | 1004                | 1022                | -18                 | B6                  |  725                | N804JB              | JFK                 | BQN                 | 183                 | 1576                | 5                   | 45                  | 2013-01-01 05:00:00 |\n",
       "| 2013                | 1                   | 1                   | 554                 | 600                 | -6                  |  812                |  837                | -25                 | DL                  |  461                | N668DN              | LGA                 | ATL                 | 116                 |  762                | 6                   |  0                  | 2013-01-01 06:00:00 |\n",
       "| 2013                | 1                   | 1                   | 554                 | 558                 | -4                  |  740                |  728                |  12                 | UA                  | 1696                | N39463              | EWR                 | ORD                 | 150                 |  719                | 5                   | 58                  | 2013-01-01 05:00:00 |\n",
       "| 2013                | 1                   | 1                   | 555                 | 600                 | -5                  |  913                |  854                |  19                 | B6                  |  507                | N516JB              | EWR                 | FLL                 | 158                 | 1065                | 6                   |  0                  | 2013-01-01 06:00:00 |\n",
       "| 2013                | 1                   | 1                   | 557                 | 600                 | -3                  |  709                |  723                | -14                 | EV                  | 5708                | N829AS              | LGA                 | IAD                 |  53                 |  229                | 6                   |  0                  | 2013-01-01 06:00:00 |\n",
       "| 2013                | 1                   | 1                   | 557                 | 600                 | -3                  |  838                |  846                |  -8                 | B6                  |   79                | N593JB              | JFK                 | MCO                 | 140                 |  944                | 6                   |  0                  | 2013-01-01 06:00:00 |\n",
       "| 2013                | 1                   | 1                   | 558                 | 600                 | -2                  |  753                |  745                |   8                 | AA                  |  301                | N3ALAA              | LGA                 | ORD                 | 138                 |  733                | 6                   |  0                  | 2013-01-01 06:00:00 |\n",
       "\n"
      ],
      "text/plain": [
       "   year month day dep_time sched_dep_time dep_delay arr_time sched_arr_time\n",
       "1  2013 1     1   517      515             2         830      819          \n",
       "2  2013 1     1   533      529             4         850      830          \n",
       "3  2013 1     1   542      540             2         923      850          \n",
       "4  2013 1     1   544      545            -1        1004     1022          \n",
       "5  2013 1     1   554      600            -6         812      837          \n",
       "6  2013 1     1   554      558            -4         740      728          \n",
       "7  2013 1     1   555      600            -5         913      854          \n",
       "8  2013 1     1   557      600            -3         709      723          \n",
       "9  2013 1     1   557      600            -3         838      846          \n",
       "10 2013 1     1   558      600            -2         753      745          \n",
       "   arr_delay carrier flight tailnum origin dest air_time distance hour minute\n",
       "1   11       UA      1545   N14228  EWR    IAH  227      1400     5    15    \n",
       "2   20       UA      1714   N24211  LGA    IAH  227      1416     5    29    \n",
       "3   33       AA      1141   N619AA  JFK    MIA  160      1089     5    40    \n",
       "4  -18       B6       725   N804JB  JFK    BQN  183      1576     5    45    \n",
       "5  -25       DL       461   N668DN  LGA    ATL  116       762     6     0    \n",
       "6   12       UA      1696   N39463  EWR    ORD  150       719     5    58    \n",
       "7   19       B6       507   N516JB  EWR    FLL  158      1065     6     0    \n",
       "8  -14       EV      5708   N829AS  LGA    IAD   53       229     6     0    \n",
       "9   -8       B6        79   N593JB  JFK    MCO  140       944     6     0    \n",
       "10   8       AA       301   N3ALAA  LGA    ORD  138       733     6     0    \n",
       "   time_hour          \n",
       "1  2013-01-01 05:00:00\n",
       "2  2013-01-01 05:00:00\n",
       "3  2013-01-01 05:00:00\n",
       "4  2013-01-01 05:00:00\n",
       "5  2013-01-01 06:00:00\n",
       "6  2013-01-01 05:00:00\n",
       "7  2013-01-01 06:00:00\n",
       "8  2013-01-01 06:00:00\n",
       "9  2013-01-01 06:00:00\n",
       "10 2013-01-01 06:00:00"
      ]
     },
     "metadata": {},
     "output_type": "display_data"
    }
   ],
   "source": [
    "slice(flights, 1:10)"
   ]
  },
  {
   "cell_type": "code",
   "execution_count": 17,
   "metadata": {},
   "outputs": [
    {
     "data": {
      "text/html": [
       "<table>\n",
       "<thead><tr><th scope=col>year</th><th scope=col>month</th><th scope=col>day</th><th scope=col>dep_time</th><th scope=col>sched_dep_time</th><th scope=col>dep_delay</th><th scope=col>arr_time</th><th scope=col>sched_arr_time</th><th scope=col>arr_delay</th><th scope=col>carrier</th><th scope=col>flight</th><th scope=col>tailnum</th><th scope=col>origin</th><th scope=col>dest</th><th scope=col>air_time</th><th scope=col>distance</th><th scope=col>hour</th><th scope=col>minute</th><th scope=col>time_hour</th></tr></thead>\n",
       "<tbody>\n",
       "\t<tr><td>2013               </td><td>1                  </td><td>1                  </td><td>517                </td><td>515                </td><td> 2                 </td><td> 830               </td><td> 819               </td><td> 11                </td><td>UA                 </td><td>1545               </td><td>N14228             </td><td>EWR                </td><td>IAH                </td><td>227                </td><td>1400               </td><td>5                  </td><td>15                 </td><td>2013-01-01 05:00:00</td></tr>\n",
       "\t<tr><td>2013               </td><td>1                  </td><td>1                  </td><td>533                </td><td>529                </td><td> 4                 </td><td> 850               </td><td> 830               </td><td> 20                </td><td>UA                 </td><td>1714               </td><td>N24211             </td><td>LGA                </td><td>IAH                </td><td>227                </td><td>1416               </td><td>5                  </td><td>29                 </td><td>2013-01-01 05:00:00</td></tr>\n",
       "\t<tr><td>2013               </td><td>1                  </td><td>1                  </td><td>542                </td><td>540                </td><td> 2                 </td><td> 923               </td><td> 850               </td><td> 33                </td><td>AA                 </td><td>1141               </td><td>N619AA             </td><td>JFK                </td><td>MIA                </td><td>160                </td><td>1089               </td><td>5                  </td><td>40                 </td><td>2013-01-01 05:00:00</td></tr>\n",
       "\t<tr><td>2013               </td><td>1                  </td><td>1                  </td><td>544                </td><td>545                </td><td>-1                 </td><td>1004               </td><td>1022               </td><td>-18                </td><td>B6                 </td><td> 725               </td><td>N804JB             </td><td>JFK                </td><td>BQN                </td><td>183                </td><td>1576               </td><td>5                  </td><td>45                 </td><td>2013-01-01 05:00:00</td></tr>\n",
       "\t<tr><td>2013               </td><td>1                  </td><td>1                  </td><td>554                </td><td>600                </td><td>-6                 </td><td> 812               </td><td> 837               </td><td>-25                </td><td>DL                 </td><td> 461               </td><td>N668DN             </td><td>LGA                </td><td>ATL                </td><td>116                </td><td> 762               </td><td>6                  </td><td> 0                 </td><td>2013-01-01 06:00:00</td></tr>\n",
       "\t<tr><td>2013               </td><td>1                  </td><td>1                  </td><td>554                </td><td>558                </td><td>-4                 </td><td> 740               </td><td> 728               </td><td> 12                </td><td>UA                 </td><td>1696               </td><td>N39463             </td><td>EWR                </td><td>ORD                </td><td>150                </td><td> 719               </td><td>5                  </td><td>58                 </td><td>2013-01-01 05:00:00</td></tr>\n",
       "\t<tr><td>2013               </td><td>1                  </td><td>1                  </td><td>555                </td><td>600                </td><td>-5                 </td><td> 913               </td><td> 854               </td><td> 19                </td><td>B6                 </td><td> 507               </td><td>N516JB             </td><td>EWR                </td><td>FLL                </td><td>158                </td><td>1065               </td><td>6                  </td><td> 0                 </td><td>2013-01-01 06:00:00</td></tr>\n",
       "\t<tr><td>2013               </td><td>1                  </td><td>1                  </td><td>557                </td><td>600                </td><td>-3                 </td><td> 709               </td><td> 723               </td><td>-14                </td><td>EV                 </td><td>5708               </td><td>N829AS             </td><td>LGA                </td><td>IAD                </td><td> 53                </td><td> 229               </td><td>6                  </td><td> 0                 </td><td>2013-01-01 06:00:00</td></tr>\n",
       "\t<tr><td>2013               </td><td>1                  </td><td>1                  </td><td>557                </td><td>600                </td><td>-3                 </td><td> 838               </td><td> 846               </td><td> -8                </td><td>B6                 </td><td>  79               </td><td>N593JB             </td><td>JFK                </td><td>MCO                </td><td>140                </td><td> 944               </td><td>6                  </td><td> 0                 </td><td>2013-01-01 06:00:00</td></tr>\n",
       "\t<tr><td>2013               </td><td>1                  </td><td>1                  </td><td>558                </td><td>600                </td><td>-2                 </td><td> 753               </td><td> 745               </td><td>  8                </td><td>AA                 </td><td> 301               </td><td>N3ALAA             </td><td>LGA                </td><td>ORD                </td><td>138                </td><td> 733               </td><td>6                  </td><td> 0                 </td><td>2013-01-01 06:00:00</td></tr>\n",
       "</tbody>\n",
       "</table>\n"
      ],
      "text/latex": [
       "\\begin{tabular}{r|lllllllllllllllllll}\n",
       " year & month & day & dep\\_time & sched\\_dep\\_time & dep\\_delay & arr\\_time & sched\\_arr\\_time & arr\\_delay & carrier & flight & tailnum & origin & dest & air\\_time & distance & hour & minute & time\\_hour\\\\\n",
       "\\hline\n",
       "\t 2013                & 1                   & 1                   & 517                 & 515                 &  2                  &  830                &  819                &  11                 & UA                  & 1545                & N14228              & EWR                 & IAH                 & 227                 & 1400                & 5                   & 15                  & 2013-01-01 05:00:00\\\\\n",
       "\t 2013                & 1                   & 1                   & 533                 & 529                 &  4                  &  850                &  830                &  20                 & UA                  & 1714                & N24211              & LGA                 & IAH                 & 227                 & 1416                & 5                   & 29                  & 2013-01-01 05:00:00\\\\\n",
       "\t 2013                & 1                   & 1                   & 542                 & 540                 &  2                  &  923                &  850                &  33                 & AA                  & 1141                & N619AA              & JFK                 & MIA                 & 160                 & 1089                & 5                   & 40                  & 2013-01-01 05:00:00\\\\\n",
       "\t 2013                & 1                   & 1                   & 544                 & 545                 & -1                  & 1004                & 1022                & -18                 & B6                  &  725                & N804JB              & JFK                 & BQN                 & 183                 & 1576                & 5                   & 45                  & 2013-01-01 05:00:00\\\\\n",
       "\t 2013                & 1                   & 1                   & 554                 & 600                 & -6                  &  812                &  837                & -25                 & DL                  &  461                & N668DN              & LGA                 & ATL                 & 116                 &  762                & 6                   &  0                  & 2013-01-01 06:00:00\\\\\n",
       "\t 2013                & 1                   & 1                   & 554                 & 558                 & -4                  &  740                &  728                &  12                 & UA                  & 1696                & N39463              & EWR                 & ORD                 & 150                 &  719                & 5                   & 58                  & 2013-01-01 05:00:00\\\\\n",
       "\t 2013                & 1                   & 1                   & 555                 & 600                 & -5                  &  913                &  854                &  19                 & B6                  &  507                & N516JB              & EWR                 & FLL                 & 158                 & 1065                & 6                   &  0                  & 2013-01-01 06:00:00\\\\\n",
       "\t 2013                & 1                   & 1                   & 557                 & 600                 & -3                  &  709                &  723                & -14                 & EV                  & 5708                & N829AS              & LGA                 & IAD                 &  53                 &  229                & 6                   &  0                  & 2013-01-01 06:00:00\\\\\n",
       "\t 2013                & 1                   & 1                   & 557                 & 600                 & -3                  &  838                &  846                &  -8                 & B6                  &   79                & N593JB              & JFK                 & MCO                 & 140                 &  944                & 6                   &  0                  & 2013-01-01 06:00:00\\\\\n",
       "\t 2013                & 1                   & 1                   & 558                 & 600                 & -2                  &  753                &  745                &   8                 & AA                  &  301                & N3ALAA              & LGA                 & ORD                 & 138                 &  733                & 6                   &  0                  & 2013-01-01 06:00:00\\\\\n",
       "\\end{tabular}\n"
      ],
      "text/markdown": [
       "\n",
       "| year | month | day | dep_time | sched_dep_time | dep_delay | arr_time | sched_arr_time | arr_delay | carrier | flight | tailnum | origin | dest | air_time | distance | hour | minute | time_hour |\n",
       "|---|---|---|---|---|---|---|---|---|---|---|---|---|---|---|---|---|---|---|\n",
       "| 2013                | 1                   | 1                   | 517                 | 515                 |  2                  |  830                |  819                |  11                 | UA                  | 1545                | N14228              | EWR                 | IAH                 | 227                 | 1400                | 5                   | 15                  | 2013-01-01 05:00:00 |\n",
       "| 2013                | 1                   | 1                   | 533                 | 529                 |  4                  |  850                |  830                |  20                 | UA                  | 1714                | N24211              | LGA                 | IAH                 | 227                 | 1416                | 5                   | 29                  | 2013-01-01 05:00:00 |\n",
       "| 2013                | 1                   | 1                   | 542                 | 540                 |  2                  |  923                |  850                |  33                 | AA                  | 1141                | N619AA              | JFK                 | MIA                 | 160                 | 1089                | 5                   | 40                  | 2013-01-01 05:00:00 |\n",
       "| 2013                | 1                   | 1                   | 544                 | 545                 | -1                  | 1004                | 1022                | -18                 | B6                  |  725                | N804JB              | JFK                 | BQN                 | 183                 | 1576                | 5                   | 45                  | 2013-01-01 05:00:00 |\n",
       "| 2013                | 1                   | 1                   | 554                 | 600                 | -6                  |  812                |  837                | -25                 | DL                  |  461                | N668DN              | LGA                 | ATL                 | 116                 |  762                | 6                   |  0                  | 2013-01-01 06:00:00 |\n",
       "| 2013                | 1                   | 1                   | 554                 | 558                 | -4                  |  740                |  728                |  12                 | UA                  | 1696                | N39463              | EWR                 | ORD                 | 150                 |  719                | 5                   | 58                  | 2013-01-01 05:00:00 |\n",
       "| 2013                | 1                   | 1                   | 555                 | 600                 | -5                  |  913                |  854                |  19                 | B6                  |  507                | N516JB              | EWR                 | FLL                 | 158                 | 1065                | 6                   |  0                  | 2013-01-01 06:00:00 |\n",
       "| 2013                | 1                   | 1                   | 557                 | 600                 | -3                  |  709                |  723                | -14                 | EV                  | 5708                | N829AS              | LGA                 | IAD                 |  53                 |  229                | 6                   |  0                  | 2013-01-01 06:00:00 |\n",
       "| 2013                | 1                   | 1                   | 557                 | 600                 | -3                  |  838                |  846                |  -8                 | B6                  |   79                | N593JB              | JFK                 | MCO                 | 140                 |  944                | 6                   |  0                  | 2013-01-01 06:00:00 |\n",
       "| 2013                | 1                   | 1                   | 558                 | 600                 | -2                  |  753                |  745                |   8                 | AA                  |  301                | N3ALAA              | LGA                 | ORD                 | 138                 |  733                | 6                   |  0                  | 2013-01-01 06:00:00 |\n",
       "\n"
      ],
      "text/plain": [
       "   year month day dep_time sched_dep_time dep_delay arr_time sched_arr_time\n",
       "1  2013 1     1   517      515             2         830      819          \n",
       "2  2013 1     1   533      529             4         850      830          \n",
       "3  2013 1     1   542      540             2         923      850          \n",
       "4  2013 1     1   544      545            -1        1004     1022          \n",
       "5  2013 1     1   554      600            -6         812      837          \n",
       "6  2013 1     1   554      558            -4         740      728          \n",
       "7  2013 1     1   555      600            -5         913      854          \n",
       "8  2013 1     1   557      600            -3         709      723          \n",
       "9  2013 1     1   557      600            -3         838      846          \n",
       "10 2013 1     1   558      600            -2         753      745          \n",
       "   arr_delay carrier flight tailnum origin dest air_time distance hour minute\n",
       "1   11       UA      1545   N14228  EWR    IAH  227      1400     5    15    \n",
       "2   20       UA      1714   N24211  LGA    IAH  227      1416     5    29    \n",
       "3   33       AA      1141   N619AA  JFK    MIA  160      1089     5    40    \n",
       "4  -18       B6       725   N804JB  JFK    BQN  183      1576     5    45    \n",
       "5  -25       DL       461   N668DN  LGA    ATL  116       762     6     0    \n",
       "6   12       UA      1696   N39463  EWR    ORD  150       719     5    58    \n",
       "7   19       B6       507   N516JB  EWR    FLL  158      1065     6     0    \n",
       "8  -14       EV      5708   N829AS  LGA    IAD   53       229     6     0    \n",
       "9   -8       B6        79   N593JB  JFK    MCO  140       944     6     0    \n",
       "10   8       AA       301   N3ALAA  LGA    ORD  138       733     6     0    \n",
       "   time_hour          \n",
       "1  2013-01-01 05:00:00\n",
       "2  2013-01-01 05:00:00\n",
       "3  2013-01-01 05:00:00\n",
       "4  2013-01-01 05:00:00\n",
       "5  2013-01-01 06:00:00\n",
       "6  2013-01-01 05:00:00\n",
       "7  2013-01-01 06:00:00\n",
       "8  2013-01-01 06:00:00\n",
       "9  2013-01-01 06:00:00\n",
       "10 2013-01-01 06:00:00"
      ]
     },
     "metadata": {},
     "output_type": "display_data"
    }
   ],
   "source": [
    "flights[1:10,] #equivalent to slice but unable to pipeinto other functions"
   ]
  },
  {
   "cell_type": "code",
   "execution_count": 19,
   "metadata": {},
   "outputs": [
    {
     "data": {
      "text/html": [
       "<table>\n",
       "<thead><tr><th scope=col>year</th><th scope=col>month</th><th scope=col>day</th><th scope=col>dep_time</th><th scope=col>sched_dep_time</th><th scope=col>dep_delay</th><th scope=col>arr_time</th><th scope=col>sched_arr_time</th><th scope=col>arr_delay</th><th scope=col>carrier</th><th scope=col>flight</th><th scope=col>tailnum</th><th scope=col>origin</th><th scope=col>dest</th><th scope=col>air_time</th><th scope=col>distance</th><th scope=col>hour</th><th scope=col>minute</th><th scope=col>time_hour</th></tr></thead>\n",
       "<tbody>\n",
       "\t<tr><td>2013               </td><td>1                  </td><td>1                  </td><td>2302               </td><td>2200               </td><td>62                 </td><td>2342               </td><td>2253               </td><td> 49                </td><td>EV                 </td><td>4276               </td><td>N13903             </td><td>EWR                </td><td>BDL                </td><td>24                 </td><td>116                </td><td>22                 </td><td> 0                 </td><td>2013-01-01 22:00:00</td></tr>\n",
       "\t<tr><td>2013               </td><td>1                  </td><td>1                  </td><td>1318               </td><td>1322               </td><td>-4                 </td><td>1358               </td><td>1416               </td><td>-18                </td><td>EV                 </td><td>4106               </td><td>N19554             </td><td>EWR                </td><td>BDL                </td><td>25                 </td><td>116                </td><td>13                 </td><td>22                 </td><td>2013-01-01 13:00:00</td></tr>\n",
       "\t<tr><td>2013               </td><td>1                  </td><td>1                  </td><td>2116               </td><td>2110               </td><td> 6                 </td><td>2202               </td><td>2212               </td><td>-10                </td><td>EV                 </td><td>4404               </td><td>N15912             </td><td>EWR                </td><td>PVD                </td><td>28                 </td><td>160                </td><td>21                 </td><td>10                 </td><td>2013-01-01 21:00:00</td></tr>\n",
       "\t<tr><td>2013               </td><td>1                  </td><td>1                  </td><td>2000               </td><td>2000               </td><td> 0                 </td><td>2054               </td><td>2110               </td><td>-16                </td><td>9E                 </td><td>3664               </td><td>N836AY             </td><td>JFK                </td><td>PHL                </td><td>30                 </td><td> 94                </td><td>20                 </td><td> 0                 </td><td>2013-01-01 20:00:00</td></tr>\n",
       "\t<tr><td>2013               </td><td>1                  </td><td>1                  </td><td>2056               </td><td>2004               </td><td>52                 </td><td>2156               </td><td>2112               </td><td> 44                </td><td>EV                 </td><td>4170               </td><td>N12540             </td><td>EWR                </td><td>ALB                </td><td>31                 </td><td>143                </td><td>20                 </td><td> 4                 </td><td>2013-01-01 20:00:00</td></tr>\n",
       "\t<tr><td>2013               </td><td>1                  </td><td>1                  </td><td> 908               </td><td> 915               </td><td>-7                 </td><td>1004               </td><td>1033               </td><td>-29                </td><td>US                 </td><td>1467               </td><td>N959UW             </td><td>LGA                </td><td>PHL                </td><td>32                 </td><td> 96                </td><td> 9                 </td><td>15                 </td><td>2013-01-01 09:00:00</td></tr>\n",
       "</tbody>\n",
       "</table>\n"
      ],
      "text/latex": [
       "\\begin{tabular}{r|lllllllllllllllllll}\n",
       " year & month & day & dep\\_time & sched\\_dep\\_time & dep\\_delay & arr\\_time & sched\\_arr\\_time & arr\\_delay & carrier & flight & tailnum & origin & dest & air\\_time & distance & hour & minute & time\\_hour\\\\\n",
       "\\hline\n",
       "\t 2013                & 1                   & 1                   & 2302                & 2200                & 62                  & 2342                & 2253                &  49                 & EV                  & 4276                & N13903              & EWR                 & BDL                 & 24                  & 116                 & 22                  &  0                  & 2013-01-01 22:00:00\\\\\n",
       "\t 2013                & 1                   & 1                   & 1318                & 1322                & -4                  & 1358                & 1416                & -18                 & EV                  & 4106                & N19554              & EWR                 & BDL                 & 25                  & 116                 & 13                  & 22                  & 2013-01-01 13:00:00\\\\\n",
       "\t 2013                & 1                   & 1                   & 2116                & 2110                &  6                  & 2202                & 2212                & -10                 & EV                  & 4404                & N15912              & EWR                 & PVD                 & 28                  & 160                 & 21                  & 10                  & 2013-01-01 21:00:00\\\\\n",
       "\t 2013                & 1                   & 1                   & 2000                & 2000                &  0                  & 2054                & 2110                & -16                 & 9E                  & 3664                & N836AY              & JFK                 & PHL                 & 30                  &  94                 & 20                  &  0                  & 2013-01-01 20:00:00\\\\\n",
       "\t 2013                & 1                   & 1                   & 2056                & 2004                & 52                  & 2156                & 2112                &  44                 & EV                  & 4170                & N12540              & EWR                 & ALB                 & 31                  & 143                 & 20                  &  4                  & 2013-01-01 20:00:00\\\\\n",
       "\t 2013                & 1                   & 1                   &  908                &  915                & -7                  & 1004                & 1033                & -29                 & US                  & 1467                & N959UW              & LGA                 & PHL                 & 32                  &  96                 &  9                  & 15                  & 2013-01-01 09:00:00\\\\\n",
       "\\end{tabular}\n"
      ],
      "text/markdown": [
       "\n",
       "| year | month | day | dep_time | sched_dep_time | dep_delay | arr_time | sched_arr_time | arr_delay | carrier | flight | tailnum | origin | dest | air_time | distance | hour | minute | time_hour |\n",
       "|---|---|---|---|---|---|---|---|---|---|---|---|---|---|---|---|---|---|---|\n",
       "| 2013                | 1                   | 1                   | 2302                | 2200                | 62                  | 2342                | 2253                |  49                 | EV                  | 4276                | N13903              | EWR                 | BDL                 | 24                  | 116                 | 22                  |  0                  | 2013-01-01 22:00:00 |\n",
       "| 2013                | 1                   | 1                   | 1318                | 1322                | -4                  | 1358                | 1416                | -18                 | EV                  | 4106                | N19554              | EWR                 | BDL                 | 25                  | 116                 | 13                  | 22                  | 2013-01-01 13:00:00 |\n",
       "| 2013                | 1                   | 1                   | 2116                | 2110                |  6                  | 2202                | 2212                | -10                 | EV                  | 4404                | N15912              | EWR                 | PVD                 | 28                  | 160                 | 21                  | 10                  | 2013-01-01 21:00:00 |\n",
       "| 2013                | 1                   | 1                   | 2000                | 2000                |  0                  | 2054                | 2110                | -16                 | 9E                  | 3664                | N836AY              | JFK                 | PHL                 | 30                  |  94                 | 20                  |  0                  | 2013-01-01 20:00:00 |\n",
       "| 2013                | 1                   | 1                   | 2056                | 2004                | 52                  | 2156                | 2112                |  44                 | EV                  | 4170                | N12540              | EWR                 | ALB                 | 31                  | 143                 | 20                  |  4                  | 2013-01-01 20:00:00 |\n",
       "| 2013                | 1                   | 1                   |  908                |  915                | -7                  | 1004                | 1033                | -29                 | US                  | 1467                | N959UW              | LGA                 | PHL                 | 32                  |  96                 |  9                  | 15                  | 2013-01-01 09:00:00 |\n",
       "\n"
      ],
      "text/plain": [
       "  year month day dep_time sched_dep_time dep_delay arr_time sched_arr_time\n",
       "1 2013 1     1   2302     2200           62        2342     2253          \n",
       "2 2013 1     1   1318     1322           -4        1358     1416          \n",
       "3 2013 1     1   2116     2110            6        2202     2212          \n",
       "4 2013 1     1   2000     2000            0        2054     2110          \n",
       "5 2013 1     1   2056     2004           52        2156     2112          \n",
       "6 2013 1     1    908      915           -7        1004     1033          \n",
       "  arr_delay carrier flight tailnum origin dest air_time distance hour minute\n",
       "1  49       EV      4276   N13903  EWR    BDL  24       116      22    0    \n",
       "2 -18       EV      4106   N19554  EWR    BDL  25       116      13   22    \n",
       "3 -10       EV      4404   N15912  EWR    PVD  28       160      21   10    \n",
       "4 -16       9E      3664   N836AY  JFK    PHL  30        94      20    0    \n",
       "5  44       EV      4170   N12540  EWR    ALB  31       143      20    4    \n",
       "6 -29       US      1467   N959UW  LGA    PHL  32        96       9   15    \n",
       "  time_hour          \n",
       "1 2013-01-01 22:00:00\n",
       "2 2013-01-01 13:00:00\n",
       "3 2013-01-01 21:00:00\n",
       "4 2013-01-01 20:00:00\n",
       "5 2013-01-01 20:00:00\n",
       "6 2013-01-01 09:00:00"
      ]
     },
     "metadata": {},
     "output_type": "display_data"
    }
   ],
   "source": [
    "head(arrange(flights,year,month,month,day,air_time))"
   ]
  },
  {
   "cell_type": "code",
   "execution_count": 20,
   "metadata": {},
   "outputs": [
    {
     "data": {
      "text/html": [
       "<table>\n",
       "<thead><tr><th scope=col>year</th><th scope=col>month</th><th scope=col>day</th><th scope=col>dep_time</th><th scope=col>sched_dep_time</th><th scope=col>dep_delay</th><th scope=col>arr_time</th><th scope=col>sched_arr_time</th><th scope=col>arr_delay</th><th scope=col>carrier</th><th scope=col>flight</th><th scope=col>tailnum</th><th scope=col>origin</th><th scope=col>dest</th><th scope=col>air_time</th><th scope=col>distance</th><th scope=col>hour</th><th scope=col>minute</th><th scope=col>time_hour</th></tr></thead>\n",
       "<tbody>\n",
       "\t<tr><td>2013               </td><td>1                  </td><td> 9                 </td><td> 641               </td><td> 900               </td><td>1301               </td><td>1242               </td><td>1530               </td><td>1272               </td><td>HA                 </td><td>  51               </td><td>N384HA             </td><td>JFK                </td><td>HNL                </td><td>640                </td><td>4983               </td><td> 9                 </td><td> 0                 </td><td>2013-01-09 09:00:00</td></tr>\n",
       "\t<tr><td>2013               </td><td>6                  </td><td>15                 </td><td>1432               </td><td>1935               </td><td>1137               </td><td>1607               </td><td>2120               </td><td>1127               </td><td>MQ                 </td><td>3535               </td><td>N504MQ             </td><td>JFK                </td><td>CMH                </td><td> 74                </td><td> 483               </td><td>19                 </td><td>35                 </td><td>2013-06-15 19:00:00</td></tr>\n",
       "\t<tr><td>2013               </td><td>1                  </td><td>10                 </td><td>1121               </td><td>1635               </td><td>1126               </td><td>1239               </td><td>1810               </td><td>1109               </td><td>MQ                 </td><td>3695               </td><td>N517MQ             </td><td>EWR                </td><td>ORD                </td><td>111                </td><td> 719               </td><td>16                 </td><td>35                 </td><td>2013-01-10 16:00:00</td></tr>\n",
       "\t<tr><td>2013               </td><td>9                  </td><td>20                 </td><td>1139               </td><td>1845               </td><td>1014               </td><td>1457               </td><td>2210               </td><td>1007               </td><td>AA                 </td><td> 177               </td><td>N338AA             </td><td>JFK                </td><td>SFO                </td><td>354                </td><td>2586               </td><td>18                 </td><td>45                 </td><td>2013-09-20 18:00:00</td></tr>\n",
       "\t<tr><td>2013               </td><td>7                  </td><td>22                 </td><td> 845               </td><td>1600               </td><td>1005               </td><td>1044               </td><td>1815               </td><td> 989               </td><td>MQ                 </td><td>3075               </td><td>N665MQ             </td><td>JFK                </td><td>CVG                </td><td> 96                </td><td> 589               </td><td>16                 </td><td> 0                 </td><td>2013-07-22 16:00:00</td></tr>\n",
       "\t<tr><td>2013               </td><td>4                  </td><td>10                 </td><td>1100               </td><td>1900               </td><td> 960               </td><td>1342               </td><td>2211               </td><td> 931               </td><td>DL                 </td><td>2391               </td><td>N959DL             </td><td>JFK                </td><td>TPA                </td><td>139                </td><td>1005               </td><td>19                 </td><td> 0                 </td><td>2013-04-10 19:00:00</td></tr>\n",
       "</tbody>\n",
       "</table>\n"
      ],
      "text/latex": [
       "\\begin{tabular}{r|lllllllllllllllllll}\n",
       " year & month & day & dep\\_time & sched\\_dep\\_time & dep\\_delay & arr\\_time & sched\\_arr\\_time & arr\\_delay & carrier & flight & tailnum & origin & dest & air\\_time & distance & hour & minute & time\\_hour\\\\\n",
       "\\hline\n",
       "\t 2013                & 1                   &  9                  &  641                &  900                & 1301                & 1242                & 1530                & 1272                & HA                  &   51                & N384HA              & JFK                 & HNL                 & 640                 & 4983                &  9                  &  0                  & 2013-01-09 09:00:00\\\\\n",
       "\t 2013                & 6                   & 15                  & 1432                & 1935                & 1137                & 1607                & 2120                & 1127                & MQ                  & 3535                & N504MQ              & JFK                 & CMH                 &  74                 &  483                & 19                  & 35                  & 2013-06-15 19:00:00\\\\\n",
       "\t 2013                & 1                   & 10                  & 1121                & 1635                & 1126                & 1239                & 1810                & 1109                & MQ                  & 3695                & N517MQ              & EWR                 & ORD                 & 111                 &  719                & 16                  & 35                  & 2013-01-10 16:00:00\\\\\n",
       "\t 2013                & 9                   & 20                  & 1139                & 1845                & 1014                & 1457                & 2210                & 1007                & AA                  &  177                & N338AA              & JFK                 & SFO                 & 354                 & 2586                & 18                  & 45                  & 2013-09-20 18:00:00\\\\\n",
       "\t 2013                & 7                   & 22                  &  845                & 1600                & 1005                & 1044                & 1815                &  989                & MQ                  & 3075                & N665MQ              & JFK                 & CVG                 &  96                 &  589                & 16                  &  0                  & 2013-07-22 16:00:00\\\\\n",
       "\t 2013                & 4                   & 10                  & 1100                & 1900                &  960                & 1342                & 2211                &  931                & DL                  & 2391                & N959DL              & JFK                 & TPA                 & 139                 & 1005                & 19                  &  0                  & 2013-04-10 19:00:00\\\\\n",
       "\\end{tabular}\n"
      ],
      "text/markdown": [
       "\n",
       "| year | month | day | dep_time | sched_dep_time | dep_delay | arr_time | sched_arr_time | arr_delay | carrier | flight | tailnum | origin | dest | air_time | distance | hour | minute | time_hour |\n",
       "|---|---|---|---|---|---|---|---|---|---|---|---|---|---|---|---|---|---|---|\n",
       "| 2013                | 1                   |  9                  |  641                |  900                | 1301                | 1242                | 1530                | 1272                | HA                  |   51                | N384HA              | JFK                 | HNL                 | 640                 | 4983                |  9                  |  0                  | 2013-01-09 09:00:00 |\n",
       "| 2013                | 6                   | 15                  | 1432                | 1935                | 1137                | 1607                | 2120                | 1127                | MQ                  | 3535                | N504MQ              | JFK                 | CMH                 |  74                 |  483                | 19                  | 35                  | 2013-06-15 19:00:00 |\n",
       "| 2013                | 1                   | 10                  | 1121                | 1635                | 1126                | 1239                | 1810                | 1109                | MQ                  | 3695                | N517MQ              | EWR                 | ORD                 | 111                 |  719                | 16                  | 35                  | 2013-01-10 16:00:00 |\n",
       "| 2013                | 9                   | 20                  | 1139                | 1845                | 1014                | 1457                | 2210                | 1007                | AA                  |  177                | N338AA              | JFK                 | SFO                 | 354                 | 2586                | 18                  | 45                  | 2013-09-20 18:00:00 |\n",
       "| 2013                | 7                   | 22                  |  845                | 1600                | 1005                | 1044                | 1815                |  989                | MQ                  | 3075                | N665MQ              | JFK                 | CVG                 |  96                 |  589                | 16                  |  0                  | 2013-07-22 16:00:00 |\n",
       "| 2013                | 4                   | 10                  | 1100                | 1900                |  960                | 1342                | 2211                |  931                | DL                  | 2391                | N959DL              | JFK                 | TPA                 | 139                 | 1005                | 19                  |  0                  | 2013-04-10 19:00:00 |\n",
       "\n"
      ],
      "text/plain": [
       "  year month day dep_time sched_dep_time dep_delay arr_time sched_arr_time\n",
       "1 2013 1      9   641      900           1301      1242     1530          \n",
       "2 2013 6     15  1432     1935           1137      1607     2120          \n",
       "3 2013 1     10  1121     1635           1126      1239     1810          \n",
       "4 2013 9     20  1139     1845           1014      1457     2210          \n",
       "5 2013 7     22   845     1600           1005      1044     1815          \n",
       "6 2013 4     10  1100     1900            960      1342     2211          \n",
       "  arr_delay carrier flight tailnum origin dest air_time distance hour minute\n",
       "1 1272      HA        51   N384HA  JFK    HNL  640      4983      9    0    \n",
       "2 1127      MQ      3535   N504MQ  JFK    CMH   74       483     19   35    \n",
       "3 1109      MQ      3695   N517MQ  EWR    ORD  111       719     16   35    \n",
       "4 1007      AA       177   N338AA  JFK    SFO  354      2586     18   45    \n",
       "5  989      MQ      3075   N665MQ  JFK    CVG   96       589     16    0    \n",
       "6  931      DL      2391   N959DL  JFK    TPA  139      1005     19    0    \n",
       "  time_hour          \n",
       "1 2013-01-09 09:00:00\n",
       "2 2013-06-15 19:00:00\n",
       "3 2013-01-10 16:00:00\n",
       "4 2013-09-20 18:00:00\n",
       "5 2013-07-22 16:00:00\n",
       "6 2013-04-10 19:00:00"
      ]
     },
     "metadata": {},
     "output_type": "display_data"
    }
   ],
   "source": [
    "head(arrange(flights,desc(dep_delay)))"
   ]
  },
  {
   "cell_type": "code",
   "execution_count": 21,
   "metadata": {},
   "outputs": [
    {
     "data": {
      "text/plain": [
       "NULL"
      ]
     },
     "metadata": {},
     "output_type": "display_data"
    }
   ],
   "source": [
    "levels(flights$carrier)"
   ]
  },
  {
   "cell_type": "code",
   "execution_count": 22,
   "metadata": {},
   "outputs": [
    {
     "data": {
      "text/html": [
       "<ol class=list-inline>\n",
       "\t<li>'9E'</li>\n",
       "\t<li>'AA'</li>\n",
       "\t<li>'AS'</li>\n",
       "\t<li>'B6'</li>\n",
       "\t<li>'DL'</li>\n",
       "\t<li>'EV'</li>\n",
       "\t<li>'F9'</li>\n",
       "\t<li>'FL'</li>\n",
       "\t<li>'HA'</li>\n",
       "\t<li>'MQ'</li>\n",
       "\t<li>'OO'</li>\n",
       "\t<li>'UA'</li>\n",
       "\t<li>'US'</li>\n",
       "\t<li>'VX'</li>\n",
       "\t<li>'WN'</li>\n",
       "\t<li>'YV'</li>\n",
       "</ol>\n"
      ],
      "text/latex": [
       "\\begin{enumerate*}\n",
       "\\item '9E'\n",
       "\\item 'AA'\n",
       "\\item 'AS'\n",
       "\\item 'B6'\n",
       "\\item 'DL'\n",
       "\\item 'EV'\n",
       "\\item 'F9'\n",
       "\\item 'FL'\n",
       "\\item 'HA'\n",
       "\\item 'MQ'\n",
       "\\item 'OO'\n",
       "\\item 'UA'\n",
       "\\item 'US'\n",
       "\\item 'VX'\n",
       "\\item 'WN'\n",
       "\\item 'YV'\n",
       "\\end{enumerate*}\n"
      ],
      "text/markdown": [
       "1. '9E'\n",
       "2. 'AA'\n",
       "3. 'AS'\n",
       "4. 'B6'\n",
       "5. 'DL'\n",
       "6. 'EV'\n",
       "7. 'F9'\n",
       "8. 'FL'\n",
       "9. 'HA'\n",
       "10. 'MQ'\n",
       "11. 'OO'\n",
       "12. 'UA'\n",
       "13. 'US'\n",
       "14. 'VX'\n",
       "15. 'WN'\n",
       "16. 'YV'\n",
       "\n",
       "\n"
      ],
      "text/plain": [
       " [1] \"9E\" \"AA\" \"AS\" \"B6\" \"DL\" \"EV\" \"F9\" \"FL\" \"HA\" \"MQ\" \"OO\" \"UA\" \"US\" \"VX\" \"WN\"\n",
       "[16] \"YV\""
      ]
     },
     "metadata": {},
     "output_type": "display_data"
    }
   ],
   "source": [
    "levels(as.factor(flights$carrier))"
   ]
  },
  {
   "cell_type": "code",
   "execution_count": 23,
   "metadata": {},
   "outputs": [
    {
     "ename": "ERROR",
     "evalue": "Error in as.factor(flights$carrier, ref = \"AA\"): unused argument (ref = \"AA\")\n",
     "output_type": "error",
     "traceback": [
      "Error in as.factor(flights$carrier, ref = \"AA\"): unused argument (ref = \"AA\")\nTraceback:\n",
      "1. relevel(as.factor(flights$carrier, ref = \"AA\"))"
     ]
    }
   ],
   "source": [
    "relevel(as.factor(flights$carrier, ref = \"AA\"))"
   ]
  },
  {
   "cell_type": "code",
   "execution_count": 27,
   "metadata": {},
   "outputs": [
    {
     "data": {
      "text/html": [
       "<table>\n",
       "<thead><tr><th scope=col>carrier</th><th scope=col>origin</th></tr></thead>\n",
       "<tbody>\n",
       "\t<tr><td>UA </td><td>EWR</td></tr>\n",
       "\t<tr><td>UA </td><td>LGA</td></tr>\n",
       "\t<tr><td>AA </td><td>JFK</td></tr>\n",
       "\t<tr><td>B6 </td><td>JFK</td></tr>\n",
       "\t<tr><td>DL </td><td>LGA</td></tr>\n",
       "\t<tr><td>UA </td><td>EWR</td></tr>\n",
       "</tbody>\n",
       "</table>\n"
      ],
      "text/latex": [
       "\\begin{tabular}{r|ll}\n",
       " carrier & origin\\\\\n",
       "\\hline\n",
       "\t UA  & EWR\\\\\n",
       "\t UA  & LGA\\\\\n",
       "\t AA  & JFK\\\\\n",
       "\t B6  & JFK\\\\\n",
       "\t DL  & LGA\\\\\n",
       "\t UA  & EWR\\\\\n",
       "\\end{tabular}\n"
      ],
      "text/markdown": [
       "\n",
       "| carrier | origin |\n",
       "|---|---|\n",
       "| UA  | EWR |\n",
       "| UA  | LGA |\n",
       "| AA  | JFK |\n",
       "| B6  | JFK |\n",
       "| DL  | LGA |\n",
       "| UA  | EWR |\n",
       "\n"
      ],
      "text/plain": [
       "  carrier origin\n",
       "1 UA      EWR   \n",
       "2 UA      LGA   \n",
       "3 AA      JFK   \n",
       "4 B6      JFK   \n",
       "5 DL      LGA   \n",
       "6 UA      EWR   "
      ]
     },
     "metadata": {},
     "output_type": "display_data"
    }
   ],
   "source": [
    "head(select(flights,carrier, origin))\n",
    "#selects the columns which interest you"
   ]
  },
  {
   "cell_type": "code",
   "execution_count": 31,
   "metadata": {},
   "outputs": [
    {
     "data": {
      "text/html": [
       "<table>\n",
       "<thead><tr><th scope=col>year</th><th scope=col>month</th><th scope=col>day</th><th scope=col>sched_dep_time</th><th scope=col>arr_time</th><th scope=col>sched_arr_time</th><th scope=col>arr_delay</th><th scope=col>flight</th><th scope=col>tailnum</th><th scope=col>origin</th><th scope=col>dest</th><th scope=col>air_time</th><th scope=col>distance</th><th scope=col>hour</th><th scope=col>minute</th></tr></thead>\n",
       "<tbody>\n",
       "\t<tr><td>2013  </td><td>1     </td><td>1     </td><td>515   </td><td> 830  </td><td> 819  </td><td> 11   </td><td>1545  </td><td>N14228</td><td>EWR   </td><td>IAH   </td><td>227   </td><td>1400  </td><td>5     </td><td>15    </td></tr>\n",
       "\t<tr><td>2013  </td><td>1     </td><td>1     </td><td>529   </td><td> 850  </td><td> 830  </td><td> 20   </td><td>1714  </td><td>N24211</td><td>LGA   </td><td>IAH   </td><td>227   </td><td>1416  </td><td>5     </td><td>29    </td></tr>\n",
       "\t<tr><td>2013  </td><td>1     </td><td>1     </td><td>540   </td><td> 923  </td><td> 850  </td><td> 33   </td><td>1141  </td><td>N619AA</td><td>JFK   </td><td>MIA   </td><td>160   </td><td>1089  </td><td>5     </td><td>40    </td></tr>\n",
       "\t<tr><td>2013  </td><td>1     </td><td>1     </td><td>545   </td><td>1004  </td><td>1022  </td><td>-18   </td><td> 725  </td><td>N804JB</td><td>JFK   </td><td>BQN   </td><td>183   </td><td>1576  </td><td>5     </td><td>45    </td></tr>\n",
       "\t<tr><td>2013  </td><td>1     </td><td>1     </td><td>600   </td><td> 812  </td><td> 837  </td><td>-25   </td><td> 461  </td><td>N668DN</td><td>LGA   </td><td>ATL   </td><td>116   </td><td> 762  </td><td>6     </td><td> 0    </td></tr>\n",
       "\t<tr><td>2013  </td><td>1     </td><td>1     </td><td>558   </td><td> 740  </td><td> 728  </td><td> 12   </td><td>1696  </td><td>N39463</td><td>EWR   </td><td>ORD   </td><td>150   </td><td> 719  </td><td>5     </td><td>58    </td></tr>\n",
       "</tbody>\n",
       "</table>\n"
      ],
      "text/latex": [
       "\\begin{tabular}{r|lllllllllllllll}\n",
       " year & month & day & sched\\_dep\\_time & arr\\_time & sched\\_arr\\_time & arr\\_delay & flight & tailnum & origin & dest & air\\_time & distance & hour & minute\\\\\n",
       "\\hline\n",
       "\t 2013   & 1      & 1      & 515    &  830   &  819   &  11    & 1545   & N14228 & EWR    & IAH    & 227    & 1400   & 5      & 15    \\\\\n",
       "\t 2013   & 1      & 1      & 529    &  850   &  830   &  20    & 1714   & N24211 & LGA    & IAH    & 227    & 1416   & 5      & 29    \\\\\n",
       "\t 2013   & 1      & 1      & 540    &  923   &  850   &  33    & 1141   & N619AA & JFK    & MIA    & 160    & 1089   & 5      & 40    \\\\\n",
       "\t 2013   & 1      & 1      & 545    & 1004   & 1022   & -18    &  725   & N804JB & JFK    & BQN    & 183    & 1576   & 5      & 45    \\\\\n",
       "\t 2013   & 1      & 1      & 600    &  812   &  837   & -25    &  461   & N668DN & LGA    & ATL    & 116    &  762   & 6      &  0    \\\\\n",
       "\t 2013   & 1      & 1      & 558    &  740   &  728   &  12    & 1696   & N39463 & EWR    & ORD    & 150    &  719   & 5      & 58    \\\\\n",
       "\\end{tabular}\n"
      ],
      "text/markdown": [
       "\n",
       "| year | month | day | sched_dep_time | arr_time | sched_arr_time | arr_delay | flight | tailnum | origin | dest | air_time | distance | hour | minute |\n",
       "|---|---|---|---|---|---|---|---|---|---|---|---|---|---|---|\n",
       "| 2013   | 1      | 1      | 515    |  830   |  819   |  11    | 1545   | N14228 | EWR    | IAH    | 227    | 1400   | 5      | 15     |\n",
       "| 2013   | 1      | 1      | 529    |  850   |  830   |  20    | 1714   | N24211 | LGA    | IAH    | 227    | 1416   | 5      | 29     |\n",
       "| 2013   | 1      | 1      | 540    |  923   |  850   |  33    | 1141   | N619AA | JFK    | MIA    | 160    | 1089   | 5      | 40     |\n",
       "| 2013   | 1      | 1      | 545    | 1004   | 1022   | -18    |  725   | N804JB | JFK    | BQN    | 183    | 1576   | 5      | 45     |\n",
       "| 2013   | 1      | 1      | 600    |  812   |  837   | -25    |  461   | N668DN | LGA    | ATL    | 116    |  762   | 6      |  0     |\n",
       "| 2013   | 1      | 1      | 558    |  740   |  728   |  12    | 1696   | N39463 | EWR    | ORD    | 150    |  719   | 5      | 58     |\n",
       "\n"
      ],
      "text/plain": [
       "  year month day sched_dep_time arr_time sched_arr_time arr_delay flight\n",
       "1 2013 1     1   515             830      819            11       1545  \n",
       "2 2013 1     1   529             850      830            20       1714  \n",
       "3 2013 1     1   540             923      850            33       1141  \n",
       "4 2013 1     1   545            1004     1022           -18        725  \n",
       "5 2013 1     1   600             812      837           -25        461  \n",
       "6 2013 1     1   558             740      728            12       1696  \n",
       "  tailnum origin dest air_time distance hour minute\n",
       "1 N14228  EWR    IAH  227      1400     5    15    \n",
       "2 N24211  LGA    IAH  227      1416     5    29    \n",
       "3 N619AA  JFK    MIA  160      1089     5    40    \n",
       "4 N804JB  JFK    BQN  183      1576     5    45    \n",
       "5 N668DN  LGA    ATL  116       762     6     0    \n",
       "6 N39463  EWR    ORD  150       719     5    58    "
      ]
     },
     "metadata": {},
     "output_type": "display_data"
    }
   ],
   "source": [
    "head(select(flights,-carrier, -dep_time, -dep_delay, -time_hour))\n",
    "#gets everything except for carrier"
   ]
  },
  {
   "cell_type": "code",
   "execution_count": 25,
   "metadata": {},
   "outputs": [
    {
     "data": {
      "text/html": [
       "<table>\n",
       "<thead><tr><th scope=col>carrier</th><th scope=col>origin</th><th scope=col>dest</th><th scope=col>year</th><th scope=col>month</th><th scope=col>day</th><th scope=col>dep_time</th><th scope=col>sched_dep_time</th><th scope=col>dep_delay</th><th scope=col>arr_time</th><th scope=col>sched_arr_time</th><th scope=col>arr_delay</th><th scope=col>flight</th><th scope=col>tailnum</th><th scope=col>air_time</th><th scope=col>distance</th><th scope=col>hour</th><th scope=col>minute</th><th scope=col>time_hour</th></tr></thead>\n",
       "<tbody>\n",
       "\t<tr><td>UA                 </td><td>EWR                </td><td>IAH                </td><td>2013               </td><td>1                  </td><td>1                  </td><td>517                </td><td>515                </td><td> 2                 </td><td> 830               </td><td> 819               </td><td> 11                </td><td>1545               </td><td>N14228             </td><td>227                </td><td>1400               </td><td>5                  </td><td>15                 </td><td>2013-01-01 05:00:00</td></tr>\n",
       "\t<tr><td>UA                 </td><td>LGA                </td><td>IAH                </td><td>2013               </td><td>1                  </td><td>1                  </td><td>533                </td><td>529                </td><td> 4                 </td><td> 850               </td><td> 830               </td><td> 20                </td><td>1714               </td><td>N24211             </td><td>227                </td><td>1416               </td><td>5                  </td><td>29                 </td><td>2013-01-01 05:00:00</td></tr>\n",
       "\t<tr><td>AA                 </td><td>JFK                </td><td>MIA                </td><td>2013               </td><td>1                  </td><td>1                  </td><td>542                </td><td>540                </td><td> 2                 </td><td> 923               </td><td> 850               </td><td> 33                </td><td>1141               </td><td>N619AA             </td><td>160                </td><td>1089               </td><td>5                  </td><td>40                 </td><td>2013-01-01 05:00:00</td></tr>\n",
       "\t<tr><td>B6                 </td><td>JFK                </td><td>BQN                </td><td>2013               </td><td>1                  </td><td>1                  </td><td>544                </td><td>545                </td><td>-1                 </td><td>1004               </td><td>1022               </td><td>-18                </td><td> 725               </td><td>N804JB             </td><td>183                </td><td>1576               </td><td>5                  </td><td>45                 </td><td>2013-01-01 05:00:00</td></tr>\n",
       "\t<tr><td>DL                 </td><td>LGA                </td><td>ATL                </td><td>2013               </td><td>1                  </td><td>1                  </td><td>554                </td><td>600                </td><td>-6                 </td><td> 812               </td><td> 837               </td><td>-25                </td><td> 461               </td><td>N668DN             </td><td>116                </td><td> 762               </td><td>6                  </td><td> 0                 </td><td>2013-01-01 06:00:00</td></tr>\n",
       "\t<tr><td>UA                 </td><td>EWR                </td><td>ORD                </td><td>2013               </td><td>1                  </td><td>1                  </td><td>554                </td><td>558                </td><td>-4                 </td><td> 740               </td><td> 728               </td><td> 12                </td><td>1696               </td><td>N39463             </td><td>150                </td><td> 719               </td><td>5                  </td><td>58                 </td><td>2013-01-01 05:00:00</td></tr>\n",
       "</tbody>\n",
       "</table>\n"
      ],
      "text/latex": [
       "\\begin{tabular}{r|lllllllllllllllllll}\n",
       " carrier & origin & dest & year & month & day & dep\\_time & sched\\_dep\\_time & dep\\_delay & arr\\_time & sched\\_arr\\_time & arr\\_delay & flight & tailnum & air\\_time & distance & hour & minute & time\\_hour\\\\\n",
       "\\hline\n",
       "\t UA                  & EWR                 & IAH                 & 2013                & 1                   & 1                   & 517                 & 515                 &  2                  &  830                &  819                &  11                 & 1545                & N14228              & 227                 & 1400                & 5                   & 15                  & 2013-01-01 05:00:00\\\\\n",
       "\t UA                  & LGA                 & IAH                 & 2013                & 1                   & 1                   & 533                 & 529                 &  4                  &  850                &  830                &  20                 & 1714                & N24211              & 227                 & 1416                & 5                   & 29                  & 2013-01-01 05:00:00\\\\\n",
       "\t AA                  & JFK                 & MIA                 & 2013                & 1                   & 1                   & 542                 & 540                 &  2                  &  923                &  850                &  33                 & 1141                & N619AA              & 160                 & 1089                & 5                   & 40                  & 2013-01-01 05:00:00\\\\\n",
       "\t B6                  & JFK                 & BQN                 & 2013                & 1                   & 1                   & 544                 & 545                 & -1                  & 1004                & 1022                & -18                 &  725                & N804JB              & 183                 & 1576                & 5                   & 45                  & 2013-01-01 05:00:00\\\\\n",
       "\t DL                  & LGA                 & ATL                 & 2013                & 1                   & 1                   & 554                 & 600                 & -6                  &  812                &  837                & -25                 &  461                & N668DN              & 116                 &  762                & 6                   &  0                  & 2013-01-01 06:00:00\\\\\n",
       "\t UA                  & EWR                 & ORD                 & 2013                & 1                   & 1                   & 554                 & 558                 & -4                  &  740                &  728                &  12                 & 1696                & N39463              & 150                 &  719                & 5                   & 58                  & 2013-01-01 05:00:00\\\\\n",
       "\\end{tabular}\n"
      ],
      "text/markdown": [
       "\n",
       "| carrier | origin | dest | year | month | day | dep_time | sched_dep_time | dep_delay | arr_time | sched_arr_time | arr_delay | flight | tailnum | air_time | distance | hour | minute | time_hour |\n",
       "|---|---|---|---|---|---|---|---|---|---|---|---|---|---|---|---|---|---|---|\n",
       "| UA                  | EWR                 | IAH                 | 2013                | 1                   | 1                   | 517                 | 515                 |  2                  |  830                |  819                |  11                 | 1545                | N14228              | 227                 | 1400                | 5                   | 15                  | 2013-01-01 05:00:00 |\n",
       "| UA                  | LGA                 | IAH                 | 2013                | 1                   | 1                   | 533                 | 529                 |  4                  |  850                |  830                |  20                 | 1714                | N24211              | 227                 | 1416                | 5                   | 29                  | 2013-01-01 05:00:00 |\n",
       "| AA                  | JFK                 | MIA                 | 2013                | 1                   | 1                   | 542                 | 540                 |  2                  |  923                |  850                |  33                 | 1141                | N619AA              | 160                 | 1089                | 5                   | 40                  | 2013-01-01 05:00:00 |\n",
       "| B6                  | JFK                 | BQN                 | 2013                | 1                   | 1                   | 544                 | 545                 | -1                  | 1004                | 1022                | -18                 |  725                | N804JB              | 183                 | 1576                | 5                   | 45                  | 2013-01-01 05:00:00 |\n",
       "| DL                  | LGA                 | ATL                 | 2013                | 1                   | 1                   | 554                 | 600                 | -6                  |  812                |  837                | -25                 |  461                | N668DN              | 116                 |  762                | 6                   |  0                  | 2013-01-01 06:00:00 |\n",
       "| UA                  | EWR                 | ORD                 | 2013                | 1                   | 1                   | 554                 | 558                 | -4                  |  740                |  728                |  12                 | 1696                | N39463              | 150                 |  719                | 5                   | 58                  | 2013-01-01 05:00:00 |\n",
       "\n"
      ],
      "text/plain": [
       "  carrier origin dest year month day dep_time sched_dep_time dep_delay arr_time\n",
       "1 UA      EWR    IAH  2013 1     1   517      515             2         830    \n",
       "2 UA      LGA    IAH  2013 1     1   533      529             4         850    \n",
       "3 AA      JFK    MIA  2013 1     1   542      540             2         923    \n",
       "4 B6      JFK    BQN  2013 1     1   544      545            -1        1004    \n",
       "5 DL      LGA    ATL  2013 1     1   554      600            -6         812    \n",
       "6 UA      EWR    ORD  2013 1     1   554      558            -4         740    \n",
       "  sched_arr_time arr_delay flight tailnum air_time distance hour minute\n",
       "1  819            11       1545   N14228  227      1400     5    15    \n",
       "2  830            20       1714   N24211  227      1416     5    29    \n",
       "3  850            33       1141   N619AA  160      1089     5    40    \n",
       "4 1022           -18        725   N804JB  183      1576     5    45    \n",
       "5  837           -25        461   N668DN  116       762     6     0    \n",
       "6  728            12       1696   N39463  150       719     5    58    \n",
       "  time_hour          \n",
       "1 2013-01-01 05:00:00\n",
       "2 2013-01-01 05:00:00\n",
       "3 2013-01-01 05:00:00\n",
       "4 2013-01-01 05:00:00\n",
       "5 2013-01-01 06:00:00\n",
       "6 2013-01-01 05:00:00"
      ]
     },
     "metadata": {},
     "output_type": "display_data"
    }
   ],
   "source": [
    "head(select(flights,carrier,origin,dest,everything()))\n",
    "#tells which columns want to be first, second, third and  then everything else come after in whatever order"
   ]
  },
  {
   "cell_type": "code",
   "execution_count": 32,
   "metadata": {},
   "outputs": [
    {
     "data": {
      "text/html": [
       "<table>\n",
       "<thead><tr><th scope=col>year</th><th scope=col>month</th><th scope=col>day</th><th scope=col>dep_time</th><th scope=col>sched_dep_time</th><th scope=col>dep_delay</th><th scope=col>arr_time</th><th scope=col>sched_arr_time</th><th scope=col>arr_delay</th><th scope=col>airline_car</th><th scope=col>flight</th><th scope=col>tailnum</th><th scope=col>origin</th><th scope=col>dest</th><th scope=col>air_time</th><th scope=col>distance</th><th scope=col>hour</th><th scope=col>minute</th><th scope=col>time_hour</th></tr></thead>\n",
       "<tbody>\n",
       "\t<tr><td>2013               </td><td>1                  </td><td>1                  </td><td>517                </td><td>515                </td><td> 2                 </td><td> 830               </td><td> 819               </td><td> 11                </td><td>UA                 </td><td>1545               </td><td>N14228             </td><td>EWR                </td><td>IAH                </td><td>227                </td><td>1400               </td><td>5                  </td><td>15                 </td><td>2013-01-01 05:00:00</td></tr>\n",
       "\t<tr><td>2013               </td><td>1                  </td><td>1                  </td><td>533                </td><td>529                </td><td> 4                 </td><td> 850               </td><td> 830               </td><td> 20                </td><td>UA                 </td><td>1714               </td><td>N24211             </td><td>LGA                </td><td>IAH                </td><td>227                </td><td>1416               </td><td>5                  </td><td>29                 </td><td>2013-01-01 05:00:00</td></tr>\n",
       "\t<tr><td>2013               </td><td>1                  </td><td>1                  </td><td>542                </td><td>540                </td><td> 2                 </td><td> 923               </td><td> 850               </td><td> 33                </td><td>AA                 </td><td>1141               </td><td>N619AA             </td><td>JFK                </td><td>MIA                </td><td>160                </td><td>1089               </td><td>5                  </td><td>40                 </td><td>2013-01-01 05:00:00</td></tr>\n",
       "\t<tr><td>2013               </td><td>1                  </td><td>1                  </td><td>544                </td><td>545                </td><td>-1                 </td><td>1004               </td><td>1022               </td><td>-18                </td><td>B6                 </td><td> 725               </td><td>N804JB             </td><td>JFK                </td><td>BQN                </td><td>183                </td><td>1576               </td><td>5                  </td><td>45                 </td><td>2013-01-01 05:00:00</td></tr>\n",
       "\t<tr><td>2013               </td><td>1                  </td><td>1                  </td><td>554                </td><td>600                </td><td>-6                 </td><td> 812               </td><td> 837               </td><td>-25                </td><td>DL                 </td><td> 461               </td><td>N668DN             </td><td>LGA                </td><td>ATL                </td><td>116                </td><td> 762               </td><td>6                  </td><td> 0                 </td><td>2013-01-01 06:00:00</td></tr>\n",
       "\t<tr><td>2013               </td><td>1                  </td><td>1                  </td><td>554                </td><td>558                </td><td>-4                 </td><td> 740               </td><td> 728               </td><td> 12                </td><td>UA                 </td><td>1696               </td><td>N39463             </td><td>EWR                </td><td>ORD                </td><td>150                </td><td> 719               </td><td>5                  </td><td>58                 </td><td>2013-01-01 05:00:00</td></tr>\n",
       "</tbody>\n",
       "</table>\n"
      ],
      "text/latex": [
       "\\begin{tabular}{r|lllllllllllllllllll}\n",
       " year & month & day & dep\\_time & sched\\_dep\\_time & dep\\_delay & arr\\_time & sched\\_arr\\_time & arr\\_delay & airline\\_car & flight & tailnum & origin & dest & air\\_time & distance & hour & minute & time\\_hour\\\\\n",
       "\\hline\n",
       "\t 2013                & 1                   & 1                   & 517                 & 515                 &  2                  &  830                &  819                &  11                 & UA                  & 1545                & N14228              & EWR                 & IAH                 & 227                 & 1400                & 5                   & 15                  & 2013-01-01 05:00:00\\\\\n",
       "\t 2013                & 1                   & 1                   & 533                 & 529                 &  4                  &  850                &  830                &  20                 & UA                  & 1714                & N24211              & LGA                 & IAH                 & 227                 & 1416                & 5                   & 29                  & 2013-01-01 05:00:00\\\\\n",
       "\t 2013                & 1                   & 1                   & 542                 & 540                 &  2                  &  923                &  850                &  33                 & AA                  & 1141                & N619AA              & JFK                 & MIA                 & 160                 & 1089                & 5                   & 40                  & 2013-01-01 05:00:00\\\\\n",
       "\t 2013                & 1                   & 1                   & 544                 & 545                 & -1                  & 1004                & 1022                & -18                 & B6                  &  725                & N804JB              & JFK                 & BQN                 & 183                 & 1576                & 5                   & 45                  & 2013-01-01 05:00:00\\\\\n",
       "\t 2013                & 1                   & 1                   & 554                 & 600                 & -6                  &  812                &  837                & -25                 & DL                  &  461                & N668DN              & LGA                 & ATL                 & 116                 &  762                & 6                   &  0                  & 2013-01-01 06:00:00\\\\\n",
       "\t 2013                & 1                   & 1                   & 554                 & 558                 & -4                  &  740                &  728                &  12                 & UA                  & 1696                & N39463              & EWR                 & ORD                 & 150                 &  719                & 5                   & 58                  & 2013-01-01 05:00:00\\\\\n",
       "\\end{tabular}\n"
      ],
      "text/markdown": [
       "\n",
       "| year | month | day | dep_time | sched_dep_time | dep_delay | arr_time | sched_arr_time | arr_delay | airline_car | flight | tailnum | origin | dest | air_time | distance | hour | minute | time_hour |\n",
       "|---|---|---|---|---|---|---|---|---|---|---|---|---|---|---|---|---|---|---|\n",
       "| 2013                | 1                   | 1                   | 517                 | 515                 |  2                  |  830                |  819                |  11                 | UA                  | 1545                | N14228              | EWR                 | IAH                 | 227                 | 1400                | 5                   | 15                  | 2013-01-01 05:00:00 |\n",
       "| 2013                | 1                   | 1                   | 533                 | 529                 |  4                  |  850                |  830                |  20                 | UA                  | 1714                | N24211              | LGA                 | IAH                 | 227                 | 1416                | 5                   | 29                  | 2013-01-01 05:00:00 |\n",
       "| 2013                | 1                   | 1                   | 542                 | 540                 |  2                  |  923                |  850                |  33                 | AA                  | 1141                | N619AA              | JFK                 | MIA                 | 160                 | 1089                | 5                   | 40                  | 2013-01-01 05:00:00 |\n",
       "| 2013                | 1                   | 1                   | 544                 | 545                 | -1                  | 1004                | 1022                | -18                 | B6                  |  725                | N804JB              | JFK                 | BQN                 | 183                 | 1576                | 5                   | 45                  | 2013-01-01 05:00:00 |\n",
       "| 2013                | 1                   | 1                   | 554                 | 600                 | -6                  |  812                |  837                | -25                 | DL                  |  461                | N668DN              | LGA                 | ATL                 | 116                 |  762                | 6                   |  0                  | 2013-01-01 06:00:00 |\n",
       "| 2013                | 1                   | 1                   | 554                 | 558                 | -4                  |  740                |  728                |  12                 | UA                  | 1696                | N39463              | EWR                 | ORD                 | 150                 |  719                | 5                   | 58                  | 2013-01-01 05:00:00 |\n",
       "\n"
      ],
      "text/plain": [
       "  year month day dep_time sched_dep_time dep_delay arr_time sched_arr_time\n",
       "1 2013 1     1   517      515             2         830      819          \n",
       "2 2013 1     1   533      529             4         850      830          \n",
       "3 2013 1     1   542      540             2         923      850          \n",
       "4 2013 1     1   544      545            -1        1004     1022          \n",
       "5 2013 1     1   554      600            -6         812      837          \n",
       "6 2013 1     1   554      558            -4         740      728          \n",
       "  arr_delay airline_car flight tailnum origin dest air_time distance hour\n",
       "1  11       UA          1545   N14228  EWR    IAH  227      1400     5   \n",
       "2  20       UA          1714   N24211  LGA    IAH  227      1416     5   \n",
       "3  33       AA          1141   N619AA  JFK    MIA  160      1089     5   \n",
       "4 -18       B6           725   N804JB  JFK    BQN  183      1576     5   \n",
       "5 -25       DL           461   N668DN  LGA    ATL  116       762     6   \n",
       "6  12       UA          1696   N39463  EWR    ORD  150       719     5   \n",
       "  minute time_hour          \n",
       "1 15     2013-01-01 05:00:00\n",
       "2 29     2013-01-01 05:00:00\n",
       "3 40     2013-01-01 05:00:00\n",
       "4 45     2013-01-01 05:00:00\n",
       "5  0     2013-01-01 06:00:00\n",
       "6 58     2013-01-01 05:00:00"
      ]
     },
     "metadata": {},
     "output_type": "display_data"
    }
   ],
   "source": [
    "head(rename(flights,airline_car=carrier)) #renames a column (data, newname=oldname, newname2=oldname2)"
   ]
  },
  {
   "cell_type": "code",
   "execution_count": 34,
   "metadata": {},
   "outputs": [
    {
     "data": {
      "text/html": [
       "<table>\n",
       "<thead><tr><th scope=col>carrier</th><th scope=col>origin</th></tr></thead>\n",
       "<tbody>\n",
       "\t<tr><td>UA </td><td>EWR</td></tr>\n",
       "\t<tr><td>UA </td><td>LGA</td></tr>\n",
       "\t<tr><td>AA </td><td>JFK</td></tr>\n",
       "\t<tr><td>B6 </td><td>JFK</td></tr>\n",
       "\t<tr><td>DL </td><td>LGA</td></tr>\n",
       "\t<tr><td>B6 </td><td>EWR</td></tr>\n",
       "\t<tr><td>EV </td><td>LGA</td></tr>\n",
       "\t<tr><td>AA </td><td>LGA</td></tr>\n",
       "\t<tr><td>UA </td><td>JFK</td></tr>\n",
       "\t<tr><td>B6 </td><td>LGA</td></tr>\n",
       "\t<tr><td>MQ </td><td>LGA</td></tr>\n",
       "\t<tr><td>AA </td><td>EWR</td></tr>\n",
       "\t<tr><td>DL </td><td>JFK</td></tr>\n",
       "\t<tr><td>MQ </td><td>EWR</td></tr>\n",
       "\t<tr><td>DL </td><td>EWR</td></tr>\n",
       "\t<tr><td>US </td><td>EWR</td></tr>\n",
       "\t<tr><td>EV </td><td>EWR</td></tr>\n",
       "\t<tr><td>US </td><td>JFK</td></tr>\n",
       "\t<tr><td>WN </td><td>LGA</td></tr>\n",
       "\t<tr><td>VX </td><td>JFK</td></tr>\n",
       "\t<tr><td>FL </td><td>LGA</td></tr>\n",
       "\t<tr><td>AS </td><td>EWR</td></tr>\n",
       "\t<tr><td>US </td><td>LGA</td></tr>\n",
       "\t<tr><td>MQ </td><td>JFK</td></tr>\n",
       "\t<tr><td>9E </td><td>JFK</td></tr>\n",
       "\t<tr><td>F9 </td><td>LGA</td></tr>\n",
       "\t<tr><td>WN </td><td>EWR</td></tr>\n",
       "\t<tr><td>HA </td><td>JFK</td></tr>\n",
       "\t<tr><td>EV </td><td>JFK</td></tr>\n",
       "\t<tr><td>9E </td><td>EWR</td></tr>\n",
       "\t<tr><td>9E </td><td>LGA</td></tr>\n",
       "\t<tr><td>YV </td><td>LGA</td></tr>\n",
       "\t<tr><td>OO </td><td>LGA</td></tr>\n",
       "\t<tr><td>VX </td><td>EWR</td></tr>\n",
       "\t<tr><td>OO </td><td>EWR</td></tr>\n",
       "</tbody>\n",
       "</table>\n"
      ],
      "text/latex": [
       "\\begin{tabular}{r|ll}\n",
       " carrier & origin\\\\\n",
       "\\hline\n",
       "\t UA  & EWR\\\\\n",
       "\t UA  & LGA\\\\\n",
       "\t AA  & JFK\\\\\n",
       "\t B6  & JFK\\\\\n",
       "\t DL  & LGA\\\\\n",
       "\t B6  & EWR\\\\\n",
       "\t EV  & LGA\\\\\n",
       "\t AA  & LGA\\\\\n",
       "\t UA  & JFK\\\\\n",
       "\t B6  & LGA\\\\\n",
       "\t MQ  & LGA\\\\\n",
       "\t AA  & EWR\\\\\n",
       "\t DL  & JFK\\\\\n",
       "\t MQ  & EWR\\\\\n",
       "\t DL  & EWR\\\\\n",
       "\t US  & EWR\\\\\n",
       "\t EV  & EWR\\\\\n",
       "\t US  & JFK\\\\\n",
       "\t WN  & LGA\\\\\n",
       "\t VX  & JFK\\\\\n",
       "\t FL  & LGA\\\\\n",
       "\t AS  & EWR\\\\\n",
       "\t US  & LGA\\\\\n",
       "\t MQ  & JFK\\\\\n",
       "\t 9E  & JFK\\\\\n",
       "\t F9  & LGA\\\\\n",
       "\t WN  & EWR\\\\\n",
       "\t HA  & JFK\\\\\n",
       "\t EV  & JFK\\\\\n",
       "\t 9E  & EWR\\\\\n",
       "\t 9E  & LGA\\\\\n",
       "\t YV  & LGA\\\\\n",
       "\t OO  & LGA\\\\\n",
       "\t VX  & EWR\\\\\n",
       "\t OO  & EWR\\\\\n",
       "\\end{tabular}\n"
      ],
      "text/markdown": [
       "\n",
       "| carrier | origin |\n",
       "|---|---|\n",
       "| UA  | EWR |\n",
       "| UA  | LGA |\n",
       "| AA  | JFK |\n",
       "| B6  | JFK |\n",
       "| DL  | LGA |\n",
       "| B6  | EWR |\n",
       "| EV  | LGA |\n",
       "| AA  | LGA |\n",
       "| UA  | JFK |\n",
       "| B6  | LGA |\n",
       "| MQ  | LGA |\n",
       "| AA  | EWR |\n",
       "| DL  | JFK |\n",
       "| MQ  | EWR |\n",
       "| DL  | EWR |\n",
       "| US  | EWR |\n",
       "| EV  | EWR |\n",
       "| US  | JFK |\n",
       "| WN  | LGA |\n",
       "| VX  | JFK |\n",
       "| FL  | LGA |\n",
       "| AS  | EWR |\n",
       "| US  | LGA |\n",
       "| MQ  | JFK |\n",
       "| 9E  | JFK |\n",
       "| F9  | LGA |\n",
       "| WN  | EWR |\n",
       "| HA  | JFK |\n",
       "| EV  | JFK |\n",
       "| 9E  | EWR |\n",
       "| 9E  | LGA |\n",
       "| YV  | LGA |\n",
       "| OO  | LGA |\n",
       "| VX  | EWR |\n",
       "| OO  | EWR |\n",
       "\n"
      ],
      "text/plain": [
       "   carrier origin\n",
       "1  UA      EWR   \n",
       "2  UA      LGA   \n",
       "3  AA      JFK   \n",
       "4  B6      JFK   \n",
       "5  DL      LGA   \n",
       "6  B6      EWR   \n",
       "7  EV      LGA   \n",
       "8  AA      LGA   \n",
       "9  UA      JFK   \n",
       "10 B6      LGA   \n",
       "11 MQ      LGA   \n",
       "12 AA      EWR   \n",
       "13 DL      JFK   \n",
       "14 MQ      EWR   \n",
       "15 DL      EWR   \n",
       "16 US      EWR   \n",
       "17 EV      EWR   \n",
       "18 US      JFK   \n",
       "19 WN      LGA   \n",
       "20 VX      JFK   \n",
       "21 FL      LGA   \n",
       "22 AS      EWR   \n",
       "23 US      LGA   \n",
       "24 MQ      JFK   \n",
       "25 9E      JFK   \n",
       "26 F9      LGA   \n",
       "27 WN      EWR   \n",
       "28 HA      JFK   \n",
       "29 EV      JFK   \n",
       "30 9E      EWR   \n",
       "31 9E      LGA   \n",
       "32 YV      LGA   \n",
       "33 OO      LGA   \n",
       "34 VX      EWR   \n",
       "35 OO      EWR   "
      ]
     },
     "metadata": {},
     "output_type": "display_data"
    }
   ],
   "source": [
    "distinct(select(flights,carrier, origin))\n",
    "\n",
    "#replaces unique(flights$carrier)"
   ]
  },
  {
   "cell_type": "code",
   "execution_count": 35,
   "metadata": {},
   "outputs": [
    {
     "data": {
      "text/html": [
       "<table>\n",
       "<thead><tr><th scope=col>year</th><th scope=col>month</th><th scope=col>day</th><th scope=col>dep_time</th><th scope=col>sched_dep_time</th><th scope=col>dep_delay</th><th scope=col>arr_time</th><th scope=col>sched_arr_time</th><th scope=col>arr_delay</th><th scope=col>carrier</th><th scope=col>flight</th><th scope=col>tailnum</th><th scope=col>origin</th><th scope=col>dest</th><th scope=col>air_time</th><th scope=col>distance</th><th scope=col>hour</th><th scope=col>minute</th><th scope=col>time_hour</th><th scope=col>nw_col</th></tr></thead>\n",
       "<tbody>\n",
       "\t<tr><td>2013               </td><td>1                  </td><td>1                  </td><td>517                </td><td>515                </td><td> 2                 </td><td> 830               </td><td> 819               </td><td> 11                </td><td>UA                 </td><td>1545               </td><td>N14228             </td><td>EWR                </td><td>IAH                </td><td>227                </td><td>1400               </td><td>5                  </td><td>15                 </td><td>2013-01-01 05:00:00</td><td>  9                </td></tr>\n",
       "\t<tr><td>2013               </td><td>1                  </td><td>1                  </td><td>533                </td><td>529                </td><td> 4                 </td><td> 850               </td><td> 830               </td><td> 20                </td><td>UA                 </td><td>1714               </td><td>N24211             </td><td>LGA                </td><td>IAH                </td><td>227                </td><td>1416               </td><td>5                  </td><td>29                 </td><td>2013-01-01 05:00:00</td><td> 16                </td></tr>\n",
       "\t<tr><td>2013               </td><td>1                  </td><td>1                  </td><td>542                </td><td>540                </td><td> 2                 </td><td> 923               </td><td> 850               </td><td> 33                </td><td>AA                 </td><td>1141               </td><td>N619AA             </td><td>JFK                </td><td>MIA                </td><td>160                </td><td>1089               </td><td>5                  </td><td>40                 </td><td>2013-01-01 05:00:00</td><td> 31                </td></tr>\n",
       "\t<tr><td>2013               </td><td>1                  </td><td>1                  </td><td>544                </td><td>545                </td><td>-1                 </td><td>1004               </td><td>1022               </td><td>-18                </td><td>B6                 </td><td> 725               </td><td>N804JB             </td><td>JFK                </td><td>BQN                </td><td>183                </td><td>1576               </td><td>5                  </td><td>45                 </td><td>2013-01-01 05:00:00</td><td>-17                </td></tr>\n",
       "\t<tr><td>2013               </td><td>1                  </td><td>1                  </td><td>554                </td><td>600                </td><td>-6                 </td><td> 812               </td><td> 837               </td><td>-25                </td><td>DL                 </td><td> 461               </td><td>N668DN             </td><td>LGA                </td><td>ATL                </td><td>116                </td><td> 762               </td><td>6                  </td><td> 0                 </td><td>2013-01-01 06:00:00</td><td>-19                </td></tr>\n",
       "\t<tr><td>2013               </td><td>1                  </td><td>1                  </td><td>554                </td><td>558                </td><td>-4                 </td><td> 740               </td><td> 728               </td><td> 12                </td><td>UA                 </td><td>1696               </td><td>N39463             </td><td>EWR                </td><td>ORD                </td><td>150                </td><td> 719               </td><td>5                  </td><td>58                 </td><td>2013-01-01 05:00:00</td><td> 16                </td></tr>\n",
       "</tbody>\n",
       "</table>\n"
      ],
      "text/latex": [
       "\\begin{tabular}{r|llllllllllllllllllll}\n",
       " year & month & day & dep\\_time & sched\\_dep\\_time & dep\\_delay & arr\\_time & sched\\_arr\\_time & arr\\_delay & carrier & flight & tailnum & origin & dest & air\\_time & distance & hour & minute & time\\_hour & nw\\_col\\\\\n",
       "\\hline\n",
       "\t 2013                & 1                   & 1                   & 517                 & 515                 &  2                  &  830                &  819                &  11                 & UA                  & 1545                & N14228              & EWR                 & IAH                 & 227                 & 1400                & 5                   & 15                  & 2013-01-01 05:00:00 &   9                \\\\\n",
       "\t 2013                & 1                   & 1                   & 533                 & 529                 &  4                  &  850                &  830                &  20                 & UA                  & 1714                & N24211              & LGA                 & IAH                 & 227                 & 1416                & 5                   & 29                  & 2013-01-01 05:00:00 &  16                \\\\\n",
       "\t 2013                & 1                   & 1                   & 542                 & 540                 &  2                  &  923                &  850                &  33                 & AA                  & 1141                & N619AA              & JFK                 & MIA                 & 160                 & 1089                & 5                   & 40                  & 2013-01-01 05:00:00 &  31                \\\\\n",
       "\t 2013                & 1                   & 1                   & 544                 & 545                 & -1                  & 1004                & 1022                & -18                 & B6                  &  725                & N804JB              & JFK                 & BQN                 & 183                 & 1576                & 5                   & 45                  & 2013-01-01 05:00:00 & -17                \\\\\n",
       "\t 2013                & 1                   & 1                   & 554                 & 600                 & -6                  &  812                &  837                & -25                 & DL                  &  461                & N668DN              & LGA                 & ATL                 & 116                 &  762                & 6                   &  0                  & 2013-01-01 06:00:00 & -19                \\\\\n",
       "\t 2013                & 1                   & 1                   & 554                 & 558                 & -4                  &  740                &  728                &  12                 & UA                  & 1696                & N39463              & EWR                 & ORD                 & 150                 &  719                & 5                   & 58                  & 2013-01-01 05:00:00 &  16                \\\\\n",
       "\\end{tabular}\n"
      ],
      "text/markdown": [
       "\n",
       "| year | month | day | dep_time | sched_dep_time | dep_delay | arr_time | sched_arr_time | arr_delay | carrier | flight | tailnum | origin | dest | air_time | distance | hour | minute | time_hour | nw_col |\n",
       "|---|---|---|---|---|---|---|---|---|---|---|---|---|---|---|---|---|---|---|---|\n",
       "| 2013                | 1                   | 1                   | 517                 | 515                 |  2                  |  830                |  819                |  11                 | UA                  | 1545                | N14228              | EWR                 | IAH                 | 227                 | 1400                | 5                   | 15                  | 2013-01-01 05:00:00 |   9                 |\n",
       "| 2013                | 1                   | 1                   | 533                 | 529                 |  4                  |  850                |  830                |  20                 | UA                  | 1714                | N24211              | LGA                 | IAH                 | 227                 | 1416                | 5                   | 29                  | 2013-01-01 05:00:00 |  16                 |\n",
       "| 2013                | 1                   | 1                   | 542                 | 540                 |  2                  |  923                |  850                |  33                 | AA                  | 1141                | N619AA              | JFK                 | MIA                 | 160                 | 1089                | 5                   | 40                  | 2013-01-01 05:00:00 |  31                 |\n",
       "| 2013                | 1                   | 1                   | 544                 | 545                 | -1                  | 1004                | 1022                | -18                 | B6                  |  725                | N804JB              | JFK                 | BQN                 | 183                 | 1576                | 5                   | 45                  | 2013-01-01 05:00:00 | -17                 |\n",
       "| 2013                | 1                   | 1                   | 554                 | 600                 | -6                  |  812                |  837                | -25                 | DL                  |  461                | N668DN              | LGA                 | ATL                 | 116                 |  762                | 6                   |  0                  | 2013-01-01 06:00:00 | -19                 |\n",
       "| 2013                | 1                   | 1                   | 554                 | 558                 | -4                  |  740                |  728                |  12                 | UA                  | 1696                | N39463              | EWR                 | ORD                 | 150                 |  719                | 5                   | 58                  | 2013-01-01 05:00:00 |  16                 |\n",
       "\n"
      ],
      "text/plain": [
       "  year month day dep_time sched_dep_time dep_delay arr_time sched_arr_time\n",
       "1 2013 1     1   517      515             2         830      819          \n",
       "2 2013 1     1   533      529             4         850      830          \n",
       "3 2013 1     1   542      540             2         923      850          \n",
       "4 2013 1     1   544      545            -1        1004     1022          \n",
       "5 2013 1     1   554      600            -6         812      837          \n",
       "6 2013 1     1   554      558            -4         740      728          \n",
       "  arr_delay carrier flight tailnum origin dest air_time distance hour minute\n",
       "1  11       UA      1545   N14228  EWR    IAH  227      1400     5    15    \n",
       "2  20       UA      1714   N24211  LGA    IAH  227      1416     5    29    \n",
       "3  33       AA      1141   N619AA  JFK    MIA  160      1089     5    40    \n",
       "4 -18       B6       725   N804JB  JFK    BQN  183      1576     5    45    \n",
       "5 -25       DL       461   N668DN  LGA    ATL  116       762     6     0    \n",
       "6  12       UA      1696   N39463  EWR    ORD  150       719     5    58    \n",
       "  time_hour           nw_col\n",
       "1 2013-01-01 05:00:00   9   \n",
       "2 2013-01-01 05:00:00  16   \n",
       "3 2013-01-01 05:00:00  31   \n",
       "4 2013-01-01 05:00:00 -17   \n",
       "5 2013-01-01 06:00:00 -19   \n",
       "6 2013-01-01 05:00:00  16   "
      ]
     },
     "metadata": {},
     "output_type": "display_data"
    }
   ],
   "source": [
    "#make new column\n",
    "head(mutate(flights, nw_col=arr_delay-dep_delay))\n",
    "#use select to bring to front instead of at rear of table\n",
    "#in tidyverse to pipe it = %>%\n",
    "#whatever %>% select(carrier, new_col, everything())"
   ]
  },
  {
   "cell_type": "code",
   "execution_count": 36,
   "metadata": {},
   "outputs": [
    {
     "data": {
      "text/html": [
       "<table>\n",
       "<thead><tr><th scope=col>avg_air_time</th></tr></thead>\n",
       "<tbody>\n",
       "\t<tr><td>150.6865</td></tr>\n",
       "</tbody>\n",
       "</table>\n"
      ],
      "text/latex": [
       "\\begin{tabular}{r|l}\n",
       " avg\\_air\\_time\\\\\n",
       "\\hline\n",
       "\t 150.6865\\\\\n",
       "\\end{tabular}\n"
      ],
      "text/markdown": [
       "\n",
       "| avg_air_time |\n",
       "|---|\n",
       "| 150.6865 |\n",
       "\n"
      ],
      "text/plain": [
       "  avg_air_time\n",
       "1 150.6865    "
      ]
     },
     "metadata": {},
     "output_type": "display_data"
    }
   ],
   "source": [
    "summarise(flights,avg_air_time=mean(air_time,na.rm=TRUE))"
   ]
  },
  {
   "cell_type": "code",
   "execution_count": 37,
   "metadata": {},
   "outputs": [
    {
     "data": {
      "text/html": [
       "<table>\n",
       "<thead><tr><th scope=col>year</th><th scope=col>month</th><th scope=col>day</th><th scope=col>dep_time</th><th scope=col>sched_dep_time</th><th scope=col>dep_delay</th><th scope=col>arr_time</th><th scope=col>sched_arr_time</th><th scope=col>arr_delay</th><th scope=col>carrier</th><th scope=col>flight</th><th scope=col>tailnum</th><th scope=col>origin</th><th scope=col>dest</th><th scope=col>air_time</th><th scope=col>distance</th><th scope=col>hour</th><th scope=col>minute</th><th scope=col>time_hour</th></tr></thead>\n",
       "<tbody>\n",
       "\t<tr><td>2013               </td><td> 7                 </td><td> 4                 </td><td> 716               </td><td> 725               </td><td> -9                </td><td> 954               </td><td>1010               </td><td>-16                </td><td>AA                 </td><td>1815               </td><td>N3HNAA             </td><td>JFK                </td><td>MCO                </td><td>130                </td><td> 944               </td><td> 7                 </td><td>25                 </td><td>2013-07-04 07:00:00</td></tr>\n",
       "\t<tr><td>2013               </td><td> 9                 </td><td> 5                 </td><td>1626               </td><td>1624               </td><td>  2                </td><td>1829               </td><td>1842               </td><td>-13                </td><td>UA                 </td><td>1139               </td><td>N73256             </td><td>EWR                </td><td>DEN                </td><td>215                </td><td>1605               </td><td>16                 </td><td>24                 </td><td>2013-09-05 16:00:00</td></tr>\n",
       "\t<tr><td>2013               </td><td> 6                 </td><td>12                 </td><td> 911               </td><td> 915               </td><td> -4                </td><td>1017               </td><td>1033               </td><td>-16                </td><td>9E                 </td><td>4258               </td><td>N8506C             </td><td>JFK                </td><td>BWI                </td><td> 36                </td><td> 184               </td><td> 9                 </td><td>15                 </td><td>2013-06-12 09:00:00</td></tr>\n",
       "\t<tr><td>2013               </td><td>10                 </td><td>16                 </td><td>1925               </td><td>1930               </td><td> -5                </td><td>2210               </td><td>2233               </td><td>-23                </td><td>UA                 </td><td>1618               </td><td>N53441             </td><td>EWR                </td><td>TPA                </td><td>136                </td><td> 997               </td><td>19                 </td><td>30                 </td><td>2013-10-16 19:00:00</td></tr>\n",
       "\t<tr><td>2013               </td><td> 6                 </td><td> 6                 </td><td>1051               </td><td>1100               </td><td> -9                </td><td>1226               </td><td>1245               </td><td>-19                </td><td>MQ                 </td><td>4471               </td><td>N738MQ             </td><td>LGA                </td><td>RDU                </td><td> 74                </td><td> 431               </td><td>11                 </td><td> 0                 </td><td>2013-06-06 11:00:00</td></tr>\n",
       "\t<tr><td>2013               </td><td> 7                 </td><td>18                 </td><td>2109               </td><td>2030               </td><td> 39                </td><td>2230               </td><td>2155               </td><td> 35                </td><td>WN                 </td><td>1271               </td><td>N753SW             </td><td>EWR                </td><td>MDW                </td><td>100                </td><td> 711               </td><td>20                 </td><td>30                 </td><td>2013-07-18 20:00:00</td></tr>\n",
       "\t<tr><td>2013               </td><td> 7                 </td><td>23                 </td><td>1350               </td><td>1159               </td><td>111                </td><td>1452               </td><td>1314               </td><td> 98                </td><td>9E                 </td><td>4097               </td><td>N8412F             </td><td>JFK                </td><td>BWI                </td><td> 36                </td><td> 184               </td><td>11                 </td><td>59                 </td><td>2013-07-23 11:00:00</td></tr>\n",
       "\t<tr><td>2013               </td><td> 2                 </td><td>20                 </td><td> 645               </td><td> 641               </td><td>  4                </td><td> 752               </td><td> 756               </td><td> -4                </td><td>UA                 </td><td>1142               </td><td>N27733             </td><td>EWR                </td><td>BOS                </td><td> 42                </td><td> 200               </td><td> 6                 </td><td>41                 </td><td>2013-02-20 06:00:00</td></tr>\n",
       "\t<tr><td>2013               </td><td>12                 </td><td>29                 </td><td>1436               </td><td>1351               </td><td> 45                </td><td>1725               </td><td>1731               </td><td> -6                </td><td>UA                 </td><td>1583               </td><td>N38454             </td><td>EWR                </td><td>SFO                </td><td>331                </td><td>2565               </td><td>13                 </td><td>51                 </td><td>2013-12-29 13:00:00</td></tr>\n",
       "\t<tr><td>2013               </td><td> 8                 </td><td> 3                 </td><td>1909               </td><td>1905               </td><td>  4                </td><td>2222               </td><td>2210               </td><td> 12                </td><td>UA                 </td><td>1680               </td><td>N37464             </td><td>EWR                </td><td>MIA                </td><td>160                </td><td>1085               </td><td>19                 </td><td> 5                 </td><td>2013-08-03 19:00:00</td></tr>\n",
       "</tbody>\n",
       "</table>\n"
      ],
      "text/latex": [
       "\\begin{tabular}{r|lllllllllllllllllll}\n",
       " year & month & day & dep\\_time & sched\\_dep\\_time & dep\\_delay & arr\\_time & sched\\_arr\\_time & arr\\_delay & carrier & flight & tailnum & origin & dest & air\\_time & distance & hour & minute & time\\_hour\\\\\n",
       "\\hline\n",
       "\t 2013                &  7                  &  4                  &  716                &  725                &  -9                 &  954                & 1010                & -16                 & AA                  & 1815                & N3HNAA              & JFK                 & MCO                 & 130                 &  944                &  7                  & 25                  & 2013-07-04 07:00:00\\\\\n",
       "\t 2013                &  9                  &  5                  & 1626                & 1624                &   2                 & 1829                & 1842                & -13                 & UA                  & 1139                & N73256              & EWR                 & DEN                 & 215                 & 1605                & 16                  & 24                  & 2013-09-05 16:00:00\\\\\n",
       "\t 2013                &  6                  & 12                  &  911                &  915                &  -4                 & 1017                & 1033                & -16                 & 9E                  & 4258                & N8506C              & JFK                 & BWI                 &  36                 &  184                &  9                  & 15                  & 2013-06-12 09:00:00\\\\\n",
       "\t 2013                & 10                  & 16                  & 1925                & 1930                &  -5                 & 2210                & 2233                & -23                 & UA                  & 1618                & N53441              & EWR                 & TPA                 & 136                 &  997                & 19                  & 30                  & 2013-10-16 19:00:00\\\\\n",
       "\t 2013                &  6                  &  6                  & 1051                & 1100                &  -9                 & 1226                & 1245                & -19                 & MQ                  & 4471                & N738MQ              & LGA                 & RDU                 &  74                 &  431                & 11                  &  0                  & 2013-06-06 11:00:00\\\\\n",
       "\t 2013                &  7                  & 18                  & 2109                & 2030                &  39                 & 2230                & 2155                &  35                 & WN                  & 1271                & N753SW              & EWR                 & MDW                 & 100                 &  711                & 20                  & 30                  & 2013-07-18 20:00:00\\\\\n",
       "\t 2013                &  7                  & 23                  & 1350                & 1159                & 111                 & 1452                & 1314                &  98                 & 9E                  & 4097                & N8412F              & JFK                 & BWI                 &  36                 &  184                & 11                  & 59                  & 2013-07-23 11:00:00\\\\\n",
       "\t 2013                &  2                  & 20                  &  645                &  641                &   4                 &  752                &  756                &  -4                 & UA                  & 1142                & N27733              & EWR                 & BOS                 &  42                 &  200                &  6                  & 41                  & 2013-02-20 06:00:00\\\\\n",
       "\t 2013                & 12                  & 29                  & 1436                & 1351                &  45                 & 1725                & 1731                &  -6                 & UA                  & 1583                & N38454              & EWR                 & SFO                 & 331                 & 2565                & 13                  & 51                  & 2013-12-29 13:00:00\\\\\n",
       "\t 2013                &  8                  &  3                  & 1909                & 1905                &   4                 & 2222                & 2210                &  12                 & UA                  & 1680                & N37464              & EWR                 & MIA                 & 160                 & 1085                & 19                  &  5                  & 2013-08-03 19:00:00\\\\\n",
       "\\end{tabular}\n"
      ],
      "text/markdown": [
       "\n",
       "| year | month | day | dep_time | sched_dep_time | dep_delay | arr_time | sched_arr_time | arr_delay | carrier | flight | tailnum | origin | dest | air_time | distance | hour | minute | time_hour |\n",
       "|---|---|---|---|---|---|---|---|---|---|---|---|---|---|---|---|---|---|---|\n",
       "| 2013                |  7                  |  4                  |  716                |  725                |  -9                 |  954                | 1010                | -16                 | AA                  | 1815                | N3HNAA              | JFK                 | MCO                 | 130                 |  944                |  7                  | 25                  | 2013-07-04 07:00:00 |\n",
       "| 2013                |  9                  |  5                  | 1626                | 1624                |   2                 | 1829                | 1842                | -13                 | UA                  | 1139                | N73256              | EWR                 | DEN                 | 215                 | 1605                | 16                  | 24                  | 2013-09-05 16:00:00 |\n",
       "| 2013                |  6                  | 12                  |  911                |  915                |  -4                 | 1017                | 1033                | -16                 | 9E                  | 4258                | N8506C              | JFK                 | BWI                 |  36                 |  184                |  9                  | 15                  | 2013-06-12 09:00:00 |\n",
       "| 2013                | 10                  | 16                  | 1925                | 1930                |  -5                 | 2210                | 2233                | -23                 | UA                  | 1618                | N53441              | EWR                 | TPA                 | 136                 |  997                | 19                  | 30                  | 2013-10-16 19:00:00 |\n",
       "| 2013                |  6                  |  6                  | 1051                | 1100                |  -9                 | 1226                | 1245                | -19                 | MQ                  | 4471                | N738MQ              | LGA                 | RDU                 |  74                 |  431                | 11                  |  0                  | 2013-06-06 11:00:00 |\n",
       "| 2013                |  7                  | 18                  | 2109                | 2030                |  39                 | 2230                | 2155                |  35                 | WN                  | 1271                | N753SW              | EWR                 | MDW                 | 100                 |  711                | 20                  | 30                  | 2013-07-18 20:00:00 |\n",
       "| 2013                |  7                  | 23                  | 1350                | 1159                | 111                 | 1452                | 1314                |  98                 | 9E                  | 4097                | N8412F              | JFK                 | BWI                 |  36                 |  184                | 11                  | 59                  | 2013-07-23 11:00:00 |\n",
       "| 2013                |  2                  | 20                  |  645                |  641                |   4                 |  752                |  756                |  -4                 | UA                  | 1142                | N27733              | EWR                 | BOS                 |  42                 |  200                |  6                  | 41                  | 2013-02-20 06:00:00 |\n",
       "| 2013                | 12                  | 29                  | 1436                | 1351                |  45                 | 1725                | 1731                |  -6                 | UA                  | 1583                | N38454              | EWR                 | SFO                 | 331                 | 2565                | 13                  | 51                  | 2013-12-29 13:00:00 |\n",
       "| 2013                |  8                  |  3                  | 1909                | 1905                |   4                 | 2222                | 2210                |  12                 | UA                  | 1680                | N37464              | EWR                 | MIA                 | 160                 | 1085                | 19                  |  5                  | 2013-08-03 19:00:00 |\n",
       "\n"
      ],
      "text/plain": [
       "   year month day dep_time sched_dep_time dep_delay arr_time sched_arr_time\n",
       "1  2013  7     4   716      725            -9        954     1010          \n",
       "2  2013  9     5  1626     1624             2       1829     1842          \n",
       "3  2013  6    12   911      915            -4       1017     1033          \n",
       "4  2013 10    16  1925     1930            -5       2210     2233          \n",
       "5  2013  6     6  1051     1100            -9       1226     1245          \n",
       "6  2013  7    18  2109     2030            39       2230     2155          \n",
       "7  2013  7    23  1350     1159           111       1452     1314          \n",
       "8  2013  2    20   645      641             4        752      756          \n",
       "9  2013 12    29  1436     1351            45       1725     1731          \n",
       "10 2013  8     3  1909     1905             4       2222     2210          \n",
       "   arr_delay carrier flight tailnum origin dest air_time distance hour minute\n",
       "1  -16       AA      1815   N3HNAA  JFK    MCO  130       944      7   25    \n",
       "2  -13       UA      1139   N73256  EWR    DEN  215      1605     16   24    \n",
       "3  -16       9E      4258   N8506C  JFK    BWI   36       184      9   15    \n",
       "4  -23       UA      1618   N53441  EWR    TPA  136       997     19   30    \n",
       "5  -19       MQ      4471   N738MQ  LGA    RDU   74       431     11    0    \n",
       "6   35       WN      1271   N753SW  EWR    MDW  100       711     20   30    \n",
       "7   98       9E      4097   N8412F  JFK    BWI   36       184     11   59    \n",
       "8   -4       UA      1142   N27733  EWR    BOS   42       200      6   41    \n",
       "9   -6       UA      1583   N38454  EWR    SFO  331      2565     13   51    \n",
       "10  12       UA      1680   N37464  EWR    MIA  160      1085     19    5    \n",
       "   time_hour          \n",
       "1  2013-07-04 07:00:00\n",
       "2  2013-09-05 16:00:00\n",
       "3  2013-06-12 09:00:00\n",
       "4  2013-10-16 19:00:00\n",
       "5  2013-06-06 11:00:00\n",
       "6  2013-07-18 20:00:00\n",
       "7  2013-07-23 11:00:00\n",
       "8  2013-02-20 06:00:00\n",
       "9  2013-12-29 13:00:00\n",
       "10 2013-08-03 19:00:00"
      ]
     },
     "metadata": {},
     "output_type": "display_data"
    }
   ],
   "source": [
    "sample_n(flights,10)\n",
    "#takes 10 flights at random unless set seed\n",
    "#eg set.seed(10) prior to function"
   ]
  },
  {
   "cell_type": "code",
   "execution_count": 38,
   "metadata": {},
   "outputs": [
    {
     "data": {
      "text/html": [
       "<table>\n",
       "<thead><tr><th scope=col>year</th><th scope=col>month</th><th scope=col>day</th><th scope=col>dep_time</th><th scope=col>sched_dep_time</th><th scope=col>dep_delay</th><th scope=col>arr_time</th><th scope=col>sched_arr_time</th><th scope=col>arr_delay</th><th scope=col>carrier</th><th scope=col>flight</th><th scope=col>tailnum</th><th scope=col>origin</th><th scope=col>dest</th><th scope=col>air_time</th><th scope=col>distance</th><th scope=col>hour</th><th scope=col>minute</th><th scope=col>time_hour</th></tr></thead>\n",
       "<tbody>\n",
       "\t<tr><td>2013               </td><td> 2                 </td><td>11                 </td><td>1002               </td><td> 945               </td><td> 17                </td><td>1145               </td><td>1130               </td><td> 15                </td><td>AA                 </td><td> 319               </td><td>N557AA             </td><td>LGA                </td><td>ORD                </td><td>126                </td><td> 733               </td><td> 9                 </td><td>45                 </td><td>2013-02-11 09:00:00</td></tr>\n",
       "\t<tr><td>2013               </td><td> 9                 </td><td>30                 </td><td>1248               </td><td>1300               </td><td>-12                </td><td>1427               </td><td>1450               </td><td>-23                </td><td>MQ                 </td><td>3388               </td><td>N724MQ             </td><td>LGA                </td><td>CMH                </td><td> 71                </td><td> 479               </td><td>13                 </td><td> 0                 </td><td>2013-09-30 13:00:00</td></tr>\n",
       "\t<tr><td>2013               </td><td> 3                 </td><td> 6                 </td><td>1656               </td><td>1545               </td><td> 71                </td><td>1959               </td><td>1909               </td><td> 50                </td><td>UA                 </td><td> 132               </td><td>N14121             </td><td>JFK                </td><td>LAX                </td><td>339                </td><td>2475               </td><td>15                 </td><td>45                 </td><td>2013-03-06 15:00:00</td></tr>\n",
       "\t<tr><td>2013               </td><td> 8                 </td><td>18                 </td><td>1436               </td><td>1441               </td><td> -5                </td><td>1740               </td><td>1755               </td><td>-15                </td><td>DL                 </td><td>1779               </td><td>N326US             </td><td>LGA                </td><td>FLL                </td><td>146                </td><td>1076               </td><td>14                 </td><td>41                 </td><td>2013-08-18 14:00:00</td></tr>\n",
       "\t<tr><td>2013               </td><td> 3                 </td><td>11                 </td><td> 756               </td><td> 759               </td><td> -3                </td><td>1040               </td><td>1032               </td><td>  8                </td><td>DL                 </td><td>2047               </td><td>N668DN             </td><td>LGA                </td><td>ATL                </td><td>125                </td><td> 762               </td><td> 7                 </td><td>59                 </td><td>2013-03-11 07:00:00</td></tr>\n",
       "\t<tr><td>2013               </td><td>12                 </td><td>12                 </td><td>1029               </td><td>1030               </td><td> -1                </td><td>1323               </td><td>1324               </td><td> -1                </td><td>B6                 </td><td> 925               </td><td>N649JB             </td><td>JFK                </td><td>TPA                </td><td>149                </td><td>1005               </td><td>10                 </td><td>30                 </td><td>2013-12-12 10:00:00</td></tr>\n",
       "\t<tr><td>2013               </td><td> 2                 </td><td> 1                 </td><td>1527               </td><td>1529               </td><td> -2                </td><td>1835               </td><td>1837               </td><td> -2                </td><td>UA                 </td><td>1624               </td><td>N18223             </td><td>EWR                </td><td>FLL                </td><td>167                </td><td>1065               </td><td>15                 </td><td>29                 </td><td>2013-02-01 15:00:00</td></tr>\n",
       "\t<tr><td>2013               </td><td> 1                 </td><td> 2                 </td><td> 839               </td><td> 800               </td><td> 39                </td><td>1205               </td><td>1144               </td><td> 21                </td><td>UA                 </td><td> 397               </td><td>N554UA             </td><td>JFK                </td><td>SFO                </td><td>349                </td><td>2586               </td><td> 8                 </td><td> 0                 </td><td>2013-01-02 08:00:00</td></tr>\n",
       "\t<tr><td>2013               </td><td> 8                 </td><td>15                 </td><td>1702               </td><td>1700               </td><td>  2                </td><td>1829               </td><td>1845               </td><td>-16                </td><td>MQ                 </td><td>3216               </td><td>N658MQ             </td><td>JFK                </td><td>ORF                </td><td> 54                </td><td> 290               </td><td>17                 </td><td> 0                 </td><td>2013-08-15 17:00:00</td></tr>\n",
       "\t<tr><td>2013               </td><td> 8                 </td><td>28                 </td><td>1824               </td><td>1729               </td><td> 55                </td><td>2010               </td><td>1905               </td><td> 65                </td><td>B6                 </td><td>  86               </td><td>N236JB             </td><td>JFK                </td><td>ROC                </td><td> 54                </td><td> 264               </td><td>17                 </td><td>29                 </td><td>2013-08-28 17:00:00</td></tr>\n",
       "\t<tr><td>2013               </td><td>12                 </td><td> 3                 </td><td>1525               </td><td>1530               </td><td> -5                </td><td>1928               </td><td>1915               </td><td> 13                </td><td>AA                 </td><td>  85               </td><td>N380AA             </td><td>JFK                </td><td>SFO                </td><td>381                </td><td>2586               </td><td>15                 </td><td>30                 </td><td>2013-12-03 15:00:00</td></tr>\n",
       "\t<tr><td>2013               </td><td> 1                 </td><td>11                 </td><td>1047               </td><td>1050               </td><td> -3                </td><td>1214               </td><td>1227               </td><td>-13                </td><td>EV                 </td><td>4662               </td><td>N26549             </td><td>EWR                </td><td>RDU                </td><td> 69                </td><td> 416               </td><td>10                 </td><td>50                 </td><td>2013-01-11 10:00:00</td></tr>\n",
       "\t<tr><td>2013               </td><td> 5                 </td><td>29                 </td><td>1358               </td><td>1358               </td><td>  0                </td><td>1656               </td><td>1704               </td><td> -8                </td><td>B6                 </td><td> 209               </td><td>N524JB             </td><td>JFK                </td><td>LGB                </td><td>326                </td><td>2465               </td><td>13                 </td><td>58                 </td><td>2013-05-29 13:00:00</td></tr>\n",
       "\t<tr><td>2013               </td><td> 1                 </td><td>28                 </td><td> 552               </td><td> 600               </td><td> -8                </td><td> 828               </td><td> 837               </td><td> -9                </td><td>DL                 </td><td> 461               </td><td>N612DL             </td><td>LGA                </td><td>ATL                </td><td>121                </td><td> 762               </td><td> 6                 </td><td> 0                 </td><td>2013-01-28 06:00:00</td></tr>\n",
       "\t<tr><td>2013               </td><td> 7                 </td><td>30                 </td><td> 753               </td><td> 756               </td><td> -3                </td><td> 930               </td><td> 930               </td><td>  0                </td><td>EV                 </td><td>4125               </td><td>N15986             </td><td>EWR                </td><td>GSO                </td><td> 72                </td><td> 445               </td><td> 7                 </td><td>56                 </td><td>2013-07-30 07:00:00</td></tr>\n",
       "\t<tr><td>2013               </td><td> 8                 </td><td>13                 </td><td>1659               </td><td>1559               </td><td> 60                </td><td>1834               </td><td>1739               </td><td> 55                </td><td>EV                 </td><td>4596               </td><td>N11109             </td><td>EWR                </td><td>STL                </td><td>134                </td><td> 872               </td><td>15                 </td><td>59                 </td><td>2013-08-13 15:00:00</td></tr>\n",
       "\t<tr><td>2013               </td><td> 9                 </td><td>13                 </td><td>1055               </td><td>1100               </td><td> -5                </td><td>1243               </td><td>1308               </td><td>-25                </td><td>DL                 </td><td>2449               </td><td>N302NB             </td><td>LGA                </td><td>DTW                </td><td> 83                </td><td> 502               </td><td>11                 </td><td> 0                 </td><td>2013-09-13 11:00:00</td></tr>\n",
       "</tbody>\n",
       "</table>\n"
      ],
      "text/latex": [
       "\\begin{tabular}{r|lllllllllllllllllll}\n",
       " year & month & day & dep\\_time & sched\\_dep\\_time & dep\\_delay & arr\\_time & sched\\_arr\\_time & arr\\_delay & carrier & flight & tailnum & origin & dest & air\\_time & distance & hour & minute & time\\_hour\\\\\n",
       "\\hline\n",
       "\t 2013                &  2                  & 11                  & 1002                &  945                &  17                 & 1145                & 1130                &  15                 & AA                  &  319                & N557AA              & LGA                 & ORD                 & 126                 &  733                &  9                  & 45                  & 2013-02-11 09:00:00\\\\\n",
       "\t 2013                &  9                  & 30                  & 1248                & 1300                & -12                 & 1427                & 1450                & -23                 & MQ                  & 3388                & N724MQ              & LGA                 & CMH                 &  71                 &  479                & 13                  &  0                  & 2013-09-30 13:00:00\\\\\n",
       "\t 2013                &  3                  &  6                  & 1656                & 1545                &  71                 & 1959                & 1909                &  50                 & UA                  &  132                & N14121              & JFK                 & LAX                 & 339                 & 2475                & 15                  & 45                  & 2013-03-06 15:00:00\\\\\n",
       "\t 2013                &  8                  & 18                  & 1436                & 1441                &  -5                 & 1740                & 1755                & -15                 & DL                  & 1779                & N326US              & LGA                 & FLL                 & 146                 & 1076                & 14                  & 41                  & 2013-08-18 14:00:00\\\\\n",
       "\t 2013                &  3                  & 11                  &  756                &  759                &  -3                 & 1040                & 1032                &   8                 & DL                  & 2047                & N668DN              & LGA                 & ATL                 & 125                 &  762                &  7                  & 59                  & 2013-03-11 07:00:00\\\\\n",
       "\t 2013                & 12                  & 12                  & 1029                & 1030                &  -1                 & 1323                & 1324                &  -1                 & B6                  &  925                & N649JB              & JFK                 & TPA                 & 149                 & 1005                & 10                  & 30                  & 2013-12-12 10:00:00\\\\\n",
       "\t 2013                &  2                  &  1                  & 1527                & 1529                &  -2                 & 1835                & 1837                &  -2                 & UA                  & 1624                & N18223              & EWR                 & FLL                 & 167                 & 1065                & 15                  & 29                  & 2013-02-01 15:00:00\\\\\n",
       "\t 2013                &  1                  &  2                  &  839                &  800                &  39                 & 1205                & 1144                &  21                 & UA                  &  397                & N554UA              & JFK                 & SFO                 & 349                 & 2586                &  8                  &  0                  & 2013-01-02 08:00:00\\\\\n",
       "\t 2013                &  8                  & 15                  & 1702                & 1700                &   2                 & 1829                & 1845                & -16                 & MQ                  & 3216                & N658MQ              & JFK                 & ORF                 &  54                 &  290                & 17                  &  0                  & 2013-08-15 17:00:00\\\\\n",
       "\t 2013                &  8                  & 28                  & 1824                & 1729                &  55                 & 2010                & 1905                &  65                 & B6                  &   86                & N236JB              & JFK                 & ROC                 &  54                 &  264                & 17                  & 29                  & 2013-08-28 17:00:00\\\\\n",
       "\t 2013                & 12                  &  3                  & 1525                & 1530                &  -5                 & 1928                & 1915                &  13                 & AA                  &   85                & N380AA              & JFK                 & SFO                 & 381                 & 2586                & 15                  & 30                  & 2013-12-03 15:00:00\\\\\n",
       "\t 2013                &  1                  & 11                  & 1047                & 1050                &  -3                 & 1214                & 1227                & -13                 & EV                  & 4662                & N26549              & EWR                 & RDU                 &  69                 &  416                & 10                  & 50                  & 2013-01-11 10:00:00\\\\\n",
       "\t 2013                &  5                  & 29                  & 1358                & 1358                &   0                 & 1656                & 1704                &  -8                 & B6                  &  209                & N524JB              & JFK                 & LGB                 & 326                 & 2465                & 13                  & 58                  & 2013-05-29 13:00:00\\\\\n",
       "\t 2013                &  1                  & 28                  &  552                &  600                &  -8                 &  828                &  837                &  -9                 & DL                  &  461                & N612DL              & LGA                 & ATL                 & 121                 &  762                &  6                  &  0                  & 2013-01-28 06:00:00\\\\\n",
       "\t 2013                &  7                  & 30                  &  753                &  756                &  -3                 &  930                &  930                &   0                 & EV                  & 4125                & N15986              & EWR                 & GSO                 &  72                 &  445                &  7                  & 56                  & 2013-07-30 07:00:00\\\\\n",
       "\t 2013                &  8                  & 13                  & 1659                & 1559                &  60                 & 1834                & 1739                &  55                 & EV                  & 4596                & N11109              & EWR                 & STL                 & 134                 &  872                & 15                  & 59                  & 2013-08-13 15:00:00\\\\\n",
       "\t 2013                &  9                  & 13                  & 1055                & 1100                &  -5                 & 1243                & 1308                & -25                 & DL                  & 2449                & N302NB              & LGA                 & DTW                 &  83                 &  502                & 11                  &  0                  & 2013-09-13 11:00:00\\\\\n",
       "\\end{tabular}\n"
      ],
      "text/markdown": [
       "\n",
       "| year | month | day | dep_time | sched_dep_time | dep_delay | arr_time | sched_arr_time | arr_delay | carrier | flight | tailnum | origin | dest | air_time | distance | hour | minute | time_hour |\n",
       "|---|---|---|---|---|---|---|---|---|---|---|---|---|---|---|---|---|---|---|\n",
       "| 2013                |  2                  | 11                  | 1002                |  945                |  17                 | 1145                | 1130                |  15                 | AA                  |  319                | N557AA              | LGA                 | ORD                 | 126                 |  733                |  9                  | 45                  | 2013-02-11 09:00:00 |\n",
       "| 2013                |  9                  | 30                  | 1248                | 1300                | -12                 | 1427                | 1450                | -23                 | MQ                  | 3388                | N724MQ              | LGA                 | CMH                 |  71                 |  479                | 13                  |  0                  | 2013-09-30 13:00:00 |\n",
       "| 2013                |  3                  |  6                  | 1656                | 1545                |  71                 | 1959                | 1909                |  50                 | UA                  |  132                | N14121              | JFK                 | LAX                 | 339                 | 2475                | 15                  | 45                  | 2013-03-06 15:00:00 |\n",
       "| 2013                |  8                  | 18                  | 1436                | 1441                |  -5                 | 1740                | 1755                | -15                 | DL                  | 1779                | N326US              | LGA                 | FLL                 | 146                 | 1076                | 14                  | 41                  | 2013-08-18 14:00:00 |\n",
       "| 2013                |  3                  | 11                  |  756                |  759                |  -3                 | 1040                | 1032                |   8                 | DL                  | 2047                | N668DN              | LGA                 | ATL                 | 125                 |  762                |  7                  | 59                  | 2013-03-11 07:00:00 |\n",
       "| 2013                | 12                  | 12                  | 1029                | 1030                |  -1                 | 1323                | 1324                |  -1                 | B6                  |  925                | N649JB              | JFK                 | TPA                 | 149                 | 1005                | 10                  | 30                  | 2013-12-12 10:00:00 |\n",
       "| 2013                |  2                  |  1                  | 1527                | 1529                |  -2                 | 1835                | 1837                |  -2                 | UA                  | 1624                | N18223              | EWR                 | FLL                 | 167                 | 1065                | 15                  | 29                  | 2013-02-01 15:00:00 |\n",
       "| 2013                |  1                  |  2                  |  839                |  800                |  39                 | 1205                | 1144                |  21                 | UA                  |  397                | N554UA              | JFK                 | SFO                 | 349                 | 2586                |  8                  |  0                  | 2013-01-02 08:00:00 |\n",
       "| 2013                |  8                  | 15                  | 1702                | 1700                |   2                 | 1829                | 1845                | -16                 | MQ                  | 3216                | N658MQ              | JFK                 | ORF                 |  54                 |  290                | 17                  |  0                  | 2013-08-15 17:00:00 |\n",
       "| 2013                |  8                  | 28                  | 1824                | 1729                |  55                 | 2010                | 1905                |  65                 | B6                  |   86                | N236JB              | JFK                 | ROC                 |  54                 |  264                | 17                  | 29                  | 2013-08-28 17:00:00 |\n",
       "| 2013                | 12                  |  3                  | 1525                | 1530                |  -5                 | 1928                | 1915                |  13                 | AA                  |   85                | N380AA              | JFK                 | SFO                 | 381                 | 2586                | 15                  | 30                  | 2013-12-03 15:00:00 |\n",
       "| 2013                |  1                  | 11                  | 1047                | 1050                |  -3                 | 1214                | 1227                | -13                 | EV                  | 4662                | N26549              | EWR                 | RDU                 |  69                 |  416                | 10                  | 50                  | 2013-01-11 10:00:00 |\n",
       "| 2013                |  5                  | 29                  | 1358                | 1358                |   0                 | 1656                | 1704                |  -8                 | B6                  |  209                | N524JB              | JFK                 | LGB                 | 326                 | 2465                | 13                  | 58                  | 2013-05-29 13:00:00 |\n",
       "| 2013                |  1                  | 28                  |  552                |  600                |  -8                 |  828                |  837                |  -9                 | DL                  |  461                | N612DL              | LGA                 | ATL                 | 121                 |  762                |  6                  |  0                  | 2013-01-28 06:00:00 |\n",
       "| 2013                |  7                  | 30                  |  753                |  756                |  -3                 |  930                |  930                |   0                 | EV                  | 4125                | N15986              | EWR                 | GSO                 |  72                 |  445                |  7                  | 56                  | 2013-07-30 07:00:00 |\n",
       "| 2013                |  8                  | 13                  | 1659                | 1559                |  60                 | 1834                | 1739                |  55                 | EV                  | 4596                | N11109              | EWR                 | STL                 | 134                 |  872                | 15                  | 59                  | 2013-08-13 15:00:00 |\n",
       "| 2013                |  9                  | 13                  | 1055                | 1100                |  -5                 | 1243                | 1308                | -25                 | DL                  | 2449                | N302NB              | LGA                 | DTW                 |  83                 |  502                | 11                  |  0                  | 2013-09-13 11:00:00 |\n",
       "\n"
      ],
      "text/plain": [
       "   year month day dep_time sched_dep_time dep_delay arr_time sched_arr_time\n",
       "1  2013  2    11  1002      945            17       1145     1130          \n",
       "2  2013  9    30  1248     1300           -12       1427     1450          \n",
       "3  2013  3     6  1656     1545            71       1959     1909          \n",
       "4  2013  8    18  1436     1441            -5       1740     1755          \n",
       "5  2013  3    11   756      759            -3       1040     1032          \n",
       "6  2013 12    12  1029     1030            -1       1323     1324          \n",
       "7  2013  2     1  1527     1529            -2       1835     1837          \n",
       "8  2013  1     2   839      800            39       1205     1144          \n",
       "9  2013  8    15  1702     1700             2       1829     1845          \n",
       "10 2013  8    28  1824     1729            55       2010     1905          \n",
       "11 2013 12     3  1525     1530            -5       1928     1915          \n",
       "12 2013  1    11  1047     1050            -3       1214     1227          \n",
       "13 2013  5    29  1358     1358             0       1656     1704          \n",
       "14 2013  1    28   552      600            -8        828      837          \n",
       "15 2013  7    30   753      756            -3        930      930          \n",
       "16 2013  8    13  1659     1559            60       1834     1739          \n",
       "17 2013  9    13  1055     1100            -5       1243     1308          \n",
       "   arr_delay carrier flight tailnum origin dest air_time distance hour minute\n",
       "1   15       AA       319   N557AA  LGA    ORD  126       733      9   45    \n",
       "2  -23       MQ      3388   N724MQ  LGA    CMH   71       479     13    0    \n",
       "3   50       UA       132   N14121  JFK    LAX  339      2475     15   45    \n",
       "4  -15       DL      1779   N326US  LGA    FLL  146      1076     14   41    \n",
       "5    8       DL      2047   N668DN  LGA    ATL  125       762      7   59    \n",
       "6   -1       B6       925   N649JB  JFK    TPA  149      1005     10   30    \n",
       "7   -2       UA      1624   N18223  EWR    FLL  167      1065     15   29    \n",
       "8   21       UA       397   N554UA  JFK    SFO  349      2586      8    0    \n",
       "9  -16       MQ      3216   N658MQ  JFK    ORF   54       290     17    0    \n",
       "10  65       B6        86   N236JB  JFK    ROC   54       264     17   29    \n",
       "11  13       AA        85   N380AA  JFK    SFO  381      2586     15   30    \n",
       "12 -13       EV      4662   N26549  EWR    RDU   69       416     10   50    \n",
       "13  -8       B6       209   N524JB  JFK    LGB  326      2465     13   58    \n",
       "14  -9       DL       461   N612DL  LGA    ATL  121       762      6    0    \n",
       "15   0       EV      4125   N15986  EWR    GSO   72       445      7   56    \n",
       "16  55       EV      4596   N11109  EWR    STL  134       872     15   59    \n",
       "17 -25       DL      2449   N302NB  LGA    DTW   83       502     11    0    \n",
       "   time_hour          \n",
       "1  2013-02-11 09:00:00\n",
       "2  2013-09-30 13:00:00\n",
       "3  2013-03-06 15:00:00\n",
       "4  2013-08-18 14:00:00\n",
       "5  2013-03-11 07:00:00\n",
       "6  2013-12-12 10:00:00\n",
       "7  2013-02-01 15:00:00\n",
       "8  2013-01-02 08:00:00\n",
       "9  2013-08-15 17:00:00\n",
       "10 2013-08-28 17:00:00\n",
       "11 2013-12-03 15:00:00\n",
       "12 2013-01-11 10:00:00\n",
       "13 2013-05-29 13:00:00\n",
       "14 2013-01-28 06:00:00\n",
       "15 2013-07-30 07:00:00\n",
       "16 2013-08-13 15:00:00\n",
       "17 2013-09-13 11:00:00"
      ]
     },
     "metadata": {},
     "output_type": "display_data"
    }
   ],
   "source": [
    "sample_frac(flights,0.00005)\n",
    "#if use use replace=TRUE for bootstrap sampling\n",
    "#this is for 0.005% = 0.00005"
   ]
  },
  {
   "cell_type": "code",
   "execution_count": 39,
   "metadata": {},
   "outputs": [
    {
     "name": "stderr",
     "output_type": "stream",
     "text": [
      "Installing package into 'C:/Users/Lauren Redpath/Documents/R/win-library/3.6'\n",
      "(as 'lib' is unspecified)\n",
      "also installing the dependency 'lifecycle'\n",
      "\n"
     ]
    },
    {
     "name": "stdout",
     "output_type": "stream",
     "text": [
      "package 'lifecycle' successfully unpacked and MD5 sums checked\n",
      "package 'tidyr' successfully unpacked and MD5 sums checked\n",
      "\n",
      "The downloaded binary packages are in\n",
      "\tC:\\Users\\Lauren Redpath\\AppData\\Local\\Temp\\RtmpmszC9y\\downloaded_packages\n"
     ]
    }
   ],
   "source": [
    "install.packages('tidyr', repos='http://cran.us.r-project.org')"
   ]
  },
  {
   "cell_type": "code",
   "execution_count": 40,
   "metadata": {},
   "outputs": [
    {
     "name": "stderr",
     "output_type": "stream",
     "text": [
      "\n",
      "Attaching package: 'data.table'\n",
      "\n",
      "The following objects are masked from 'package:dplyr':\n",
      "\n",
      "    between, first, last\n",
      "\n"
     ]
    }
   ],
   "source": [
    "library(tidyr)\n",
    "library(data.table)"
   ]
  },
  {
   "cell_type": "code",
   "execution_count": 41,
   "metadata": {},
   "outputs": [],
   "source": [
    "comp<-c(1,1,1,2,2,2,3,3,3)\n",
    "yr<-c(1998,1999,2000,1998,1999,2000,1998,1999,2000)\n",
    "q1<-runif(9, min=0, max=100)\n",
    "q2<-runif(9, min=0, max=100)\n",
    "q3<-runif(9, min=0, max=100)\n",
    "q4<-runif(9, min=0, max=100)\n",
    "\n",
    "df<-data.frame(comp=comp,year=yr,Qtr1=q1,Qtr2=q2,Qtr3=q3,Qtr4=q4)"
   ]
  },
  {
   "cell_type": "code",
   "execution_count": 42,
   "metadata": {},
   "outputs": [
    {
     "data": {
      "text/html": [
       "<table>\n",
       "<thead><tr><th scope=col>comp</th><th scope=col>year</th><th scope=col>Qtr1</th><th scope=col>Qtr2</th><th scope=col>Qtr3</th><th scope=col>Qtr4</th></tr></thead>\n",
       "<tbody>\n",
       "\t<tr><td>1        </td><td>1998     </td><td> 3.765902</td><td>89.65480 </td><td>97.85243 </td><td>40.857905</td></tr>\n",
       "\t<tr><td>1        </td><td>1999     </td><td>41.725489</td><td>88.86671 </td><td>19.69185 </td><td>32.643004</td></tr>\n",
       "\t<tr><td>1        </td><td>2000     </td><td>21.120940</td><td>14.67590 </td><td>79.38951 </td><td>67.354119</td></tr>\n",
       "\t<tr><td>2        </td><td>1998     </td><td> 2.989351</td><td>87.68284 </td><td>33.42647 </td><td>89.339741</td></tr>\n",
       "\t<tr><td>2        </td><td>1999     </td><td>77.970850</td><td>86.77835 </td><td>81.62443 </td><td> 3.348232</td></tr>\n",
       "\t<tr><td>2        </td><td>2000     </td><td>71.660491</td><td>31.73420 </td><td>48.00853 </td><td>42.945713</td></tr>\n",
       "\t<tr><td>3        </td><td>1998     </td><td>43.598692</td><td>32.27633 </td><td>33.48178 </td><td>40.731906</td></tr>\n",
       "\t<tr><td>3        </td><td>1999     </td><td> 3.704976</td><td>47.25007 </td><td>70.19807 </td><td>35.302891</td></tr>\n",
       "\t<tr><td>3        </td><td>2000     </td><td>13.732186</td><td>93.24084 </td><td>68.62414 </td><td>29.544133</td></tr>\n",
       "</tbody>\n",
       "</table>\n"
      ],
      "text/latex": [
       "\\begin{tabular}{r|llllll}\n",
       " comp & year & Qtr1 & Qtr2 & Qtr3 & Qtr4\\\\\n",
       "\\hline\n",
       "\t 1         & 1998      &  3.765902 & 89.65480  & 97.85243  & 40.857905\\\\\n",
       "\t 1         & 1999      & 41.725489 & 88.86671  & 19.69185  & 32.643004\\\\\n",
       "\t 1         & 2000      & 21.120940 & 14.67590  & 79.38951  & 67.354119\\\\\n",
       "\t 2         & 1998      &  2.989351 & 87.68284  & 33.42647  & 89.339741\\\\\n",
       "\t 2         & 1999      & 77.970850 & 86.77835  & 81.62443  &  3.348232\\\\\n",
       "\t 2         & 2000      & 71.660491 & 31.73420  & 48.00853  & 42.945713\\\\\n",
       "\t 3         & 1998      & 43.598692 & 32.27633  & 33.48178  & 40.731906\\\\\n",
       "\t 3         & 1999      &  3.704976 & 47.25007  & 70.19807  & 35.302891\\\\\n",
       "\t 3         & 2000      & 13.732186 & 93.24084  & 68.62414  & 29.544133\\\\\n",
       "\\end{tabular}\n"
      ],
      "text/markdown": [
       "\n",
       "| comp | year | Qtr1 | Qtr2 | Qtr3 | Qtr4 |\n",
       "|---|---|---|---|---|---|\n",
       "| 1         | 1998      |  3.765902 | 89.65480  | 97.85243  | 40.857905 |\n",
       "| 1         | 1999      | 41.725489 | 88.86671  | 19.69185  | 32.643004 |\n",
       "| 1         | 2000      | 21.120940 | 14.67590  | 79.38951  | 67.354119 |\n",
       "| 2         | 1998      |  2.989351 | 87.68284  | 33.42647  | 89.339741 |\n",
       "| 2         | 1999      | 77.970850 | 86.77835  | 81.62443  |  3.348232 |\n",
       "| 2         | 2000      | 71.660491 | 31.73420  | 48.00853  | 42.945713 |\n",
       "| 3         | 1998      | 43.598692 | 32.27633  | 33.48178  | 40.731906 |\n",
       "| 3         | 1999      |  3.704976 | 47.25007  | 70.19807  | 35.302891 |\n",
       "| 3         | 2000      | 13.732186 | 93.24084  | 68.62414  | 29.544133 |\n",
       "\n"
      ],
      "text/plain": [
       "  comp year Qtr1      Qtr2     Qtr3     Qtr4     \n",
       "1 1    1998  3.765902 89.65480 97.85243 40.857905\n",
       "2 1    1999 41.725489 88.86671 19.69185 32.643004\n",
       "3 1    2000 21.120940 14.67590 79.38951 67.354119\n",
       "4 2    1998  2.989351 87.68284 33.42647 89.339741\n",
       "5 2    1999 77.970850 86.77835 81.62443  3.348232\n",
       "6 2    2000 71.660491 31.73420 48.00853 42.945713\n",
       "7 3    1998 43.598692 32.27633 33.48178 40.731906\n",
       "8 3    1999  3.704976 47.25007 70.19807 35.302891\n",
       "9 3    2000 13.732186 93.24084 68.62414 29.544133"
      ]
     },
     "metadata": {},
     "output_type": "display_data"
    }
   ],
   "source": [
    "df"
   ]
  },
  {
   "cell_type": "code",
   "execution_count": 46,
   "metadata": {},
   "outputs": [
    {
     "data": {
      "text/html": [
       "<ol class=list-inline>\n",
       "\t<li>9</li>\n",
       "\t<li>6</li>\n",
       "</ol>\n"
      ],
      "text/latex": [
       "\\begin{enumerate*}\n",
       "\\item 9\n",
       "\\item 6\n",
       "\\end{enumerate*}\n"
      ],
      "text/markdown": [
       "1. 9\n",
       "2. 6\n",
       "\n",
       "\n"
      ],
      "text/plain": [
       "[1] 9 6"
      ]
     },
     "metadata": {},
     "output_type": "display_data"
    }
   ],
   "source": [
    "dim(df)"
   ]
  },
  {
   "cell_type": "code",
   "execution_count": 43,
   "metadata": {},
   "outputs": [
    {
     "data": {
      "text/html": [
       "<table>\n",
       "<thead><tr><th scope=col>comp</th><th scope=col>year</th><th scope=col>Quarter</th><th scope=col>Revenue</th></tr></thead>\n",
       "<tbody>\n",
       "\t<tr><td>1        </td><td>1998     </td><td>Qtr1     </td><td> 3.765902</td></tr>\n",
       "\t<tr><td>1        </td><td>1999     </td><td>Qtr1     </td><td>41.725489</td></tr>\n",
       "\t<tr><td>1        </td><td>2000     </td><td>Qtr1     </td><td>21.120940</td></tr>\n",
       "\t<tr><td>2        </td><td>1998     </td><td>Qtr1     </td><td> 2.989351</td></tr>\n",
       "\t<tr><td>2        </td><td>1999     </td><td>Qtr1     </td><td>77.970850</td></tr>\n",
       "\t<tr><td>2        </td><td>2000     </td><td>Qtr1     </td><td>71.660491</td></tr>\n",
       "</tbody>\n",
       "</table>\n"
      ],
      "text/latex": [
       "\\begin{tabular}{r|llll}\n",
       " comp & year & Quarter & Revenue\\\\\n",
       "\\hline\n",
       "\t 1         & 1998      & Qtr1      &  3.765902\\\\\n",
       "\t 1         & 1999      & Qtr1      & 41.725489\\\\\n",
       "\t 1         & 2000      & Qtr1      & 21.120940\\\\\n",
       "\t 2         & 1998      & Qtr1      &  2.989351\\\\\n",
       "\t 2         & 1999      & Qtr1      & 77.970850\\\\\n",
       "\t 2         & 2000      & Qtr1      & 71.660491\\\\\n",
       "\\end{tabular}\n"
      ],
      "text/markdown": [
       "\n",
       "| comp | year | Quarter | Revenue |\n",
       "|---|---|---|---|\n",
       "| 1         | 1998      | Qtr1      |  3.765902 |\n",
       "| 1         | 1999      | Qtr1      | 41.725489 |\n",
       "| 1         | 2000      | Qtr1      | 21.120940 |\n",
       "| 2         | 1998      | Qtr1      |  2.989351 |\n",
       "| 2         | 1999      | Qtr1      | 77.970850 |\n",
       "| 2         | 2000      | Qtr1      | 71.660491 |\n",
       "\n"
      ],
      "text/plain": [
       "  comp year Quarter Revenue  \n",
       "1 1    1998 Qtr1     3.765902\n",
       "2 1    1999 Qtr1    41.725489\n",
       "3 1    2000 Qtr1    21.120940\n",
       "4 2    1998 Qtr1     2.989351\n",
       "5 2    1999 Qtr1    77.970850\n",
       "6 2    2000 Qtr1    71.660491"
      ]
     },
     "metadata": {},
     "output_type": "display_data"
    }
   ],
   "source": [
    "head(df %>% gather(Quarter,Revenue,Qtr1:Qtr4))\n",
    "#pipeoperator"
   ]
  },
  {
   "cell_type": "code",
   "execution_count": 47,
   "metadata": {},
   "outputs": [
    {
     "data": {
      "text/html": [
       "<ol class=list-inline>\n",
       "\t<li>9</li>\n",
       "\t<li>6</li>\n",
       "</ol>\n"
      ],
      "text/latex": [
       "\\begin{enumerate*}\n",
       "\\item 9\n",
       "\\item 6\n",
       "\\end{enumerate*}\n"
      ],
      "text/markdown": [
       "1. 9\n",
       "2. 6\n",
       "\n",
       "\n"
      ],
      "text/plain": [
       "[1] 9 6"
      ]
     },
     "metadata": {},
     "output_type": "display_data"
    }
   ],
   "source": [
    "dim(df)"
   ]
  },
  {
   "cell_type": "code",
   "execution_count": 44,
   "metadata": {},
   "outputs": [
    {
     "data": {
      "text/html": [
       "<table>\n",
       "<thead><tr><th scope=col>comp</th><th scope=col>year</th><th scope=col>Quarter</th><th scope=col>Revenue</th></tr></thead>\n",
       "<tbody>\n",
       "\t<tr><td>1        </td><td>1998     </td><td>Qtr1     </td><td> 3.765902</td></tr>\n",
       "\t<tr><td>1        </td><td>1999     </td><td>Qtr1     </td><td>41.725489</td></tr>\n",
       "\t<tr><td>1        </td><td>2000     </td><td>Qtr1     </td><td>21.120940</td></tr>\n",
       "\t<tr><td>2        </td><td>1998     </td><td>Qtr1     </td><td> 2.989351</td></tr>\n",
       "\t<tr><td>2        </td><td>1999     </td><td>Qtr1     </td><td>77.970850</td></tr>\n",
       "\t<tr><td>2        </td><td>2000     </td><td>Qtr1     </td><td>71.660491</td></tr>\n",
       "</tbody>\n",
       "</table>\n"
      ],
      "text/latex": [
       "\\begin{tabular}{r|llll}\n",
       " comp & year & Quarter & Revenue\\\\\n",
       "\\hline\n",
       "\t 1         & 1998      & Qtr1      &  3.765902\\\\\n",
       "\t 1         & 1999      & Qtr1      & 41.725489\\\\\n",
       "\t 1         & 2000      & Qtr1      & 21.120940\\\\\n",
       "\t 2         & 1998      & Qtr1      &  2.989351\\\\\n",
       "\t 2         & 1999      & Qtr1      & 77.970850\\\\\n",
       "\t 2         & 2000      & Qtr1      & 71.660491\\\\\n",
       "\\end{tabular}\n"
      ],
      "text/markdown": [
       "\n",
       "| comp | year | Quarter | Revenue |\n",
       "|---|---|---|---|\n",
       "| 1         | 1998      | Qtr1      |  3.765902 |\n",
       "| 1         | 1999      | Qtr1      | 41.725489 |\n",
       "| 1         | 2000      | Qtr1      | 21.120940 |\n",
       "| 2         | 1998      | Qtr1      |  2.989351 |\n",
       "| 2         | 1999      | Qtr1      | 77.970850 |\n",
       "| 2         | 2000      | Qtr1      | 71.660491 |\n",
       "\n"
      ],
      "text/plain": [
       "  comp year Quarter Revenue  \n",
       "1 1    1998 Qtr1     3.765902\n",
       "2 1    1999 Qtr1    41.725489\n",
       "3 1    2000 Qtr1    21.120940\n",
       "4 2    1998 Qtr1     2.989351\n",
       "5 2    1999 Qtr1    77.970850\n",
       "6 2    2000 Qtr1    71.660491"
      ]
     },
     "metadata": {},
     "output_type": "display_data"
    }
   ],
   "source": [
    "head(gather(df,Quarter,Revenue,Qtr1:Qtr4))"
   ]
  },
  {
   "cell_type": "code",
   "execution_count": 45,
   "metadata": {},
   "outputs": [
    {
     "data": {
      "text/html": [
       "<ol class=list-inline>\n",
       "\t<li>9</li>\n",
       "\t<li>6</li>\n",
       "</ol>\n"
      ],
      "text/latex": [
       "\\begin{enumerate*}\n",
       "\\item 9\n",
       "\\item 6\n",
       "\\end{enumerate*}\n"
      ],
      "text/markdown": [
       "1. 9\n",
       "2. 6\n",
       "\n",
       "\n"
      ],
      "text/plain": [
       "[1] 9 6"
      ]
     },
     "metadata": {},
     "output_type": "display_data"
    }
   ],
   "source": [
    "dim(df)"
   ]
  },
  {
   "cell_type": "code",
   "execution_count": 49,
   "metadata": {},
   "outputs": [
    {
     "data": {
      "text/html": [
       "<table>\n",
       "<thead><tr><th scope=col>time</th><th scope=col>x</th><th scope=col>y</th><th scope=col>z</th></tr></thead>\n",
       "<tbody>\n",
       "\t<tr><td>2009-01-01</td><td> 0.9300427</td><td> 1.9040332</td><td> 1.1127513</td></tr>\n",
       "\t<tr><td>2009-01-02</td><td>-0.4934110</td><td>-0.4152096</td><td>-2.4993674</td></tr>\n",
       "\t<tr><td>2009-01-03</td><td> 0.6031648</td><td>-0.4463962</td><td> 4.5076409</td></tr>\n",
       "\t<tr><td>2009-01-04</td><td>-1.0167714</td><td>-1.0600970</td><td> 0.9264856</td></tr>\n",
       "\t<tr><td>2009-01-05</td><td> 0.9853643</td><td>-0.1025638</td><td>-4.0516127</td></tr>\n",
       "\t<tr><td>2009-01-06</td><td> 0.7593409</td><td>-0.6514390</td><td>-0.4460233</td></tr>\n",
       "\t<tr><td>2009-01-07</td><td>-1.1146559</td><td>-1.2743972</td><td>-5.2289829</td></tr>\n",
       "\t<tr><td>2009-01-08</td><td> 0.6670469</td><td> 1.7167491</td><td>-1.8806701</td></tr>\n",
       "\t<tr><td>2009-01-09</td><td> 0.7439220</td><td>-2.7756904</td><td> 4.0634285</td></tr>\n",
       "\t<tr><td>2009-01-10</td><td>-0.1663735</td><td>-5.4508926</td><td> 6.4068069</td></tr>\n",
       "</tbody>\n",
       "</table>\n"
      ],
      "text/latex": [
       "\\begin{tabular}{r|llll}\n",
       " time & x & y & z\\\\\n",
       "\\hline\n",
       "\t 2009-01-01 &  0.9300427 &  1.9040332 &  1.1127513\\\\\n",
       "\t 2009-01-02 & -0.4934110 & -0.4152096 & -2.4993674\\\\\n",
       "\t 2009-01-03 &  0.6031648 & -0.4463962 &  4.5076409\\\\\n",
       "\t 2009-01-04 & -1.0167714 & -1.0600970 &  0.9264856\\\\\n",
       "\t 2009-01-05 &  0.9853643 & -0.1025638 & -4.0516127\\\\\n",
       "\t 2009-01-06 &  0.7593409 & -0.6514390 & -0.4460233\\\\\n",
       "\t 2009-01-07 & -1.1146559 & -1.2743972 & -5.2289829\\\\\n",
       "\t 2009-01-08 &  0.6670469 &  1.7167491 & -1.8806701\\\\\n",
       "\t 2009-01-09 &  0.7439220 & -2.7756904 &  4.0634285\\\\\n",
       "\t 2009-01-10 & -0.1663735 & -5.4508926 &  6.4068069\\\\\n",
       "\\end{tabular}\n"
      ],
      "text/markdown": [
       "\n",
       "| time | x | y | z |\n",
       "|---|---|---|---|\n",
       "| 2009-01-01 |  0.9300427 |  1.9040332 |  1.1127513 |\n",
       "| 2009-01-02 | -0.4934110 | -0.4152096 | -2.4993674 |\n",
       "| 2009-01-03 |  0.6031648 | -0.4463962 |  4.5076409 |\n",
       "| 2009-01-04 | -1.0167714 | -1.0600970 |  0.9264856 |\n",
       "| 2009-01-05 |  0.9853643 | -0.1025638 | -4.0516127 |\n",
       "| 2009-01-06 |  0.7593409 | -0.6514390 | -0.4460233 |\n",
       "| 2009-01-07 | -1.1146559 | -1.2743972 | -5.2289829 |\n",
       "| 2009-01-08 |  0.6670469 |  1.7167491 | -1.8806701 |\n",
       "| 2009-01-09 |  0.7439220 | -2.7756904 |  4.0634285 |\n",
       "| 2009-01-10 | -0.1663735 | -5.4508926 |  6.4068069 |\n",
       "\n"
      ],
      "text/plain": [
       "   time       x          y          z         \n",
       "1  2009-01-01  0.9300427  1.9040332  1.1127513\n",
       "2  2009-01-02 -0.4934110 -0.4152096 -2.4993674\n",
       "3  2009-01-03  0.6031648 -0.4463962  4.5076409\n",
       "4  2009-01-04 -1.0167714 -1.0600970  0.9264856\n",
       "5  2009-01-05  0.9853643 -0.1025638 -4.0516127\n",
       "6  2009-01-06  0.7593409 -0.6514390 -0.4460233\n",
       "7  2009-01-07 -1.1146559 -1.2743972 -5.2289829\n",
       "8  2009-01-08  0.6670469  1.7167491 -1.8806701\n",
       "9  2009-01-09  0.7439220 -2.7756904  4.0634285\n",
       "10 2009-01-10 -0.1663735 -5.4508926  6.4068069"
      ]
     },
     "metadata": {},
     "output_type": "display_data"
    }
   ],
   "source": [
    "stocks<-data.frame(\n",
    "time=as.Date('2009-01-01')+0:9,\n",
    "x=rnorm(10,0,1),\n",
    "y=rnorm(10,0,2),\n",
    "z=rnorm(10,0,4))\n",
    "stocks"
   ]
  },
  {
   "cell_type": "code",
   "execution_count": 50,
   "metadata": {},
   "outputs": [],
   "source": [
    "stocksm<-stocks %>% gather(stock,price, -time)"
   ]
  },
  {
   "cell_type": "code",
   "execution_count": 51,
   "metadata": {},
   "outputs": [
    {
     "data": {
      "text/html": [
       "<table>\n",
       "<thead><tr><th scope=col>time</th><th scope=col>stock</th><th scope=col>price</th></tr></thead>\n",
       "<tbody>\n",
       "\t<tr><td>2009-01-01</td><td>x         </td><td> 0.9300427</td></tr>\n",
       "\t<tr><td>2009-01-02</td><td>x         </td><td>-0.4934110</td></tr>\n",
       "\t<tr><td>2009-01-03</td><td>x         </td><td> 0.6031648</td></tr>\n",
       "\t<tr><td>2009-01-04</td><td>x         </td><td>-1.0167714</td></tr>\n",
       "\t<tr><td>2009-01-05</td><td>x         </td><td> 0.9853643</td></tr>\n",
       "\t<tr><td>2009-01-06</td><td>x         </td><td> 0.7593409</td></tr>\n",
       "</tbody>\n",
       "</table>\n"
      ],
      "text/latex": [
       "\\begin{tabular}{r|lll}\n",
       " time & stock & price\\\\\n",
       "\\hline\n",
       "\t 2009-01-01 & x          &  0.9300427\\\\\n",
       "\t 2009-01-02 & x          & -0.4934110\\\\\n",
       "\t 2009-01-03 & x          &  0.6031648\\\\\n",
       "\t 2009-01-04 & x          & -1.0167714\\\\\n",
       "\t 2009-01-05 & x          &  0.9853643\\\\\n",
       "\t 2009-01-06 & x          &  0.7593409\\\\\n",
       "\\end{tabular}\n"
      ],
      "text/markdown": [
       "\n",
       "| time | stock | price |\n",
       "|---|---|---|\n",
       "| 2009-01-01 | x          |  0.9300427 |\n",
       "| 2009-01-02 | x          | -0.4934110 |\n",
       "| 2009-01-03 | x          |  0.6031648 |\n",
       "| 2009-01-04 | x          | -1.0167714 |\n",
       "| 2009-01-05 | x          |  0.9853643 |\n",
       "| 2009-01-06 | x          |  0.7593409 |\n",
       "\n"
      ],
      "text/plain": [
       "  time       stock price     \n",
       "1 2009-01-01 x      0.9300427\n",
       "2 2009-01-02 x     -0.4934110\n",
       "3 2009-01-03 x      0.6031648\n",
       "4 2009-01-04 x     -1.0167714\n",
       "5 2009-01-05 x      0.9853643\n",
       "6 2009-01-06 x      0.7593409"
      ]
     },
     "metadata": {},
     "output_type": "display_data"
    }
   ],
   "source": [
    "head(stocksm)"
   ]
  },
  {
   "cell_type": "code",
   "execution_count": 52,
   "metadata": {},
   "outputs": [
    {
     "data": {
      "text/html": [
       "<table>\n",
       "<thead><tr><th scope=col>time</th><th scope=col>stock</th><th scope=col>price</th></tr></thead>\n",
       "<tbody>\n",
       "\t<tr><td>2009-01-01</td><td>x         </td><td> 0.9300427</td></tr>\n",
       "\t<tr><td>2009-01-02</td><td>x         </td><td>-0.4934110</td></tr>\n",
       "\t<tr><td>2009-01-03</td><td>x         </td><td> 0.6031648</td></tr>\n",
       "\t<tr><td>2009-01-04</td><td>x         </td><td>-1.0167714</td></tr>\n",
       "\t<tr><td>2009-01-05</td><td>x         </td><td> 0.9853643</td></tr>\n",
       "\t<tr><td>2009-01-06</td><td>x         </td><td> 0.7593409</td></tr>\n",
       "\t<tr><td>2009-01-07</td><td>x         </td><td>-1.1146559</td></tr>\n",
       "\t<tr><td>2009-01-08</td><td>x         </td><td> 0.6670469</td></tr>\n",
       "\t<tr><td>2009-01-09</td><td>x         </td><td> 0.7439220</td></tr>\n",
       "\t<tr><td>2009-01-10</td><td>x         </td><td>-0.1663735</td></tr>\n",
       "</tbody>\n",
       "</table>\n"
      ],
      "text/latex": [
       "\\begin{tabular}{r|lll}\n",
       " time & stock & price\\\\\n",
       "\\hline\n",
       "\t 2009-01-01 & x          &  0.9300427\\\\\n",
       "\t 2009-01-02 & x          & -0.4934110\\\\\n",
       "\t 2009-01-03 & x          &  0.6031648\\\\\n",
       "\t 2009-01-04 & x          & -1.0167714\\\\\n",
       "\t 2009-01-05 & x          &  0.9853643\\\\\n",
       "\t 2009-01-06 & x          &  0.7593409\\\\\n",
       "\t 2009-01-07 & x          & -1.1146559\\\\\n",
       "\t 2009-01-08 & x          &  0.6670469\\\\\n",
       "\t 2009-01-09 & x          &  0.7439220\\\\\n",
       "\t 2009-01-10 & x          & -0.1663735\\\\\n",
       "\\end{tabular}\n"
      ],
      "text/markdown": [
       "\n",
       "| time | stock | price |\n",
       "|---|---|---|\n",
       "| 2009-01-01 | x          |  0.9300427 |\n",
       "| 2009-01-02 | x          | -0.4934110 |\n",
       "| 2009-01-03 | x          |  0.6031648 |\n",
       "| 2009-01-04 | x          | -1.0167714 |\n",
       "| 2009-01-05 | x          |  0.9853643 |\n",
       "| 2009-01-06 | x          |  0.7593409 |\n",
       "| 2009-01-07 | x          | -1.1146559 |\n",
       "| 2009-01-08 | x          |  0.6670469 |\n",
       "| 2009-01-09 | x          |  0.7439220 |\n",
       "| 2009-01-10 | x          | -0.1663735 |\n",
       "\n"
      ],
      "text/plain": [
       "   time       stock price     \n",
       "1  2009-01-01 x      0.9300427\n",
       "2  2009-01-02 x     -0.4934110\n",
       "3  2009-01-03 x      0.6031648\n",
       "4  2009-01-04 x     -1.0167714\n",
       "5  2009-01-05 x      0.9853643\n",
       "6  2009-01-06 x      0.7593409\n",
       "7  2009-01-07 x     -1.1146559\n",
       "8  2009-01-08 x      0.6670469\n",
       "9  2009-01-09 x      0.7439220\n",
       "10 2009-01-10 x     -0.1663735"
      ]
     },
     "metadata": {},
     "output_type": "display_data"
    }
   ],
   "source": [
    "head(stocksm, n=10)"
   ]
  },
  {
   "cell_type": "code",
   "execution_count": 53,
   "metadata": {},
   "outputs": [
    {
     "data": {
      "text/html": [
       "<table>\n",
       "<thead><tr><th scope=col>time</th><th scope=col>x</th><th scope=col>y</th><th scope=col>z</th></tr></thead>\n",
       "<tbody>\n",
       "\t<tr><td>2009-01-01</td><td> 0.9300427</td><td> 1.9040332</td><td> 1.1127513</td></tr>\n",
       "\t<tr><td>2009-01-02</td><td>-0.4934110</td><td>-0.4152096</td><td>-2.4993674</td></tr>\n",
       "\t<tr><td>2009-01-03</td><td> 0.6031648</td><td>-0.4463962</td><td> 4.5076409</td></tr>\n",
       "\t<tr><td>2009-01-04</td><td>-1.0167714</td><td>-1.0600970</td><td> 0.9264856</td></tr>\n",
       "\t<tr><td>2009-01-05</td><td> 0.9853643</td><td>-0.1025638</td><td>-4.0516127</td></tr>\n",
       "\t<tr><td>2009-01-06</td><td> 0.7593409</td><td>-0.6514390</td><td>-0.4460233</td></tr>\n",
       "\t<tr><td>2009-01-07</td><td>-1.1146559</td><td>-1.2743972</td><td>-5.2289829</td></tr>\n",
       "\t<tr><td>2009-01-08</td><td> 0.6670469</td><td> 1.7167491</td><td>-1.8806701</td></tr>\n",
       "\t<tr><td>2009-01-09</td><td> 0.7439220</td><td>-2.7756904</td><td> 4.0634285</td></tr>\n",
       "\t<tr><td>2009-01-10</td><td>-0.1663735</td><td>-5.4508926</td><td> 6.4068069</td></tr>\n",
       "</tbody>\n",
       "</table>\n"
      ],
      "text/latex": [
       "\\begin{tabular}{r|llll}\n",
       " time & x & y & z\\\\\n",
       "\\hline\n",
       "\t 2009-01-01 &  0.9300427 &  1.9040332 &  1.1127513\\\\\n",
       "\t 2009-01-02 & -0.4934110 & -0.4152096 & -2.4993674\\\\\n",
       "\t 2009-01-03 &  0.6031648 & -0.4463962 &  4.5076409\\\\\n",
       "\t 2009-01-04 & -1.0167714 & -1.0600970 &  0.9264856\\\\\n",
       "\t 2009-01-05 &  0.9853643 & -0.1025638 & -4.0516127\\\\\n",
       "\t 2009-01-06 &  0.7593409 & -0.6514390 & -0.4460233\\\\\n",
       "\t 2009-01-07 & -1.1146559 & -1.2743972 & -5.2289829\\\\\n",
       "\t 2009-01-08 &  0.6670469 &  1.7167491 & -1.8806701\\\\\n",
       "\t 2009-01-09 &  0.7439220 & -2.7756904 &  4.0634285\\\\\n",
       "\t 2009-01-10 & -0.1663735 & -5.4508926 &  6.4068069\\\\\n",
       "\\end{tabular}\n"
      ],
      "text/markdown": [
       "\n",
       "| time | x | y | z |\n",
       "|---|---|---|---|\n",
       "| 2009-01-01 |  0.9300427 |  1.9040332 |  1.1127513 |\n",
       "| 2009-01-02 | -0.4934110 | -0.4152096 | -2.4993674 |\n",
       "| 2009-01-03 |  0.6031648 | -0.4463962 |  4.5076409 |\n",
       "| 2009-01-04 | -1.0167714 | -1.0600970 |  0.9264856 |\n",
       "| 2009-01-05 |  0.9853643 | -0.1025638 | -4.0516127 |\n",
       "| 2009-01-06 |  0.7593409 | -0.6514390 | -0.4460233 |\n",
       "| 2009-01-07 | -1.1146559 | -1.2743972 | -5.2289829 |\n",
       "| 2009-01-08 |  0.6670469 |  1.7167491 | -1.8806701 |\n",
       "| 2009-01-09 |  0.7439220 | -2.7756904 |  4.0634285 |\n",
       "| 2009-01-10 | -0.1663735 | -5.4508926 |  6.4068069 |\n",
       "\n"
      ],
      "text/plain": [
       "   time       x          y          z         \n",
       "1  2009-01-01  0.9300427  1.9040332  1.1127513\n",
       "2  2009-01-02 -0.4934110 -0.4152096 -2.4993674\n",
       "3  2009-01-03  0.6031648 -0.4463962  4.5076409\n",
       "4  2009-01-04 -1.0167714 -1.0600970  0.9264856\n",
       "5  2009-01-05  0.9853643 -0.1025638 -4.0516127\n",
       "6  2009-01-06  0.7593409 -0.6514390 -0.4460233\n",
       "7  2009-01-07 -1.1146559 -1.2743972 -5.2289829\n",
       "8  2009-01-08  0.6670469  1.7167491 -1.8806701\n",
       "9  2009-01-09  0.7439220 -2.7756904  4.0634285\n",
       "10 2009-01-10 -0.1663735 -5.4508926  6.4068069"
      ]
     },
     "metadata": {},
     "output_type": "display_data"
    }
   ],
   "source": [
    "stocksm %>% spread(stock,price)\n",
    "#stocksm %>% spread(key=stock,value=price)\n",
    "#use to reshape data"
   ]
  },
  {
   "cell_type": "code",
   "execution_count": 54,
   "metadata": {},
   "outputs": [
    {
     "data": {
      "text/html": [
       "<table>\n",
       "<thead><tr><th scope=col>x</th></tr></thead>\n",
       "<tbody>\n",
       "\t<tr><td>NA </td></tr>\n",
       "\t<tr><td>a.x</td></tr>\n",
       "\t<tr><td>b.y</td></tr>\n",
       "\t<tr><td>c.z</td></tr>\n",
       "</tbody>\n",
       "</table>\n"
      ],
      "text/latex": [
       "\\begin{tabular}{r|l}\n",
       " x\\\\\n",
       "\\hline\n",
       "\t NA \\\\\n",
       "\t a.x\\\\\n",
       "\t b.y\\\\\n",
       "\t c.z\\\\\n",
       "\\end{tabular}\n"
      ],
      "text/markdown": [
       "\n",
       "| x |\n",
       "|---|\n",
       "| NA  |\n",
       "| a.x |\n",
       "| b.y |\n",
       "| c.z |\n",
       "\n"
      ],
      "text/plain": [
       "  x  \n",
       "1 NA \n",
       "2 a.x\n",
       "3 b.y\n",
       "4 c.z"
      ]
     },
     "metadata": {},
     "output_type": "display_data"
    }
   ],
   "source": [
    "df<-data.frame(x=c(NA, \"a.x\",\"b.y\",\"c.z\"))\n",
    "df"
   ]
  },
  {
   "cell_type": "code",
   "execution_count": 55,
   "metadata": {},
   "outputs": [
    {
     "data": {
      "text/html": [
       "<table>\n",
       "<thead><tr><th scope=col>ABC</th><th scope=col>XYZ</th></tr></thead>\n",
       "<tbody>\n",
       "\t<tr><td>NA</td><td>NA</td></tr>\n",
       "\t<tr><td>a </td><td>x </td></tr>\n",
       "\t<tr><td>b </td><td>y </td></tr>\n",
       "\t<tr><td>c </td><td>z </td></tr>\n",
       "</tbody>\n",
       "</table>\n"
      ],
      "text/latex": [
       "\\begin{tabular}{r|ll}\n",
       " ABC & XYZ\\\\\n",
       "\\hline\n",
       "\t NA & NA\\\\\n",
       "\t a  & x \\\\\n",
       "\t b  & y \\\\\n",
       "\t c  & z \\\\\n",
       "\\end{tabular}\n"
      ],
      "text/markdown": [
       "\n",
       "| ABC | XYZ |\n",
       "|---|---|\n",
       "| NA | NA |\n",
       "| a  | x  |\n",
       "| b  | y  |\n",
       "| c  | z  |\n",
       "\n"
      ],
      "text/plain": [
       "  ABC XYZ\n",
       "1 NA  NA \n",
       "2 a   x  \n",
       "3 b   y  \n",
       "4 c   z  "
      ]
     },
     "metadata": {},
     "output_type": "display_data"
    }
   ],
   "source": [
    "df %>% separate(x,c(\"ABC\", \"XYZ\"))"
   ]
  },
  {
   "cell_type": "code",
   "execution_count": 56,
   "metadata": {},
   "outputs": [
    {
     "data": {
      "text/html": [
       "<table>\n",
       "<thead><tr><th></th><th scope=col>mpg</th><th scope=col>cyl</th><th scope=col>disp</th><th scope=col>hp</th><th scope=col>drat</th><th scope=col>wt</th><th scope=col>qsec</th><th scope=col>vs</th><th scope=col>am</th><th scope=col>gear</th><th scope=col>carb</th></tr></thead>\n",
       "<tbody>\n",
       "\t<tr><th scope=row>Mazda RX4</th><td>21.0 </td><td>6    </td><td>160  </td><td>110  </td><td>3.90 </td><td>2.620</td><td>16.46</td><td>0    </td><td>1    </td><td>4    </td><td>4    </td></tr>\n",
       "\t<tr><th scope=row>Mazda RX4 Wag</th><td>21.0 </td><td>6    </td><td>160  </td><td>110  </td><td>3.90 </td><td>2.875</td><td>17.02</td><td>0    </td><td>1    </td><td>4    </td><td>4    </td></tr>\n",
       "\t<tr><th scope=row>Datsun 710</th><td>22.8 </td><td>4    </td><td>108  </td><td> 93  </td><td>3.85 </td><td>2.320</td><td>18.61</td><td>1    </td><td>1    </td><td>4    </td><td>1    </td></tr>\n",
       "\t<tr><th scope=row>Hornet 4 Drive</th><td>21.4 </td><td>6    </td><td>258  </td><td>110  </td><td>3.08 </td><td>3.215</td><td>19.44</td><td>1    </td><td>0    </td><td>3    </td><td>1    </td></tr>\n",
       "\t<tr><th scope=row>Hornet Sportabout</th><td>18.7 </td><td>8    </td><td>360  </td><td>175  </td><td>3.15 </td><td>3.440</td><td>17.02</td><td>0    </td><td>0    </td><td>3    </td><td>2    </td></tr>\n",
       "\t<tr><th scope=row>Valiant</th><td>18.1 </td><td>6    </td><td>225  </td><td>105  </td><td>2.76 </td><td>3.460</td><td>20.22</td><td>1    </td><td>0    </td><td>3    </td><td>1    </td></tr>\n",
       "</tbody>\n",
       "</table>\n"
      ],
      "text/latex": [
       "\\begin{tabular}{r|lllllllllll}\n",
       "  & mpg & cyl & disp & hp & drat & wt & qsec & vs & am & gear & carb\\\\\n",
       "\\hline\n",
       "\tMazda RX4 & 21.0  & 6     & 160   & 110   & 3.90  & 2.620 & 16.46 & 0     & 1     & 4     & 4    \\\\\n",
       "\tMazda RX4 Wag & 21.0  & 6     & 160   & 110   & 3.90  & 2.875 & 17.02 & 0     & 1     & 4     & 4    \\\\\n",
       "\tDatsun 710 & 22.8  & 4     & 108   &  93   & 3.85  & 2.320 & 18.61 & 1     & 1     & 4     & 1    \\\\\n",
       "\tHornet 4 Drive & 21.4  & 6     & 258   & 110   & 3.08  & 3.215 & 19.44 & 1     & 0     & 3     & 1    \\\\\n",
       "\tHornet Sportabout & 18.7  & 8     & 360   & 175   & 3.15  & 3.440 & 17.02 & 0     & 0     & 3     & 2    \\\\\n",
       "\tValiant & 18.1  & 6     & 225   & 105   & 2.76  & 3.460 & 20.22 & 1     & 0     & 3     & 1    \\\\\n",
       "\\end{tabular}\n"
      ],
      "text/markdown": [
       "\n",
       "| <!--/--> | mpg | cyl | disp | hp | drat | wt | qsec | vs | am | gear | carb |\n",
       "|---|---|---|---|---|---|---|---|---|---|---|---|\n",
       "| Mazda RX4 | 21.0  | 6     | 160   | 110   | 3.90  | 2.620 | 16.46 | 0     | 1     | 4     | 4     |\n",
       "| Mazda RX4 Wag | 21.0  | 6     | 160   | 110   | 3.90  | 2.875 | 17.02 | 0     | 1     | 4     | 4     |\n",
       "| Datsun 710 | 22.8  | 4     | 108   |  93   | 3.85  | 2.320 | 18.61 | 1     | 1     | 4     | 1     |\n",
       "| Hornet 4 Drive | 21.4  | 6     | 258   | 110   | 3.08  | 3.215 | 19.44 | 1     | 0     | 3     | 1     |\n",
       "| Hornet Sportabout | 18.7  | 8     | 360   | 175   | 3.15  | 3.440 | 17.02 | 0     | 0     | 3     | 2     |\n",
       "| Valiant | 18.1  | 6     | 225   | 105   | 2.76  | 3.460 | 20.22 | 1     | 0     | 3     | 1     |\n",
       "\n"
      ],
      "text/plain": [
       "                  mpg  cyl disp hp  drat wt    qsec  vs am gear carb\n",
       "Mazda RX4         21.0 6   160  110 3.90 2.620 16.46 0  1  4    4   \n",
       "Mazda RX4 Wag     21.0 6   160  110 3.90 2.875 17.02 0  1  4    4   \n",
       "Datsun 710        22.8 4   108   93 3.85 2.320 18.61 1  1  4    1   \n",
       "Hornet 4 Drive    21.4 6   258  110 3.08 3.215 19.44 1  0  3    1   \n",
       "Hornet Sportabout 18.7 8   360  175 3.15 3.440 17.02 0  0  3    2   \n",
       "Valiant           18.1 6   225  105 2.76 3.460 20.22 1  0  3    1   "
      ]
     },
     "metadata": {},
     "output_type": "display_data"
    }
   ],
   "source": [
    "head(mtcars)"
   ]
  },
  {
   "cell_type": "code",
   "execution_count": 57,
   "metadata": {},
   "outputs": [
    {
     "data": {
      "text/html": [
       "<table>\n",
       "<thead><tr><th></th><th scope=col>mpg</th><th scope=col>cyl</th><th scope=col>disp</th><th scope=col>hp</th><th scope=col>drat</th><th scope=col>wt</th><th scope=col>qsec</th><th scope=col>vs.am</th><th scope=col>gear</th><th scope=col>carb</th></tr></thead>\n",
       "<tbody>\n",
       "\t<tr><th scope=row>Mazda RX4</th><td>21.0 </td><td>6    </td><td>160.0</td><td>110  </td><td>3.90 </td><td>2.620</td><td>16.46</td><td>0.1  </td><td>4    </td><td>4    </td></tr>\n",
       "\t<tr><th scope=row>Mazda RX4 Wag</th><td>21.0 </td><td>6    </td><td>160.0</td><td>110  </td><td>3.90 </td><td>2.875</td><td>17.02</td><td>0.1  </td><td>4    </td><td>4    </td></tr>\n",
       "\t<tr><th scope=row>Datsun 710</th><td>22.8 </td><td>4    </td><td>108.0</td><td> 93  </td><td>3.85 </td><td>2.320</td><td>18.61</td><td>1.1  </td><td>4    </td><td>1    </td></tr>\n",
       "\t<tr><th scope=row>Hornet 4 Drive</th><td>21.4 </td><td>6    </td><td>258.0</td><td>110  </td><td>3.08 </td><td>3.215</td><td>19.44</td><td>1.0  </td><td>3    </td><td>1    </td></tr>\n",
       "\t<tr><th scope=row>Hornet Sportabout</th><td>18.7 </td><td>8    </td><td>360.0</td><td>175  </td><td>3.15 </td><td>3.440</td><td>17.02</td><td>0.0  </td><td>3    </td><td>2    </td></tr>\n",
       "\t<tr><th scope=row>Valiant</th><td>18.1 </td><td>6    </td><td>225.0</td><td>105  </td><td>2.76 </td><td>3.460</td><td>20.22</td><td>1.0  </td><td>3    </td><td>1    </td></tr>\n",
       "\t<tr><th scope=row>Duster 360</th><td>14.3 </td><td>8    </td><td>360.0</td><td>245  </td><td>3.21 </td><td>3.570</td><td>15.84</td><td>0.0  </td><td>3    </td><td>4    </td></tr>\n",
       "\t<tr><th scope=row>Merc 240D</th><td>24.4 </td><td>4    </td><td>146.7</td><td> 62  </td><td>3.69 </td><td>3.190</td><td>20.00</td><td>1.0  </td><td>4    </td><td>2    </td></tr>\n",
       "\t<tr><th scope=row>Merc 230</th><td>22.8 </td><td>4    </td><td>140.8</td><td> 95  </td><td>3.92 </td><td>3.150</td><td>22.90</td><td>1.0  </td><td>4    </td><td>2    </td></tr>\n",
       "\t<tr><th scope=row>Merc 280</th><td>19.2 </td><td>6    </td><td>167.6</td><td>123  </td><td>3.92 </td><td>3.440</td><td>18.30</td><td>1.0  </td><td>4    </td><td>4    </td></tr>\n",
       "\t<tr><th scope=row>Merc 280C</th><td>17.8 </td><td>6    </td><td>167.6</td><td>123  </td><td>3.92 </td><td>3.440</td><td>18.90</td><td>1.0  </td><td>4    </td><td>4    </td></tr>\n",
       "\t<tr><th scope=row>Merc 450SE</th><td>16.4 </td><td>8    </td><td>275.8</td><td>180  </td><td>3.07 </td><td>4.070</td><td>17.40</td><td>0.0  </td><td>3    </td><td>3    </td></tr>\n",
       "\t<tr><th scope=row>Merc 450SL</th><td>17.3 </td><td>8    </td><td>275.8</td><td>180  </td><td>3.07 </td><td>3.730</td><td>17.60</td><td>0.0  </td><td>3    </td><td>3    </td></tr>\n",
       "\t<tr><th scope=row>Merc 450SLC</th><td>15.2 </td><td>8    </td><td>275.8</td><td>180  </td><td>3.07 </td><td>3.780</td><td>18.00</td><td>0.0  </td><td>3    </td><td>3    </td></tr>\n",
       "\t<tr><th scope=row>Cadillac Fleetwood</th><td>10.4 </td><td>8    </td><td>472.0</td><td>205  </td><td>2.93 </td><td>5.250</td><td>17.98</td><td>0.0  </td><td>3    </td><td>4    </td></tr>\n",
       "\t<tr><th scope=row>Lincoln Continental</th><td>10.4 </td><td>8    </td><td>460.0</td><td>215  </td><td>3.00 </td><td>5.424</td><td>17.82</td><td>0.0  </td><td>3    </td><td>4    </td></tr>\n",
       "\t<tr><th scope=row>Chrysler Imperial</th><td>14.7 </td><td>8    </td><td>440.0</td><td>230  </td><td>3.23 </td><td>5.345</td><td>17.42</td><td>0.0  </td><td>3    </td><td>4    </td></tr>\n",
       "\t<tr><th scope=row>Fiat 128</th><td>32.4 </td><td>4    </td><td> 78.7</td><td> 66  </td><td>4.08 </td><td>2.200</td><td>19.47</td><td>1.1  </td><td>4    </td><td>1    </td></tr>\n",
       "\t<tr><th scope=row>Honda Civic</th><td>30.4 </td><td>4    </td><td> 75.7</td><td> 52  </td><td>4.93 </td><td>1.615</td><td>18.52</td><td>1.1  </td><td>4    </td><td>2    </td></tr>\n",
       "\t<tr><th scope=row>Toyota Corolla</th><td>33.9 </td><td>4    </td><td> 71.1</td><td> 65  </td><td>4.22 </td><td>1.835</td><td>19.90</td><td>1.1  </td><td>4    </td><td>1    </td></tr>\n",
       "\t<tr><th scope=row>Toyota Corona</th><td>21.5 </td><td>4    </td><td>120.1</td><td> 97  </td><td>3.70 </td><td>2.465</td><td>20.01</td><td>1.0  </td><td>3    </td><td>1    </td></tr>\n",
       "\t<tr><th scope=row>Dodge Challenger</th><td>15.5 </td><td>8    </td><td>318.0</td><td>150  </td><td>2.76 </td><td>3.520</td><td>16.87</td><td>0.0  </td><td>3    </td><td>2    </td></tr>\n",
       "\t<tr><th scope=row>AMC Javelin</th><td>15.2 </td><td>8    </td><td>304.0</td><td>150  </td><td>3.15 </td><td>3.435</td><td>17.30</td><td>0.0  </td><td>3    </td><td>2    </td></tr>\n",
       "\t<tr><th scope=row>Camaro Z28</th><td>13.3 </td><td>8    </td><td>350.0</td><td>245  </td><td>3.73 </td><td>3.840</td><td>15.41</td><td>0.0  </td><td>3    </td><td>4    </td></tr>\n",
       "\t<tr><th scope=row>Pontiac Firebird</th><td>19.2 </td><td>8    </td><td>400.0</td><td>175  </td><td>3.08 </td><td>3.845</td><td>17.05</td><td>0.0  </td><td>3    </td><td>2    </td></tr>\n",
       "\t<tr><th scope=row>Fiat X1-9</th><td>27.3 </td><td>4    </td><td> 79.0</td><td> 66  </td><td>4.08 </td><td>1.935</td><td>18.90</td><td>1.1  </td><td>4    </td><td>1    </td></tr>\n",
       "\t<tr><th scope=row>Porsche 914-2</th><td>26.0 </td><td>4    </td><td>120.3</td><td> 91  </td><td>4.43 </td><td>2.140</td><td>16.70</td><td>0.1  </td><td>5    </td><td>2    </td></tr>\n",
       "\t<tr><th scope=row>Lotus Europa</th><td>30.4 </td><td>4    </td><td> 95.1</td><td>113  </td><td>3.77 </td><td>1.513</td><td>16.90</td><td>1.1  </td><td>5    </td><td>2    </td></tr>\n",
       "\t<tr><th scope=row>Ford Pantera L</th><td>15.8 </td><td>8    </td><td>351.0</td><td>264  </td><td>4.22 </td><td>3.170</td><td>14.50</td><td>0.1  </td><td>5    </td><td>4    </td></tr>\n",
       "\t<tr><th scope=row>Ferrari Dino</th><td>19.7 </td><td>6    </td><td>145.0</td><td>175  </td><td>3.62 </td><td>2.770</td><td>15.50</td><td>0.1  </td><td>5    </td><td>6    </td></tr>\n",
       "\t<tr><th scope=row>Maserati Bora</th><td>15.0 </td><td>8    </td><td>301.0</td><td>335  </td><td>3.54 </td><td>3.570</td><td>14.60</td><td>0.1  </td><td>5    </td><td>8    </td></tr>\n",
       "\t<tr><th scope=row>Volvo 142E</th><td>21.4 </td><td>4    </td><td>121.0</td><td>109  </td><td>4.11 </td><td>2.780</td><td>18.60</td><td>1.1  </td><td>4    </td><td>2    </td></tr>\n",
       "</tbody>\n",
       "</table>\n"
      ],
      "text/latex": [
       "\\begin{tabular}{r|llllllllll}\n",
       "  & mpg & cyl & disp & hp & drat & wt & qsec & vs.am & gear & carb\\\\\n",
       "\\hline\n",
       "\tMazda RX4 & 21.0  & 6     & 160.0 & 110   & 3.90  & 2.620 & 16.46 & 0.1   & 4     & 4    \\\\\n",
       "\tMazda RX4 Wag & 21.0  & 6     & 160.0 & 110   & 3.90  & 2.875 & 17.02 & 0.1   & 4     & 4    \\\\\n",
       "\tDatsun 710 & 22.8  & 4     & 108.0 &  93   & 3.85  & 2.320 & 18.61 & 1.1   & 4     & 1    \\\\\n",
       "\tHornet 4 Drive & 21.4  & 6     & 258.0 & 110   & 3.08  & 3.215 & 19.44 & 1.0   & 3     & 1    \\\\\n",
       "\tHornet Sportabout & 18.7  & 8     & 360.0 & 175   & 3.15  & 3.440 & 17.02 & 0.0   & 3     & 2    \\\\\n",
       "\tValiant & 18.1  & 6     & 225.0 & 105   & 2.76  & 3.460 & 20.22 & 1.0   & 3     & 1    \\\\\n",
       "\tDuster 360 & 14.3  & 8     & 360.0 & 245   & 3.21  & 3.570 & 15.84 & 0.0   & 3     & 4    \\\\\n",
       "\tMerc 240D & 24.4  & 4     & 146.7 &  62   & 3.69  & 3.190 & 20.00 & 1.0   & 4     & 2    \\\\\n",
       "\tMerc 230 & 22.8  & 4     & 140.8 &  95   & 3.92  & 3.150 & 22.90 & 1.0   & 4     & 2    \\\\\n",
       "\tMerc 280 & 19.2  & 6     & 167.6 & 123   & 3.92  & 3.440 & 18.30 & 1.0   & 4     & 4    \\\\\n",
       "\tMerc 280C & 17.8  & 6     & 167.6 & 123   & 3.92  & 3.440 & 18.90 & 1.0   & 4     & 4    \\\\\n",
       "\tMerc 450SE & 16.4  & 8     & 275.8 & 180   & 3.07  & 4.070 & 17.40 & 0.0   & 3     & 3    \\\\\n",
       "\tMerc 450SL & 17.3  & 8     & 275.8 & 180   & 3.07  & 3.730 & 17.60 & 0.0   & 3     & 3    \\\\\n",
       "\tMerc 450SLC & 15.2  & 8     & 275.8 & 180   & 3.07  & 3.780 & 18.00 & 0.0   & 3     & 3    \\\\\n",
       "\tCadillac Fleetwood & 10.4  & 8     & 472.0 & 205   & 2.93  & 5.250 & 17.98 & 0.0   & 3     & 4    \\\\\n",
       "\tLincoln Continental & 10.4  & 8     & 460.0 & 215   & 3.00  & 5.424 & 17.82 & 0.0   & 3     & 4    \\\\\n",
       "\tChrysler Imperial & 14.7  & 8     & 440.0 & 230   & 3.23  & 5.345 & 17.42 & 0.0   & 3     & 4    \\\\\n",
       "\tFiat 128 & 32.4  & 4     &  78.7 &  66   & 4.08  & 2.200 & 19.47 & 1.1   & 4     & 1    \\\\\n",
       "\tHonda Civic & 30.4  & 4     &  75.7 &  52   & 4.93  & 1.615 & 18.52 & 1.1   & 4     & 2    \\\\\n",
       "\tToyota Corolla & 33.9  & 4     &  71.1 &  65   & 4.22  & 1.835 & 19.90 & 1.1   & 4     & 1    \\\\\n",
       "\tToyota Corona & 21.5  & 4     & 120.1 &  97   & 3.70  & 2.465 & 20.01 & 1.0   & 3     & 1    \\\\\n",
       "\tDodge Challenger & 15.5  & 8     & 318.0 & 150   & 2.76  & 3.520 & 16.87 & 0.0   & 3     & 2    \\\\\n",
       "\tAMC Javelin & 15.2  & 8     & 304.0 & 150   & 3.15  & 3.435 & 17.30 & 0.0   & 3     & 2    \\\\\n",
       "\tCamaro Z28 & 13.3  & 8     & 350.0 & 245   & 3.73  & 3.840 & 15.41 & 0.0   & 3     & 4    \\\\\n",
       "\tPontiac Firebird & 19.2  & 8     & 400.0 & 175   & 3.08  & 3.845 & 17.05 & 0.0   & 3     & 2    \\\\\n",
       "\tFiat X1-9 & 27.3  & 4     &  79.0 &  66   & 4.08  & 1.935 & 18.90 & 1.1   & 4     & 1    \\\\\n",
       "\tPorsche 914-2 & 26.0  & 4     & 120.3 &  91   & 4.43  & 2.140 & 16.70 & 0.1   & 5     & 2    \\\\\n",
       "\tLotus Europa & 30.4  & 4     &  95.1 & 113   & 3.77  & 1.513 & 16.90 & 1.1   & 5     & 2    \\\\\n",
       "\tFord Pantera L & 15.8  & 8     & 351.0 & 264   & 4.22  & 3.170 & 14.50 & 0.1   & 5     & 4    \\\\\n",
       "\tFerrari Dino & 19.7  & 6     & 145.0 & 175   & 3.62  & 2.770 & 15.50 & 0.1   & 5     & 6    \\\\\n",
       "\tMaserati Bora & 15.0  & 8     & 301.0 & 335   & 3.54  & 3.570 & 14.60 & 0.1   & 5     & 8    \\\\\n",
       "\tVolvo 142E & 21.4  & 4     & 121.0 & 109   & 4.11  & 2.780 & 18.60 & 1.1   & 4     & 2    \\\\\n",
       "\\end{tabular}\n"
      ],
      "text/markdown": [
       "\n",
       "| <!--/--> | mpg | cyl | disp | hp | drat | wt | qsec | vs.am | gear | carb |\n",
       "|---|---|---|---|---|---|---|---|---|---|---|\n",
       "| Mazda RX4 | 21.0  | 6     | 160.0 | 110   | 3.90  | 2.620 | 16.46 | 0.1   | 4     | 4     |\n",
       "| Mazda RX4 Wag | 21.0  | 6     | 160.0 | 110   | 3.90  | 2.875 | 17.02 | 0.1   | 4     | 4     |\n",
       "| Datsun 710 | 22.8  | 4     | 108.0 |  93   | 3.85  | 2.320 | 18.61 | 1.1   | 4     | 1     |\n",
       "| Hornet 4 Drive | 21.4  | 6     | 258.0 | 110   | 3.08  | 3.215 | 19.44 | 1.0   | 3     | 1     |\n",
       "| Hornet Sportabout | 18.7  | 8     | 360.0 | 175   | 3.15  | 3.440 | 17.02 | 0.0   | 3     | 2     |\n",
       "| Valiant | 18.1  | 6     | 225.0 | 105   | 2.76  | 3.460 | 20.22 | 1.0   | 3     | 1     |\n",
       "| Duster 360 | 14.3  | 8     | 360.0 | 245   | 3.21  | 3.570 | 15.84 | 0.0   | 3     | 4     |\n",
       "| Merc 240D | 24.4  | 4     | 146.7 |  62   | 3.69  | 3.190 | 20.00 | 1.0   | 4     | 2     |\n",
       "| Merc 230 | 22.8  | 4     | 140.8 |  95   | 3.92  | 3.150 | 22.90 | 1.0   | 4     | 2     |\n",
       "| Merc 280 | 19.2  | 6     | 167.6 | 123   | 3.92  | 3.440 | 18.30 | 1.0   | 4     | 4     |\n",
       "| Merc 280C | 17.8  | 6     | 167.6 | 123   | 3.92  | 3.440 | 18.90 | 1.0   | 4     | 4     |\n",
       "| Merc 450SE | 16.4  | 8     | 275.8 | 180   | 3.07  | 4.070 | 17.40 | 0.0   | 3     | 3     |\n",
       "| Merc 450SL | 17.3  | 8     | 275.8 | 180   | 3.07  | 3.730 | 17.60 | 0.0   | 3     | 3     |\n",
       "| Merc 450SLC | 15.2  | 8     | 275.8 | 180   | 3.07  | 3.780 | 18.00 | 0.0   | 3     | 3     |\n",
       "| Cadillac Fleetwood | 10.4  | 8     | 472.0 | 205   | 2.93  | 5.250 | 17.98 | 0.0   | 3     | 4     |\n",
       "| Lincoln Continental | 10.4  | 8     | 460.0 | 215   | 3.00  | 5.424 | 17.82 | 0.0   | 3     | 4     |\n",
       "| Chrysler Imperial | 14.7  | 8     | 440.0 | 230   | 3.23  | 5.345 | 17.42 | 0.0   | 3     | 4     |\n",
       "| Fiat 128 | 32.4  | 4     |  78.7 |  66   | 4.08  | 2.200 | 19.47 | 1.1   | 4     | 1     |\n",
       "| Honda Civic | 30.4  | 4     |  75.7 |  52   | 4.93  | 1.615 | 18.52 | 1.1   | 4     | 2     |\n",
       "| Toyota Corolla | 33.9  | 4     |  71.1 |  65   | 4.22  | 1.835 | 19.90 | 1.1   | 4     | 1     |\n",
       "| Toyota Corona | 21.5  | 4     | 120.1 |  97   | 3.70  | 2.465 | 20.01 | 1.0   | 3     | 1     |\n",
       "| Dodge Challenger | 15.5  | 8     | 318.0 | 150   | 2.76  | 3.520 | 16.87 | 0.0   | 3     | 2     |\n",
       "| AMC Javelin | 15.2  | 8     | 304.0 | 150   | 3.15  | 3.435 | 17.30 | 0.0   | 3     | 2     |\n",
       "| Camaro Z28 | 13.3  | 8     | 350.0 | 245   | 3.73  | 3.840 | 15.41 | 0.0   | 3     | 4     |\n",
       "| Pontiac Firebird | 19.2  | 8     | 400.0 | 175   | 3.08  | 3.845 | 17.05 | 0.0   | 3     | 2     |\n",
       "| Fiat X1-9 | 27.3  | 4     |  79.0 |  66   | 4.08  | 1.935 | 18.90 | 1.1   | 4     | 1     |\n",
       "| Porsche 914-2 | 26.0  | 4     | 120.3 |  91   | 4.43  | 2.140 | 16.70 | 0.1   | 5     | 2     |\n",
       "| Lotus Europa | 30.4  | 4     |  95.1 | 113   | 3.77  | 1.513 | 16.90 | 1.1   | 5     | 2     |\n",
       "| Ford Pantera L | 15.8  | 8     | 351.0 | 264   | 4.22  | 3.170 | 14.50 | 0.1   | 5     | 4     |\n",
       "| Ferrari Dino | 19.7  | 6     | 145.0 | 175   | 3.62  | 2.770 | 15.50 | 0.1   | 5     | 6     |\n",
       "| Maserati Bora | 15.0  | 8     | 301.0 | 335   | 3.54  | 3.570 | 14.60 | 0.1   | 5     | 8     |\n",
       "| Volvo 142E | 21.4  | 4     | 121.0 | 109   | 4.11  | 2.780 | 18.60 | 1.1   | 4     | 2     |\n",
       "\n"
      ],
      "text/plain": [
       "                    mpg  cyl disp  hp  drat wt    qsec  vs.am gear carb\n",
       "Mazda RX4           21.0 6   160.0 110 3.90 2.620 16.46 0.1   4    4   \n",
       "Mazda RX4 Wag       21.0 6   160.0 110 3.90 2.875 17.02 0.1   4    4   \n",
       "Datsun 710          22.8 4   108.0  93 3.85 2.320 18.61 1.1   4    1   \n",
       "Hornet 4 Drive      21.4 6   258.0 110 3.08 3.215 19.44 1.0   3    1   \n",
       "Hornet Sportabout   18.7 8   360.0 175 3.15 3.440 17.02 0.0   3    2   \n",
       "Valiant             18.1 6   225.0 105 2.76 3.460 20.22 1.0   3    1   \n",
       "Duster 360          14.3 8   360.0 245 3.21 3.570 15.84 0.0   3    4   \n",
       "Merc 240D           24.4 4   146.7  62 3.69 3.190 20.00 1.0   4    2   \n",
       "Merc 230            22.8 4   140.8  95 3.92 3.150 22.90 1.0   4    2   \n",
       "Merc 280            19.2 6   167.6 123 3.92 3.440 18.30 1.0   4    4   \n",
       "Merc 280C           17.8 6   167.6 123 3.92 3.440 18.90 1.0   4    4   \n",
       "Merc 450SE          16.4 8   275.8 180 3.07 4.070 17.40 0.0   3    3   \n",
       "Merc 450SL          17.3 8   275.8 180 3.07 3.730 17.60 0.0   3    3   \n",
       "Merc 450SLC         15.2 8   275.8 180 3.07 3.780 18.00 0.0   3    3   \n",
       "Cadillac Fleetwood  10.4 8   472.0 205 2.93 5.250 17.98 0.0   3    4   \n",
       "Lincoln Continental 10.4 8   460.0 215 3.00 5.424 17.82 0.0   3    4   \n",
       "Chrysler Imperial   14.7 8   440.0 230 3.23 5.345 17.42 0.0   3    4   \n",
       "Fiat 128            32.4 4    78.7  66 4.08 2.200 19.47 1.1   4    1   \n",
       "Honda Civic         30.4 4    75.7  52 4.93 1.615 18.52 1.1   4    2   \n",
       "Toyota Corolla      33.9 4    71.1  65 4.22 1.835 19.90 1.1   4    1   \n",
       "Toyota Corona       21.5 4   120.1  97 3.70 2.465 20.01 1.0   3    1   \n",
       "Dodge Challenger    15.5 8   318.0 150 2.76 3.520 16.87 0.0   3    2   \n",
       "AMC Javelin         15.2 8   304.0 150 3.15 3.435 17.30 0.0   3    2   \n",
       "Camaro Z28          13.3 8   350.0 245 3.73 3.840 15.41 0.0   3    4   \n",
       "Pontiac Firebird    19.2 8   400.0 175 3.08 3.845 17.05 0.0   3    2   \n",
       "Fiat X1-9           27.3 4    79.0  66 4.08 1.935 18.90 1.1   4    1   \n",
       "Porsche 914-2       26.0 4   120.3  91 4.43 2.140 16.70 0.1   5    2   \n",
       "Lotus Europa        30.4 4    95.1 113 3.77 1.513 16.90 1.1   5    2   \n",
       "Ford Pantera L      15.8 8   351.0 264 4.22 3.170 14.50 0.1   5    4   \n",
       "Ferrari Dino        19.7 6   145.0 175 3.62 2.770 15.50 0.1   5    6   \n",
       "Maserati Bora       15.0 8   301.0 335 3.54 3.570 14.60 0.1   5    8   \n",
       "Volvo 142E          21.4 4   121.0 109 4.11 2.780 18.60 1.1   4    2   "
      ]
     },
     "metadata": {},
     "output_type": "display_data"
    }
   ],
   "source": [
    "unite_(mtcars, \"vs.am\",c(\"vs\",\"am\"), sep=\".\")"
   ]
  },
  {
   "cell_type": "code",
   "execution_count": 58,
   "metadata": {},
   "outputs": [
    {
     "data": {
      "text/html": [
       "<table>\n",
       "<thead><tr><th></th><th scope=col>mpg</th><th scope=col>cyl</th><th scope=col>disp</th><th scope=col>hp</th><th scope=col>drat</th><th scope=col>wt</th><th scope=col>qsec</th><th scope=col>vs</th><th scope=col>am</th><th scope=col>gear</th><th scope=col>carb</th></tr></thead>\n",
       "<tbody>\n",
       "\t<tr><th scope=row>Mazda RX4</th><td>21.0 </td><td>6    </td><td>160.0</td><td>110  </td><td>3.90 </td><td>2.620</td><td>16.46</td><td>0    </td><td>1    </td><td>4    </td><td>4    </td></tr>\n",
       "\t<tr><th scope=row>Mazda RX4 Wag</th><td>21.0 </td><td>6    </td><td>160.0</td><td>110  </td><td>3.90 </td><td>2.875</td><td>17.02</td><td>0    </td><td>1    </td><td>4    </td><td>4    </td></tr>\n",
       "\t<tr><th scope=row>Datsun 710</th><td>22.8 </td><td>4    </td><td>108.0</td><td> 93  </td><td>3.85 </td><td>2.320</td><td>18.61</td><td>1    </td><td>1    </td><td>4    </td><td>1    </td></tr>\n",
       "\t<tr><th scope=row>Hornet 4 Drive</th><td>21.4 </td><td>6    </td><td>258.0</td><td>110  </td><td>3.08 </td><td>3.215</td><td>19.44</td><td>1    </td><td>0    </td><td>3    </td><td>1    </td></tr>\n",
       "\t<tr><th scope=row>Hornet Sportabout</th><td>18.7 </td><td>8    </td><td>360.0</td><td>175  </td><td>3.15 </td><td>3.440</td><td>17.02</td><td>0    </td><td>0    </td><td>3    </td><td>2    </td></tr>\n",
       "\t<tr><th scope=row>Valiant</th><td>18.1 </td><td>6    </td><td>225.0</td><td>105  </td><td>2.76 </td><td>3.460</td><td>20.22</td><td>1    </td><td>0    </td><td>3    </td><td>1    </td></tr>\n",
       "\t<tr><th scope=row>Duster 360</th><td>14.3 </td><td>8    </td><td>360.0</td><td>245  </td><td>3.21 </td><td>3.570</td><td>15.84</td><td>0    </td><td>0    </td><td>3    </td><td>4    </td></tr>\n",
       "\t<tr><th scope=row>Merc 240D</th><td>24.4 </td><td>4    </td><td>146.7</td><td> 62  </td><td>3.69 </td><td>3.190</td><td>20.00</td><td>1    </td><td>0    </td><td>4    </td><td>2    </td></tr>\n",
       "\t<tr><th scope=row>Merc 230</th><td>22.8 </td><td>4    </td><td>140.8</td><td> 95  </td><td>3.92 </td><td>3.150</td><td>22.90</td><td>1    </td><td>0    </td><td>4    </td><td>2    </td></tr>\n",
       "\t<tr><th scope=row>Merc 280</th><td>19.2 </td><td>6    </td><td>167.6</td><td>123  </td><td>3.92 </td><td>3.440</td><td>18.30</td><td>1    </td><td>0    </td><td>4    </td><td>4    </td></tr>\n",
       "\t<tr><th scope=row>Merc 280C</th><td>17.8 </td><td>6    </td><td>167.6</td><td>123  </td><td>3.92 </td><td>3.440</td><td>18.90</td><td>1    </td><td>0    </td><td>4    </td><td>4    </td></tr>\n",
       "\t<tr><th scope=row>Merc 450SE</th><td>16.4 </td><td>8    </td><td>275.8</td><td>180  </td><td>3.07 </td><td>4.070</td><td>17.40</td><td>0    </td><td>0    </td><td>3    </td><td>3    </td></tr>\n",
       "\t<tr><th scope=row>Merc 450SL</th><td>17.3 </td><td>8    </td><td>275.8</td><td>180  </td><td>3.07 </td><td>3.730</td><td>17.60</td><td>0    </td><td>0    </td><td>3    </td><td>3    </td></tr>\n",
       "\t<tr><th scope=row>Merc 450SLC</th><td>15.2 </td><td>8    </td><td>275.8</td><td>180  </td><td>3.07 </td><td>3.780</td><td>18.00</td><td>0    </td><td>0    </td><td>3    </td><td>3    </td></tr>\n",
       "\t<tr><th scope=row>Cadillac Fleetwood</th><td>10.4 </td><td>8    </td><td>472.0</td><td>205  </td><td>2.93 </td><td>5.250</td><td>17.98</td><td>0    </td><td>0    </td><td>3    </td><td>4    </td></tr>\n",
       "\t<tr><th scope=row>Lincoln Continental</th><td>10.4 </td><td>8    </td><td>460.0</td><td>215  </td><td>3.00 </td><td>5.424</td><td>17.82</td><td>0    </td><td>0    </td><td>3    </td><td>4    </td></tr>\n",
       "\t<tr><th scope=row>Chrysler Imperial</th><td>14.7 </td><td>8    </td><td>440.0</td><td>230  </td><td>3.23 </td><td>5.345</td><td>17.42</td><td>0    </td><td>0    </td><td>3    </td><td>4    </td></tr>\n",
       "\t<tr><th scope=row>Fiat 128</th><td>32.4 </td><td>4    </td><td> 78.7</td><td> 66  </td><td>4.08 </td><td>2.200</td><td>19.47</td><td>1    </td><td>1    </td><td>4    </td><td>1    </td></tr>\n",
       "\t<tr><th scope=row>Honda Civic</th><td>30.4 </td><td>4    </td><td> 75.7</td><td> 52  </td><td>4.93 </td><td>1.615</td><td>18.52</td><td>1    </td><td>1    </td><td>4    </td><td>2    </td></tr>\n",
       "\t<tr><th scope=row>Toyota Corolla</th><td>33.9 </td><td>4    </td><td> 71.1</td><td> 65  </td><td>4.22 </td><td>1.835</td><td>19.90</td><td>1    </td><td>1    </td><td>4    </td><td>1    </td></tr>\n",
       "\t<tr><th scope=row>Toyota Corona</th><td>21.5 </td><td>4    </td><td>120.1</td><td> 97  </td><td>3.70 </td><td>2.465</td><td>20.01</td><td>1    </td><td>0    </td><td>3    </td><td>1    </td></tr>\n",
       "\t<tr><th scope=row>Dodge Challenger</th><td>15.5 </td><td>8    </td><td>318.0</td><td>150  </td><td>2.76 </td><td>3.520</td><td>16.87</td><td>0    </td><td>0    </td><td>3    </td><td>2    </td></tr>\n",
       "\t<tr><th scope=row>AMC Javelin</th><td>15.2 </td><td>8    </td><td>304.0</td><td>150  </td><td>3.15 </td><td>3.435</td><td>17.30</td><td>0    </td><td>0    </td><td>3    </td><td>2    </td></tr>\n",
       "\t<tr><th scope=row>Camaro Z28</th><td>13.3 </td><td>8    </td><td>350.0</td><td>245  </td><td>3.73 </td><td>3.840</td><td>15.41</td><td>0    </td><td>0    </td><td>3    </td><td>4    </td></tr>\n",
       "\t<tr><th scope=row>Pontiac Firebird</th><td>19.2 </td><td>8    </td><td>400.0</td><td>175  </td><td>3.08 </td><td>3.845</td><td>17.05</td><td>0    </td><td>0    </td><td>3    </td><td>2    </td></tr>\n",
       "\t<tr><th scope=row>Fiat X1-9</th><td>27.3 </td><td>4    </td><td> 79.0</td><td> 66  </td><td>4.08 </td><td>1.935</td><td>18.90</td><td>1    </td><td>1    </td><td>4    </td><td>1    </td></tr>\n",
       "\t<tr><th scope=row>Porsche 914-2</th><td>26.0 </td><td>4    </td><td>120.3</td><td> 91  </td><td>4.43 </td><td>2.140</td><td>16.70</td><td>0    </td><td>1    </td><td>5    </td><td>2    </td></tr>\n",
       "\t<tr><th scope=row>Lotus Europa</th><td>30.4 </td><td>4    </td><td> 95.1</td><td>113  </td><td>3.77 </td><td>1.513</td><td>16.90</td><td>1    </td><td>1    </td><td>5    </td><td>2    </td></tr>\n",
       "\t<tr><th scope=row>Ford Pantera L</th><td>15.8 </td><td>8    </td><td>351.0</td><td>264  </td><td>4.22 </td><td>3.170</td><td>14.50</td><td>0    </td><td>1    </td><td>5    </td><td>4    </td></tr>\n",
       "\t<tr><th scope=row>Ferrari Dino</th><td>19.7 </td><td>6    </td><td>145.0</td><td>175  </td><td>3.62 </td><td>2.770</td><td>15.50</td><td>0    </td><td>1    </td><td>5    </td><td>6    </td></tr>\n",
       "\t<tr><th scope=row>Maserati Bora</th><td>15.0 </td><td>8    </td><td>301.0</td><td>335  </td><td>3.54 </td><td>3.570</td><td>14.60</td><td>0    </td><td>1    </td><td>5    </td><td>8    </td></tr>\n",
       "\t<tr><th scope=row>Volvo 142E</th><td>21.4 </td><td>4    </td><td>121.0</td><td>109  </td><td>4.11 </td><td>2.780</td><td>18.60</td><td>1    </td><td>1    </td><td>4    </td><td>2    </td></tr>\n",
       "</tbody>\n",
       "</table>\n"
      ],
      "text/latex": [
       "\\begin{tabular}{r|lllllllllll}\n",
       "  & mpg & cyl & disp & hp & drat & wt & qsec & vs & am & gear & carb\\\\\n",
       "\\hline\n",
       "\tMazda RX4 & 21.0  & 6     & 160.0 & 110   & 3.90  & 2.620 & 16.46 & 0     & 1     & 4     & 4    \\\\\n",
       "\tMazda RX4 Wag & 21.0  & 6     & 160.0 & 110   & 3.90  & 2.875 & 17.02 & 0     & 1     & 4     & 4    \\\\\n",
       "\tDatsun 710 & 22.8  & 4     & 108.0 &  93   & 3.85  & 2.320 & 18.61 & 1     & 1     & 4     & 1    \\\\\n",
       "\tHornet 4 Drive & 21.4  & 6     & 258.0 & 110   & 3.08  & 3.215 & 19.44 & 1     & 0     & 3     & 1    \\\\\n",
       "\tHornet Sportabout & 18.7  & 8     & 360.0 & 175   & 3.15  & 3.440 & 17.02 & 0     & 0     & 3     & 2    \\\\\n",
       "\tValiant & 18.1  & 6     & 225.0 & 105   & 2.76  & 3.460 & 20.22 & 1     & 0     & 3     & 1    \\\\\n",
       "\tDuster 360 & 14.3  & 8     & 360.0 & 245   & 3.21  & 3.570 & 15.84 & 0     & 0     & 3     & 4    \\\\\n",
       "\tMerc 240D & 24.4  & 4     & 146.7 &  62   & 3.69  & 3.190 & 20.00 & 1     & 0     & 4     & 2    \\\\\n",
       "\tMerc 230 & 22.8  & 4     & 140.8 &  95   & 3.92  & 3.150 & 22.90 & 1     & 0     & 4     & 2    \\\\\n",
       "\tMerc 280 & 19.2  & 6     & 167.6 & 123   & 3.92  & 3.440 & 18.30 & 1     & 0     & 4     & 4    \\\\\n",
       "\tMerc 280C & 17.8  & 6     & 167.6 & 123   & 3.92  & 3.440 & 18.90 & 1     & 0     & 4     & 4    \\\\\n",
       "\tMerc 450SE & 16.4  & 8     & 275.8 & 180   & 3.07  & 4.070 & 17.40 & 0     & 0     & 3     & 3    \\\\\n",
       "\tMerc 450SL & 17.3  & 8     & 275.8 & 180   & 3.07  & 3.730 & 17.60 & 0     & 0     & 3     & 3    \\\\\n",
       "\tMerc 450SLC & 15.2  & 8     & 275.8 & 180   & 3.07  & 3.780 & 18.00 & 0     & 0     & 3     & 3    \\\\\n",
       "\tCadillac Fleetwood & 10.4  & 8     & 472.0 & 205   & 2.93  & 5.250 & 17.98 & 0     & 0     & 3     & 4    \\\\\n",
       "\tLincoln Continental & 10.4  & 8     & 460.0 & 215   & 3.00  & 5.424 & 17.82 & 0     & 0     & 3     & 4    \\\\\n",
       "\tChrysler Imperial & 14.7  & 8     & 440.0 & 230   & 3.23  & 5.345 & 17.42 & 0     & 0     & 3     & 4    \\\\\n",
       "\tFiat 128 & 32.4  & 4     &  78.7 &  66   & 4.08  & 2.200 & 19.47 & 1     & 1     & 4     & 1    \\\\\n",
       "\tHonda Civic & 30.4  & 4     &  75.7 &  52   & 4.93  & 1.615 & 18.52 & 1     & 1     & 4     & 2    \\\\\n",
       "\tToyota Corolla & 33.9  & 4     &  71.1 &  65   & 4.22  & 1.835 & 19.90 & 1     & 1     & 4     & 1    \\\\\n",
       "\tToyota Corona & 21.5  & 4     & 120.1 &  97   & 3.70  & 2.465 & 20.01 & 1     & 0     & 3     & 1    \\\\\n",
       "\tDodge Challenger & 15.5  & 8     & 318.0 & 150   & 2.76  & 3.520 & 16.87 & 0     & 0     & 3     & 2    \\\\\n",
       "\tAMC Javelin & 15.2  & 8     & 304.0 & 150   & 3.15  & 3.435 & 17.30 & 0     & 0     & 3     & 2    \\\\\n",
       "\tCamaro Z28 & 13.3  & 8     & 350.0 & 245   & 3.73  & 3.840 & 15.41 & 0     & 0     & 3     & 4    \\\\\n",
       "\tPontiac Firebird & 19.2  & 8     & 400.0 & 175   & 3.08  & 3.845 & 17.05 & 0     & 0     & 3     & 2    \\\\\n",
       "\tFiat X1-9 & 27.3  & 4     &  79.0 &  66   & 4.08  & 1.935 & 18.90 & 1     & 1     & 4     & 1    \\\\\n",
       "\tPorsche 914-2 & 26.0  & 4     & 120.3 &  91   & 4.43  & 2.140 & 16.70 & 0     & 1     & 5     & 2    \\\\\n",
       "\tLotus Europa & 30.4  & 4     &  95.1 & 113   & 3.77  & 1.513 & 16.90 & 1     & 1     & 5     & 2    \\\\\n",
       "\tFord Pantera L & 15.8  & 8     & 351.0 & 264   & 4.22  & 3.170 & 14.50 & 0     & 1     & 5     & 4    \\\\\n",
       "\tFerrari Dino & 19.7  & 6     & 145.0 & 175   & 3.62  & 2.770 & 15.50 & 0     & 1     & 5     & 6    \\\\\n",
       "\tMaserati Bora & 15.0  & 8     & 301.0 & 335   & 3.54  & 3.570 & 14.60 & 0     & 1     & 5     & 8    \\\\\n",
       "\tVolvo 142E & 21.4  & 4     & 121.0 & 109   & 4.11  & 2.780 & 18.60 & 1     & 1     & 4     & 2    \\\\\n",
       "\\end{tabular}\n"
      ],
      "text/markdown": [
       "\n",
       "| <!--/--> | mpg | cyl | disp | hp | drat | wt | qsec | vs | am | gear | carb |\n",
       "|---|---|---|---|---|---|---|---|---|---|---|---|\n",
       "| Mazda RX4 | 21.0  | 6     | 160.0 | 110   | 3.90  | 2.620 | 16.46 | 0     | 1     | 4     | 4     |\n",
       "| Mazda RX4 Wag | 21.0  | 6     | 160.0 | 110   | 3.90  | 2.875 | 17.02 | 0     | 1     | 4     | 4     |\n",
       "| Datsun 710 | 22.8  | 4     | 108.0 |  93   | 3.85  | 2.320 | 18.61 | 1     | 1     | 4     | 1     |\n",
       "| Hornet 4 Drive | 21.4  | 6     | 258.0 | 110   | 3.08  | 3.215 | 19.44 | 1     | 0     | 3     | 1     |\n",
       "| Hornet Sportabout | 18.7  | 8     | 360.0 | 175   | 3.15  | 3.440 | 17.02 | 0     | 0     | 3     | 2     |\n",
       "| Valiant | 18.1  | 6     | 225.0 | 105   | 2.76  | 3.460 | 20.22 | 1     | 0     | 3     | 1     |\n",
       "| Duster 360 | 14.3  | 8     | 360.0 | 245   | 3.21  | 3.570 | 15.84 | 0     | 0     | 3     | 4     |\n",
       "| Merc 240D | 24.4  | 4     | 146.7 |  62   | 3.69  | 3.190 | 20.00 | 1     | 0     | 4     | 2     |\n",
       "| Merc 230 | 22.8  | 4     | 140.8 |  95   | 3.92  | 3.150 | 22.90 | 1     | 0     | 4     | 2     |\n",
       "| Merc 280 | 19.2  | 6     | 167.6 | 123   | 3.92  | 3.440 | 18.30 | 1     | 0     | 4     | 4     |\n",
       "| Merc 280C | 17.8  | 6     | 167.6 | 123   | 3.92  | 3.440 | 18.90 | 1     | 0     | 4     | 4     |\n",
       "| Merc 450SE | 16.4  | 8     | 275.8 | 180   | 3.07  | 4.070 | 17.40 | 0     | 0     | 3     | 3     |\n",
       "| Merc 450SL | 17.3  | 8     | 275.8 | 180   | 3.07  | 3.730 | 17.60 | 0     | 0     | 3     | 3     |\n",
       "| Merc 450SLC | 15.2  | 8     | 275.8 | 180   | 3.07  | 3.780 | 18.00 | 0     | 0     | 3     | 3     |\n",
       "| Cadillac Fleetwood | 10.4  | 8     | 472.0 | 205   | 2.93  | 5.250 | 17.98 | 0     | 0     | 3     | 4     |\n",
       "| Lincoln Continental | 10.4  | 8     | 460.0 | 215   | 3.00  | 5.424 | 17.82 | 0     | 0     | 3     | 4     |\n",
       "| Chrysler Imperial | 14.7  | 8     | 440.0 | 230   | 3.23  | 5.345 | 17.42 | 0     | 0     | 3     | 4     |\n",
       "| Fiat 128 | 32.4  | 4     |  78.7 |  66   | 4.08  | 2.200 | 19.47 | 1     | 1     | 4     | 1     |\n",
       "| Honda Civic | 30.4  | 4     |  75.7 |  52   | 4.93  | 1.615 | 18.52 | 1     | 1     | 4     | 2     |\n",
       "| Toyota Corolla | 33.9  | 4     |  71.1 |  65   | 4.22  | 1.835 | 19.90 | 1     | 1     | 4     | 1     |\n",
       "| Toyota Corona | 21.5  | 4     | 120.1 |  97   | 3.70  | 2.465 | 20.01 | 1     | 0     | 3     | 1     |\n",
       "| Dodge Challenger | 15.5  | 8     | 318.0 | 150   | 2.76  | 3.520 | 16.87 | 0     | 0     | 3     | 2     |\n",
       "| AMC Javelin | 15.2  | 8     | 304.0 | 150   | 3.15  | 3.435 | 17.30 | 0     | 0     | 3     | 2     |\n",
       "| Camaro Z28 | 13.3  | 8     | 350.0 | 245   | 3.73  | 3.840 | 15.41 | 0     | 0     | 3     | 4     |\n",
       "| Pontiac Firebird | 19.2  | 8     | 400.0 | 175   | 3.08  | 3.845 | 17.05 | 0     | 0     | 3     | 2     |\n",
       "| Fiat X1-9 | 27.3  | 4     |  79.0 |  66   | 4.08  | 1.935 | 18.90 | 1     | 1     | 4     | 1     |\n",
       "| Porsche 914-2 | 26.0  | 4     | 120.3 |  91   | 4.43  | 2.140 | 16.70 | 0     | 1     | 5     | 2     |\n",
       "| Lotus Europa | 30.4  | 4     |  95.1 | 113   | 3.77  | 1.513 | 16.90 | 1     | 1     | 5     | 2     |\n",
       "| Ford Pantera L | 15.8  | 8     | 351.0 | 264   | 4.22  | 3.170 | 14.50 | 0     | 1     | 5     | 4     |\n",
       "| Ferrari Dino | 19.7  | 6     | 145.0 | 175   | 3.62  | 2.770 | 15.50 | 0     | 1     | 5     | 6     |\n",
       "| Maserati Bora | 15.0  | 8     | 301.0 | 335   | 3.54  | 3.570 | 14.60 | 0     | 1     | 5     | 8     |\n",
       "| Volvo 142E | 21.4  | 4     | 121.0 | 109   | 4.11  | 2.780 | 18.60 | 1     | 1     | 4     | 2     |\n",
       "\n"
      ],
      "text/plain": [
       "                    mpg  cyl disp  hp  drat wt    qsec  vs am gear carb\n",
       "Mazda RX4           21.0 6   160.0 110 3.90 2.620 16.46 0  1  4    4   \n",
       "Mazda RX4 Wag       21.0 6   160.0 110 3.90 2.875 17.02 0  1  4    4   \n",
       "Datsun 710          22.8 4   108.0  93 3.85 2.320 18.61 1  1  4    1   \n",
       "Hornet 4 Drive      21.4 6   258.0 110 3.08 3.215 19.44 1  0  3    1   \n",
       "Hornet Sportabout   18.7 8   360.0 175 3.15 3.440 17.02 0  0  3    2   \n",
       "Valiant             18.1 6   225.0 105 2.76 3.460 20.22 1  0  3    1   \n",
       "Duster 360          14.3 8   360.0 245 3.21 3.570 15.84 0  0  3    4   \n",
       "Merc 240D           24.4 4   146.7  62 3.69 3.190 20.00 1  0  4    2   \n",
       "Merc 230            22.8 4   140.8  95 3.92 3.150 22.90 1  0  4    2   \n",
       "Merc 280            19.2 6   167.6 123 3.92 3.440 18.30 1  0  4    4   \n",
       "Merc 280C           17.8 6   167.6 123 3.92 3.440 18.90 1  0  4    4   \n",
       "Merc 450SE          16.4 8   275.8 180 3.07 4.070 17.40 0  0  3    3   \n",
       "Merc 450SL          17.3 8   275.8 180 3.07 3.730 17.60 0  0  3    3   \n",
       "Merc 450SLC         15.2 8   275.8 180 3.07 3.780 18.00 0  0  3    3   \n",
       "Cadillac Fleetwood  10.4 8   472.0 205 2.93 5.250 17.98 0  0  3    4   \n",
       "Lincoln Continental 10.4 8   460.0 215 3.00 5.424 17.82 0  0  3    4   \n",
       "Chrysler Imperial   14.7 8   440.0 230 3.23 5.345 17.42 0  0  3    4   \n",
       "Fiat 128            32.4 4    78.7  66 4.08 2.200 19.47 1  1  4    1   \n",
       "Honda Civic         30.4 4    75.7  52 4.93 1.615 18.52 1  1  4    2   \n",
       "Toyota Corolla      33.9 4    71.1  65 4.22 1.835 19.90 1  1  4    1   \n",
       "Toyota Corona       21.5 4   120.1  97 3.70 2.465 20.01 1  0  3    1   \n",
       "Dodge Challenger    15.5 8   318.0 150 2.76 3.520 16.87 0  0  3    2   \n",
       "AMC Javelin         15.2 8   304.0 150 3.15 3.435 17.30 0  0  3    2   \n",
       "Camaro Z28          13.3 8   350.0 245 3.73 3.840 15.41 0  0  3    4   \n",
       "Pontiac Firebird    19.2 8   400.0 175 3.08 3.845 17.05 0  0  3    2   \n",
       "Fiat X1-9           27.3 4    79.0  66 4.08 1.935 18.90 1  1  4    1   \n",
       "Porsche 914-2       26.0 4   120.3  91 4.43 2.140 16.70 0  1  5    2   \n",
       "Lotus Europa        30.4 4    95.1 113 3.77 1.513 16.90 1  1  5    2   \n",
       "Ford Pantera L      15.8 8   351.0 264 4.22 3.170 14.50 0  1  5    4   \n",
       "Ferrari Dino        19.7 6   145.0 175 3.62 2.770 15.50 0  1  5    6   \n",
       "Maserati Bora       15.0 8   301.0 335 3.54 3.570 14.60 0  1  5    8   \n",
       "Volvo 142E          21.4 4   121.0 109 4.11 2.780 18.60 1  1  4    2   "
      ]
     },
     "metadata": {},
     "output_type": "display_data"
    }
   ],
   "source": [
    "mtcars %>% #pipe mtcars as input\n",
    "    unite(vs_am,vs,am) %>% #put together vs and am columns\n",
    "    separate(vs_am, c(\"vs\",\"am\"))#separate back into vs and am columns\n"
   ]
  },
  {
   "cell_type": "code",
   "execution_count": null,
   "metadata": {},
   "outputs": [],
   "source": []
  }
 ],
 "metadata": {
  "kernelspec": {
   "display_name": "R",
   "language": "R",
   "name": "ir"
  },
  "language_info": {
   "codemirror_mode": "r",
   "file_extension": ".r",
   "mimetype": "text/x-r-source",
   "name": "R",
   "pygments_lexer": "r",
   "version": "3.6.1"
  }
 },
 "nbformat": 4,
 "nbformat_minor": 2
}
