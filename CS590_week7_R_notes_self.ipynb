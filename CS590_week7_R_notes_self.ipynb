{
 "cells": [
  {
   "cell_type": "code",
   "execution_count": 1,
   "metadata": {},
   "outputs": [],
   "source": [
    "#While loops\n",
    "\n",
    "#basic syntax of a while loop\n",
    "#while(condiditon){\n",
    "#enter block of code\n",
    "#}"
   ]
  },
  {
   "cell_type": "code",
   "execution_count": 2,
   "metadata": {},
   "outputs": [
    {
     "name": "stdout",
     "output_type": "stream",
     "text": [
      "[1] \"just a string\"\n"
     ]
    }
   ],
   "source": [
    "#paste vs print\n",
    "print('just a string')"
   ]
  },
  {
   "cell_type": "code",
   "execution_count": 5,
   "metadata": {},
   "outputs": [
    {
     "name": "stdout",
     "output_type": "stream",
     "text": [
      "my variable is:  a variable"
     ]
    }
   ],
   "source": [
    "var <- 'a variable'\n",
    "cat('my variable is: ', var)"
   ]
  },
  {
   "cell_type": "code",
   "execution_count": 7,
   "metadata": {},
   "outputs": [
    {
     "name": "stdout",
     "output_type": "stream",
     "text": [
      "my variable is:  25"
     ]
    }
   ],
   "source": [
    "var <- 25\n",
    "cat('my variable is: ', var)"
   ]
  },
  {
   "cell_type": "code",
   "execution_count": 8,
   "metadata": {},
   "outputs": [
    {
     "name": "stdout",
     "output_type": "stream",
     "text": [
      "[1] \"My variable is: 25\"\n"
     ]
    }
   ],
   "source": [
    "print(paste('My variable is:', var))"
   ]
  },
  {
   "cell_type": "code",
   "execution_count": 10,
   "metadata": {},
   "outputs": [
    {
     "name": "stdout",
     "output_type": "stream",
     "text": [
      "X is currently: 0[1] \"X is still lss than 10, add int 1 to x\"\n",
      "X is currently: 1[1] \"X is still lss than 10, add int 1 to x\"\n",
      "X is currently: 2[1] \"X is still lss than 10, add int 1 to x\"\n",
      "X is currently: 3[1] \"X is still lss than 10, add int 1 to x\"\n",
      "X is currently: 4[1] \"X is still lss than 10, add int 1 to x\"\n",
      "X is currently: 5[1] \"X is still lss than 10, add int 1 to x\"\n",
      "X is currently: 6[1] \"X is still lss than 10, add int 1 to x\"\n",
      "X is currently: 7[1] \"X is still lss than 10, add int 1 to x\"\n",
      "X is currently: 8[1] \"X is still lss than 10, add int 1 to x\"\n",
      "X is currently: 9[1] \"X is still lss than 10, add int 1 to x\"\n"
     ]
    }
   ],
   "source": [
    "x<- 0\n",
    "\n",
    "while(x<10){\n",
    "    \n",
    "    cat('X is currently:', x)\n",
    "    print('X is still lss than 10, add int 1 to x')\n",
    "    \n",
    "    x<-x+1\n",
    "}"
   ]
  },
  {
   "cell_type": "code",
   "execution_count": 11,
   "metadata": {},
   "outputs": [
    {
     "name": "stdout",
     "output_type": "stream",
     "text": [
      "X is currently: 0[1] \"X is still lss than 10, add int 1 to x\"\n",
      "[1] \"X is equal to 10. While loop ends\"\n",
      "X is currently: 1[1] \"X is still lss than 10, add int 1 to x\"\n",
      "X is currently: 2[1] \"X is still lss than 10, add int 1 to x\"\n",
      "X is currently: 3[1] \"X is still lss than 10, add int 1 to x\"\n",
      "X is currently: 4[1] \"X is still lss than 10, add int 1 to x\"\n",
      "X is currently: 5[1] \"X is still lss than 10, add int 1 to x\"\n",
      "X is currently: 6[1] \"X is still lss than 10, add int 1 to x\"\n",
      "X is currently: 7[1] \"X is still lss than 10, add int 1 to x\"\n",
      "X is currently: 8[1] \"X is still lss than 10, add int 1 to x\"\n",
      "X is currently: 9[1] \"X is still lss than 10, add int 1 to x\"\n"
     ]
    }
   ],
   "source": [
    "x<- 0\n",
    "\n",
    "while(x<10){\n",
    "    \n",
    "    cat('X is currently:', x)\n",
    "    print('X is still lss than 10, add int 1 to x')\n",
    "    \n",
    "    x<-x+1\n",
    "   if (x==1){\n",
    "       print('X is equal to 10. While loop ends')\n",
    "   }\n",
    "    \n",
    "}"
   ]
  },
  {
   "cell_type": "code",
   "execution_count": 14,
   "metadata": {},
   "outputs": [
    {
     "name": "stdout",
     "output_type": "stream",
     "text": [
      "X is currently: 0[1] \"X is still lss than 10, add int 1 to x\"\n",
      "X is currently: 1[1] \"X is still lss than 10, add int 1 to x\"\n",
      "X is currently: 2[1] \"X is still lss than 10, add int 1 to x\"\n",
      "X is currently: 3[1] \"X is still lss than 10, add int 1 to x\"\n",
      "X is currently: 4[1] \"X is still lss than 10, add int 1 to x\"\n",
      "X is currently: 5[1] \"X is still lss than 10, add int 1 to x\"\n",
      "X is currently: 6[1] \"X is still lss than 10, add int 1 to x\"\n",
      "X is currently: 7[1] \"X is still lss than 10, add int 1 to x\"\n",
      "X is currently: 8[1] \"X is still lss than 10, add int 1 to x\"\n",
      "X is currently: 9[1] \"X is still lss than 10, add int 1 to x\"\n",
      "[1] \"X is equal to 10. While loop ends\"\n"
     ]
    }
   ],
   "source": [
    "#breaks and next statements\n",
    "\n",
    "x<- 0\n",
    "\n",
    "while(x<10){\n",
    "    \n",
    "    cat('X is currently:', x)\n",
    "    print('X is still lss than 10, add int 1 to x')\n",
    "    \n",
    "    \n",
    "    x<-x+1\n",
    "   if (x==10){\n",
    "       print('X is equal to 10. While loop ends')\n",
    "       break\n",
    "       #this forces the loop to end beffore it has a chance to go back and check to see if x<10\n",
    "       print('keep printing more statements...')\n",
    "       print('keep printing more statements...')\n",
    "       print('keep printing more statements...')\n",
    "       print('keep printing more statements...')\n",
    "   }\n",
    "    \n",
    "}\n",
    "\n"
   ]
  },
  {
   "cell_type": "code",
   "execution_count": 15,
   "metadata": {},
   "outputs": [
    {
     "name": "stdout",
     "output_type": "stream",
     "text": [
      "[1] 1\n",
      "[1] 2\n"
     ]
    }
   ],
   "source": [
    "for (x in 1:5){\n",
    "    if (x==3){\n",
    "        break\n",
    "    }\n",
    "    print(x)\n",
    "}"
   ]
  },
  {
   "cell_type": "code",
   "execution_count": 16,
   "metadata": {},
   "outputs": [
    {
     "name": "stdout",
     "output_type": "stream",
     "text": [
      "[1] 1\n",
      "[1] 2\n",
      "[1] 4\n",
      "[1] 5\n"
     ]
    }
   ],
   "source": [
    "for (x in 1:5){\n",
    "    if (x==3){\n",
    "        next\n",
    "    }\n",
    "    print(x)\n",
    "}"
   ]
  },
  {
   "cell_type": "code",
   "execution_count": 17,
   "metadata": {},
   "outputs": [],
   "source": [
    "name_of_function <-function(arguement1, arguement2){\n",
    "    #place code here\n",
    "}"
   ]
  },
  {
   "cell_type": "code",
   "execution_count": 18,
   "metadata": {},
   "outputs": [],
   "source": [
    "#example1 - simple function with no inputs or arguements\n",
    "\n",
    "hello_world<-function(){\n",
    "    print(\"Hello World!\")\n",
    "}"
   ]
  },
  {
   "cell_type": "code",
   "execution_count": 19,
   "metadata": {},
   "outputs": [
    {
     "name": "stdout",
     "output_type": "stream",
     "text": [
      "[1] \"Hello World\"\n"
     ]
    }
   ],
   "source": [
    "hello_world()"
   ]
  },
  {
   "cell_type": "code",
   "execution_count": 21,
   "metadata": {},
   "outputs": [],
   "source": [
    "#example2 - adding inputs/arguments\n",
    "\n",
    "hello_person<-function(name){\n",
    "    print(paste('Hello', name))\n",
    "}"
   ]
  },
  {
   "cell_type": "code",
   "execution_count": 23,
   "metadata": {},
   "outputs": [
    {
     "name": "stdout",
     "output_type": "stream",
     "text": [
      "[1] \"Hello Jeff\"\n"
     ]
    }
   ],
   "source": [
    "hello_person('Jeff')"
   ]
  },
  {
   "cell_type": "code",
   "execution_count": 24,
   "metadata": {},
   "outputs": [
    {
     "name": "stdout",
     "output_type": "stream",
     "text": [
      "[1] \"Hello tom\"\n",
      "[1] \"Hello jeff\"\n",
      "[1] \"Hello tina\"\n"
     ]
    }
   ],
   "source": [
    "roster=c('tom', 'jeff','tina')\n",
    "\n",
    "for (x in roster){\n",
    "    hello_person(x)\n",
    "}"
   ]
  },
  {
   "cell_type": "code",
   "execution_count": 26,
   "metadata": {},
   "outputs": [],
   "source": [
    "hello_someone<-function(name='Ryan'){\n",
    "    print(paste('Hello', name))\n",
    "}\n"
   ]
  },
  {
   "cell_type": "code",
   "execution_count": 28,
   "metadata": {},
   "outputs": [
    {
     "name": "stdout",
     "output_type": "stream",
     "text": [
      "[1] \"Hello Ryan\"\n"
     ]
    }
   ],
   "source": [
    "hello_someone()"
   ]
  },
  {
   "cell_type": "code",
   "execution_count": 29,
   "metadata": {},
   "outputs": [
    {
     "name": "stdout",
     "output_type": "stream",
     "text": [
      "[1] \"Hello Andrew\"\n"
     ]
    }
   ],
   "source": [
    "hello_someone('Andrew')"
   ]
  },
  {
   "cell_type": "code",
   "execution_count": 31,
   "metadata": {},
   "outputs": [
    {
     "data": {
      "text/html": [
       "'Sir Sean Connery'"
      ],
      "text/latex": [
       "'Sir Sean Connery'"
      ],
      "text/markdown": [
       "'Sir Sean Connery'"
      ],
      "text/plain": [
       "[1] \"Sir Sean Connery\""
      ]
     },
     "metadata": {},
     "output_type": "display_data"
    }
   ],
   "source": [
    "formal<-function(name='Sean Connery', title='Sir'){\n",
    "    return(paste(title,name))\n",
    "}\n",
    "\n",
    "formal()"
   ]
  },
  {
   "cell_type": "code",
   "execution_count": 33,
   "metadata": {},
   "outputs": [
    {
     "data": {
      "text/html": [
       "'Sir Issac Newton'"
      ],
      "text/latex": [
       "'Sir Issac Newton'"
      ],
      "text/markdown": [
       "'Sir Issac Newton'"
      ],
      "text/plain": [
       "[1] \"Sir Issac Newton\""
      ]
     },
     "metadata": {},
     "output_type": "display_data"
    }
   ],
   "source": [
    "formal('Issac Newton')\n",
    "#note uses default title"
   ]
  },
  {
   "cell_type": "code",
   "execution_count": 34,
   "metadata": {},
   "outputs": [],
   "source": [
    "var<-formal('Deuss','Dr.')\n",
    "#bc used returned function, we are able to store infor for later use as variable"
   ]
  },
  {
   "cell_type": "code",
   "execution_count": 35,
   "metadata": {},
   "outputs": [
    {
     "data": {
      "text/html": [
       "'Dr. Deuss'"
      ],
      "text/latex": [
       "'Dr. Deuss'"
      ],
      "text/markdown": [
       "'Dr. Deuss'"
      ],
      "text/plain": [
       "[1] \"Dr. Deuss\""
      ]
     },
     "metadata": {},
     "output_type": "display_data"
    }
   ],
   "source": [
    "var"
   ]
  },
  {
   "cell_type": "code",
   "execution_count": 36,
   "metadata": {},
   "outputs": [],
   "source": [
    "# scope - global vs local\n",
    "\n",
    "times5<-function(input){\n",
    "    result<-input*5\n",
    "    return(result)\n",
    "}"
   ]
  },
  {
   "cell_type": "code",
   "execution_count": 37,
   "metadata": {},
   "outputs": [
    {
     "data": {
      "text/html": [
       "25"
      ],
      "text/latex": [
       "25"
      ],
      "text/markdown": [
       "25"
      ],
      "text/plain": [
       "[1] 25"
      ]
     },
     "metadata": {},
     "output_type": "display_data"
    }
   ],
   "source": [
    "times5(5)"
   ]
  },
  {
   "cell_type": "code",
   "execution_count": 38,
   "metadata": {},
   "outputs": [
    {
     "ename": "ERROR",
     "evalue": "Error in eval(expr, envir, enclos): object 'result' not found\n",
     "output_type": "error",
     "traceback": [
      "Error in eval(expr, envir, enclos): object 'result' not found\nTraceback:\n"
     ]
    }
   ],
   "source": [
    "result\n",
    "#doesnt understand result since it is nested within the function"
   ]
  },
  {
   "cell_type": "code",
   "execution_count": 39,
   "metadata": {},
   "outputs": [],
   "source": [
    "globe1<-'Global variable 1'\n",
    "globe2<- 'Global Variable 2'\n",
    "\n",
    "func<- function(globe2){\n",
    "    print(globe1)\n",
    "    globe2<- 'Local variable 1'\n",
    "    print(globe2)\n",
    "}"
   ]
  },
  {
   "cell_type": "code",
   "execution_count": 40,
   "metadata": {},
   "outputs": [
    {
     "name": "stdout",
     "output_type": "stream",
     "text": [
      "[1] \"Global variable 1\"\n",
      "[1] \"Global Variable 2\"\n"
     ]
    }
   ],
   "source": [
    "print(globe1)\n",
    "print(globe2)"
   ]
  },
  {
   "cell_type": "code",
   "execution_count": 41,
   "metadata": {},
   "outputs": [
    {
     "name": "stdout",
     "output_type": "stream",
     "text": [
      "[1] \"Global variable 1\"\n",
      "[1] \"Local variable 1\"\n"
     ]
    }
   ],
   "source": [
    "func(globe2)"
   ]
  },
  {
   "cell_type": "code",
   "execution_count": 42,
   "metadata": {},
   "outputs": [
    {
     "name": "stdout",
     "output_type": "stream",
     "text": [
      "[1] \"Global Variable 2\"\n"
     ]
    }
   ],
   "source": [
    "print(globe2)"
   ]
  },
  {
   "cell_type": "code",
   "execution_count": 43,
   "metadata": {},
   "outputs": [],
   "source": [
    "#globe2 is not reassigned, but within the function, it returns local variable1 bc it was reassigned (but not permanently)"
   ]
  },
  {
   "cell_type": "code",
   "execution_count": 44,
   "metadata": {},
   "outputs": [
    {
     "data": {
      "text/html": [
       "<ol class=list-inline>\n",
       "\t<li>'tom'</li>\n",
       "\t<li>'jeff'</li>\n",
       "\t<li>'tina'</li>\n",
       "\t<li>'Tony'</li>\n",
       "</ol>\n"
      ],
      "text/latex": [
       "\\begin{enumerate*}\n",
       "\\item 'tom'\n",
       "\\item 'jeff'\n",
       "\\item 'tina'\n",
       "\\item 'Tony'\n",
       "\\end{enumerate*}\n"
      ],
      "text/markdown": [
       "1. 'tom'\n",
       "2. 'jeff'\n",
       "3. 'tina'\n",
       "4. 'Tony'\n",
       "\n",
       "\n"
      ],
      "text/plain": [
       "[1] \"tom\"  \"jeff\" \"tina\" \"Tony\""
      ]
     },
     "metadata": {},
     "output_type": "display_data"
    }
   ],
   "source": [
    "append(roster, 'Tony')"
   ]
  },
  {
   "cell_type": "code",
   "execution_count": 45,
   "metadata": {},
   "outputs": [
    {
     "data": {
      "text/html": [
       "<ol class=list-inline>\n",
       "\t<li>'tom'</li>\n",
       "\t<li>'jeff'</li>\n",
       "\t<li>'tina'</li>\n",
       "</ol>\n"
      ],
      "text/latex": [
       "\\begin{enumerate*}\n",
       "\\item 'tom'\n",
       "\\item 'jeff'\n",
       "\\item 'tina'\n",
       "\\end{enumerate*}\n"
      ],
      "text/markdown": [
       "1. 'tom'\n",
       "2. 'jeff'\n",
       "3. 'tina'\n",
       "\n",
       "\n"
      ],
      "text/plain": [
       "[1] \"tom\"  \"jeff\" \"tina\""
      ]
     },
     "metadata": {},
     "output_type": "display_data"
    }
   ],
   "source": [
    "roster"
   ]
  },
  {
   "cell_type": "code",
   "execution_count": 1,
   "metadata": {},
   "outputs": [],
   "source": [
    "globe1<-'Global variable 1'\n",
    "globe2<- 'Global Variable 2'\n",
    "\n",
    "func<- function(globe2){\n",
    "    print(globe1)\n",
    "    globe2<- 'Local variable 1'\n",
    "    roster<-append(roster, 'Tony')\n",
    "    \n",
    "    print(globe2)\n",
    "}"
   ]
  },
  {
   "cell_type": "code",
   "execution_count": 2,
   "metadata": {},
   "outputs": [
    {
     "ename": "ERROR",
     "evalue": "Error in eval(expr, envir, enclos): object 'roster' not found\n",
     "output_type": "error",
     "traceback": [
      "Error in eval(expr, envir, enclos): object 'roster' not found\nTraceback:\n"
     ]
    }
   ],
   "source": [
    "roster"
   ]
  },
  {
   "cell_type": "code",
   "execution_count": null,
   "metadata": {},
   "outputs": [],
   "source": []
  }
 ],
 "metadata": {
  "kernelspec": {
   "display_name": "R",
   "language": "R",
   "name": "ir"
  },
  "language_info": {
   "codemirror_mode": "r",
   "file_extension": ".r",
   "mimetype": "text/x-r-source",
   "name": "R",
   "pygments_lexer": "r",
   "version": "3.6.1"
  }
 },
 "nbformat": 4,
 "nbformat_minor": 2
}
