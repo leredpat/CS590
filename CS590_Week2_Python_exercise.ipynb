{
 "cells": [
  {
   "cell_type": "code",
   "execution_count": 2,
   "metadata": {},
   "outputs": [
    {
     "data": {
      "text/plain": [
       "216"
      ]
     },
     "execution_count": 2,
     "metadata": {},
     "output_type": "execute_result"
    }
   ],
   "source": [
    "#What is six to the power of three?\n",
    "6**3"
   ]
  },
  {
   "cell_type": "code",
   "execution_count": 3,
   "metadata": {},
   "outputs": [],
   "source": [
    "#Create a list called peanut_weight with the following data points:\n",
    "#89.4, 78.2, 91.4, 95.2, 105.5\n",
    "peanut_weight = [89.4, 78.2, 91.4, 95.2, 105.5]"
   ]
  },
  {
   "cell_type": "code",
   "execution_count": 4,
   "metadata": {},
   "outputs": [
    {
     "data": {
      "text/plain": [
       "[89.4, 78.2, 91.4, 95.2, 105.5]"
      ]
     },
     "execution_count": 4,
     "metadata": {},
     "output_type": "execute_result"
    }
   ],
   "source": [
    "peanut_weight"
   ]
  },
  {
   "cell_type": "code",
   "execution_count": 5,
   "metadata": {},
   "outputs": [
    {
     "data": {
      "text/plain": [
       "[89.4, 91.4, 105.5]"
      ]
     },
     "execution_count": 5,
     "metadata": {},
     "output_type": "execute_result"
    }
   ],
   "source": [
    "#Print the first, third and fifth peanut weights in the peanut_weight list\n",
    "peanut_weight[0::2]"
   ]
  },
  {
   "cell_type": "code",
   "execution_count": 9,
   "metadata": {},
   "outputs": [],
   "source": [
    "#Create a dictionary using the following names in order of the values that appear in peanut_weight and print the items in the dictionary\n",
    "#Sullivan, Bailey, Bailey II, Emery, Wynne\n",
    "dict_peanut_weight = {'Sullivan':89.4,'Bailey':78.2,'Bailey II':91.4,'Emery':95.2,'Wynne':105.5}"
   ]
  },
  {
   "cell_type": "code",
   "execution_count": 10,
   "metadata": {},
   "outputs": [
    {
     "data": {
      "text/plain": [
       "{'Sullivan': 89.4,\n",
       " 'Bailey': 78.2,\n",
       " 'Bailey II': 91.4,\n",
       " 'Emery': 95.2,\n",
       " 'Wynne': 105.5}"
      ]
     },
     "execution_count": 10,
     "metadata": {},
     "output_type": "execute_result"
    }
   ],
   "source": [
    "dict_peanut_weight"
   ]
  },
  {
   "cell_type": "code",
   "execution_count": 11,
   "metadata": {},
   "outputs": [
    {
     "name": "stdout",
     "output_type": "stream",
     "text": [
      "Wynne\n"
     ]
    }
   ],
   "source": [
    "#Which peanut cultivar has the largest seed weight? Hint: Use the built-in Python function max()\n",
    "print(max(dict_peanut_weight))"
   ]
  },
  {
   "cell_type": "code",
   "execution_count": 12,
   "metadata": {},
   "outputs": [
    {
     "name": "stdout",
     "output_type": "stream",
     "text": [
      "Wynne is the largest cultivar weighing 105.5 grams per 100 seeds\n"
     ]
    }
   ],
   "source": [
    "#Print the statement below using the following variables\n",
    "#Cultivar = 'Wynne' \n",
    "#Size = 105.5\n",
    "print('%s is the largest cultivar weighing %s grams per 100 seeds'%('Wynne',105.5))"
   ]
  },
  {
   "cell_type": "code",
   "execution_count": null,
   "metadata": {},
   "outputs": [],
   "source": []
  }
 ],
 "metadata": {
  "kernelspec": {
   "display_name": "Python 3",
   "language": "python",
   "name": "python3"
  },
  "language_info": {
   "codemirror_mode": {
    "name": "ipython",
    "version": 3
   },
   "file_extension": ".py",
   "mimetype": "text/x-python",
   "name": "python",
   "nbconvert_exporter": "python",
   "pygments_lexer": "ipython3",
   "version": "3.7.3"
  }
 },
 "nbformat": 4,
 "nbformat_minor": 2
}
